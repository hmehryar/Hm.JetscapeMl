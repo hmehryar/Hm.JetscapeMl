{
 "cells": [
  {
   "cell_type": "code",
   "execution_count": 1,
   "metadata": {},
   "outputs": [],
   "source": [
    "# !pip install --upgrade tensorflow\n",
    "import tensorflow as tf"
   ]
  },
  {
   "cell_type": "code",
   "execution_count": null,
   "metadata": {},
   "outputs": [],
   "source": [
    "# #uncomment this cell when you are on COLAB\n",
    "# device_name = tf.test.gpu_device_name()\n",
    "# if device_name != '/device:GPU:0':\n",
    "#   raise SystemError('GPU device not found')\n",
    "# print('Found GPU at: {}'.format(device_name))\n",
    "# from google.colab import drive\n",
    "# drive.mount('/content/drive')"
   ]
  },
  {
   "cell_type": "code",
   "execution_count": 2,
   "metadata": {},
   "outputs": [],
   "source": [
    "import sys\n",
    "sys.path.insert(1,'/wsu/home/gy/gy40/gy4065/hm.jetscapeml.source')\n",
    "sys.path.insert(1,'/content/drive/My Drive/Projects/110_JetscapeMl/hm.jetscapeml.source')\n",
    "sys.path.insert(1,'/content/drive/MyDrive/Projects/110_JetscapeMl/hm.jetscapeml.source')\n",
    "sys.path.insert(1,'/g/My Drive/Projects/110_JetscapeMl/hm.jetscapeml.source')\n",
    "sys.path.insert(1,'G:\\\\My Drive\\\\Projects\\\\110_JetscapeMl\\\\hm.jetscapeml.source')"
   ]
  },
  {
   "cell_type": "code",
   "execution_count": 3,
   "metadata": {},
   "outputs": [
    {
     "name": "stdout",
     "output_type": "stream",
     "text": [
      "\n",
      "########################################################################\n",
      "Checking the running platforms and setting the directory path\n",
      "\n",
      "Python version: 3.11.5\n",
      "OS: Windows\n",
      "OS version: 10\n",
      "running on Colab: False\n",
      "Dataset Directory Path: D:\\Projects\\110_JetscapeMl\\hm.jetscapeml.data\\\n",
      "Simulation Results Path: D:\\Projects\\110_JetscapeMl\\hm.jetscapeml.data\\simulation_results\\\n",
      "########################################################################\n",
      "\n",
      "Aggregatring all parameters values\n",
      "label_items:\n",
      " {'y_class_label_items': ['MMAT', 'MLBT'], 'alpha_s_items': [0.2, 0.3, 0.4], 'q0_items': [1.5, 2.0, 2.5]}\n",
      "Building required params for the loading the dataset file\n",
      "labels_str:\n",
      " {'class_labels_str': 'MMAT_MLBT', 'alpha_s_items_str': '0.2_0.3_0.4', 'q0_items_str': '1.5_2.0_2.5'}\n"
     ]
    }
   ],
   "source": [
    "from jet_ml_dataset_builder.jet_ml_dataset_builder_utilities import set_directory_paths\n",
    "dataset_directory_path, simulation_directory_path = set_directory_paths()\n",
    "from jet_ml_dataset_builder.jet_ml_dataset_builder_utilities import get_labels_str\n",
    "label_str_dict=get_labels_str()"
   ]
  },
  {
   "cell_type": "code",
   "execution_count": 4,
   "metadata": {},
   "outputs": [
    {
     "name": "stdout",
     "output_type": "stream",
     "text": [
      "Loading the whole dataset\n",
      "dataset.x: <class 'numpy.ndarray'> 1024000 (1000, 32, 32)\n",
      "dataset.y: <class 'numpy.ndarray'> 3000 (1000, 3)\n",
      "dataset.x: <class 'numpy.ndarray'> 1024000 (1000, 32, 32)\n",
      "dataset.y: <class 'numpy.ndarray'> 3000 (1000, 3)\n",
      "dataset.y(working_column) sample [['MLBT' '0.4' '2.5']\n",
      " ['MLBT' '0.4' '2.5']\n",
      " ['MLBT' '0.2' '2.5']\n",
      " ['MMAT' '0.4' '1']\n",
      " ['MMAT' '0.4' '1']\n",
      " ['MMAT' '0.3' '1']\n",
      " ['MMAT' '0.4' '1']\n",
      " ['MMAT' '0.3' '1']\n",
      " ['MLBT' '0.4' '2.5']\n",
      " ['MLBT' '0.4' '2.0']]\n",
      "Pre-processing\n",
      "Scaling the datset_x each image between 0 and 1\n",
      "dataset_x_points shape: (1000, 1024, 3)\n",
      "deleting the original dataset_x after preprocess ...\n",
      "Extract the working column#1 for classification\n",
      "Preprocess dataset_y\n",
      "Encoding to sparse categorical variable\n",
      "dataset_y_encoded:\n",
      " [2 2 0 2 2 1 2 1 2 2]\n",
      "dataset_y_encoded shape: (1000,)\n",
      "deleting the original dataset_x after preprocess ...\n"
     ]
    }
   ],
   "source": [
    "from jet_ml_dataset_builder.jet_ml_dataset_builder_utilities import get_dataset\n",
    "dataset_size=1000\n",
    "dataset_x, dataset_y=get_dataset(dataset_size,label_str_dict, dataset_directory_path)\n",
    "from jet_ml_models.pointnet import preprocess_dataset\n",
    "(dataset_x, dataset_y)=preprocess_dataset(dataset_x, dataset_y,is_one_hot_encoded=False,working_column=1,scale_x=True)"
   ]
  },
  {
   "cell_type": "code",
   "execution_count": 5,
   "metadata": {},
   "outputs": [
    {
     "name": "stdout",
     "output_type": "stream",
     "text": [
      "Splitting dataset_x,dataset_y\n",
      "deleting the original dataset_x,dataset_y after splitting ...\n",
      "x_train: <class 'numpy.ndarray'> 2764800 (900, 1024, 3)\n",
      "y_train: <class 'numpy.ndarray'> 900 (900,)\n",
      "x_test: <class 'numpy.ndarray'> 307200 (100, 1024, 3)\n",
      "y_test: <class 'numpy.ndarray'> 100 (100,)\n",
      "y_test[:10]:\n",
      " [2 0 1 2 1 2 1 2 0 2]\n",
      "\n"
     ]
    }
   ],
   "source": [
    "from jet_ml_models.pointnet import prepare_datasets\n",
    "from jet_ml_models.pointnet import augment\n",
    "# Prepare datasets for training\n",
    "train_dataset, validation_dataset,test_dataset = prepare_datasets(dataset_x, dataset_y, random_state=42,test_size=0.1, validation_size=None, augment=augment, batch_size=32)"
   ]
  },
  {
   "cell_type": "code",
   "execution_count": 6,
   "metadata": {},
   "outputs": [
    {
     "name": "stdout",
     "output_type": "stream",
     "text": [
      "29\n",
      "4\n",
      "4\n"
     ]
    }
   ],
   "source": [
    "print(len(train_dataset))\n",
    "print(len(validation_dataset))\n",
    "print(len(test_dataset))"
   ]
  },
  {
   "cell_type": "code",
   "execution_count": 7,
   "metadata": {},
   "outputs": [
    {
     "name": "stdout",
     "output_type": "stream",
     "text": [
      "simulation_directory_path: D:\\Projects\\110_JetscapeMl\\hm.jetscapeml.data\\simulation_results\\\n",
      "simulation_path: D:\\Projects\\110_JetscapeMl\\hm.jetscapeml.data\\simulation_results\\jetml_pointnet_classification_alpha_s_0.2_0.3_0.4\n",
      "current_simulation_path: D:\\Projects\\110_JetscapeMl\\hm.jetscapeml.data\\simulation_results\\jetml_pointnet_classification_alpha_s_0.2_0.3_0.4_size_1000_epochs_5_fold_1\n",
      "best_model_file_path: D:\\Projects\\110_JetscapeMl\\hm.jetscapeml.data\\simulation_results\\jetml_pointnet_classification_alpha_s_0.2_0.3_0.4_size_1000_epochs_5_fold_1_best_model.keras\n"
     ]
    }
   ],
   "source": [
    "from jet_ml_dataset_builder.jet_ml_dataset_builder_utilities import generate_simulation_path\n",
    "# monitor = 'val_accuracy'  # 'val_accuracy' or 'val_loss'\n",
    "monitor=\"val_sparse_categorical_accuracy\"\n",
    "\n",
    "n_epochs = 100\n",
    "\n",
    "classifying_parameter=\"alpha_s\"\n",
    "n_epochs = 5\n",
    "fold = 1\n",
    "\n",
    "current_simulation_path = generate_simulation_path(simulation_directory_path, classifying_parameter,label_str_dict, dataset_size, n_epochs, fold)\n",
    "print(\"current_simulation_path:\",current_simulation_path)\n",
    "\n",
    "# Use ModelCheckpoint callback to save the best model\n",
    "best_model_file_path = f'{current_simulation_path}_best_model.keras'\n",
    "print(\"best_model_file_path:\",best_model_file_path)"
   ]
  },
  {
   "cell_type": "code",
   "execution_count": 8,
   "metadata": {},
   "outputs": [],
   "source": [
    "from jet_ml_models.pointnet import build_pointnet_classifier_model\n",
    "NUM_POINTS = 1024\n",
    "#because alpha_s can get 3 values\n",
    "NUM_CLASSES = 3\n",
    "activation=\"softmax\"\n",
    "# activation=\"sigmoid\"\n",
    "pointnet=build_pointnet_classifier_model(NUM_POINTS=NUM_POINTS,NUM_CLASSES=NUM_CLASSES, activation=activation)\n",
    "\n",
    "from jet_ml_models.pointnet import compile_pointnet_classifier_model_with_hyperparam\n",
    "\n",
    "learning_rate=0.001\n",
    "loss='sparse_categorical_crossentropy'\n",
    "# loss='categorical_crossentropy',\n",
    "metrics='sparse_categorical_accuracy'\n",
    "# metrics=['accuracy'],\n",
    "pointnet=compile_pointnet_classifier_model_with_hyperparam(pointnet,learning_rate=learning_rate, loss=loss,metrics=metrics)\n",
    "\n",
    "# from jet_ml_models.pointnet import print_model_summary\n",
    "# print_model_summary(pointnet)"
   ]
  },
  {
   "cell_type": "code",
   "execution_count": 9,
   "metadata": {},
   "outputs": [
    {
     "name": "stdout",
     "output_type": "stream",
     "text": [
      "Epoch 1/5\n",
      "\u001b[1m29/29\u001b[0m \u001b[32m━━━━━━━━━━━━━━━━━━━━\u001b[0m\u001b[37m\u001b[0m \u001b[1m0s\u001b[0m 1s/step - loss: 51.1818 - sparse_categorical_accuracy: 0.3679\n",
      "Epoch 1: val_sparse_categorical_accuracy improved from -inf to 0.43000, saving model to D:\\Projects\\110_JetscapeMl\\hm.jetscapeml.data\\simulation_results\\jetml_pointnet_classification_alpha_s_0.2_0.3_0.4_size_1000_epochs_5_fold_1_best_model.keras\n",
      "\u001b[1m29/29\u001b[0m \u001b[32m━━━━━━━━━━━━━━━━━━━━\u001b[0m\u001b[37m\u001b[0m \u001b[1m49s\u001b[0m 1s/step - loss: 50.8921 - sparse_categorical_accuracy: 0.3676 - val_loss: 235313856.0000 - val_sparse_categorical_accuracy: 0.4300\n",
      "Epoch 2/5\n",
      "\u001b[1m29/29\u001b[0m \u001b[32m━━━━━━━━━━━━━━━━━━━━\u001b[0m\u001b[37m\u001b[0m \u001b[1m0s\u001b[0m 1s/step - loss: 35.7431 - sparse_categorical_accuracy: 0.3557\n",
      "Epoch 2: val_sparse_categorical_accuracy did not improve from 0.43000\n",
      "\u001b[1m29/29\u001b[0m \u001b[32m━━━━━━━━━━━━━━━━━━━━\u001b[0m\u001b[37m\u001b[0m \u001b[1m33s\u001b[0m 1s/step - loss: 35.7367 - sparse_categorical_accuracy: 0.3555 - val_loss: 1043268096.0000 - val_sparse_categorical_accuracy: 0.4300\n",
      "Epoch 3/5\n",
      "\u001b[1m29/29\u001b[0m \u001b[32m━━━━━━━━━━━━━━━━━━━━\u001b[0m\u001b[37m\u001b[0m \u001b[1m0s\u001b[0m 1s/step - loss: 35.5171 - sparse_categorical_accuracy: 0.3591\n",
      "Epoch 3: val_sparse_categorical_accuracy did not improve from 0.43000\n",
      "\u001b[1m29/29\u001b[0m \u001b[32m━━━━━━━━━━━━━━━━━━━━\u001b[0m\u001b[37m\u001b[0m \u001b[1m34s\u001b[0m 1s/step - loss: 35.5125 - sparse_categorical_accuracy: 0.3588 - val_loss: 2758112000.0000 - val_sparse_categorical_accuracy: 0.3600\n",
      "Epoch 4/5\n",
      "\u001b[1m29/29\u001b[0m \u001b[32m━━━━━━━━━━━━━━━━━━━━\u001b[0m\u001b[37m\u001b[0m \u001b[1m0s\u001b[0m 1s/step - loss: 35.5754 - sparse_categorical_accuracy: 0.3620\n",
      "Epoch 4: val_sparse_categorical_accuracy did not improve from 0.43000\n",
      "\u001b[1m29/29\u001b[0m \u001b[32m━━━━━━━━━━━━━━━━━━━━\u001b[0m\u001b[37m\u001b[0m \u001b[1m33s\u001b[0m 1s/step - loss: 35.5699 - sparse_categorical_accuracy: 0.3620 - val_loss: 33425936384.0000 - val_sparse_categorical_accuracy: 0.4300\n",
      "Epoch 5/5\n",
      "\u001b[1m29/29\u001b[0m \u001b[32m━━━━━━━━━━━━━━━━━━━━\u001b[0m\u001b[37m\u001b[0m \u001b[1m0s\u001b[0m 1s/step - loss: 35.4194 - sparse_categorical_accuracy: 0.3644\n",
      "Epoch 5: val_sparse_categorical_accuracy did not improve from 0.43000\n",
      "\u001b[1m29/29\u001b[0m \u001b[32m━━━━━━━━━━━━━━━━━━━━\u001b[0m\u001b[37m\u001b[0m \u001b[1m30s\u001b[0m 1s/step - loss: 35.4127 - sparse_categorical_accuracy: 0.3647 - val_loss: 10831150080.0000 - val_sparse_categorical_accuracy: 0.4300\n",
      "Restoring model weights from the end of the best epoch: 1.\n"
     ]
    }
   ],
   "source": [
    "# %%timeit -n1 -r1\n",
    "from jet_ml_models.pointnet import train_model_with_callbacks\n",
    "monitor='val_sparse_categorical_accuracy'\n",
    "with tf.device('/GPU:0'):\n",
    "  model, history, train_time=train_model_with_callbacks(\n",
    "    pointnet, \n",
    "    train_dataset=train_dataset, \n",
    "    validation_dataset=validation_dataset,\n",
    "    monitor=monitor, best_model_file_path=best_model_file_path, n_epochs=n_epochs\n",
    "    )"
   ]
  },
  {
   "cell_type": "code",
   "execution_count": 10,
   "metadata": {},
   "outputs": [
    {
     "name": "stdout",
     "output_type": "stream",
     "text": [
      "2.998205844561259\n",
      "<Functional name=pointnet, built=True>\n",
      "{'loss': [42.48896789550781, 35.55317306518555, 35.38069534301758, 35.409114837646484, 35.21794891357422], 'sparse_categorical_accuracy': [0.3588888943195343, 0.35111111402511597, 0.3522222340106964, 0.3611111044883728, 0.371111124753952], 'val_loss': [235313856.0, 1043268096.0, 2758112000.0, 33425936384.0, 10831150080.0], 'val_sparse_categorical_accuracy': [0.4300000071525574, 0.4300000071525574, 0.36000001430511475, 0.4300000071525574, 0.4300000071525574]}\n",
      "D:\\Projects\\110_JetscapeMl\\hm.jetscapeml.data\\simulation_results\\jetml_pointnet_classification_alpha_s_0.2_0.3_0.4_size_1000_epochs_5_fold_1_training_history.json\n",
      "D:\\Projects\\110_JetscapeMl\\hm.jetscapeml.data\\simulation_results\\jetml_pointnet_classification_alpha_s_0.2_0.3_0.4_size_1000_epochs_5_fold_1_training_history.csv\n",
      "D:\\Projects\\110_JetscapeMl\\hm.jetscapeml.data\\simulation_results\\jetml_pointnet_classification_alpha_s_0.2_0.3_0.4_size_1000_epochs_5_fold_1_training_history.npy\n"
     ]
    },
    {
     "data": {
      "image/png": "[encoded data removed]",
      "text/plain": [
       "<Figure size 1200x600 with 2 Axes>"
      ]
     },
     "metadata": {},
     "output_type": "display_data"
    },
    {
     "name": "stdout",
     "output_type": "stream",
     "text": [
      "D:\\Projects\\110_JetscapeMl\\hm.jetscapeml.data\\simulation_results\\jetml_pointnet_classification_alpha_s_0.2_0.3_0.4_size_1000_epochs_5_fold_1_accuracy_loss.png\n"
     ]
    }
   ],
   "source": [
    "print(train_time)\n",
    "print(model)\n",
    "print(history.history)\n",
    "\n",
    "from jet_ml_models.pointnet import save_training_history\n",
    "training_history_file_path_json,training_history_file_path_csv,training_history_file_path_csv = \\\n",
    "  save_training_history(history,current_simulation_path)\n",
    "\n",
    "from jet_ml_models.pointnet import plot_training_history\n",
    "plot_training_history_path=plot_training_history(history,current_simulation_path)\n",
    "print(plot_training_history_path)"
   ]
  },
  {
   "cell_type": "code",
   "execution_count": 11,
   "metadata": {},
   "outputs": [
    {
     "name": "stdout",
     "output_type": "stream",
     "text": [
      "\u001b[1m4/4\u001b[0m \u001b[32m━━━━━━━━━━━━━━━━━━━━\u001b[0m\u001b[37m\u001b[0m \u001b[1m2s\u001b[0m 316ms/step\n",
      "Accuracy: 0.43\n",
      "Confusion Matrix: [[ 0  0 21]\n",
      " [ 0  0 36]\n",
      " [ 0  0 43]]\n",
      "   Dataset Size Classifier  Fold Number  Accuracy  \\\n",
      "0          1000   pointnet            1      0.43   \n",
      "\n",
      "                       Confusion Matrix  Train Time  \\\n",
      "0  [[0, 0, 21], [0, 0, 36], [0, 0, 43]]    2.998206   \n",
      "\n",
      "                             Loss/Accuracy Plot Path  \\\n",
      "0  D:\\Projects\\110_JetscapeMl\\hm.jetscapeml.data\\...   \n",
      "\n",
      "                                     Best Model Path  \n",
      "0  D:\\Projects\\110_JetscapeMl\\hm.jetscapeml.data\\...  \n"
     ]
    },
    {
     "data": {
      "text/html": [
       "<div>\n",
       "<style scoped>\n",
       "    .dataframe tbody tr th:only-of-type {\n",
       "        vertical-align: middle;\n",
       "    }\n",
       "\n",
       "    .dataframe tbody tr th {\n",
       "        vertical-align: top;\n",
       "    }\n",
       "\n",
       "    .dataframe thead th {\n",
       "        text-align: right;\n",
       "    }\n",
       "</style>\n",
       "<table border=\"1\" class=\"dataframe\">\n",
       "  <thead>\n",
       "    <tr style=\"text-align: right;\">\n",
       "      <th></th>\n",
       "      <th>Dataset Size</th>\n",
       "      <th>Classifier</th>\n",
       "      <th>Fold Number</th>\n",
       "      <th>Accuracy</th>\n",
       "      <th>Confusion Matrix</th>\n",
       "      <th>Train Time</th>\n",
       "      <th>Loss/Accuracy Plot Path</th>\n",
       "      <th>Best Model Path</th>\n",
       "    </tr>\n",
       "  </thead>\n",
       "  <tbody>\n",
       "    <tr>\n",
       "      <th>0</th>\n",
       "      <td>1000</td>\n",
       "      <td>pointnet</td>\n",
       "      <td>1</td>\n",
       "      <td>0.43</td>\n",
       "      <td>[[0, 0, 21], [0, 0, 36], [0, 0, 43]]</td>\n",
       "      <td>2.998206</td>\n",
       "      <td>D:\\Projects\\110_JetscapeMl\\hm.jetscapeml.data\\...</td>\n",
       "      <td>D:\\Projects\\110_JetscapeMl\\hm.jetscapeml.data\\...</td>\n",
       "    </tr>\n",
       "  </tbody>\n",
       "</table>\n",
       "</div>"
      ],
      "text/plain": [
       "   Dataset Size Classifier  Fold Number  Accuracy  \\\n",
       "0          1000   pointnet            1      0.43   \n",
       "\n",
       "                       Confusion Matrix  Train Time  \\\n",
       "0  [[0, 0, 21], [0, 0, 36], [0, 0, 43]]    2.998206   \n",
       "\n",
       "                             Loss/Accuracy Plot Path  \\\n",
       "0  D:\\Projects\\110_JetscapeMl\\hm.jetscapeml.data\\...   \n",
       "\n",
       "                                     Best Model Path  \n",
       "0  D:\\Projects\\110_JetscapeMl\\hm.jetscapeml.data\\...  "
      ]
     },
     "execution_count": 11,
     "metadata": {},
     "output_type": "execute_result"
    }
   ],
   "source": [
    "from jet_ml_models.pointnet import evaluate_model\n",
    "accuracy, confusion_matrix = evaluate_model(model,test_dataset=test_dataset)\n",
    "\n",
    "from jet_ml_models.pointnet import save_kfold_results\n",
    "results_kfold = []\n",
    "results_kfold.append({\n",
    "                  'Dataset Size': dataset_size,\n",
    "                  'Classifier': model.name,\n",
    "                  'Fold Number': fold,\n",
    "                  'Accuracy': accuracy,\n",
    "                  'Confusion Matrix': confusion_matrix,\n",
    "                  'Train Time': train_time,\n",
    "                  'Loss/Accuracy Plot Path': plot_training_history_path,\n",
    "                  'Best Model Path': best_model_file_path\n",
    "              })\n",
    "save_kfold_results(results_kfold, current_simulation_path)"
   ]
  },
  {
   "cell_type": "code",
   "execution_count": null,
   "metadata": {},
   "outputs": [],
   "source": [
    "from sklearn.model_selection import GridSearchCV\n",
    "clf=GridSearchCV(pointnet,{\n",
    "    'learning_rate':[0.01,0.001,0.0001],\n",
    "    'epochs':[10]\n",
    "}, return_train_score=False)\n",
    "clf.fit(train_dataset,validation_dataset)"
   ]
  }
 ],
 "metadata": {
  "kernelspec": {
   "display_name": "base",
   "language": "python",
   "name": "python3"
  },
  "language_info": {
   "codemirror_mode": {
    "name": "ipython",
    "version": 3
   },
   "file_extension": ".py",
   "mimetype": "text/x-python",
   "name": "python",
   "nbconvert_exporter": "python",
   "pygments_lexer": "ipython3",
   "version": "3.11.5"
  }
 },
 "nbformat": 4,
 "nbformat_minor": 2
}
