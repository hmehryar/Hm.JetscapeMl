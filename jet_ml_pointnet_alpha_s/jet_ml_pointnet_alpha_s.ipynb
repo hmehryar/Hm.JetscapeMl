{
  "cells": [
    {
      "cell_type": "markdown",
      "metadata": {
        "id": "view-in-github",
        "colab_type": "text"
      },
      "source": [
        "<a href=\"https://colab.research.google.com/github/hmehryar/Hm.JetscapeMl/blob/309-implementingtraining-pointnet-for-alpha_s-with-various-epochs-and-folds-and-finding-the-best-learning-rate/jet_ml_pointnet_alpha_s/jet_ml_pointnet_alpha_s.ipynb\" target=\"_parent\"><img src=\"https://colab.research.google.com/assets/colab-badge.svg\" alt=\"Open In Colab\"/></a>"
      ]
    },
    {
      "cell_type": "code",
      "execution_count": 1,
      "metadata": {
        "id": "ABQ-iwWYE11A",
        "outputId": "7f91ec8d-7673-4bce-f83e-2ab66d52beeb",
        "colab": {
          "base_uri": "https://localhost:8080/"
        }
      },
      "outputs": [
        {
          "output_type": "stream",
          "name": "stdout",
          "text": [
            "Found GPU at: /device:GPU:0\n"
          ]
        }
      ],
      "source": [
        "# !pip install --upgrade tensorflow\n",
        "import tensorflow as tf\n",
        "device_name = tf.test.gpu_device_name()\n",
        "if device_name != '/device:GPU:0':\n",
        "  raise SystemError('GPU device not found')\n",
        "print('Found GPU at: {}'.format(device_name))"
      ]
    },
    {
      "cell_type": "code",
      "execution_count": 2,
      "metadata": {
        "id": "fN_qL4lPE11B",
        "outputId": "90b5c338-fd18-43ac-f568-1dd39b949be0",
        "colab": {
          "base_uri": "https://localhost:8080/"
        }
      },
      "outputs": [
        {
          "output_type": "stream",
          "name": "stdout",
          "text": [
            "Drive already mounted at /content/drive; to attempt to forcibly remount, call drive.mount(\"/content/drive\", force_remount=True).\n"
          ]
        }
      ],
      "source": [
        "from google.colab import drive\n",
        "drive.mount('/content/drive')\n",
        "import sys\n",
        "sys.path.insert(1,'/wsu/home/gy/gy40/gy4065/hm.jetscapeml.source')\n",
        "sys.path.insert(1,'/content/drive/My Drive/Projects/110_JetscapeMl/hm.jetscapeml.source')\n",
        "sys.path.insert(1,'/content/drive/MyDrive/Projects/110_JetscapeMl/hm.jetscapeml.source')\n",
        "sys.path.insert(1,'/g/My Drive/Projects/110_JetscapeMl/hm.jetscapeml.source')\n",
        "sys.path.insert(1,'G:\\\\My Drive\\\\Projects\\\\110_JetscapeMl\\\\hm.jetscapeml.source')"
      ]
    },
    {
      "cell_type": "code",
      "execution_count": 3,
      "metadata": {
        "id": "CnUN6eQFE11B",
        "outputId": "1fdfb5ca-03fa-4a92-ae01-7345ab0d245a",
        "colab": {
          "base_uri": "https://localhost:8080/"
        }
      },
      "outputs": [
        {
          "output_type": "stream",
          "name": "stdout",
          "text": [
            "Loading/Installing Package => Begin\n",
            "\n",
            "\n",
            "\n",
            "Loading/Installing Package => End\n",
            "\n",
            "\n"
          ]
        }
      ],
      "source": [
        "# loading libraries\n",
        "print('Loading/Installing Package => Begin\\n\\n')\n",
        "import jet_ml_dataset_builder.jet_ml_dataset_builder_utilities as util\n",
        "from jet_ml_dataset_builder.jet_ml_dataset_builder_utilities import set_directory_paths\n",
        "import tensorflow as tf\n",
        "print('\\nLoading/Installing Package => End\\n\\n')"
      ]
    },
    {
      "cell_type": "code",
      "execution_count": 4,
      "metadata": {
        "id": "Z3m4jiYTE11C",
        "outputId": "5993f29e-48bc-42fc-f01a-9738ac178320",
        "colab": {
          "base_uri": "https://localhost:8080/"
        }
      },
      "outputs": [
        {
          "output_type": "stream",
          "name": "stdout",
          "text": [
            "\n",
            "########################################################################\n",
            "Checking the running platforms\n",
            "\n",
            "Python version: 3.10.12\n",
            "OS: Linux\n",
            "OS version: 6.1.58+\n",
            "running on Colab: True\n",
            "Drive already mounted at /content/drive; to attempt to forcibly remount, call drive.mount(\"/content/drive\", force_remount=True).\n",
            "Dataset Directory Path: /content/drive/MyDrive/Projects/110_JetscapeMl/hm.jetscapeml.data/\n",
            "Simulation Results Path: /content/drive/MyDrive/Projects/110_JetscapeMl/hm.jetscapeml.data/simulation_results/\n",
            "########################################################################\n",
            "\n"
          ]
        }
      ],
      "source": [
        "print('\\n########################################################################')\n",
        "print('Checking the running platforms\\n')\n",
        "# Call the function and retrieve the dataset_directory_path and simulation_directory_path\n",
        "# Access the dataset_directory_path and simulation_directory_path\n",
        "dataset_directory_path, simulation_directory_path = set_directory_paths()\n",
        "print('########################################################################\\n')"
      ]
    },
    {
      "cell_type": "code",
      "execution_count": 5,
      "metadata": {
        "id": "M0Ia3knFE11C",
        "outputId": "961833f0-0e24-4fac-b6bf-9c5a8630a4a3",
        "colab": {
          "base_uri": "https://localhost:8080/"
        }
      },
      "outputs": [
        {
          "output_type": "stream",
          "name": "stdout",
          "text": [
            "Aggregatring all parameters values\n",
            "label_items:\n",
            " {'y_class_label_items': ['MMAT', 'MLBT'], 'alpha_s_items': [0.2, 0.3, 0.4], 'q0_items': [1.5, 2.0, 2.5]}\n",
            "Building required params for the loading the dataset file\n",
            "labels_str:\n",
            " {'class_labels_str': 'MMAT_MLBT', 'alpha_s_items_str': '0.2_0.3_0.4', 'q0_items_str': '1.5_2.0_2.5'}\n"
          ]
        }
      ],
      "source": [
        "from jet_ml_dataset_builder.jet_ml_dataset_builder_utilities import get_label_items\n",
        "from jet_ml_dataset_builder.jet_ml_dataset_builder_utilities import get_labels_str\n",
        "label_items_dict = get_label_items()\n",
        "label_str_dict=get_labels_str(label_items_dict)"
      ]
    },
    {
      "cell_type": "code",
      "execution_count": 6,
      "metadata": {
        "id": "7xJ4GM0mE11C",
        "outputId": "a86517a4-ac62-497a-cb20-a98b31cb3abc",
        "colab": {
          "base_uri": "https://localhost:8080/"
        }
      },
      "outputs": [
        {
          "output_type": "stream",
          "name": "stdout",
          "text": [
            "Loading the whole dataset\n",
            "dataset.x: <class 'numpy.ndarray'> 10240000 (10000, 32, 32)\n",
            "dataset.y: <class 'numpy.ndarray'> 30000 (10000, 3)\n",
            "Extract the working column#1 for classification\n",
            "dataset.x: <class 'numpy.ndarray'> 10240000 (10000, 32, 32)\n",
            "dataset.y: <class 'numpy.ndarray'> 10000 (10000,)\n",
            "dataset.y(working_column) sample ['0.4' '0.4' '0.2' '0.4' '0.4' '0.3' '0.4' '0.3' '0.4' '0.4']\n"
          ]
        }
      ],
      "source": [
        "from jet_ml_dataset_builder.jet_ml_dataset_builder_utilities import get_dataset\n",
        "dataset_size=10000\n",
        "dataset_x, dataset_y=get_dataset(dataset_size,label_str_dict, dataset_directory_path,working_column=1)"
      ]
    },
    {
      "cell_type": "code",
      "execution_count": 7,
      "metadata": {
        "id": "OP-mrbXrE11D"
      },
      "outputs": [],
      "source": [
        "from jet_ml_models.pointnet import build_pointnet_classifier_model\n",
        "from jet_ml_models.pointnet import compile_pointnet_classifier_model_with_hyperparam\n",
        "NUM_POINTS = 1024\n",
        "#because alpha_s can get 3 values\n",
        "NUM_CLASSES = 3\n",
        "activation=\"softmax\"\n",
        "# activation=\"sigmoid\"\n",
        "\n",
        "pointnet=build_pointnet_classifier_model(NUM_POINTS=NUM_POINTS,NUM_CLASSES=NUM_CLASSES, activation=activation)\n"
      ]
    },
    {
      "cell_type": "code",
      "execution_count": 8,
      "metadata": {
        "id": "q8ZgORxKE11D",
        "outputId": "de5f7987-d874-4e58-87c9-c421beef582a",
        "colab": {
          "base_uri": "https://localhost:8080/"
        }
      },
      "outputs": [
        {
          "output_type": "stream",
          "name": "stdout",
          "text": [
            "Model: \"pointnet\"\n",
            "__________________________________________________________________________________________________\n",
            " Layer (type)                Output Shape                 Param #   Connected to                  \n",
            "==================================================================================================\n",
            " input_1 (InputLayer)        [(None, 1024, 3)]            0         []                            \n",
            "                                                                                                  \n",
            " conv1d (Conv1D)             (None, 1024, 32)             128       ['input_1[0][0]']             \n",
            "                                                                                                  \n",
            " batch_normalization (Batch  (None, 1024, 32)             128       ['conv1d[0][0]']              \n",
            " Normalization)                                                                                   \n",
            "                                                                                                  \n",
            " activation (Activation)     (None, 1024, 32)             0         ['batch_normalization[0][0]'] \n",
            "                                                                                                  \n",
            " conv1d_1 (Conv1D)           (None, 1024, 64)             2112      ['activation[0][0]']          \n",
            "                                                                                                  \n",
            " batch_normalization_1 (Bat  (None, 1024, 64)             256       ['conv1d_1[0][0]']            \n",
            " chNormalization)                                                                                 \n",
            "                                                                                                  \n",
            " activation_1 (Activation)   (None, 1024, 64)             0         ['batch_normalization_1[0][0]'\n",
            "                                                                    ]                             \n",
            "                                                                                                  \n",
            " conv1d_2 (Conv1D)           (None, 1024, 512)            33280     ['activation_1[0][0]']        \n",
            "                                                                                                  \n",
            " batch_normalization_2 (Bat  (None, 1024, 512)            2048      ['conv1d_2[0][0]']            \n",
            " chNormalization)                                                                                 \n",
            "                                                                                                  \n",
            " activation_2 (Activation)   (None, 1024, 512)            0         ['batch_normalization_2[0][0]'\n",
            "                                                                    ]                             \n",
            "                                                                                                  \n",
            " global_max_pooling1d (Glob  (None, 512)                  0         ['activation_2[0][0]']        \n",
            " alMaxPooling1D)                                                                                  \n",
            "                                                                                                  \n",
            " dense (Dense)               (None, 256)                  131328    ['global_max_pooling1d[0][0]']\n",
            "                                                                                                  \n",
            " batch_normalization_3 (Bat  (None, 256)                  1024      ['dense[0][0]']               \n",
            " chNormalization)                                                                                 \n",
            "                                                                                                  \n",
            " activation_3 (Activation)   (None, 256)                  0         ['batch_normalization_3[0][0]'\n",
            "                                                                    ]                             \n",
            "                                                                                                  \n",
            " dense_1 (Dense)             (None, 128)                  32896     ['activation_3[0][0]']        \n",
            "                                                                                                  \n",
            " batch_normalization_4 (Bat  (None, 128)                  512       ['dense_1[0][0]']             \n",
            " chNormalization)                                                                                 \n",
            "                                                                                                  \n",
            " activation_4 (Activation)   (None, 128)                  0         ['batch_normalization_4[0][0]'\n",
            "                                                                    ]                             \n",
            "                                                                                                  \n",
            " dense_2 (Dense)             (None, 9)                    1161      ['activation_4[0][0]']        \n",
            "                                                                                                  \n",
            " reshape (Reshape)           (None, 3, 3)                 0         ['dense_2[0][0]']             \n",
            "                                                                                                  \n",
            " dot (Dot)                   (None, 1024, 3)              0         ['input_1[0][0]',             \n",
            "                                                                     'reshape[0][0]']             \n",
            "                                                                                                  \n",
            " conv1d_3 (Conv1D)           (None, 1024, 32)             128       ['dot[0][0]']                 \n",
            "                                                                                                  \n",
            " batch_normalization_5 (Bat  (None, 1024, 32)             128       ['conv1d_3[0][0]']            \n",
            " chNormalization)                                                                                 \n",
            "                                                                                                  \n",
            " activation_5 (Activation)   (None, 1024, 32)             0         ['batch_normalization_5[0][0]'\n",
            "                                                                    ]                             \n",
            "                                                                                                  \n",
            " conv1d_4 (Conv1D)           (None, 1024, 32)             1056      ['activation_5[0][0]']        \n",
            "                                                                                                  \n",
            " batch_normalization_6 (Bat  (None, 1024, 32)             128       ['conv1d_4[0][0]']            \n",
            " chNormalization)                                                                                 \n",
            "                                                                                                  \n",
            " activation_6 (Activation)   (None, 1024, 32)             0         ['batch_normalization_6[0][0]'\n",
            "                                                                    ]                             \n",
            "                                                                                                  \n",
            " conv1d_5 (Conv1D)           (None, 1024, 32)             1056      ['activation_6[0][0]']        \n",
            "                                                                                                  \n",
            " batch_normalization_7 (Bat  (None, 1024, 32)             128       ['conv1d_5[0][0]']            \n",
            " chNormalization)                                                                                 \n",
            "                                                                                                  \n",
            " activation_7 (Activation)   (None, 1024, 32)             0         ['batch_normalization_7[0][0]'\n",
            "                                                                    ]                             \n",
            "                                                                                                  \n",
            " conv1d_6 (Conv1D)           (None, 1024, 64)             2112      ['activation_7[0][0]']        \n",
            "                                                                                                  \n",
            " batch_normalization_8 (Bat  (None, 1024, 64)             256       ['conv1d_6[0][0]']            \n",
            " chNormalization)                                                                                 \n",
            "                                                                                                  \n",
            " activation_8 (Activation)   (None, 1024, 64)             0         ['batch_normalization_8[0][0]'\n",
            "                                                                    ]                             \n",
            "                                                                                                  \n",
            " conv1d_7 (Conv1D)           (None, 1024, 512)            33280     ['activation_8[0][0]']        \n",
            "                                                                                                  \n",
            " batch_normalization_9 (Bat  (None, 1024, 512)            2048      ['conv1d_7[0][0]']            \n",
            " chNormalization)                                                                                 \n",
            "                                                                                                  \n",
            " activation_9 (Activation)   (None, 1024, 512)            0         ['batch_normalization_9[0][0]'\n",
            "                                                                    ]                             \n",
            "                                                                                                  \n",
            " global_max_pooling1d_1 (Gl  (None, 512)                  0         ['activation_9[0][0]']        \n",
            " obalMaxPooling1D)                                                                                \n",
            "                                                                                                  \n",
            " dense_3 (Dense)             (None, 256)                  131328    ['global_max_pooling1d_1[0][0]\n",
            "                                                                    ']                            \n",
            "                                                                                                  \n",
            " batch_normalization_10 (Ba  (None, 256)                  1024      ['dense_3[0][0]']             \n",
            " tchNormalization)                                                                                \n",
            "                                                                                                  \n",
            " activation_10 (Activation)  (None, 256)                  0         ['batch_normalization_10[0][0]\n",
            "                                                                    ']                            \n",
            "                                                                                                  \n",
            " dense_4 (Dense)             (None, 128)                  32896     ['activation_10[0][0]']       \n",
            "                                                                                                  \n",
            " batch_normalization_11 (Ba  (None, 128)                  512       ['dense_4[0][0]']             \n",
            " tchNormalization)                                                                                \n",
            "                                                                                                  \n",
            " activation_11 (Activation)  (None, 128)                  0         ['batch_normalization_11[0][0]\n",
            "                                                                    ']                            \n",
            "                                                                                                  \n",
            " dense_5 (Dense)             (None, 1024)                 132096    ['activation_11[0][0]']       \n",
            "                                                                                                  \n",
            " reshape_1 (Reshape)         (None, 32, 32)               0         ['dense_5[0][0]']             \n",
            "                                                                                                  \n",
            " dot_1 (Dot)                 (None, 1024, 32)             0         ['activation_6[0][0]',        \n",
            "                                                                     'reshape_1[0][0]']           \n",
            "                                                                                                  \n",
            " conv1d_8 (Conv1D)           (None, 1024, 32)             1056      ['dot_1[0][0]']               \n",
            "                                                                                                  \n",
            " batch_normalization_12 (Ba  (None, 1024, 32)             128       ['conv1d_8[0][0]']            \n",
            " tchNormalization)                                                                                \n",
            "                                                                                                  \n",
            " activation_12 (Activation)  (None, 1024, 32)             0         ['batch_normalization_12[0][0]\n",
            "                                                                    ']                            \n",
            "                                                                                                  \n",
            " conv1d_9 (Conv1D)           (None, 1024, 64)             2112      ['activation_12[0][0]']       \n",
            "                                                                                                  \n",
            " batch_normalization_13 (Ba  (None, 1024, 64)             256       ['conv1d_9[0][0]']            \n",
            " tchNormalization)                                                                                \n",
            "                                                                                                  \n",
            " activation_13 (Activation)  (None, 1024, 64)             0         ['batch_normalization_13[0][0]\n",
            "                                                                    ']                            \n",
            "                                                                                                  \n",
            " conv1d_10 (Conv1D)          (None, 1024, 512)            33280     ['activation_13[0][0]']       \n",
            "                                                                                                  \n",
            " batch_normalization_14 (Ba  (None, 1024, 512)            2048      ['conv1d_10[0][0]']           \n",
            " tchNormalization)                                                                                \n",
            "                                                                                                  \n",
            " activation_14 (Activation)  (None, 1024, 512)            0         ['batch_normalization_14[0][0]\n",
            "                                                                    ']                            \n",
            "                                                                                                  \n",
            " global_max_pooling1d_2 (Gl  (None, 512)                  0         ['activation_14[0][0]']       \n",
            " obalMaxPooling1D)                                                                                \n",
            "                                                                                                  \n",
            " dense_6 (Dense)             (None, 256)                  131328    ['global_max_pooling1d_2[0][0]\n",
            "                                                                    ']                            \n",
            "                                                                                                  \n",
            " batch_normalization_15 (Ba  (None, 256)                  1024      ['dense_6[0][0]']             \n",
            " tchNormalization)                                                                                \n",
            "                                                                                                  \n",
            " activation_15 (Activation)  (None, 256)                  0         ['batch_normalization_15[0][0]\n",
            "                                                                    ']                            \n",
            "                                                                                                  \n",
            " dropout (Dropout)           (None, 256)                  0         ['activation_15[0][0]']       \n",
            "                                                                                                  \n",
            " dense_7 (Dense)             (None, 128)                  32896     ['dropout[0][0]']             \n",
            "                                                                                                  \n",
            " batch_normalization_16 (Ba  (None, 128)                  512       ['dense_7[0][0]']             \n",
            " tchNormalization)                                                                                \n",
            "                                                                                                  \n",
            " activation_16 (Activation)  (None, 128)                  0         ['batch_normalization_16[0][0]\n",
            "                                                                    ']                            \n",
            "                                                                                                  \n",
            " dropout_1 (Dropout)         (None, 128)                  0         ['activation_16[0][0]']       \n",
            "                                                                                                  \n",
            " dense_8 (Dense)             (None, 3)                    387       ['dropout_1[0][0]']           \n",
            "                                                                                                  \n",
            "==================================================================================================\n",
            "Total params: 748076 (2.85 MB)\n",
            "Trainable params: 741996 (2.83 MB)\n",
            "Non-trainable params: 6080 (23.75 KB)\n",
            "__________________________________________________________________________________________________\n",
            "Optimizer:  <keras.src.optimizers.adam.Adam object at 0x7826343dbf70>\n",
            "Loss function:  sparse_categorical_crossentropy\n",
            "Metrics:  []\n"
          ]
        }
      ],
      "source": [
        "learning_rate=0.001\n",
        "loss='sparse_categorical_crossentropy'\n",
        "# loss='categorical_crossentropy',\n",
        "\n",
        "metrics='sparse_categorical_accuracy'\n",
        "# metrics=['accuracy'],\n",
        "\n",
        "# pointnet=compile_pointnet_classifier_model_with_hyperparam(pointnet,learning_rate)\n",
        "pointnet=compile_pointnet_classifier_model_with_hyperparam(pointnet,learning_rate=learning_rate, loss=loss,metrics=metrics)"
      ]
    },
    {
      "cell_type": "code",
      "execution_count": 9,
      "metadata": {
        "id": "hwq-rIjQE11D",
        "outputId": "b683154b-01bf-41e0-c516-cfec34ce57de",
        "colab": {
          "base_uri": "https://localhost:8080/"
        }
      },
      "outputs": [
        {
          "output_type": "stream",
          "name": "stdout",
          "text": [
            "Pre-processing\n",
            "dataset_x_points shape: (10000, 1024, 3)\n",
            "deleting the original dataset after splitting ...\n",
            "train_points: <class 'numpy.ndarray'> 24576000 (8000, 1024, 3)\n",
            "train_y: <class 'numpy.ndarray'> 8000 (8000,)\n",
            "x_test_points: <class 'numpy.ndarray'> 6144000 (2000, 1024, 3)\n",
            "y_test: <class 'numpy.ndarray'> 2000 (2000,)\n",
            "y_test[:10]:\n",
            " ['0.4' '0.2' '0.2' '0.2' '0.2' '0.4' '0.2' '0.3' '0.2' '0.4']\n",
            "Preprocess y_train and y_test\n",
            "Encoding to sparse categorical variable\n",
            "y_test_encoded:\n",
            " [2 0 0 0 0 2 0 1 0 2]\n"
          ]
        }
      ],
      "source": [
        "from jet_ml_models.pointnet import preprocess_dataset\n",
        "(x_train,  y_train,x_test,  y_test)=preprocess_dataset(dataset_x, dataset_y,is_one_hot_encoded=False)"
      ]
    },
    {
      "cell_type": "code",
      "execution_count": 10,
      "metadata": {
        "id": "75D5CtfxE11D"
      },
      "outputs": [],
      "source": [
        "from jet_ml_models.pointnet import create_tf_dataset\n",
        "# Example usage:\n",
        "# Create TensorFlow Dataset for training data\n",
        "dataset = create_tf_dataset(x_train, y_train)\n",
        "\n",
        "# Create TensorFlow Dataset for test data\n",
        "test_dataset = create_tf_dataset(x_test, y_test)"
      ]
    },
    {
      "cell_type": "code",
      "execution_count": 11,
      "metadata": {
        "id": "HhPSN2l5E11D"
      },
      "outputs": [],
      "source": [
        "from jet_ml_models.pointnet import prepare_datasets\n",
        "from jet_ml_models.pointnet import augment\n",
        "\n",
        "# Prepare datasets for training\n",
        "train_dataset, validation_dataset,test_dataset  = prepare_datasets(dataset, test_dataset, len(x_train), len(x_test), augment)"
      ]
    },
    {
      "cell_type": "code",
      "execution_count": 12,
      "metadata": {
        "id": "Yf_g2CF4E11E",
        "outputId": "5e95280e-7a4b-459c-986b-a3d969b4ffa0",
        "colab": {
          "base_uri": "https://localhost:8080/"
        }
      },
      "outputs": [
        {
          "output_type": "stream",
          "name": "stdout",
          "text": [
            "simulation_directory_path: /content/drive/MyDrive/Projects/110_JetscapeMl/hm.jetscapeml.data/simulation_results/\n",
            "simulation_path: /content/drive/MyDrive/Projects/110_JetscapeMl/hm.jetscapeml.data/simulation_results/jetml_pointnet_classification_alpha_s_0.2_0.3_0.4\n",
            "/content/drive/MyDrive/Projects/110_JetscapeMl/hm.jetscapeml.data/simulation_results/jetml_pointnet_classification_alpha_s_0.2_0.3_0.4_size_1000_epochs_32_fold_1\n",
            "best_model_file_path: /content/drive/MyDrive/Projects/110_JetscapeMl/hm.jetscapeml.data/simulation_results/jetml_pointnet_classification_alpha_s_0.2_0.3_0.4_size_1000_epochs_32_fold_1_best_model.keras\n"
          ]
        }
      ],
      "source": [
        "monitor = 'val_accuracy'  # 'val_accuracy' or 'val_loss'\n",
        "n_epochs = 32\n",
        "\n",
        "print(\"simulation_directory_path:\",simulation_directory_path)\n",
        "simulation_path=f'{simulation_directory_path}jetml_pointnet_classification_alpha_s_{label_str_dict[\"alpha_s_items_str\"]}'\n",
        "print(\"simulation_path:\",simulation_path)\n",
        "current_simulation_name=f'_size_{1000}'\n",
        "current_simulation_path=simulation_path+current_simulation_name\n",
        "\n",
        "current_simulation_name=f'_epochs_{n_epochs}'\n",
        "current_simulation_path=current_simulation_path+current_simulation_name\n",
        "\n",
        "fold=1\n",
        "current_simulation_name=f'_fold_{fold}'\n",
        "current_simulation_path=current_simulation_path+current_simulation_name\n",
        "print(current_simulation_path)\n",
        "\n",
        "# Use ModelCheckpoint callback to save the best model\n",
        "best_model_file_path = f'{current_simulation_path}_best_model.keras'\n",
        "print(\"best_model_file_path:\",best_model_file_path)"
      ]
    },
    {
      "cell_type": "code",
      "execution_count": 13,
      "metadata": {
        "id": "mySpWotJE11E"
      },
      "outputs": [],
      "source": [
        "# pointnet.fit(train_dataset, epochs=20, validation_data=validation_dataset)"
      ]
    },
    {
      "cell_type": "code",
      "execution_count": 14,
      "metadata": {
        "id": "ItMIa0ZxE11E",
        "outputId": "fb984519-cb80-4264-e6a2-f74b65801fb8",
        "colab": {
          "base_uri": "https://localhost:8080/"
        }
      },
      "outputs": [
        {
          "output_type": "stream",
          "name": "stdout",
          "text": [
            "Epoch 1/32\n",
            "200/200 [==============================] - ETA: 0s - loss: 2.4313 - sparse_categorical_accuracy: 0.3494\n",
            "Epoch 1: val_sparse_categorical_accuracy improved from inf to 0.32563, saving model to /content/drive/MyDrive/Projects/110_JetscapeMl/hm.jetscapeml.data/simulation_results/jetml_pointnet_classification_alpha_s_0.2_0.3_0.4_size_1000_epochs_32_fold_1_best_model.keras\n",
            "200/200 [==============================] - 35s 92ms/step - loss: 2.4313 - sparse_categorical_accuracy: 0.3494 - val_loss: 2.2452 - val_sparse_categorical_accuracy: 0.3256\n",
            "Epoch 2/32\n",
            "200/200 [==============================] - ETA: 0s - loss: 2.2649 - sparse_categorical_accuracy: 0.3578\n",
            "Epoch 2: val_sparse_categorical_accuracy did not improve from 0.32563\n",
            "200/200 [==============================] - 17s 87ms/step - loss: 2.2649 - sparse_categorical_accuracy: 0.3578 - val_loss: 2.2326 - val_sparse_categorical_accuracy: 0.4094\n",
            "Epoch 3/32\n",
            "200/200 [==============================] - ETA: 0s - loss: 2.1952 - sparse_categorical_accuracy: 0.3658\n",
            "Epoch 3: val_sparse_categorical_accuracy did not improve from 0.32563\n",
            "200/200 [==============================] - 17s 86ms/step - loss: 2.1952 - sparse_categorical_accuracy: 0.3658 - val_loss: 2.1709 - val_sparse_categorical_accuracy: 0.4006\n",
            "Epoch 4/32\n",
            "200/200 [==============================] - ETA: 0s - loss: 2.1777 - sparse_categorical_accuracy: 0.4019\n",
            "Epoch 4: val_sparse_categorical_accuracy did not improve from 0.32563\n",
            "200/200 [==============================] - 17s 86ms/step - loss: 2.1777 - sparse_categorical_accuracy: 0.4019 - val_loss: 39.4123 - val_sparse_categorical_accuracy: 0.4700\n",
            "Epoch 5/32\n",
            "200/200 [==============================] - ETA: 0s - loss: 2.1526 - sparse_categorical_accuracy: 0.4377\n",
            "Epoch 5: val_sparse_categorical_accuracy did not improve from 0.32563\n",
            "200/200 [==============================] - 17s 85ms/step - loss: 2.1526 - sparse_categorical_accuracy: 0.4377 - val_loss: 2.1034 - val_sparse_categorical_accuracy: 0.4650\n",
            "Epoch 6/32\n",
            "200/200 [==============================] - ETA: 0s - loss: 2.1320 - sparse_categorical_accuracy: 0.4392\n",
            "Epoch 6: val_sparse_categorical_accuracy did not improve from 0.32563\n",
            "200/200 [==============================] - 18s 91ms/step - loss: 2.1320 - sparse_categorical_accuracy: 0.4392 - val_loss: 2.1011 - val_sparse_categorical_accuracy: 0.4750\n",
            "Epoch 7/32\n",
            "200/200 [==============================] - ETA: 0s - loss: 2.1163 - sparse_categorical_accuracy: 0.4408\n",
            "Epoch 7: val_sparse_categorical_accuracy did not improve from 0.32563\n",
            "200/200 [==============================] - 17s 86ms/step - loss: 2.1163 - sparse_categorical_accuracy: 0.4408 - val_loss: 2.0936 - val_sparse_categorical_accuracy: 0.4600\n",
            "Epoch 8/32\n",
            "200/200 [==============================] - ETA: 0s - loss: 2.1161 - sparse_categorical_accuracy: 0.4467\n",
            "Epoch 8: val_sparse_categorical_accuracy did not improve from 0.32563\n",
            "200/200 [==============================] - 17s 86ms/step - loss: 2.1161 - sparse_categorical_accuracy: 0.4467 - val_loss: 2.1020 - val_sparse_categorical_accuracy: 0.4931\n",
            "Epoch 9/32\n",
            "200/200 [==============================] - ETA: 0s - loss: 2.1008 - sparse_categorical_accuracy: 0.4544\n",
            "Epoch 9: val_sparse_categorical_accuracy did not improve from 0.32563\n",
            "200/200 [==============================] - 19s 93ms/step - loss: 2.1008 - sparse_categorical_accuracy: 0.4544 - val_loss: 2.2239 - val_sparse_categorical_accuracy: 0.4506\n",
            "Epoch 10/32\n",
            "200/200 [==============================] - ETA: 0s - loss: 2.0870 - sparse_categorical_accuracy: 0.4688\n",
            "Epoch 10: val_sparse_categorical_accuracy did not improve from 0.32563\n",
            "200/200 [==============================] - 17s 85ms/step - loss: 2.0870 - sparse_categorical_accuracy: 0.4688 - val_loss: 2.0799 - val_sparse_categorical_accuracy: 0.4563\n",
            "Epoch 11/32\n",
            "200/200 [==============================] - ETA: 0s - loss: 2.0818 - sparse_categorical_accuracy: 0.4733\n",
            "Epoch 11: val_sparse_categorical_accuracy did not improve from 0.32563\n",
            "200/200 [==============================] - 17s 85ms/step - loss: 2.0818 - sparse_categorical_accuracy: 0.4733 - val_loss: 2.0535 - val_sparse_categorical_accuracy: 0.5069\n",
            "Epoch 12/32\n",
            "200/200 [==============================] - ETA: 0s - loss: 2.0748 - sparse_categorical_accuracy: 0.4686\n",
            "Epoch 12: val_sparse_categorical_accuracy did not improve from 0.32563\n",
            "200/200 [==============================] - 17s 86ms/step - loss: 2.0748 - sparse_categorical_accuracy: 0.4686 - val_loss: 2.3261 - val_sparse_categorical_accuracy: 0.4844\n",
            "Epoch 13/32\n",
            "200/200 [==============================] - ETA: 0s - loss: 2.0718 - sparse_categorical_accuracy: 0.4695\n",
            "Epoch 13: val_sparse_categorical_accuracy did not improve from 0.32563\n",
            "200/200 [==============================] - 17s 86ms/step - loss: 2.0718 - sparse_categorical_accuracy: 0.4695 - val_loss: 2.0481 - val_sparse_categorical_accuracy: 0.4881\n",
            "Epoch 14/32\n",
            "200/200 [==============================] - ETA: 0s - loss: 2.0679 - sparse_categorical_accuracy: 0.4781\n",
            "Epoch 14: val_sparse_categorical_accuracy did not improve from 0.32563\n",
            "200/200 [==============================] - 17s 86ms/step - loss: 2.0679 - sparse_categorical_accuracy: 0.4781 - val_loss: 2.1436 - val_sparse_categorical_accuracy: 0.4994\n",
            "Epoch 14: early stopping\n"
          ]
        }
      ],
      "source": [
        "# %%timeit -n1 -r1\n",
        "from jet_ml_models.pointnet import train_model_with_callbacks\n",
        "# model=[]\n",
        "# history=[]\n",
        "# train_time=[]\n",
        "monitor='val_sparse_categorical_accuracy'\n",
        "with tf.device('/GPU:0'):\n",
        "  model, history, train_time=train_model_with_callbacks(pointnet, train_dataset=train_dataset, validation_dataset=validation_dataset,monitor=monitor, best_model_file_path=best_model_file_path, n_epochs=n_epochs)"
      ]
    },
    {
      "cell_type": "code",
      "execution_count": 15,
      "metadata": {
        "id": "rEDiOd94E11E",
        "outputId": "bf194580-06b2-4c4b-c1f3-86e429841e74",
        "colab": {
          "base_uri": "https://localhost:8080/"
        }
      },
      "outputs": [
        {
          "output_type": "stream",
          "name": "stdout",
          "text": [
            "4.3852800289789835\n",
            "<keras.src.engine.functional.Functional object at 0x78262236d2d0>\n",
            "{'loss': [2.431339979171753, 2.2648727893829346, 2.195225477218628, 2.177746295928955, 2.1526260375976562, 2.1320056915283203, 2.1163060665130615, 2.116138219833374, 2.100846290588379, 2.086977958679199, 2.0818281173706055, 2.0748038291931152, 2.0718047618865967, 2.06786847114563], 'sparse_categorical_accuracy': [0.34937500953674316, 0.3578124940395355, 0.3657812476158142, 0.40187498927116394, 0.4376562535762787, 0.43921875953674316, 0.44078123569488525, 0.4467187523841858, 0.4543749988079071, 0.46875, 0.47328126430511475, 0.4685937464237213, 0.46953123807907104, 0.4781250059604645], 'val_loss': [2.2451882362365723, 2.232640027999878, 2.1709342002868652, 39.41230392456055, 2.1033990383148193, 2.1010560989379883, 2.0936012268066406, 2.1020257472991943, 2.223926544189453, 2.079904556274414, 2.053525447845459, 2.326101303100586, 2.04811954498291, 2.1436071395874023], 'val_sparse_categorical_accuracy': [0.3256250023841858, 0.40937501192092896, 0.40062499046325684, 0.4699999988079071, 0.4650000035762787, 0.4749999940395355, 0.46000000834465027, 0.49312499165534973, 0.4506250023841858, 0.45625001192092896, 0.5068749785423279, 0.484375, 0.4881249964237213, 0.49937498569488525]}\n"
          ]
        }
      ],
      "source": [
        "print(train_time)\n",
        "print(model)\n",
        "print(history.history)"
      ]
    },
    {
      "cell_type": "code",
      "execution_count": 16,
      "metadata": {
        "id": "yY5W0FPyE11E",
        "outputId": "f2b7e756-1d8b-43e4-9566-a7ba8cf40e03",
        "colab": {
          "base_uri": "https://localhost:8080/"
        }
      },
      "outputs": [
        {
          "output_type": "stream",
          "name": "stdout",
          "text": [
            "/content/drive/MyDrive/Projects/110_JetscapeMl/hm.jetscapeml.data/simulation_results/jetml_pointnet_classification_alpha_s_0.2_0.3_0.4_size_1000_epochs_32_fold_1_training_history.json\n",
            "/content/drive/MyDrive/Projects/110_JetscapeMl/hm.jetscapeml.data/simulation_results/jetml_pointnet_classification_alpha_s_0.2_0.3_0.4_size_1000_epochs_32_fold_1_training_history.csv\n",
            "/content/drive/MyDrive/Projects/110_JetscapeMl/hm.jetscapeml.data/simulation_results/jetml_pointnet_classification_alpha_s_0.2_0.3_0.4_size_1000_epochs_32_fold_1_training_history.npy\n"
          ]
        }
      ],
      "source": [
        "from jet_ml_models.pointnet import save_training_history\n",
        "training_history_file_path_json,training_history_file_path_csv,training_history_file_path_csv = \\\n",
        "  save_training_history(history,current_simulation_path)"
      ]
    },
    {
      "cell_type": "code",
      "execution_count": 17,
      "metadata": {
        "id": "0f56lUDLE11F",
        "outputId": "7dd72edd-8d30-4f8a-a9dc-664fffcb637c",
        "colab": {
          "base_uri": "https://localhost:8080/",
          "height": 624
        }
      },
      "outputs": [
        {
          "output_type": "display_data",
          "data": {
            "text/plain": [
              "<Figure size 1200x600 with 2 Axes>"
            ],
            "image/png": "[encoded data removed]"
          },
          "metadata": {}
        },
        {
          "output_type": "stream",
          "name": "stdout",
          "text": [
            "/content/drive/MyDrive/Projects/110_JetscapeMl/hm.jetscapeml.data/simulation_results/jetml_pointnet_classification_alpha_s_0.2_0.3_0.4_size_1000_epochs_32_fold_1_accuracy_loss.png\n"
          ]
        }
      ],
      "source": [
        "from jet_ml_models.pointnet import plot_training_history\n",
        "plot_training_history_path=plot_training_history(history,current_simulation_path)\n",
        "print(plot_training_history_path)"
      ]
    },
    {
      "cell_type": "code",
      "execution_count": 18,
      "metadata": {
        "id": "knyOyK5EE11F",
        "outputId": "50856ab6-6e53-419d-fc8c-9f2dfac58824",
        "colab": {
          "base_uri": "https://localhost:8080/"
        }
      },
      "outputs": [
        {
          "output_type": "stream",
          "name": "stdout",
          "text": [
            "63/63 [==============================] - 2s 18ms/step\n",
            "Accuracy: 0.333\n",
            "Confusion Matrix: [[401  83 162]\n",
            " [410  91 186]\n",
            " [412  81 174]]\n"
          ]
        }
      ],
      "source": [
        "from jet_ml_models.pointnet import evaluate_model\n",
        "accuracy, confusion_matrix = evaluate_model(model,test_dataset=test_dataset)"
      ]
    },
    {
      "cell_type": "code",
      "execution_count": 19,
      "metadata": {
        "id": "69PoytJAE11F",
        "outputId": "f2b128b4-f481-4a0a-8385-84b7fa53ddd2",
        "colab": {
          "base_uri": "https://localhost:8080/",
          "height": 272
        }
      },
      "outputs": [
        {
          "output_type": "stream",
          "name": "stdout",
          "text": [
            "   Dataset Size Classifier  Fold Number  Accuracy  \\\n",
            "0         10000   pointnet            1     0.333   \n",
            "\n",
            "                                   Confusion Matrix  Train Time  \\\n",
            "0  [[401, 83, 162], [410, 91, 186], [412, 81, 174]]     4.38528   \n",
            "\n",
            "                             Loss/Accuracy Plot Path  \\\n",
            "0  /content/drive/MyDrive/Projects/110_JetscapeMl...   \n",
            "\n",
            "                                     Best Model Path  \n",
            "0  /content/drive/MyDrive/Projects/110_JetscapeMl...  \n"
          ]
        },
        {
          "output_type": "execute_result",
          "data": {
            "text/plain": [
              "   Dataset Size Classifier  Fold Number  Accuracy  \\\n",
              "0         10000   pointnet            1     0.333   \n",
              "\n",
              "                                   Confusion Matrix  Train Time  \\\n",
              "0  [[401, 83, 162], [410, 91, 186], [412, 81, 174]]     4.38528   \n",
              "\n",
              "                             Loss/Accuracy Plot Path  \\\n",
              "0  /content/drive/MyDrive/Projects/110_JetscapeMl...   \n",
              "\n",
              "                                     Best Model Path  \n",
              "0  /content/drive/MyDrive/Projects/110_JetscapeMl...  "
            ],
            "text/html": [
              "\n",
              "  <div id=\"df-99ddc95a-49d9-49bb-9f56-a2546d756b41\" class=\"colab-df-container\">\n",
              "    <div>\n",
              "<style scoped>\n",
              "    .dataframe tbody tr th:only-of-type {\n",
              "        vertical-align: middle;\n",
              "    }\n",
              "\n",
              "    .dataframe tbody tr th {\n",
              "        vertical-align: top;\n",
              "    }\n",
              "\n",
              "    .dataframe thead th {\n",
              "        text-align: right;\n",
              "    }\n",
              "</style>\n",
              "<table border=\"1\" class=\"dataframe\">\n",
              "  <thead>\n",
              "    <tr style=\"text-align: right;\">\n",
              "      <th></th>\n",
              "      <th>Dataset Size</th>\n",
              "      <th>Classifier</th>\n",
              "      <th>Fold Number</th>\n",
              "      <th>Accuracy</th>\n",
              "      <th>Confusion Matrix</th>\n",
              "      <th>Train Time</th>\n",
              "      <th>Loss/Accuracy Plot Path</th>\n",
              "      <th>Best Model Path</th>\n",
              "    </tr>\n",
              "  </thead>\n",
              "  <tbody>\n",
              "    <tr>\n",
              "      <th>0</th>\n",
              "      <td>10000</td>\n",
              "      <td>pointnet</td>\n",
              "      <td>1</td>\n",
              "      <td>0.333</td>\n",
              "      <td>[[401, 83, 162], [410, 91, 186], [412, 81, 174]]</td>\n",
              "      <td>4.38528</td>\n",
              "      <td>/content/drive/MyDrive/Projects/110_JetscapeMl...</td>\n",
              "      <td>/content/drive/MyDrive/Projects/110_JetscapeMl...</td>\n",
              "    </tr>\n",
              "  </tbody>\n",
              "</table>\n",
              "</div>\n",
              "    <div class=\"colab-df-buttons\">\n",
              "\n",
              "  <div class=\"colab-df-container\">\n",
              "    <button class=\"colab-df-convert\" onclick=\"convertToInteractive('df-99ddc95a-49d9-49bb-9f56-a2546d756b41')\"\n",
              "            title=\"Convert this dataframe to an interactive table.\"\n",
              "            style=\"display:none;\">\n",
              "\n",
              "  <svg xmlns=\"http://www.w3.org/2000/svg\" height=\"24px\" viewBox=\"0 -960 960 960\">\n",
              "    <path d=\"M120-120v-720h720v720H120Zm60-500h600v-160H180v160Zm220 220h160v-160H400v160Zm0 220h160v-160H400v160ZM180-400h160v-160H180v160Zm440 0h160v-160H620v160ZM180-180h160v-160H180v160Zm440 0h160v-160H620v160Z\"/>\n",
              "  </svg>\n",
              "    </button>\n",
              "\n",
              "  <style>\n",
              "    .colab-df-container {\n",
              "      display:flex;\n",
              "      gap: 12px;\n",
              "    }\n",
              "\n",
              "    .colab-df-convert {\n",
              "      background-color: #E8F0FE;\n",
              "      border: none;\n",
              "      border-radius: 50%;\n",
              "      cursor: pointer;\n",
              "      display: none;\n",
              "      fill: #1967D2;\n",
              "      height: 32px;\n",
              "      padding: 0 0 0 0;\n",
              "      width: 32px;\n",
              "    }\n",
              "\n",
              "    .colab-df-convert:hover {\n",
              "      background-color: #E2EBFA;\n",
              "      box-shadow: 0px 1px 2px rgba(60, 64, 67, 0.3), 0px 1px 3px 1px rgba(60, 64, 67, 0.15);\n",
              "      fill: #174EA6;\n",
              "    }\n",
              "\n",
              "    .colab-df-buttons div {\n",
              "      margin-bottom: 4px;\n",
              "    }\n",
              "\n",
              "    [theme=dark] .colab-df-convert {\n",
              "      background-color: #3B4455;\n",
              "      fill: #D2E3FC;\n",
              "    }\n",
              "\n",
              "    [theme=dark] .colab-df-convert:hover {\n",
              "      background-color: #434B5C;\n",
              "      box-shadow: 0px 1px 3px 1px rgba(0, 0, 0, 0.15);\n",
              "      filter: drop-shadow(0px 1px 2px rgba(0, 0, 0, 0.3));\n",
              "      fill: #FFFFFF;\n",
              "    }\n",
              "  </style>\n",
              "\n",
              "    <script>\n",
              "      const buttonEl =\n",
              "        document.querySelector('#df-99ddc95a-49d9-49bb-9f56-a2546d756b41 button.colab-df-convert');\n",
              "      buttonEl.style.display =\n",
              "        google.colab.kernel.accessAllowed ? 'block' : 'none';\n",
              "\n",
              "      async function convertToInteractive(key) {\n",
              "        const element = document.querySelector('#df-99ddc95a-49d9-49bb-9f56-a2546d756b41');\n",
              "        const dataTable =\n",
              "          await google.colab.kernel.invokeFunction('convertToInteractive',\n",
              "                                                    [key], {});\n",
              "        if (!dataTable) return;\n",
              "\n",
              "        const docLinkHtml = 'Like what you see? Visit the ' +\n",
              "          '<a target=\"_blank\" href=https://colab.research.google.com/notebooks/data_table.ipynb>data table notebook</a>'\n",
              "          + ' to learn more about interactive tables.';\n",
              "        element.innerHTML = '';\n",
              "        dataTable['output_type'] = 'display_data';\n",
              "        await google.colab.output.renderOutput(dataTable, element);\n",
              "        const docLink = document.createElement('div');\n",
              "        docLink.innerHTML = docLinkHtml;\n",
              "        element.appendChild(docLink);\n",
              "      }\n",
              "    </script>\n",
              "  </div>\n",
              "\n",
              "\n",
              "    </div>\n",
              "  </div>\n"
            ],
            "application/vnd.google.colaboratory.intrinsic+json": {
              "type": "dataframe",
              "summary": "{\n  \"name\": \"save_kfold_results(results_kfold, current_simulation_path)\",\n  \"rows\": 1,\n  \"fields\": [\n    {\n      \"column\": \"Dataset Size\",\n      \"properties\": {\n        \"dtype\": \"number\",\n        \"std\": null,\n        \"min\": 10000,\n        \"max\": 10000,\n        \"num_unique_values\": 1,\n        \"samples\": [\n          10000\n        ],\n        \"semantic_type\": \"\",\n        \"description\": \"\"\n      }\n    },\n    {\n      \"column\": \"Classifier\",\n      \"properties\": {\n        \"dtype\": \"string\",\n        \"num_unique_values\": 1,\n        \"samples\": [\n          \"pointnet\"\n        ],\n        \"semantic_type\": \"\",\n        \"description\": \"\"\n      }\n    },\n    {\n      \"column\": \"Fold Number\",\n      \"properties\": {\n        \"dtype\": \"number\",\n        \"std\": null,\n        \"min\": 1,\n        \"max\": 1,\n        \"num_unique_values\": 1,\n        \"samples\": [\n          1\n        ],\n        \"semantic_type\": \"\",\n        \"description\": \"\"\n      }\n    },\n    {\n      \"column\": \"Accuracy\",\n      \"properties\": {\n        \"dtype\": \"number\",\n        \"std\": null,\n        \"min\": 0.333,\n        \"max\": 0.333,\n        \"num_unique_values\": 1,\n        \"samples\": [\n          0.333\n        ],\n        \"semantic_type\": \"\",\n        \"description\": \"\"\n      }\n    },\n    {\n      \"column\": \"Confusion Matrix\",\n      \"properties\": {\n        \"dtype\": \"object\",\n        \"semantic_type\": \"\",\n        \"description\": \"\"\n      }\n    },\n    {\n      \"column\": \"Train Time\",\n      \"properties\": {\n        \"dtype\": \"number\",\n        \"std\": null,\n        \"min\": 4.3852800289789835,\n        \"max\": 4.3852800289789835,\n        \"num_unique_values\": 1,\n        \"samples\": [\n          4.3852800289789835\n        ],\n        \"semantic_type\": \"\",\n        \"description\": \"\"\n      }\n    },\n    {\n      \"column\": \"Loss/Accuracy Plot Path\",\n      \"properties\": {\n        \"dtype\": \"string\",\n        \"num_unique_values\": 1,\n        \"samples\": [\n          \"/content/drive/MyDrive/Projects/110_JetscapeMl/hm.jetscapeml.data/simulation_results/jetml_pointnet_classification_alpha_s_0.2_0.3_0.4_size_1000_epochs_32_fold_1_accuracy_loss.png\"\n        ],\n        \"semantic_type\": \"\",\n        \"description\": \"\"\n      }\n    },\n    {\n      \"column\": \"Best Model Path\",\n      \"properties\": {\n        \"dtype\": \"string\",\n        \"num_unique_values\": 1,\n        \"samples\": [\n          \"/content/drive/MyDrive/Projects/110_JetscapeMl/hm.jetscapeml.data/simulation_results/jetml_pointnet_classification_alpha_s_0.2_0.3_0.4_size_1000_epochs_32_fold_1_best_model.keras\"\n        ],\n        \"semantic_type\": \"\",\n        \"description\": \"\"\n      }\n    }\n  ]\n}"
            }
          },
          "metadata": {},
          "execution_count": 19
        }
      ],
      "source": [
        "from jet_ml_models.pointnet import save_kfold_results\n",
        "results_kfold = []\n",
        "results_kfold.append({\n",
        "                  'Dataset Size': dataset_size,\n",
        "                  'Classifier': model.name,\n",
        "                  'Fold Number': fold,\n",
        "                  'Accuracy': accuracy,\n",
        "                  'Confusion Matrix': confusion_matrix,\n",
        "                  'Train Time': train_time,\n",
        "                  'Loss/Accuracy Plot Path': plot_training_history_path,\n",
        "                  'Best Model Path': best_model_file_path\n",
        "              })\n",
        "save_kfold_results(results_kfold, current_simulation_path)"
      ]
    }
  ],
  "metadata": {
    "kernelspec": {
      "display_name": "Python 3",
      "name": "python3"
    },
    "language_info": {
      "codemirror_mode": {
        "name": "ipython",
        "version": 3
      },
      "file_extension": ".py",
      "mimetype": "text/x-python",
      "name": "python",
      "nbconvert_exporter": "python",
      "pygments_lexer": "ipython3",
      "version": "3.11.5"
    },
    "colab": {
      "provenance": [],
      "gpuType": "T4",
      "include_colab_link": true
    },
    "accelerator": "GPU"
  },
  "nbformat": 4,
  "nbformat_minor": 0
}