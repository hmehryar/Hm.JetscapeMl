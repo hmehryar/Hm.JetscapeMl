{
  "cells": [
    {
      "cell_type": "markdown",
      "metadata": {
        "id": "view-in-github",
        "colab_type": "text"
      },
      "source": [
        "<a href=\"https://colab.research.google.com/github/hmehryar/Hm.JetscapeMl/blob/309-implementingtraining-pointnet-for-alpha_s-with-various-epochs-and-folds-and-finding-the-best-learning-rate/jet_ml_pointnet_alpha_s/jet_ml_pointnet_alpha_s.ipynb\" target=\"_parent\"><img src=\"https://colab.research.google.com/assets/colab-badge.svg\" alt=\"Open In Colab\"/></a>"
      ]
    },
    {
      "cell_type": "code",
      "execution_count": 1,
      "metadata": {
        "id": "ABQ-iwWYE11A"
      },
      "outputs": [],
      "source": [
        "# !pip install --upgrade tensorflow\n",
        "import tensorflow as tf"
      ]
    },
    {
      "cell_type": "code",
      "execution_count": 2,
      "metadata": {
        "id": "7QTmTx2NmfYy",
        "outputId": "3cdee538-921e-4edd-d2fc-fe5e157b38b0",
        "colab": {
          "base_uri": "https://localhost:8080/"
        }
      },
      "outputs": [
        {
          "output_type": "stream",
          "name": "stdout",
          "text": [
            "Found GPU at: /device:GPU:0\n",
            "Mounted at /content/drive\n"
          ]
        }
      ],
      "source": [
        "#uncomment this cell when you are on COLAB\n",
        "device_name = tf.test.gpu_device_name()\n",
        "if device_name != '/device:GPU:0':\n",
        "  raise SystemError('GPU device not found')\n",
        "print('Found GPU at: {}'.format(device_name))\n",
        "from google.colab import drive\n",
        "drive.mount('/content/drive')"
      ]
    },
    {
      "cell_type": "code",
      "execution_count": 3,
      "metadata": {
        "id": "fN_qL4lPE11B"
      },
      "outputs": [],
      "source": [
        "import sys\n",
        "sys.path.insert(1,'/wsu/home/gy/gy40/gy4065/hm.jetscapeml.source')\n",
        "sys.path.insert(1,'/content/drive/My Drive/Projects/110_JetscapeMl/hm.jetscapeml.source')\n",
        "sys.path.insert(1,'/content/drive/MyDrive/Projects/110_JetscapeMl/hm.jetscapeml.source')\n",
        "sys.path.insert(1,'/g/My Drive/Projects/110_JetscapeMl/hm.jetscapeml.source')\n",
        "sys.path.insert(1,'G:\\\\My Drive\\\\Projects\\\\110_JetscapeMl\\\\hm.jetscapeml.source')"
      ]
    },
    {
      "cell_type": "code",
      "execution_count": 4,
      "metadata": {
        "colab": {
          "base_uri": "https://localhost:8080/"
        },
        "id": "CnUN6eQFE11B",
        "outputId": "b32e027c-63e8-43f9-ff48-186fec1d5312"
      },
      "outputs": [
        {
          "output_type": "stream",
          "name": "stdout",
          "text": [
            "Loading/Installing Package => Begin\n",
            "\n",
            "\n",
            "\n",
            "Loading/Installing Package => End\n",
            "\n",
            "\n"
          ]
        }
      ],
      "source": [
        "# loading libraries\n",
        "print('Loading/Installing Package => Begin\\n\\n')\n",
        "import jet_ml_dataset_builder.jet_ml_dataset_builder_utilities as util\n",
        "from jet_ml_dataset_builder.jet_ml_dataset_builder_utilities import set_directory_paths\n",
        "print('\\nLoading/Installing Package => End\\n\\n')"
      ]
    },
    {
      "cell_type": "code",
      "execution_count": 5,
      "metadata": {
        "colab": {
          "base_uri": "https://localhost:8080/"
        },
        "id": "Z3m4jiYTE11C",
        "outputId": "463d0572-d063-441c-d73e-93cc3e2196c2"
      },
      "outputs": [
        {
          "output_type": "stream",
          "name": "stdout",
          "text": [
            "\n",
            "########################################################################\n",
            "Checking the running platforms\n",
            "\n",
            "Python version: 3.10.12\n",
            "OS: Linux\n",
            "OS version: 6.1.58+\n",
            "running on Colab: True\n",
            "Drive already mounted at /content/drive; to attempt to forcibly remount, call drive.mount(\"/content/drive\", force_remount=True).\n",
            "Dataset Directory Path: /content/drive/MyDrive/Projects/110_JetscapeMl/hm.jetscapeml.data/\n",
            "Simulation Results Path: /content/drive/MyDrive/Projects/110_JetscapeMl/hm.jetscapeml.data/simulation_results/\n",
            "########################################################################\n",
            "\n"
          ]
        }
      ],
      "source": [
        "print('\\n########################################################################')\n",
        "print('Checking the running platforms\\n')\n",
        "# Call the function and retrieve the dataset_directory_path and simulation_directory_path\n",
        "# Access the dataset_directory_path and simulation_directory_path\n",
        "dataset_directory_path, simulation_directory_path = set_directory_paths()\n",
        "print('########################################################################\\n')"
      ]
    },
    {
      "cell_type": "code",
      "execution_count": 6,
      "metadata": {
        "colab": {
          "base_uri": "https://localhost:8080/"
        },
        "id": "M0Ia3knFE11C",
        "outputId": "5786af16-130f-4124-e350-70ab70782c24"
      },
      "outputs": [
        {
          "output_type": "stream",
          "name": "stdout",
          "text": [
            "Aggregatring all parameters values\n",
            "label_items:\n",
            " {'y_class_label_items': ['MMAT', 'MLBT'], 'alpha_s_items': [0.2, 0.3, 0.4], 'q0_items': [1.5, 2.0, 2.5]}\n",
            "Building required params for the loading the dataset file\n",
            "labels_str:\n",
            " {'class_labels_str': 'MMAT_MLBT', 'alpha_s_items_str': '0.2_0.3_0.4', 'q0_items_str': '1.5_2.0_2.5'}\n"
          ]
        }
      ],
      "source": [
        "from jet_ml_dataset_builder.jet_ml_dataset_builder_utilities import get_label_items\n",
        "from jet_ml_dataset_builder.jet_ml_dataset_builder_utilities import get_labels_str\n",
        "label_items_dict = get_label_items()\n",
        "label_str_dict=get_labels_str(label_items_dict)"
      ]
    },
    {
      "cell_type": "code",
      "execution_count": 7,
      "metadata": {
        "colab": {
          "base_uri": "https://localhost:8080/"
        },
        "id": "7xJ4GM0mE11C",
        "outputId": "c13230d4-7f03-4356-d961-0681d365890f"
      },
      "outputs": [
        {
          "output_type": "stream",
          "name": "stdout",
          "text": [
            "Loading the whole dataset\n",
            "dataset.x: <class 'numpy.ndarray'> 10240000 (10000, 32, 32)\n",
            "dataset.y: <class 'numpy.ndarray'> 30000 (10000, 3)\n",
            "Extract the working column#1 for classification\n",
            "dataset.x: <class 'numpy.ndarray'> 10240000 (10000, 32, 32)\n",
            "dataset.y: <class 'numpy.ndarray'> 10000 (10000,)\n",
            "dataset.y(working_column) sample ['0.4' '0.4' '0.2' '0.4' '0.4' '0.3' '0.4' '0.3' '0.4' '0.4']\n"
          ]
        }
      ],
      "source": [
        "from jet_ml_dataset_builder.jet_ml_dataset_builder_utilities import get_dataset\n",
        "dataset_size=10000\n",
        "dataset_x, dataset_y=get_dataset(dataset_size,label_str_dict, dataset_directory_path,working_column=1)"
      ]
    },
    {
      "cell_type": "code",
      "execution_count": 8,
      "metadata": {
        "colab": {
          "base_uri": "https://localhost:8080/"
        },
        "id": "hwq-rIjQE11D",
        "outputId": "3859c036-a043-4bd8-cf6f-02ceab3a6898"
      },
      "outputs": [
        {
          "output_type": "stream",
          "name": "stdout",
          "text": [
            "Pre-processing\n",
            "dataset_x_points shape: (10000, 1024, 3)\n",
            "deleting the original dataset after splitting ...\n",
            "train_points: <class 'numpy.ndarray'> 24576000 (8000, 1024, 3)\n",
            "train_y: <class 'numpy.ndarray'> 8000 (8000,)\n",
            "x_test_points: <class 'numpy.ndarray'> 6144000 (2000, 1024, 3)\n",
            "y_test: <class 'numpy.ndarray'> 2000 (2000,)\n",
            "y_test[:10]:\n",
            " ['0.4' '0.2' '0.2' '0.2' '0.3' '0.3' '0.3' '0.3' '0.3' '0.2']\n",
            "Preprocess y_train and y_test\n",
            "Encoding to sparse categorical variable\n",
            "y_test_encoded:\n",
            " [2 0 0 0 1 1 1 1 1 0]\n"
          ]
        }
      ],
      "source": [
        "from jet_ml_models.pointnet import preprocess_dataset\n",
        "(x_train,  y_train,x_test,  y_test)=preprocess_dataset(dataset_x, dataset_y,is_one_hot_encoded=False)"
      ]
    },
    {
      "cell_type": "code",
      "execution_count": 9,
      "metadata": {
        "id": "75D5CtfxE11D"
      },
      "outputs": [],
      "source": [
        "from jet_ml_models.pointnet import create_tf_dataset\n",
        "# Example usage:\n",
        "# Create TensorFlow Dataset for training data\n",
        "dataset = create_tf_dataset(x_train, y_train)\n",
        "\n",
        "# Create TensorFlow Dataset for test data\n",
        "test_dataset = create_tf_dataset(x_test, y_test)"
      ]
    },
    {
      "cell_type": "code",
      "execution_count": 10,
      "metadata": {
        "id": "HhPSN2l5E11D"
      },
      "outputs": [],
      "source": [
        "from jet_ml_models.pointnet import prepare_datasets\n",
        "from jet_ml_models.pointnet import augment\n",
        "\n",
        "# Prepare datasets for training\n",
        "train_dataset, validation_dataset,test_dataset  = prepare_datasets(dataset, test_dataset, len(x_train), len(x_test), augment)"
      ]
    },
    {
      "cell_type": "code",
      "execution_count": 11,
      "metadata": {
        "colab": {
          "base_uri": "https://localhost:8080/"
        },
        "id": "Yf_g2CF4E11E",
        "outputId": "ae6afb80-ea8c-4dfc-aced-251b3572ae00"
      },
      "outputs": [
        {
          "output_type": "stream",
          "name": "stdout",
          "text": [
            "simulation_directory_path: /content/drive/MyDrive/Projects/110_JetscapeMl/hm.jetscapeml.data/simulation_results/\n",
            "simulation_path: /content/drive/MyDrive/Projects/110_JetscapeMl/hm.jetscapeml.data/simulation_results/jetml_pointnet_classification_alpha_s_0.2_0.3_0.4\n",
            "/content/drive/MyDrive/Projects/110_JetscapeMl/hm.jetscapeml.data/simulation_results/jetml_pointnet_classification_alpha_s_0.2_0.3_0.4_size_1000_epochs_32_fold_1\n",
            "best_model_file_path: /content/drive/MyDrive/Projects/110_JetscapeMl/hm.jetscapeml.data/simulation_results/jetml_pointnet_classification_alpha_s_0.2_0.3_0.4_size_1000_epochs_32_fold_1_best_model.keras\n"
          ]
        }
      ],
      "source": [
        "monitor = 'val_accuracy'  # 'val_accuracy' or 'val_loss'\n",
        "n_epochs = 32\n",
        "\n",
        "print(\"simulation_directory_path:\",simulation_directory_path)\n",
        "simulation_path=f'{simulation_directory_path}jetml_pointnet_classification_alpha_s_{label_str_dict[\"alpha_s_items_str\"]}'\n",
        "print(\"simulation_path:\",simulation_path)\n",
        "current_simulation_name=f'_size_{1000}'\n",
        "current_simulation_path=simulation_path+current_simulation_name\n",
        "\n",
        "current_simulation_name=f'_epochs_{n_epochs}'\n",
        "current_simulation_path=current_simulation_path+current_simulation_name\n",
        "\n",
        "fold=1\n",
        "current_simulation_name=f'_fold_{fold}'\n",
        "current_simulation_path=current_simulation_path+current_simulation_name\n",
        "print(current_simulation_path)\n",
        "\n",
        "# Use ModelCheckpoint callback to save the best model\n",
        "best_model_file_path = f'{current_simulation_path}_best_model.keras'\n",
        "print(\"best_model_file_path:\",best_model_file_path)"
      ]
    },
    {
      "cell_type": "code",
      "execution_count": 12,
      "metadata": {
        "id": "dUUGesHrmfY0"
      },
      "outputs": [],
      "source": [
        "from jet_ml_models.pointnet import build_pointnet_classifier_model\n",
        "\n",
        "NUM_POINTS = 1024\n",
        "#because alpha_s can get 3 values\n",
        "NUM_CLASSES = 3\n",
        "activation=\"softmax\"\n",
        "# activation=\"sigmoid\"\n",
        "\n",
        "pointnet=build_pointnet_classifier_model(NUM_POINTS=NUM_POINTS,NUM_CLASSES=NUM_CLASSES, activation=activation)\n"
      ]
    },
    {
      "cell_type": "code",
      "execution_count": 13,
      "metadata": {
        "id": "Mu-55lL4mfY1"
      },
      "outputs": [],
      "source": [
        "from jet_ml_models.pointnet import compile_pointnet_classifier_model_with_hyperparam\n",
        "from jet_ml_models.pointnet import print_model_summary\n",
        "learning_rate=0.001\n",
        "loss='sparse_categorical_crossentropy'\n",
        "# loss='categorical_crossentropy',\n",
        "\n",
        "metrics='sparse_categorical_accuracy'\n",
        "# metrics=['accuracy'],\n",
        "\n",
        "pointnet=compile_pointnet_classifier_model_with_hyperparam(pointnet,learning_rate=learning_rate, loss=loss,metrics=metrics, )\n",
        "# print_model_summary(pointnet)"
      ]
    },
    {
      "cell_type": "code",
      "execution_count": 14,
      "metadata": {
        "id": "mySpWotJE11E"
      },
      "outputs": [],
      "source": [
        "# pointnet.fit(train_dataset, epochs=20, validation_data=validation_dataset)"
      ]
    },
    {
      "cell_type": "code",
      "execution_count": 15,
      "metadata": {
        "colab": {
          "base_uri": "https://localhost:8080/"
        },
        "id": "ItMIa0ZxE11E",
        "outputId": "2d02f002-1d05-428f-f37d-b6e7dd097fbf"
      },
      "outputs": [
        {
          "output_type": "stream",
          "name": "stdout",
          "text": [
            "Epoch 1/32\n",
            "200/200 [==============================] - ETA: 0s - loss: 2.4231 - sparse_categorical_accuracy: 0.3456\n",
            "Epoch 1: val_sparse_categorical_accuracy improved from -inf to 0.35188, saving model to /content/drive/MyDrive/Projects/110_JetscapeMl/hm.jetscapeml.data/simulation_results/jetml_pointnet_classification_alpha_s_0.2_0.3_0.4_size_1000_epochs_32_fold_1_best_model.keras\n",
            "200/200 [==============================] - 43s 118ms/step - loss: 2.4231 - sparse_categorical_accuracy: 0.3456 - val_loss: 2.3452 - val_sparse_categorical_accuracy: 0.3519\n",
            "Epoch 2/32\n",
            "200/200 [==============================] - ETA: 0s - loss: 2.2523 - sparse_categorical_accuracy: 0.3498\n",
            "Epoch 2: val_sparse_categorical_accuracy improved from 0.35188 to 0.38188, saving model to /content/drive/MyDrive/Projects/110_JetscapeMl/hm.jetscapeml.data/simulation_results/jetml_pointnet_classification_alpha_s_0.2_0.3_0.4_size_1000_epochs_32_fold_1_best_model.keras\n",
            "200/200 [==============================] - 18s 92ms/step - loss: 2.2523 - sparse_categorical_accuracy: 0.3498 - val_loss: 2.1651 - val_sparse_categorical_accuracy: 0.3819\n",
            "Epoch 3/32\n",
            "200/200 [==============================] - ETA: 0s - loss: 2.2239 - sparse_categorical_accuracy: 0.3608\n",
            "Epoch 3: val_sparse_categorical_accuracy improved from 0.38188 to 0.39125, saving model to /content/drive/MyDrive/Projects/110_JetscapeMl/hm.jetscapeml.data/simulation_results/jetml_pointnet_classification_alpha_s_0.2_0.3_0.4_size_1000_epochs_32_fold_1_best_model.keras\n",
            "200/200 [==============================] - 18s 92ms/step - loss: 2.2239 - sparse_categorical_accuracy: 0.3608 - val_loss: 2.1624 - val_sparse_categorical_accuracy: 0.3913\n",
            "Epoch 4/32\n",
            "200/200 [==============================] - ETA: 0s - loss: 2.2024 - sparse_categorical_accuracy: 0.3703\n",
            "Epoch 4: val_sparse_categorical_accuracy did not improve from 0.39125\n",
            "200/200 [==============================] - 18s 89ms/step - loss: 2.2024 - sparse_categorical_accuracy: 0.3703 - val_loss: 2.1596 - val_sparse_categorical_accuracy: 0.3719\n",
            "Epoch 5/32\n",
            "200/200 [==============================] - ETA: 0s - loss: 2.1804 - sparse_categorical_accuracy: 0.3795\n",
            "Epoch 5: val_sparse_categorical_accuracy did not improve from 0.39125\n",
            "200/200 [==============================] - 18s 89ms/step - loss: 2.1804 - sparse_categorical_accuracy: 0.3795 - val_loss: 2.1946 - val_sparse_categorical_accuracy: 0.3700\n",
            "Epoch 6/32\n",
            "200/200 [==============================] - ETA: 0s - loss: 2.1793 - sparse_categorical_accuracy: 0.3775\n",
            "Epoch 6: val_sparse_categorical_accuracy improved from 0.39125 to 0.39875, saving model to /content/drive/MyDrive/Projects/110_JetscapeMl/hm.jetscapeml.data/simulation_results/jetml_pointnet_classification_alpha_s_0.2_0.3_0.4_size_1000_epochs_32_fold_1_best_model.keras\n",
            "200/200 [==============================] - 18s 91ms/step - loss: 2.1793 - sparse_categorical_accuracy: 0.3775 - val_loss: 2.2424 - val_sparse_categorical_accuracy: 0.3988\n",
            "Epoch 7/32\n",
            "200/200 [==============================] - ETA: 0s - loss: 2.1576 - sparse_categorical_accuracy: 0.4031\n",
            "Epoch 7: val_sparse_categorical_accuracy improved from 0.39875 to 0.40750, saving model to /content/drive/MyDrive/Projects/110_JetscapeMl/hm.jetscapeml.data/simulation_results/jetml_pointnet_classification_alpha_s_0.2_0.3_0.4_size_1000_epochs_32_fold_1_best_model.keras\n",
            "200/200 [==============================] - 18s 92ms/step - loss: 2.1576 - sparse_categorical_accuracy: 0.4031 - val_loss: 2.2103 - val_sparse_categorical_accuracy: 0.4075\n",
            "Epoch 8/32\n",
            "200/200 [==============================] - ETA: 0s - loss: 2.1354 - sparse_categorical_accuracy: 0.4323\n",
            "Epoch 8: val_sparse_categorical_accuracy improved from 0.40750 to 0.43062, saving model to /content/drive/MyDrive/Projects/110_JetscapeMl/hm.jetscapeml.data/simulation_results/jetml_pointnet_classification_alpha_s_0.2_0.3_0.4_size_1000_epochs_32_fold_1_best_model.keras\n",
            "200/200 [==============================] - 18s 91ms/step - loss: 2.1354 - sparse_categorical_accuracy: 0.4323 - val_loss: 2.1550 - val_sparse_categorical_accuracy: 0.4306\n",
            "Epoch 9/32\n",
            "200/200 [==============================] - ETA: 0s - loss: 2.1270 - sparse_categorical_accuracy: 0.4375\n",
            "Epoch 9: val_sparse_categorical_accuracy improved from 0.43062 to 0.45875, saving model to /content/drive/MyDrive/Projects/110_JetscapeMl/hm.jetscapeml.data/simulation_results/jetml_pointnet_classification_alpha_s_0.2_0.3_0.4_size_1000_epochs_32_fold_1_best_model.keras\n",
            "200/200 [==============================] - 18s 91ms/step - loss: 2.1270 - sparse_categorical_accuracy: 0.4375 - val_loss: 2.0949 - val_sparse_categorical_accuracy: 0.4588\n",
            "Epoch 10/32\n",
            "200/200 [==============================] - ETA: 0s - loss: 2.1138 - sparse_categorical_accuracy: 0.4444\n",
            "Epoch 10: val_sparse_categorical_accuracy did not improve from 0.45875\n",
            "200/200 [==============================] - 18s 90ms/step - loss: 2.1138 - sparse_categorical_accuracy: 0.4444 - val_loss: 2.0844 - val_sparse_categorical_accuracy: 0.4581\n",
            "Epoch 11/32\n",
            "200/200 [==============================] - ETA: 0s - loss: 2.1138 - sparse_categorical_accuracy: 0.4475\n",
            "Epoch 11: val_sparse_categorical_accuracy did not improve from 0.45875\n",
            "200/200 [==============================] - 18s 90ms/step - loss: 2.1138 - sparse_categorical_accuracy: 0.4475 - val_loss: 2.1857 - val_sparse_categorical_accuracy: 0.4494\n",
            "Epoch 12/32\n",
            "200/200 [==============================] - ETA: 0s - loss: 2.0992 - sparse_categorical_accuracy: 0.4609\n",
            "Epoch 12: val_sparse_categorical_accuracy improved from 0.45875 to 0.47125, saving model to /content/drive/MyDrive/Projects/110_JetscapeMl/hm.jetscapeml.data/simulation_results/jetml_pointnet_classification_alpha_s_0.2_0.3_0.4_size_1000_epochs_32_fold_1_best_model.keras\n",
            "200/200 [==============================] - 18s 91ms/step - loss: 2.0992 - sparse_categorical_accuracy: 0.4609 - val_loss: 2.0844 - val_sparse_categorical_accuracy: 0.4712\n",
            "Epoch 13/32\n",
            "200/200 [==============================] - ETA: 0s - loss: 2.0923 - sparse_categorical_accuracy: 0.4673\n",
            "Epoch 13: val_sparse_categorical_accuracy did not improve from 0.47125\n",
            "200/200 [==============================] - 19s 94ms/step - loss: 2.0923 - sparse_categorical_accuracy: 0.4673 - val_loss: 2.0831 - val_sparse_categorical_accuracy: 0.4681\n",
            "Epoch 14/32\n",
            "200/200 [==============================] - ETA: 0s - loss: 2.0830 - sparse_categorical_accuracy: 0.4766\n",
            "Epoch 14: val_sparse_categorical_accuracy improved from 0.47125 to 0.48000, saving model to /content/drive/MyDrive/Projects/110_JetscapeMl/hm.jetscapeml.data/simulation_results/jetml_pointnet_classification_alpha_s_0.2_0.3_0.4_size_1000_epochs_32_fold_1_best_model.keras\n",
            "200/200 [==============================] - 18s 90ms/step - loss: 2.0830 - sparse_categorical_accuracy: 0.4766 - val_loss: 2.0717 - val_sparse_categorical_accuracy: 0.4800\n",
            "Epoch 15/32\n",
            "200/200 [==============================] - ETA: 0s - loss: 2.0773 - sparse_categorical_accuracy: 0.4669\n",
            "Epoch 15: val_sparse_categorical_accuracy did not improve from 0.48000\n",
            "200/200 [==============================] - 18s 89ms/step - loss: 2.0773 - sparse_categorical_accuracy: 0.4669 - val_loss: 2.0711 - val_sparse_categorical_accuracy: 0.4781\n",
            "Epoch 16/32\n",
            "200/200 [==============================] - ETA: 0s - loss: 2.0670 - sparse_categorical_accuracy: 0.4836\n",
            "Epoch 16: val_sparse_categorical_accuracy improved from 0.48000 to 0.48063, saving model to /content/drive/MyDrive/Projects/110_JetscapeMl/hm.jetscapeml.data/simulation_results/jetml_pointnet_classification_alpha_s_0.2_0.3_0.4_size_1000_epochs_32_fold_1_best_model.keras\n",
            "200/200 [==============================] - 19s 95ms/step - loss: 2.0670 - sparse_categorical_accuracy: 0.4836 - val_loss: 2.0582 - val_sparse_categorical_accuracy: 0.4806\n",
            "Epoch 17/32\n",
            "200/200 [==============================] - ETA: 0s - loss: 2.0776 - sparse_categorical_accuracy: 0.4689\n",
            "Epoch 17: val_sparse_categorical_accuracy did not improve from 0.48063\n",
            "200/200 [==============================] - 18s 91ms/step - loss: 2.0776 - sparse_categorical_accuracy: 0.4689 - val_loss: 2.0930 - val_sparse_categorical_accuracy: 0.4575\n",
            "Epoch 18/32\n",
            "200/200 [==============================] - ETA: 0s - loss: 2.0724 - sparse_categorical_accuracy: 0.4720\n",
            "Epoch 18: val_sparse_categorical_accuracy did not improve from 0.48063\n",
            "200/200 [==============================] - 18s 89ms/step - loss: 2.0724 - sparse_categorical_accuracy: 0.4720 - val_loss: 2.0648 - val_sparse_categorical_accuracy: 0.4681\n",
            "Epoch 19/32\n",
            "200/200 [==============================] - ETA: 0s - loss: 2.0634 - sparse_categorical_accuracy: 0.4820\n",
            "Epoch 19: val_sparse_categorical_accuracy improved from 0.48063 to 0.49937, saving model to /content/drive/MyDrive/Projects/110_JetscapeMl/hm.jetscapeml.data/simulation_results/jetml_pointnet_classification_alpha_s_0.2_0.3_0.4_size_1000_epochs_32_fold_1_best_model.keras\n",
            "200/200 [==============================] - 18s 92ms/step - loss: 2.0634 - sparse_categorical_accuracy: 0.4820 - val_loss: 2.0578 - val_sparse_categorical_accuracy: 0.4994\n",
            "Epoch 20/32\n",
            "200/200 [==============================] - ETA: 0s - loss: 2.0707 - sparse_categorical_accuracy: 0.4809\n",
            "Epoch 20: val_sparse_categorical_accuracy improved from 0.49937 to 0.51250, saving model to /content/drive/MyDrive/Projects/110_JetscapeMl/hm.jetscapeml.data/simulation_results/jetml_pointnet_classification_alpha_s_0.2_0.3_0.4_size_1000_epochs_32_fold_1_best_model.keras\n",
            "200/200 [==============================] - 18s 90ms/step - loss: 2.0707 - sparse_categorical_accuracy: 0.4809 - val_loss: 2.0508 - val_sparse_categorical_accuracy: 0.5125\n",
            "Epoch 21/32\n",
            "200/200 [==============================] - ETA: 0s - loss: 2.0660 - sparse_categorical_accuracy: 0.4725\n",
            "Epoch 21: val_sparse_categorical_accuracy did not improve from 0.51250\n",
            "200/200 [==============================] - 18s 87ms/step - loss: 2.0660 - sparse_categorical_accuracy: 0.4725 - val_loss: 2.0494 - val_sparse_categorical_accuracy: 0.4825\n",
            "Epoch 22/32\n",
            "200/200 [==============================] - ETA: 0s - loss: 2.0606 - sparse_categorical_accuracy: 0.4802\n",
            "Epoch 22: val_sparse_categorical_accuracy did not improve from 0.51250\n",
            "200/200 [==============================] - 18s 92ms/step - loss: 2.0606 - sparse_categorical_accuracy: 0.4802 - val_loss: 2.0417 - val_sparse_categorical_accuracy: 0.4906\n",
            "Epoch 23/32\n",
            "200/200 [==============================] - ETA: 0s - loss: 2.0579 - sparse_categorical_accuracy: 0.4797\n",
            "Epoch 23: val_sparse_categorical_accuracy did not improve from 0.51250\n",
            "200/200 [==============================] - 18s 88ms/step - loss: 2.0579 - sparse_categorical_accuracy: 0.4797 - val_loss: 2.0563 - val_sparse_categorical_accuracy: 0.4750\n",
            "Epoch 23: early stopping\n"
          ]
        }
      ],
      "source": [
        "# %%timeit -n1 -r1\n",
        "from jet_ml_models.pointnet import train_model_with_callbacks\n",
        "monitor='val_sparse_categorical_accuracy'\n",
        "with tf.device('/GPU:0'):\n",
        "  model, history, train_time=train_model_with_callbacks(pointnet, train_dataset=train_dataset, validation_dataset=validation_dataset,monitor=monitor, best_model_file_path=best_model_file_path, n_epochs=n_epochs)"
      ]
    },
    {
      "cell_type": "code",
      "execution_count": 16,
      "metadata": {
        "colab": {
          "base_uri": "https://localhost:8080/"
        },
        "id": "rEDiOd94E11E",
        "outputId": "0106290e-2149-4235-f00a-768a3e168b19"
      },
      "outputs": [
        {
          "output_type": "stream",
          "name": "stdout",
          "text": [
            "7.5456118067105615\n",
            "<keras.src.engine.functional.Functional object at 0x7a9120395ea0>\n",
            "{'loss': [2.423138380050659, 2.2522759437561035, 2.223928451538086, 2.202376365661621, 2.1804039478302, 2.1793015003204346, 2.1576263904571533, 2.135362148284912, 2.1269991397857666, 2.1138031482696533, 2.1137642860412598, 2.0992493629455566, 2.092308282852173, 2.083024263381958, 2.0772509574890137, 2.0669612884521484, 2.0775699615478516, 2.0724425315856934, 2.0634260177612305, 2.070737600326538, 2.0659825801849365, 2.0606064796447754, 2.0578556060791016], 'sparse_categorical_accuracy': [0.34562501311302185, 0.34984374046325684, 0.3607812523841858, 0.37031251192092896, 0.37953126430511475, 0.3774999976158142, 0.40312498807907104, 0.4323437511920929, 0.4375, 0.44437500834465027, 0.44749999046325684, 0.4609375, 0.4673437476158142, 0.4765625, 0.46687498688697815, 0.48359376192092896, 0.4689062535762787, 0.47203123569488525, 0.4820312559604645, 0.48093751072883606, 0.4724999964237213, 0.4801562428474426, 0.47968751192092896], 'val_loss': [2.3452417850494385, 2.1651482582092285, 2.162400245666504, 2.1595776081085205, 2.1946234703063965, 2.242389440536499, 2.210298538208008, 2.1549580097198486, 2.094902276992798, 2.0844295024871826, 2.1856839656829834, 2.084376811981201, 2.0830609798431396, 2.0716707706451416, 2.0710549354553223, 2.0581934452056885, 2.093047857284546, 2.064814805984497, 2.0578134059906006, 2.050818920135498, 2.049395799636841, 2.0417191982269287, 2.0563344955444336], 'val_sparse_categorical_accuracy': [0.3518750071525574, 0.38187500834465027, 0.39125001430511475, 0.37187498807907104, 0.3700000047683716, 0.3987500071525574, 0.4074999988079071, 0.43062499165534973, 0.45875000953674316, 0.4581249952316284, 0.4493750035762787, 0.4712499976158142, 0.46812498569488525, 0.47999998927116394, 0.4781250059604645, 0.4806250035762787, 0.45750001072883606, 0.46812498569488525, 0.49937498569488525, 0.512499988079071, 0.48249998688697815, 0.4906249940395355, 0.4749999940395355]}\n"
          ]
        }
      ],
      "source": [
        "print(train_time)\n",
        "print(model)\n",
        "print(history.history)"
      ]
    },
    {
      "cell_type": "code",
      "execution_count": 17,
      "metadata": {
        "colab": {
          "base_uri": "https://localhost:8080/"
        },
        "id": "yY5W0FPyE11E",
        "outputId": "908e4bb0-b104-4092-9e2b-01c749f9111a"
      },
      "outputs": [
        {
          "output_type": "stream",
          "name": "stdout",
          "text": [
            "/content/drive/MyDrive/Projects/110_JetscapeMl/hm.jetscapeml.data/simulation_results/jetml_pointnet_classification_alpha_s_0.2_0.3_0.4_size_1000_epochs_32_fold_1_training_history.json\n",
            "/content/drive/MyDrive/Projects/110_JetscapeMl/hm.jetscapeml.data/simulation_results/jetml_pointnet_classification_alpha_s_0.2_0.3_0.4_size_1000_epochs_32_fold_1_training_history.csv\n",
            "/content/drive/MyDrive/Projects/110_JetscapeMl/hm.jetscapeml.data/simulation_results/jetml_pointnet_classification_alpha_s_0.2_0.3_0.4_size_1000_epochs_32_fold_1_training_history.npy\n"
          ]
        }
      ],
      "source": [
        "from jet_ml_models.pointnet import save_training_history\n",
        "training_history_file_path_json,training_history_file_path_csv,training_history_file_path_csv = \\\n",
        "  save_training_history(history,current_simulation_path)"
      ]
    },
    {
      "cell_type": "code",
      "execution_count": 18,
      "metadata": {
        "colab": {
          "base_uri": "https://localhost:8080/",
          "height": 624
        },
        "id": "0f56lUDLE11F",
        "outputId": "3e76b9ba-9a0d-4bc6-f9a7-1316d6836564"
      },
      "outputs": [
        {
          "output_type": "display_data",
          "data": {
            "text/plain": [
              "<Figure size 1200x600 with 2 Axes>"
            ],
            "image/png": "[encoded data removed]"
          },
          "metadata": {}
        },
        {
          "output_type": "stream",
          "name": "stdout",
          "text": [
            "/content/drive/MyDrive/Projects/110_JetscapeMl/hm.jetscapeml.data/simulation_results/jetml_pointnet_classification_alpha_s_0.2_0.3_0.4_size_1000_epochs_32_fold_1_accuracy_loss.png\n"
          ]
        }
      ],
      "source": [
        "from jet_ml_models.pointnet import plot_training_history\n",
        "plot_training_history_path=plot_training_history(history,current_simulation_path)\n",
        "print(plot_training_history_path)"
      ]
    },
    {
      "cell_type": "code",
      "execution_count": 19,
      "metadata": {
        "colab": {
          "base_uri": "https://localhost:8080/"
        },
        "id": "knyOyK5EE11F",
        "outputId": "10802eba-aca8-4cce-c0d3-73c824a4b764"
      },
      "outputs": [
        {
          "output_type": "stream",
          "name": "stdout",
          "text": [
            "63/63 [==============================] - 2s 18ms/step\n",
            "Accuracy: 0.3215\n",
            "Confusion Matrix: [[234 239 210]\n",
            " [243 244 182]\n",
            " [227 256 165]]\n"
          ]
        }
      ],
      "source": [
        "from jet_ml_models.pointnet import evaluate_model\n",
        "accuracy, confusion_matrix = evaluate_model(model,test_dataset=test_dataset)"
      ]
    },
    {
      "cell_type": "code",
      "execution_count": 20,
      "metadata": {
        "colab": {
          "base_uri": "https://localhost:8080/",
          "height": 272
        },
        "id": "69PoytJAE11F",
        "outputId": "b6d09bd0-9ab7-48c3-aabf-2b5511e10d9c"
      },
      "outputs": [
        {
          "output_type": "stream",
          "name": "stdout",
          "text": [
            "   Dataset Size Classifier  Fold Number  Accuracy  \\\n",
            "0         10000   pointnet            1    0.3215   \n",
            "\n",
            "                                    Confusion Matrix  Train Time  \\\n",
            "0  [[234, 239, 210], [243, 244, 182], [227, 256, ...    7.545612   \n",
            "\n",
            "                             Loss/Accuracy Plot Path  \\\n",
            "0  /content/drive/MyDrive/Projects/110_JetscapeMl...   \n",
            "\n",
            "                                     Best Model Path  \n",
            "0  /content/drive/MyDrive/Projects/110_JetscapeMl...  \n"
          ]
        },
        {
          "output_type": "execute_result",
          "data": {
            "text/plain": [
              "   Dataset Size Classifier  Fold Number  Accuracy  \\\n",
              "0         10000   pointnet            1    0.3215   \n",
              "\n",
              "                                    Confusion Matrix  Train Time  \\\n",
              "0  [[234, 239, 210], [243, 244, 182], [227, 256, ...    7.545612   \n",
              "\n",
              "                             Loss/Accuracy Plot Path  \\\n",
              "0  /content/drive/MyDrive/Projects/110_JetscapeMl...   \n",
              "\n",
              "                                     Best Model Path  \n",
              "0  /content/drive/MyDrive/Projects/110_JetscapeMl...  "
            ],
            "text/html": [
              "\n",
              "  <div id=\"df-2df3621f-9b67-4a2d-a3e2-aaf4dfb5bf90\" class=\"colab-df-container\">\n",
              "    <div>\n",
              "<style scoped>\n",
              "    .dataframe tbody tr th:only-of-type {\n",
              "        vertical-align: middle;\n",
              "    }\n",
              "\n",
              "    .dataframe tbody tr th {\n",
              "        vertical-align: top;\n",
              "    }\n",
              "\n",
              "    .dataframe thead th {\n",
              "        text-align: right;\n",
              "    }\n",
              "</style>\n",
              "<table border=\"1\" class=\"dataframe\">\n",
              "  <thead>\n",
              "    <tr style=\"text-align: right;\">\n",
              "      <th></th>\n",
              "      <th>Dataset Size</th>\n",
              "      <th>Classifier</th>\n",
              "      <th>Fold Number</th>\n",
              "      <th>Accuracy</th>\n",
              "      <th>Confusion Matrix</th>\n",
              "      <th>Train Time</th>\n",
              "      <th>Loss/Accuracy Plot Path</th>\n",
              "      <th>Best Model Path</th>\n",
              "    </tr>\n",
              "  </thead>\n",
              "  <tbody>\n",
              "    <tr>\n",
              "      <th>0</th>\n",
              "      <td>10000</td>\n",
              "      <td>pointnet</td>\n",
              "      <td>1</td>\n",
              "      <td>0.3215</td>\n",
              "      <td>[[234, 239, 210], [243, 244, 182], [227, 256, ...</td>\n",
              "      <td>7.545612</td>\n",
              "      <td>/content/drive/MyDrive/Projects/110_JetscapeMl...</td>\n",
              "      <td>/content/drive/MyDrive/Projects/110_JetscapeMl...</td>\n",
              "    </tr>\n",
              "  </tbody>\n",
              "</table>\n",
              "</div>\n",
              "    <div class=\"colab-df-buttons\">\n",
              "\n",
              "  <div class=\"colab-df-container\">\n",
              "    <button class=\"colab-df-convert\" onclick=\"convertToInteractive('df-2df3621f-9b67-4a2d-a3e2-aaf4dfb5bf90')\"\n",
              "            title=\"Convert this dataframe to an interactive table.\"\n",
              "            style=\"display:none;\">\n",
              "\n",
              "  <svg xmlns=\"http://www.w3.org/2000/svg\" height=\"24px\" viewBox=\"0 -960 960 960\">\n",
              "    <path d=\"M120-120v-720h720v720H120Zm60-500h600v-160H180v160Zm220 220h160v-160H400v160Zm0 220h160v-160H400v160ZM180-400h160v-160H180v160Zm440 0h160v-160H620v160ZM180-180h160v-160H180v160Zm440 0h160v-160H620v160Z\"/>\n",
              "  </svg>\n",
              "    </button>\n",
              "\n",
              "  <style>\n",
              "    .colab-df-container {\n",
              "      display:flex;\n",
              "      gap: 12px;\n",
              "    }\n",
              "\n",
              "    .colab-df-convert {\n",
              "      background-color: #E8F0FE;\n",
              "      border: none;\n",
              "      border-radius: 50%;\n",
              "      cursor: pointer;\n",
              "      display: none;\n",
              "      fill: #1967D2;\n",
              "      height: 32px;\n",
              "      padding: 0 0 0 0;\n",
              "      width: 32px;\n",
              "    }\n",
              "\n",
              "    .colab-df-convert:hover {\n",
              "      background-color: #E2EBFA;\n",
              "      box-shadow: 0px 1px 2px rgba(60, 64, 67, 0.3), 0px 1px 3px 1px rgba(60, 64, 67, 0.15);\n",
              "      fill: #174EA6;\n",
              "    }\n",
              "\n",
              "    .colab-df-buttons div {\n",
              "      margin-bottom: 4px;\n",
              "    }\n",
              "\n",
              "    [theme=dark] .colab-df-convert {\n",
              "      background-color: #3B4455;\n",
              "      fill: #D2E3FC;\n",
              "    }\n",
              "\n",
              "    [theme=dark] .colab-df-convert:hover {\n",
              "      background-color: #434B5C;\n",
              "      box-shadow: 0px 1px 3px 1px rgba(0, 0, 0, 0.15);\n",
              "      filter: drop-shadow(0px 1px 2px rgba(0, 0, 0, 0.3));\n",
              "      fill: #FFFFFF;\n",
              "    }\n",
              "  </style>\n",
              "\n",
              "    <script>\n",
              "      const buttonEl =\n",
              "        document.querySelector('#df-2df3621f-9b67-4a2d-a3e2-aaf4dfb5bf90 button.colab-df-convert');\n",
              "      buttonEl.style.display =\n",
              "        google.colab.kernel.accessAllowed ? 'block' : 'none';\n",
              "\n",
              "      async function convertToInteractive(key) {\n",
              "        const element = document.querySelector('#df-2df3621f-9b67-4a2d-a3e2-aaf4dfb5bf90');\n",
              "        const dataTable =\n",
              "          await google.colab.kernel.invokeFunction('convertToInteractive',\n",
              "                                                    [key], {});\n",
              "        if (!dataTable) return;\n",
              "\n",
              "        const docLinkHtml = 'Like what you see? Visit the ' +\n",
              "          '<a target=\"_blank\" href=https://colab.research.google.com/notebooks/data_table.ipynb>data table notebook</a>'\n",
              "          + ' to learn more about interactive tables.';\n",
              "        element.innerHTML = '';\n",
              "        dataTable['output_type'] = 'display_data';\n",
              "        await google.colab.output.renderOutput(dataTable, element);\n",
              "        const docLink = document.createElement('div');\n",
              "        docLink.innerHTML = docLinkHtml;\n",
              "        element.appendChild(docLink);\n",
              "      }\n",
              "    </script>\n",
              "  </div>\n",
              "\n",
              "\n",
              "    </div>\n",
              "  </div>\n"
            ],
            "application/vnd.google.colaboratory.intrinsic+json": {
              "type": "dataframe",
              "summary": "{\n  \"name\": \"save_kfold_results(results_kfold, current_simulation_path)\",\n  \"rows\": 1,\n  \"fields\": [\n    {\n      \"column\": \"Dataset Size\",\n      \"properties\": {\n        \"dtype\": \"number\",\n        \"std\": null,\n        \"min\": 10000,\n        \"max\": 10000,\n        \"num_unique_values\": 1,\n        \"samples\": [\n          10000\n        ],\n        \"semantic_type\": \"\",\n        \"description\": \"\"\n      }\n    },\n    {\n      \"column\": \"Classifier\",\n      \"properties\": {\n        \"dtype\": \"string\",\n        \"num_unique_values\": 1,\n        \"samples\": [\n          \"pointnet\"\n        ],\n        \"semantic_type\": \"\",\n        \"description\": \"\"\n      }\n    },\n    {\n      \"column\": \"Fold Number\",\n      \"properties\": {\n        \"dtype\": \"number\",\n        \"std\": null,\n        \"min\": 1,\n        \"max\": 1,\n        \"num_unique_values\": 1,\n        \"samples\": [\n          1\n        ],\n        \"semantic_type\": \"\",\n        \"description\": \"\"\n      }\n    },\n    {\n      \"column\": \"Accuracy\",\n      \"properties\": {\n        \"dtype\": \"number\",\n        \"std\": null,\n        \"min\": 0.3215,\n        \"max\": 0.3215,\n        \"num_unique_values\": 1,\n        \"samples\": [\n          0.3215\n        ],\n        \"semantic_type\": \"\",\n        \"description\": \"\"\n      }\n    },\n    {\n      \"column\": \"Confusion Matrix\",\n      \"properties\": {\n        \"dtype\": \"object\",\n        \"semantic_type\": \"\",\n        \"description\": \"\"\n      }\n    },\n    {\n      \"column\": \"Train Time\",\n      \"properties\": {\n        \"dtype\": \"number\",\n        \"std\": null,\n        \"min\": 7.5456118067105615,\n        \"max\": 7.5456118067105615,\n        \"num_unique_values\": 1,\n        \"samples\": [\n          7.5456118067105615\n        ],\n        \"semantic_type\": \"\",\n        \"description\": \"\"\n      }\n    },\n    {\n      \"column\": \"Loss/Accuracy Plot Path\",\n      \"properties\": {\n        \"dtype\": \"string\",\n        \"num_unique_values\": 1,\n        \"samples\": [\n          \"/content/drive/MyDrive/Projects/110_JetscapeMl/hm.jetscapeml.data/simulation_results/jetml_pointnet_classification_alpha_s_0.2_0.3_0.4_size_1000_epochs_32_fold_1_accuracy_loss.png\"\n        ],\n        \"semantic_type\": \"\",\n        \"description\": \"\"\n      }\n    },\n    {\n      \"column\": \"Best Model Path\",\n      \"properties\": {\n        \"dtype\": \"string\",\n        \"num_unique_values\": 1,\n        \"samples\": [\n          \"/content/drive/MyDrive/Projects/110_JetscapeMl/hm.jetscapeml.data/simulation_results/jetml_pointnet_classification_alpha_s_0.2_0.3_0.4_size_1000_epochs_32_fold_1_best_model.keras\"\n        ],\n        \"semantic_type\": \"\",\n        \"description\": \"\"\n      }\n    }\n  ]\n}"
            }
          },
          "metadata": {},
          "execution_count": 20
        }
      ],
      "source": [
        "from jet_ml_models.pointnet import save_kfold_results\n",
        "results_kfold = []\n",
        "results_kfold.append({\n",
        "                  'Dataset Size': dataset_size,\n",
        "                  'Classifier': model.name,\n",
        "                  'Fold Number': fold,\n",
        "                  'Accuracy': accuracy,\n",
        "                  'Confusion Matrix': confusion_matrix,\n",
        "                  'Train Time': train_time,\n",
        "                  'Loss/Accuracy Plot Path': plot_training_history_path,\n",
        "                  'Best Model Path': best_model_file_path\n",
        "              })\n",
        "save_kfold_results(results_kfold, current_simulation_path)"
      ]
    }
  ],
  "metadata": {
    "accelerator": "GPU",
    "colab": {
      "gpuType": "T4",
      "provenance": [],
      "include_colab_link": true
    },
    "kernelspec": {
      "display_name": "Python 3",
      "name": "python3"
    },
    "language_info": {
      "codemirror_mode": {
        "name": "ipython",
        "version": 3
      },
      "file_extension": ".py",
      "mimetype": "text/x-python",
      "name": "python",
      "nbconvert_exporter": "python",
      "pygments_lexer": "ipython3",
      "version": "3.11.5"
    }
  },
  "nbformat": 4,
  "nbformat_minor": 0
}