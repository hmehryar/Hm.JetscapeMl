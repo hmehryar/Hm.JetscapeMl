{
  "cells": [
    {
      "cell_type": "markdown",
      "metadata": {
        "colab_type": "text",
        "id": "view-in-github"
      },
      "source": [
        "<a href=\"https://colab.research.google.com/github/hmehryar/Hm.JetscapeMl/blob/309-implementingtraining-pointnet-for-alpha_s-with-various-epochs-and-folds-and-finding-the-best-learning-rate/jet_ml_pointnet_alpha_s/jet_ml_pointnet_alpha_s.ipynb\" target=\"_parent\"><img src=\"https://colab.research.google.com/assets/colab-badge.svg\" alt=\"Open In Colab\"/></a>"
      ]
    },
    {
      "cell_type": "code",
      "execution_count": 1,
      "metadata": {
        "id": "ABQ-iwWYE11A"
      },
      "outputs": [],
      "source": [
        "# !pip install --upgrade tensorflow\n",
        "import tensorflow as tf"
      ]
    },
    {
      "cell_type": "code",
      "execution_count": 2,
      "metadata": {
        "colab": {
          "base_uri": "https://localhost:8080/"
        },
        "id": "7QTmTx2NmfYy",
        "outputId": "3cdee538-921e-4edd-d2fc-fe5e157b38b0"
      },
      "outputs": [],
      "source": [
        "# #uncomment this cell when you are on COLAB\n",
        "# device_name = tf.test.gpu_device_name()\n",
        "# if device_name != '/device:GPU:0':\n",
        "#   raise SystemError('GPU device not found')\n",
        "# print('Found GPU at: {}'.format(device_name))\n",
        "# from google.colab import drive\n",
        "# drive.mount('/content/drive')"
      ]
    },
    {
      "cell_type": "code",
      "execution_count": 3,
      "metadata": {
        "id": "fN_qL4lPE11B"
      },
      "outputs": [],
      "source": [
        "import sys\n",
        "sys.path.insert(1,'/wsu/home/gy/gy40/gy4065/hm.jetscapeml.source')\n",
        "sys.path.insert(1,'/content/drive/My Drive/Projects/110_JetscapeMl/hm.jetscapeml.source')\n",
        "sys.path.insert(1,'/content/drive/MyDrive/Projects/110_JetscapeMl/hm.jetscapeml.source')\n",
        "sys.path.insert(1,'/g/My Drive/Projects/110_JetscapeMl/hm.jetscapeml.source')\n",
        "sys.path.insert(1,'G:\\\\My Drive\\\\Projects\\\\110_JetscapeMl\\\\hm.jetscapeml.source')"
      ]
    },
    {
      "cell_type": "code",
      "execution_count": 4,
      "metadata": {
        "colab": {
          "base_uri": "https://localhost:8080/"
        },
        "id": "CnUN6eQFE11B",
        "outputId": "b32e027c-63e8-43f9-ff48-186fec1d5312"
      },
      "outputs": [
        {
          "name": "stdout",
          "output_type": "stream",
          "text": [
            "Loading/Installing Package => Begin\n",
            "\n",
            "\n",
            "\n",
            "Loading/Installing Package => End\n",
            "\n",
            "\n"
          ]
        }
      ],
      "source": [
        "# loading libraries\n",
        "print('Loading/Installing Package => Begin\\n\\n')\n",
        "import jet_ml_dataset_builder.jet_ml_dataset_builder_utilities as util\n",
        "from jet_ml_dataset_builder.jet_ml_dataset_builder_utilities import set_directory_paths\n",
        "print('\\nLoading/Installing Package => End\\n\\n')"
      ]
    },
    {
      "cell_type": "code",
      "execution_count": 5,
      "metadata": {
        "colab": {
          "base_uri": "https://localhost:8080/"
        },
        "id": "Z3m4jiYTE11C",
        "outputId": "463d0572-d063-441c-d73e-93cc3e2196c2"
      },
      "outputs": [
        {
          "name": "stdout",
          "output_type": "stream",
          "text": [
            "\n",
            "########################################################################\n",
            "Checking the running platforms\n",
            "\n",
            "Python version: 3.11.5\n",
            "OS: Windows\n",
            "OS version: 10\n",
            "running on Colab: False\n",
            "Dataset Directory Path: D:\\Projects\\110_JetscapeMl\\hm.jetscapeml.data\\\n",
            "Simulation Results Path: D:\\Projects\\110_JetscapeMl\\hm.jetscapeml.data\\simulation_results\\\n",
            "########################################################################\n",
            "\n"
          ]
        }
      ],
      "source": [
        "print('\\n########################################################################')\n",
        "print('Checking the running platforms\\n')\n",
        "# Call the function and retrieve the dataset_directory_path and simulation_directory_path\n",
        "# Access the dataset_directory_path and simulation_directory_path\n",
        "dataset_directory_path, simulation_directory_path = set_directory_paths()\n",
        "print('########################################################################\\n')"
      ]
    },
    {
      "cell_type": "code",
      "execution_count": 6,
      "metadata": {
        "colab": {
          "base_uri": "https://localhost:8080/"
        },
        "id": "M0Ia3knFE11C",
        "outputId": "5786af16-130f-4124-e350-70ab70782c24"
      },
      "outputs": [
        {
          "name": "stdout",
          "output_type": "stream",
          "text": [
            "Aggregatring all parameters values\n",
            "label_items:\n",
            " {'y_class_label_items': ['MMAT', 'MLBT'], 'alpha_s_items': [0.2, 0.3, 0.4], 'q0_items': [1.5, 2.0, 2.5]}\n",
            "Building required params for the loading the dataset file\n",
            "labels_str:\n",
            " {'class_labels_str': 'MMAT_MLBT', 'alpha_s_items_str': '0.2_0.3_0.4', 'q0_items_str': '1.5_2.0_2.5'}\n"
          ]
        }
      ],
      "source": [
        "from jet_ml_dataset_builder.jet_ml_dataset_builder_utilities import get_label_items\n",
        "from jet_ml_dataset_builder.jet_ml_dataset_builder_utilities import get_labels_str\n",
        "label_items_dict = get_label_items()\n",
        "label_str_dict=get_labels_str(label_items_dict)"
      ]
    },
    {
      "cell_type": "code",
      "execution_count": 7,
      "metadata": {
        "colab": {
          "base_uri": "https://localhost:8080/"
        },
        "id": "7xJ4GM0mE11C",
        "outputId": "c13230d4-7f03-4356-d961-0681d365890f"
      },
      "outputs": [
        {
          "name": "stdout",
          "output_type": "stream",
          "text": [
            "Loading the whole dataset\n",
            "dataset.x: <class 'numpy.ndarray'> 1024000 (1000, 32, 32)\n",
            "dataset.y: <class 'numpy.ndarray'> 3000 (1000, 3)\n",
            "Extract the working column#1 for classification\n",
            "dataset.x: <class 'numpy.ndarray'> 1024000 (1000, 32, 32)\n",
            "dataset.y: <class 'numpy.ndarray'> 1000 (1000,)\n",
            "dataset.y(working_column) sample ['0.4' '0.4' '0.2' '0.4' '0.4' '0.3' '0.4' '0.3' '0.4' '0.4']\n"
          ]
        }
      ],
      "source": [
        "from jet_ml_dataset_builder.jet_ml_dataset_builder_utilities import get_dataset\n",
        "dataset_size=1000\n",
        "dataset_x, dataset_y=get_dataset(dataset_size,label_str_dict, dataset_directory_path,working_column=1)"
      ]
    },
    {
      "cell_type": "code",
      "execution_count": 8,
      "metadata": {
        "colab": {
          "base_uri": "https://localhost:8080/"
        },
        "id": "hwq-rIjQE11D",
        "outputId": "3859c036-a043-4bd8-cf6f-02ceab3a6898"
      },
      "outputs": [
        {
          "name": "stdout",
          "output_type": "stream",
          "text": [
            "Pre-processing\n",
            "dataset_x_points shape: (1000, 1024, 3)\n",
            "deleting the original dataset after splitting ...\n",
            "train_points: <class 'numpy.ndarray'> 2457600 (800, 1024, 3)\n",
            "train_y: <class 'numpy.ndarray'> 800 (800,)\n",
            "x_test_points: <class 'numpy.ndarray'> 614400 (200, 1024, 3)\n",
            "y_test: <class 'numpy.ndarray'> 200 (200,)\n",
            "y_test[:10]:\n",
            " ['0.4' '0.3' '0.4' '0.3' '0.4' '0.2' '0.2' '0.2' '0.4' '0.4']\n",
            "Preprocess y_train and y_test\n",
            "Encoding to sparse categorical variable\n",
            "y_test_encoded:\n",
            " [2 1 2 1 2 0 0 0 2 2]\n"
          ]
        }
      ],
      "source": [
        "from jet_ml_models.pointnet import preprocess_dataset\n",
        "(x_train,  y_train,x_test,  y_test)=preprocess_dataset(dataset_x, dataset_y,is_one_hot_encoded=False)"
      ]
    },
    {
      "cell_type": "code",
      "execution_count": 9,
      "metadata": {
        "id": "75D5CtfxE11D"
      },
      "outputs": [],
      "source": [
        "from jet_ml_models.pointnet import create_tf_dataset\n",
        "# Example usage:\n",
        "# Create TensorFlow Dataset for training data\n",
        "dataset = create_tf_dataset(x_train, y_train)\n",
        "\n",
        "# Create TensorFlow Dataset for test data\n",
        "test_dataset = create_tf_dataset(x_test, y_test)"
      ]
    },
    {
      "cell_type": "code",
      "execution_count": 10,
      "metadata": {
        "id": "HhPSN2l5E11D"
      },
      "outputs": [],
      "source": [
        "from jet_ml_models.pointnet import prepare_datasets\n",
        "from jet_ml_models.pointnet import augment\n",
        "\n",
        "# Prepare datasets for training\n",
        "train_dataset, validation_dataset,test_dataset  = prepare_datasets(dataset, test_dataset, len(x_train), len(x_test), augment)"
      ]
    },
    {
      "cell_type": "code",
      "execution_count": 11,
      "metadata": {
        "colab": {
          "base_uri": "https://localhost:8080/"
        },
        "id": "Yf_g2CF4E11E",
        "outputId": "ae6afb80-ea8c-4dfc-aced-251b3572ae00"
      },
      "outputs": [
        {
          "name": "stdout",
          "output_type": "stream",
          "text": [
            "simulation_directory_path: D:\\Projects\\110_JetscapeMl\\hm.jetscapeml.data\\simulation_results\\\n",
            "simulation_path: D:\\Projects\\110_JetscapeMl\\hm.jetscapeml.data\\simulation_results\\jetml_pointnet_classification_alpha_s_0.2_0.3_0.4\n",
            "D:\\Projects\\110_JetscapeMl\\hm.jetscapeml.data\\simulation_results\\jetml_pointnet_classification_alpha_s_0.2_0.3_0.4_size_1000_epochs_32_fold_1\n",
            "best_model_file_path: D:\\Projects\\110_JetscapeMl\\hm.jetscapeml.data\\simulation_results\\jetml_pointnet_classification_alpha_s_0.2_0.3_0.4_size_1000_epochs_32_fold_1_best_model.keras\n"
          ]
        }
      ],
      "source": [
        "monitor = 'val_accuracy'  # 'val_accuracy' or 'val_loss'\n",
        "n_epochs = 32\n",
        "\n",
        "print(\"simulation_directory_path:\",simulation_directory_path)\n",
        "simulation_path=f'{simulation_directory_path}jetml_pointnet_classification_alpha_s_{label_str_dict[\"alpha_s_items_str\"]}'\n",
        "print(\"simulation_path:\",simulation_path)\n",
        "current_simulation_name=f'_size_{dataset_size}'\n",
        "current_simulation_path=simulation_path+current_simulation_name\n",
        "\n",
        "current_simulation_name=f'_epochs_{n_epochs}'\n",
        "current_simulation_path=current_simulation_path+current_simulation_name\n",
        "\n",
        "fold=1\n",
        "current_simulation_name=f'_fold_{fold}'\n",
        "current_simulation_path=current_simulation_path+current_simulation_name\n",
        "print(current_simulation_path)\n",
        "\n",
        "# Use ModelCheckpoint callback to save the best model\n",
        "best_model_file_path = f'{current_simulation_path}_best_model.keras'\n",
        "print(\"best_model_file_path:\",best_model_file_path)"
      ]
    },
    {
      "cell_type": "code",
      "execution_count": 12,
      "metadata": {
        "id": "dUUGesHrmfY0"
      },
      "outputs": [],
      "source": [
        "from jet_ml_models.pointnet import build_pointnet_classifier_model\n",
        "\n",
        "NUM_POINTS = 1024\n",
        "#because alpha_s can get 3 values\n",
        "NUM_CLASSES = 3\n",
        "activation=\"softmax\"\n",
        "# activation=\"sigmoid\"\n",
        "\n",
        "pointnet=build_pointnet_classifier_model(NUM_POINTS=NUM_POINTS,NUM_CLASSES=NUM_CLASSES, activation=activation)\n"
      ]
    },
    {
      "cell_type": "code",
      "execution_count": 13,
      "metadata": {
        "id": "Mu-55lL4mfY1"
      },
      "outputs": [],
      "source": [
        "from jet_ml_models.pointnet import compile_pointnet_classifier_model_with_hyperparam\n",
        "from jet_ml_models.pointnet import print_model_summary\n",
        "learning_rate=0.001\n",
        "loss='sparse_categorical_crossentropy'\n",
        "# loss='categorical_crossentropy',\n",
        "\n",
        "metrics='sparse_categorical_accuracy'\n",
        "# metrics=['accuracy'],\n",
        "\n",
        "pointnet=compile_pointnet_classifier_model_with_hyperparam(pointnet,learning_rate=learning_rate, loss=loss,metrics=metrics)\n",
        "# print_model_summary(pointnet)"
      ]
    },
    {
      "cell_type": "code",
      "execution_count": 15,
      "metadata": {
        "colab": {
          "base_uri": "https://localhost:8080/"
        },
        "id": "ItMIa0ZxE11E",
        "outputId": "2d02f002-1d05-428f-f37d-b6e7dd097fbf"
      },
      "outputs": [
        {
          "name": "stdout",
          "output_type": "stream",
          "text": [
            "Epoch 1/32\n",
            "\u001b[1m20/20\u001b[0m \u001b[32m━━━━━━━━━━━━━━━━━━━━\u001b[0m\u001b[37m\u001b[0m \u001b[1m0s\u001b[0m 1s/step - loss: 52.5757 - sparse_categorical_accuracy: 0.3132\n",
            "Epoch 1: val_sparse_categorical_accuracy improved from -inf to 0.36875, saving model to D:\\Projects\\110_JetscapeMl\\hm.jetscapeml.data\\simulation_results\\jetml_pointnet_classification_alpha_s_0.2_0.3_0.4_size_1000_epochs_32_fold_1_best_model.keras\n",
            "\u001b[1m20/20\u001b[0m \u001b[32m━━━━━━━━━━━━━━━━━━━━\u001b[0m\u001b[37m\u001b[0m \u001b[1m39s\u001b[0m 1s/step - loss: 52.1466 - sparse_categorical_accuracy: 0.3131 - val_loss: 35.8188 - val_sparse_categorical_accuracy: 0.3688\n",
            "Epoch 2/32\n",
            "\u001b[1m20/20\u001b[0m \u001b[32m━━━━━━━━━━━━━━━━━━━━\u001b[0m\u001b[37m\u001b[0m \u001b[1m0s\u001b[0m 1s/step - loss: 35.7733 - sparse_categorical_accuracy: 0.3989\n",
            "Epoch 2: val_sparse_categorical_accuracy did not improve from 0.36875\n",
            "\u001b[1m20/20\u001b[0m \u001b[32m━━━━━━━━━━━━━━━━━━━━\u001b[0m\u001b[37m\u001b[0m \u001b[1m23s\u001b[0m 1s/step - loss: 35.7688 - sparse_categorical_accuracy: 0.3972 - val_loss: 35.5434 - val_sparse_categorical_accuracy: 0.3562\n",
            "Epoch 3/32\n",
            "\u001b[1m20/20\u001b[0m \u001b[32m━━━━━━━━━━━━━━━━━━━━\u001b[0m\u001b[37m\u001b[0m \u001b[1m0s\u001b[0m 1s/step - loss: 35.5557 - sparse_categorical_accuracy: 0.3482\n",
            "Epoch 3: val_sparse_categorical_accuracy improved from 0.36875 to 0.38125, saving model to D:\\Projects\\110_JetscapeMl\\hm.jetscapeml.data\\simulation_results\\jetml_pointnet_classification_alpha_s_0.2_0.3_0.4_size_1000_epochs_32_fold_1_best_model.keras\n",
            "\u001b[1m20/20\u001b[0m \u001b[32m━━━━━━━━━━━━━━━━━━━━\u001b[0m\u001b[37m\u001b[0m \u001b[1m23s\u001b[0m 1s/step - loss: 35.5546 - sparse_categorical_accuracy: 0.3483 - val_loss: 35.3343 - val_sparse_categorical_accuracy: 0.3812\n",
            "Epoch 4/32\n",
            "\u001b[1m20/20\u001b[0m \u001b[32m━━━━━━━━━━━━━━━━━━━━\u001b[0m\u001b[37m\u001b[0m \u001b[1m0s\u001b[0m 1s/step - loss: 35.3546 - sparse_categorical_accuracy: 0.3722\n",
            "Epoch 4: val_sparse_categorical_accuracy did not improve from 0.38125\n",
            "\u001b[1m20/20\u001b[0m \u001b[32m━━━━━━━━━━━━━━━━━━━━\u001b[0m\u001b[37m\u001b[0m \u001b[1m22s\u001b[0m 1s/step - loss: 35.3564 - sparse_categorical_accuracy: 0.3721 - val_loss: 35.3108 - val_sparse_categorical_accuracy: 0.3187\n",
            "Epoch 5/32\n",
            "\u001b[1m20/20\u001b[0m \u001b[32m━━━━━━━━━━━━━━━━━━━━\u001b[0m\u001b[37m\u001b[0m \u001b[1m0s\u001b[0m 1s/step - loss: 35.4192 - sparse_categorical_accuracy: 0.3474\n",
            "Epoch 5: val_sparse_categorical_accuracy did not improve from 0.38125\n",
            "\u001b[1m20/20\u001b[0m \u001b[32m━━━━━━━━━━━━━━━━━━━━\u001b[0m\u001b[37m\u001b[0m \u001b[1m23s\u001b[0m 1s/step - loss: 35.4183 - sparse_categorical_accuracy: 0.3471 - val_loss: 35.6988 - val_sparse_categorical_accuracy: 0.3500\n",
            "Epoch 6/32\n",
            "\u001b[1m20/20\u001b[0m \u001b[32m━━━━━━━━━━━━━━━━━━━━\u001b[0m\u001b[37m\u001b[0m \u001b[1m0s\u001b[0m 1s/step - loss: 35.4222 - sparse_categorical_accuracy: 0.3756\n",
            "Epoch 6: val_sparse_categorical_accuracy did not improve from 0.38125\n",
            "\u001b[1m20/20\u001b[0m \u001b[32m━━━━━━━━━━━━━━━━━━━━\u001b[0m\u001b[37m\u001b[0m \u001b[1m23s\u001b[0m 1s/step - loss: 35.4193 - sparse_categorical_accuracy: 0.3755 - val_loss: 35.3487 - val_sparse_categorical_accuracy: 0.3375\n",
            "Epoch 6: early stopping\n"
          ]
        }
      ],
      "source": [
        "# %%timeit -n1 -r1\n",
        "from jet_ml_models.pointnet import train_model_with_callbacks\n",
        "monitor='val_sparse_categorical_accuracy'\n",
        "with tf.device('/GPU:0'):\n",
        "  model, history, train_time=train_model_with_callbacks(pointnet, train_dataset=train_dataset, validation_dataset=validation_dataset,monitor=monitor, best_model_file_path=best_model_file_path, n_epochs=n_epochs)"
      ]
    },
    {
      "cell_type": "code",
      "execution_count": 16,
      "metadata": {
        "colab": {
          "base_uri": "https://localhost:8080/"
        },
        "id": "rEDiOd94E11E",
        "outputId": "0106290e-2149-4235-f00a-768a3e168b19"
      },
      "outputs": [
        {
          "name": "stdout",
          "output_type": "stream",
          "text": [
            "2.550873561700185\n",
            "<Functional name=pointnet, built=True>\n",
            "{'loss': [43.565025329589844, 35.68013000488281, 35.53199005126953, 35.392879486083984, 35.39972686767578, 35.361454010009766], 'sparse_categorical_accuracy': [0.3109374940395355, 0.36250001192092896, 0.3499999940395355, 0.3687500059604645, 0.34062498807907104, 0.3734374940395355], 'val_loss': [35.81879806518555, 35.54338073730469, 35.33433151245117, 35.310760498046875, 35.69879150390625, 35.3487434387207], 'val_sparse_categorical_accuracy': [0.3687500059604645, 0.35624998807907104, 0.3812499940395355, 0.3187499940395355, 0.3499999940395355, 0.3375000059604645]}\n"
          ]
        }
      ],
      "source": [
        "print(train_time)\n",
        "print(model)\n",
        "print(history.history)"
      ]
    },
    {
      "cell_type": "code",
      "execution_count": 17,
      "metadata": {
        "colab": {
          "base_uri": "https://localhost:8080/"
        },
        "id": "yY5W0FPyE11E",
        "outputId": "908e4bb0-b104-4092-9e2b-01c749f9111a"
      },
      "outputs": [
        {
          "name": "stdout",
          "output_type": "stream",
          "text": [
            "D:\\Projects\\110_JetscapeMl\\hm.jetscapeml.data\\simulation_results\\jetml_pointnet_classification_alpha_s_0.2_0.3_0.4_size_1000_epochs_32_fold_1_training_history.json\n",
            "D:\\Projects\\110_JetscapeMl\\hm.jetscapeml.data\\simulation_results\\jetml_pointnet_classification_alpha_s_0.2_0.3_0.4_size_1000_epochs_32_fold_1_training_history.csv\n",
            "D:\\Projects\\110_JetscapeMl\\hm.jetscapeml.data\\simulation_results\\jetml_pointnet_classification_alpha_s_0.2_0.3_0.4_size_1000_epochs_32_fold_1_training_history.npy\n"
          ]
        }
      ],
      "source": [
        "from jet_ml_models.pointnet import save_training_history\n",
        "training_history_file_path_json,training_history_file_path_csv,training_history_file_path_csv = \\\n",
        "  save_training_history(history,current_simulation_path)"
      ]
    },
    {
      "cell_type": "code",
      "execution_count": 18,
      "metadata": {
        "colab": {
          "base_uri": "https://localhost:8080/",
          "height": 624
        },
        "id": "0f56lUDLE11F",
        "outputId": "3e76b9ba-9a0d-4bc6-f9a7-1316d6836564"
      },
      "outputs": [
        {
          "data": {
            "image/png": "[encoded data removed]",
            "text/plain": [
              "<Figure size 1200x600 with 2 Axes>"
            ]
          },
          "metadata": {},
          "output_type": "display_data"
        },
        {
          "name": "stdout",
          "output_type": "stream",
          "text": [
            "D:\\Projects\\110_JetscapeMl\\hm.jetscapeml.data\\simulation_results\\jetml_pointnet_classification_alpha_s_0.2_0.3_0.4_size_1000_epochs_32_fold_1_accuracy_loss.png\n"
          ]
        }
      ],
      "source": [
        "from jet_ml_models.pointnet import plot_training_history\n",
        "plot_training_history_path=plot_training_history(history,current_simulation_path)\n",
        "print(plot_training_history_path)"
      ]
    },
    {
      "cell_type": "code",
      "execution_count": 19,
      "metadata": {
        "colab": {
          "base_uri": "https://localhost:8080/"
        },
        "id": "knyOyK5EE11F",
        "outputId": "10802eba-aca8-4cce-c0d3-73c824a4b764"
      },
      "outputs": [
        {
          "name": "stdout",
          "output_type": "stream",
          "text": [
            "\u001b[1m7/7\u001b[0m \u001b[32m━━━━━━━━━━━━━━━━━━━━\u001b[0m\u001b[37m\u001b[0m \u001b[1m4s\u001b[0m 377ms/step\n",
            "Accuracy: 0.35\n",
            "Confusion Matrix: [[28 14 26]\n",
            " [25 10 24]\n",
            " [23 18 32]]\n"
          ]
        }
      ],
      "source": [
        "from jet_ml_models.pointnet import evaluate_model\n",
        "accuracy, confusion_matrix = evaluate_model(model,test_dataset=test_dataset)"
      ]
    },
    {
      "cell_type": "code",
      "execution_count": 20,
      "metadata": {
        "colab": {
          "base_uri": "https://localhost:8080/",
          "height": 272
        },
        "id": "69PoytJAE11F",
        "outputId": "b6d09bd0-9ab7-48c3-aabf-2b5511e10d9c"
      },
      "outputs": [
        {
          "name": "stdout",
          "output_type": "stream",
          "text": [
            "   Dataset Size Classifier  Fold Number  Accuracy  \\\n",
            "0          1000   pointnet            1      0.35   \n",
            "\n",
            "                             Confusion Matrix  Train Time  \\\n",
            "0  [[28, 14, 26], [25, 10, 24], [23, 18, 32]]    2.550874   \n",
            "\n",
            "                             Loss/Accuracy Plot Path  \\\n",
            "0  D:\\Projects\\110_JetscapeMl\\hm.jetscapeml.data\\...   \n",
            "\n",
            "                                     Best Model Path  \n",
            "0  D:\\Projects\\110_JetscapeMl\\hm.jetscapeml.data\\...  \n"
          ]
        },
        {
          "data": {
            "text/html": [
              "<div>\n",
              "<style scoped>\n",
              "    .dataframe tbody tr th:only-of-type {\n",
              "        vertical-align: middle;\n",
              "    }\n",
              "\n",
              "    .dataframe tbody tr th {\n",
              "        vertical-align: top;\n",
              "    }\n",
              "\n",
              "    .dataframe thead th {\n",
              "        text-align: right;\n",
              "    }\n",
              "</style>\n",
              "<table border=\"1\" class=\"dataframe\">\n",
              "  <thead>\n",
              "    <tr style=\"text-align: right;\">\n",
              "      <th></th>\n",
              "      <th>Dataset Size</th>\n",
              "      <th>Classifier</th>\n",
              "      <th>Fold Number</th>\n",
              "      <th>Accuracy</th>\n",
              "      <th>Confusion Matrix</th>\n",
              "      <th>Train Time</th>\n",
              "      <th>Loss/Accuracy Plot Path</th>\n",
              "      <th>Best Model Path</th>\n",
              "    </tr>\n",
              "  </thead>\n",
              "  <tbody>\n",
              "    <tr>\n",
              "      <th>0</th>\n",
              "      <td>1000</td>\n",
              "      <td>pointnet</td>\n",
              "      <td>1</td>\n",
              "      <td>0.35</td>\n",
              "      <td>[[28, 14, 26], [25, 10, 24], [23, 18, 32]]</td>\n",
              "      <td>2.550874</td>\n",
              "      <td>D:\\Projects\\110_JetscapeMl\\hm.jetscapeml.data\\...</td>\n",
              "      <td>D:\\Projects\\110_JetscapeMl\\hm.jetscapeml.data\\...</td>\n",
              "    </tr>\n",
              "  </tbody>\n",
              "</table>\n",
              "</div>"
            ],
            "text/plain": [
              "   Dataset Size Classifier  Fold Number  Accuracy  \\\n",
              "0          1000   pointnet            1      0.35   \n",
              "\n",
              "                             Confusion Matrix  Train Time  \\\n",
              "0  [[28, 14, 26], [25, 10, 24], [23, 18, 32]]    2.550874   \n",
              "\n",
              "                             Loss/Accuracy Plot Path  \\\n",
              "0  D:\\Projects\\110_JetscapeMl\\hm.jetscapeml.data\\...   \n",
              "\n",
              "                                     Best Model Path  \n",
              "0  D:\\Projects\\110_JetscapeMl\\hm.jetscapeml.data\\...  "
            ]
          },
          "execution_count": 20,
          "metadata": {},
          "output_type": "execute_result"
        }
      ],
      "source": [
        "from jet_ml_models.pointnet import save_kfold_results\n",
        "results_kfold = []\n",
        "results_kfold.append({\n",
        "                  'Dataset Size': dataset_size,\n",
        "                  'Classifier': model.name,\n",
        "                  'Fold Number': fold,\n",
        "                  'Accuracy': accuracy,\n",
        "                  'Confusion Matrix': confusion_matrix,\n",
        "                  'Train Time': train_time,\n",
        "                  'Loss/Accuracy Plot Path': plot_training_history_path,\n",
        "                  'Best Model Path': best_model_file_path\n",
        "              })\n",
        "save_kfold_results(results_kfold, current_simulation_path)"
      ]
    }
  ],
  "metadata": {
    "accelerator": "GPU",
    "colab": {
      "gpuType": "T4",
      "include_colab_link": true,
      "provenance": []
    },
    "kernelspec": {
      "display_name": "Python 3",
      "name": "python3"
    },
    "language_info": {
      "codemirror_mode": {
        "name": "ipython",
        "version": 3
      },
      "file_extension": ".py",
      "mimetype": "text/x-python",
      "name": "python",
      "nbconvert_exporter": "python",
      "pygments_lexer": "ipython3",
      "version": "3.11.5"
    }
  },
  "nbformat": 4,
  "nbformat_minor": 0
}
