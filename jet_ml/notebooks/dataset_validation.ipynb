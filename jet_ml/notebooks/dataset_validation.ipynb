{
 "cells": [
  {
   "cell_type": "code",
   "execution_count": 1,
   "metadata": {},
   "outputs": [],
   "source": [
    "def load_namespace():\n",
    "    import sys\n",
    "    sys.path.insert(1,f'/wsu/home/gy/gy40/gy4065/hm.jetscapeml_source')#WSU Grid\n",
    "    sys.path.insert(1,'/content/drive/My Drive/Projects/110_JetscapeMl/hm_jetscapeml_source')#Colab GDrive v1\n",
    "    sys.path.insert(1,'/content/drive/MyDrive/Projects/110_JetscapeMl/hm_jetscapeml_source')#Colab GDrive v2\n",
    "    sys.path.insert(1,f'/mnt/g/My Drive/Projects/110_JetscapeMl/hm_jetscapeml_source')#wsl gdrive\n",
    "    sys.path.insert(1,'G:\\\\My Drive\\\\Projects\\\\110_JetscapeMl\\\\hm_jetscapeml_source') #Windows GDrive\n",
    "    sys.path.insert(1,'/home/arsalan/Projects/110_JetscapeML/hm_jetscapeml_source/') #office tower\n",
    "    \n",
    "load_namespace()"
   ]
  },
  {
   "cell_type": "code",
   "execution_count": 2,
   "metadata": {},
   "outputs": [
    {
     "name": "stdout",
     "output_type": "stream",
     "text": [
      "Dataset Preprocessor\n"
     ]
    },
    {
     "name": "stderr",
     "output_type": "stream",
     "text": [
      "2024-09-20 16:05:53.436511: I tensorflow/core/util/port.cc:153] oneDNN custom operations are on. You may see slightly different numerical results due to floating-point round-off errors from different computation orders. To turn them off, set the environment variable `TF_ENABLE_ONEDNN_OPTS=0`.\n",
      "2024-09-20 16:05:53.445846: E external/local_xla/xla/stream_executor/cuda/cuda_fft.cc:485] Unable to register cuFFT factory: Attempting to register factory for plugin cuFFT when one has already been registered\n",
      "2024-09-20 16:05:53.455253: E external/local_xla/xla/stream_executor/cuda/cuda_dnn.cc:8454] Unable to register cuDNN factory: Attempting to register factory for plugin cuDNN when one has already been registered\n",
      "2024-09-20 16:05:53.458184: E external/local_xla/xla/stream_executor/cuda/cuda_blas.cc:1452] Unable to register cuBLAS factory: Attempting to register factory for plugin cuBLAS when one has already been registered\n",
      "2024-09-20 16:05:53.466391: I tensorflow/core/platform/cpu_feature_guard.cc:210] This TensorFlow binary is optimized to use available CPU instructions in performance-critical operations.\n",
      "To enable the following instructions: AVX2 AVX_VNNI FMA, in other operations, rebuild TensorFlow with the appropriate compiler flags.\n",
      "2024-09-20 16:05:54.232144: W tensorflow/compiler/tf2tensorrt/utils/py_utils.cc:38] TF-TRT Warning: Could not find TensorRT\n"
     ]
    },
    {
     "name": "stdout",
     "output_type": "stream",
     "text": [
      "Directory /home/arsalan/Projects/110_JetscapeML/hm_jetscapeml_source/models/default_simulation_name already exists.\n",
      "Directory /home/arsalan/Projects/110_JetscapeML/hm_jetscapeml_source/reports/default_simulation_name already exists.\n",
      "Directory /home/arsalan/Projects/110_JetscapeML/hm_jetscapeml_source/reports/figures/default_simulation_name already exists.\n",
      "Loading the whole dataset\n",
      "dataset.x: <class 'numpy.ndarray'> 1024000 (1000, 32, 32)\n",
      "dataset.y: <class 'numpy.ndarray'> 3000 (1000, 3)\n"
     ]
    }
   ],
   "source": [
    "dataset_size = 1000\n",
    "import jet_ml.dataset as ds\n",
    "(x, y)=ds.load_dataset(size=dataset_size)"
   ]
  },
  {
   "cell_type": "code",
   "execution_count": 3,
   "metadata": {},
   "outputs": [
    {
     "data": {
      "text/plain": [
       "array([['MLBT', '0.2', '1.5'],\n",
       "       ['MLBT', '0.2', '2.0'],\n",
       "       ['MLBT', '0.2', '2.5'],\n",
       "       ['MLBT', '0.3', '1.5'],\n",
       "       ['MLBT', '0.3', '2.0'],\n",
       "       ['MLBT', '0.3', '2.5'],\n",
       "       ['MLBT', '0.4', '1.5'],\n",
       "       ['MLBT', '0.4', '2.0'],\n",
       "       ['MLBT', '0.4', '2.5'],\n",
       "       ['MMAT', '0.2', '1'],\n",
       "       ['MMAT', '0.3', '1'],\n",
       "       ['MMAT', '0.4', '1']], dtype='<U32')"
      ]
     },
     "metadata": {},
     "output_type": "display_data"
    },
    {
     "data": {
      "text/plain": [
       "1000"
      ]
     },
     "execution_count": 3,
     "metadata": {},
     "output_type": "execute_result"
    }
   ],
   "source": [
    "import numpy as np\n",
    "unique_vectors= np.unique(y, return_counts=True, axis=0)\n",
    "configs=unique_vectors[0]\n",
    "display(configs)\n",
    "np.sum(unique_vectors[1])"
   ]
  },
  {
   "cell_type": "code",
   "execution_count": 4,
   "metadata": {},
   "outputs": [],
   "source": [
    "#implement a method to get one entry of the dataset into a tuple\n",
    "def display_entry(entry):\n",
    "    print(f'x: {entry[0]}')\n",
    "    print(f'y: {entry[1]}')\n",
    "def get_one_entry(x, y, index):\n",
    "    return x[index], y[index]"
   ]
  },
  {
   "cell_type": "code",
   "execution_count": 5,
   "metadata": {},
   "outputs": [],
   "source": [
    "#give me all permutations of     alpha_s_items=[0.2 ,0.3 ,0.4] , q0_items=[1.5 ,2.0 ,2.5] and assign a unique id to each permutation\n",
    "import itertools\n",
    "def get_permutations(alpha_s_items, q0_items):\n",
    "    permutations = list(itertools.product( q0_items,alpha_s_items))\n",
    "    permutation_ids = [i+1 for i in range(len(permutations))]\n",
    "    return permutations, permutation_ids"
   ]
  },
  {
   "cell_type": "code",
   "execution_count": 6,
   "metadata": {},
   "outputs": [
    {
     "data": {
      "text/plain": [
       "[1, 2, 3, 4, 5, 6, 7, 8, 9]"
      ]
     },
     "metadata": {},
     "output_type": "display_data"
    },
    {
     "data": {
      "text/plain": [
       "[(1.5, 0.2),\n",
       " (1.5, 0.3),\n",
       " (1.5, 0.4),\n",
       " (2.0, 0.2),\n",
       " (2.0, 0.3),\n",
       " (2.0, 0.4),\n",
       " (2.5, 0.2),\n",
       " (2.5, 0.3),\n",
       " (2.5, 0.4)]"
      ]
     },
     "metadata": {},
     "output_type": "display_data"
    }
   ],
   "source": [
    "alpha_s_items=[0.2 ,0.3 ,0.4]\n",
    "q0_items=[1.5 ,2.0 ,2.5]\n",
    "permutations, permutation_ids = get_permutations(alpha_s_items, q0_items)\n",
    "display(permutation_ids)\n",
    "display(permutations)"
   ]
  },
  {
   "cell_type": "code",
   "execution_count": 7,
   "metadata": {},
   "outputs": [],
   "source": [
    "# implement a method that filter the dataset based on the value of y and return the filtered dataset\n",
    "def filter_dataset(x, y, value):\n",
    "    x_filtered = []\n",
    "    y_filtered = []\n",
    "    for i in range(len(y)):\n",
    "\n",
    "        if (y[i] == value).all():\n",
    "            x_filtered.append(x[i])\n",
    "            y_filtered.append(y[i])\n",
    "    return x_filtered, y_filtered"
   ]
  },
  {
   "cell_type": "code",
   "execution_count": 8,
   "metadata": {},
   "outputs": [],
   "source": [
    "# x_filtered, y_filtered = filter_dataset(x, y, value= ['MLBT' ,'0.4' ,'2.5'])\n",
    "# display(y_filtered)\n",
    "# entry = get_one_entry(x_filtered, y_filtered, 0)\n",
    "# #get one entry of the dataset nad print it\n",
    "# entry = get_one_entry(x, y, 0)\n",
    "# display_entry(entry)"
   ]
  },
  {
   "cell_type": "code",
   "execution_count": 9,
   "metadata": {},
   "outputs": [],
   "source": [
    "# implmented a method that loop over permutations and get the filtered dataset for each permutation\n",
    "def get_datasets(x, y, configs):\n",
    "    datasets = []\n",
    "    # converted_permutations=[None]*len(permutations)*2\n",
    "\n",
    "    \n",
    "    for i in range(len(configs)):\n",
    "        \n",
    "        x_filtered, y_filtered = filter_dataset(x, y, value=configs[i])\n",
    "        datasets.append((x_filtered, y_filtered))\n",
    "        #convert permutations[i] from looking like (1.5, 0.2) to look like ['MLBT' ,'0.2' ,'1.5']\n",
    "        # converted_permutations[2*i] = ['MLBT' ,str(permutations[i][1]) ,str(permutations[i][0])]\n",
    "        # x_filtered, y_filtered = filter_dataset(x, y, value=converted_permutations[2*i])\n",
    "        # datasets.append((x_filtered, y_filtered))\n",
    "\n",
    "        # converted_permutations[2*i+1] = ['MMAT' ,str(permutations[i][1]) ,'1.0']\n",
    "        # x_filtered, y_filtered = filter_dataset(x, y, value=converted_permutations[2*i+1])\n",
    "        # datasets.append((x_filtered, y_filtered))\n",
    "    return datasets"
   ]
  },
  {
   "cell_type": "code",
   "execution_count": 10,
   "metadata": {},
   "outputs": [],
   "source": [
    "# datasets = get_datasets(x, y, configs=configs)\n",
    "# display(len(datasets))\n",
    "# entries=[None]*len(datasets)\n"
   ]
  },
  {
   "cell_type": "code",
   "execution_count": 11,
   "metadata": {},
   "outputs": [
    {
     "name": "stdout",
     "output_type": "stream",
     "text": [
      "['MLBT' '0.2' '1.5'] 52 \n",
      "['MLBT' '0.2' '2.0'] 63 \n",
      "['MLBT' '0.2' '2.5'] 50 \n",
      "['MLBT' '0.3' '1.5'] 44 \n",
      "['MLBT' '0.3' '2.0'] 59 \n",
      "['MLBT' '0.3' '2.5'] 57 \n",
      "['MLBT' '0.4' '1.5'] 51 \n",
      "['MLBT' '0.4' '2.0'] 59 \n",
      "['MLBT' '0.4' '2.5'] 59 \n",
      "['MMAT' '0.2' '1'] 169 \n",
      "['MMAT' '0.3' '1'] 174 \n",
      "['MMAT' '0.4' '1'] 163 \n",
      "Total count: 1000\n",
      "entries: 12\n"
     ]
    }
   ],
   "source": [
    "def get_entry_from_each_datasets(x, y, configs):\n",
    "    # use get_datasets method to get the datasets\n",
    "    datasets = get_datasets(x, y, configs)\n",
    "    entries=[None]*len(datasets)\n",
    "    # display the first entry in each datasets\n",
    "    total_count=0\n",
    "    for i in range(len(datasets)):\n",
    "        #check if the dataset is empty\n",
    "        if len(datasets[i][0]) == 0:\n",
    "            print(f'dataset {i} is empty')\n",
    "        else:\n",
    "            entry = get_one_entry(datasets[i][0], datasets[i][1], 0)\n",
    "            entries[i] = entry\n",
    "            datasets_items=len(datasets[i][0])\n",
    "            total_count+=datasets_items\n",
    "            print(f\"{entry[1]} {datasets_items} \")\n",
    "    print(f\"Total count: {total_count}\")\n",
    "    return entries\n",
    "entries= get_entry_from_each_datasets(x, y, configs)\n",
    "    \n",
    "print(f\"entries: {len(entries)}\")\n"
   ]
  },
  {
   "cell_type": "code",
   "execution_count": 12,
   "metadata": {},
   "outputs": [],
   "source": [
    "#implment a method that take a 'alpha_s' and 'q0' parameter and build an string like this 'config_01_alpha_0.2_q0_1.5_MMAT_MLBT_size_1200000_shuffled.pkl' and look for the file in the dataset folder and load it\n",
    "def load_config_dataset(alpha_s, q0):\n",
    "#find permutation id from alpha_s and q0 and build the file Name\n",
    "    dataset_size = 1200000\n",
    "    permutation_id = permutation_ids[permutations.index((q0,alpha_s))]\n",
    "    file_name = f'config_0{permutation_id}_alpha_{alpha_s}_q0_{q0}_MMAT_MLBT_size_{dataset_size}_shuffled.pkl'\n",
    "    print(file_name)\n",
    "    #load the file\n",
    "    import os\n",
    "    import pandas as pd\n",
    "    file_path = f'/home/arsalan/Projects/110_JetscapeML/hm_jetscapeml_source/data/dataset_raw/{file_name}'\n",
    "    if os.path.exists(file_path):\n",
    "        print('file found')\n",
    "        return pd.read_pickle(file_path)\n",
    "    else:\n",
    "        print('file not found')\n",
    "        return None"
   ]
  },
  {
   "cell_type": "code",
   "execution_count": 13,
   "metadata": {},
   "outputs": [],
   "source": [
    "# give me a method that uses the entry y side and from index 1 extracts alpha_s and index 2 extracts q0 and then uses the alpha_s and q0 to load the dataset\n",
    "def get_config_based_dataset(alpha_s,q0):\n",
    "    # alpha_s = float(entry[1][1])\n",
    "    # q0 = float(entry[1][2])\n",
    "    \n",
    "    # log alpha_s and q0\n",
    "    print(f'alpha_s: {alpha_s}')\n",
    "    print(f'q0: {q0}')\n",
    "    dataset=load_config_dataset(alpha_s, q0)\n",
    "    x_train = dataset['x_train']\n",
    "    y_train = dataset['y_train']\n",
    "    # x_train=x_train[540000:]\n",
    "    # y_train=y_train[540000:]\n",
    "    return  x_train, y_train\n"
   ]
  },
  {
   "cell_type": "code",
   "execution_count": 14,
   "metadata": {},
   "outputs": [],
   "source": [
    "#should load the file 'config_1_alpha_0.2_q0_1.5_MMAT_MLBT_size_1000_shuffled.pkl'\n",
    "# dataset has this structure  merged_dataset = {\n",
    "#         'x_train': x_train,\n",
    "#         'x_test': x_test,\n",
    "#         'y_train': y_train,\n",
    "#         'y_test': y_test\n",
    "#     }\n",
    "#implement a method that takes the dataset and filter x_train and y_train that matches the entry x and y\n",
    "# x_train,y_train= get_config_based_dataset(entries[0]) "
   ]
  },
  {
   "cell_type": "code",
   "execution_count": 15,
   "metadata": {},
   "outputs": [],
   "source": [
    "def get_config_based_dataset_unique_y_vectors(y_train):\n",
    "    display(len(y_train))\n",
    "    import numpy as np\n",
    "    # print all unique vectors and the number of each unique vectors in y_train\n",
    "    unique_vectors= np.unique(y_train, return_counts=True, axis=0)\n",
    "    display(unique_vectors)\n",
    "    return unique_vectors"
   ]
  },
  {
   "cell_type": "code",
   "execution_count": 16,
   "metadata": {},
   "outputs": [],
   "source": [
    "# unique_vectors=get_config_based_dataset_unique_y_vectors(y_train)"
   ]
  },
  {
   "cell_type": "code",
   "execution_count": 17,
   "metadata": {},
   "outputs": [],
   "source": [
    "# find all the y_train that has the value of entry[1]\n",
    "def find_entry_in_config_based_dataset(x_train,y_train, entry):\n",
    "    x_filtered = []\n",
    "    y_filtered = []\n",
    "    for i in range(len(y_train)):\n",
    "        if ((y_train[i] == entry[1]).all()) and ((x_train[i] == entry[0]).all()):\n",
    "            x_filtered.append(x_train[i])\n",
    "            y_filtered.append(y_train[i])\n",
    "    if (len(x_filtered) and len(y_filtered)):\n",
    "        return True\n",
    "    return False\n",
    "\n",
    "\n"
   ]
  },
  {
   "cell_type": "code",
   "execution_count": 18,
   "metadata": {},
   "outputs": [],
   "source": [
    "# entry_found = find_entry_in_config_based_dataset(x_train,y_train, entries[0])\n",
    "# print (entry_found)"
   ]
  },
  {
   "cell_type": "code",
   "execution_count": 19,
   "metadata": {},
   "outputs": [],
   "source": [
    "def find_entries_in_config_based_datasets(entries):\n",
    "    check_list = [None]*18\n",
    "    check_list_idx=0\n",
    "    for idx in range(len(entries)):\n",
    "        alpha_s = float(entries[idx][1][1])\n",
    "        q0 = float(entries[idx][1][2])\n",
    "        #chck if q0=1, so u can get the appropriate dataset\n",
    "        if q0 == 1.0:\n",
    "            q0_items=[1.5 ,2.0 ,2.5]\n",
    "            for working_q0 in q0_items:\n",
    "                x_train,y_train= get_config_based_dataset(alpha_s,working_q0) \n",
    "                unique_vectors=get_config_based_dataset_unique_y_vectors(y_train)\n",
    "                check_list[check_list_idx] = find_entry_in_config_based_dataset(x_train,y_train, entries[idx])\n",
    "                if check_list[check_list_idx]:\n",
    "                    print(f\"Config: {entries[idx]} -> Found in q0={working_q0}\")\n",
    "                else:\n",
    "                    print(f\"Config: {entries[idx]} -> Not found in q0={working_q0}\")\n",
    "                check_list_idx+=1\n",
    "        else:\n",
    "            x_train,y_train= get_config_based_dataset(alpha_s,q0) \n",
    "            unique_vectors=get_config_based_dataset_unique_y_vectors(y_train)\n",
    "            check_list[check_list_idx] = find_entry_in_config_based_dataset(x_train,y_train, entries[idx])\n",
    "            print(f\"Config: {entries[idx]} -> Just a unique entry found: {check_list[check_list_idx]}\")\n",
    "            check_list_idx+=1\n",
    "    return check_list\n",
    "\n"
   ]
  },
  {
   "cell_type": "code",
   "execution_count": 20,
   "metadata": {},
   "outputs": [
    {
     "name": "stdout",
     "output_type": "stream",
     "text": [
      "alpha_s: 0.2\n",
      "q0: 1.5\n",
      "config_01_alpha_0.2_q0_1.5_MMAT_MLBT_size_1200000_shuffled.pkl\n",
      "file found\n"
     ]
    },
    {
     "data": {
      "text/plain": [
       "1080000"
      ]
     },
     "metadata": {},
     "output_type": "display_data"
    },
    {
     "data": {
      "text/plain": [
       "(array([['MLBT', '0.2', '1.5'],\n",
       "        ['MMAT', '0.2', '1']], dtype='<U32'),\n",
       " array([540000, 540000]))"
      ]
     },
     "metadata": {},
     "output_type": "display_data"
    },
    {
     "name": "stdout",
     "output_type": "stream",
     "text": [
      "Config: (array([[0., 0., 0., ..., 0., 0., 0.],\n",
      "       [0., 0., 0., ..., 0., 0., 0.],\n",
      "       [0., 0., 0., ..., 0., 0., 0.],\n",
      "       ...,\n",
      "       [0., 0., 0., ..., 0., 0., 0.],\n",
      "       [0., 0., 0., ..., 0., 0., 0.],\n",
      "       [0., 0., 0., ..., 0., 0., 0.]]), array(['MLBT', '0.2', '1.5'], dtype='<U32')) -> Just a unique entry found: True\n",
      "alpha_s: 0.2\n",
      "q0: 2.0\n",
      "config_04_alpha_0.2_q0_2.0_MMAT_MLBT_size_1200000_shuffled.pkl\n",
      "file found\n"
     ]
    },
    {
     "data": {
      "text/plain": [
       "1080000"
      ]
     },
     "metadata": {},
     "output_type": "display_data"
    },
    {
     "data": {
      "text/plain": [
       "(array([['MLBT', '0.2', '2.0'],\n",
       "        ['MMAT', '0.2', '1']], dtype='<U32'),\n",
       " array([540000, 540000]))"
      ]
     },
     "metadata": {},
     "output_type": "display_data"
    },
    {
     "name": "stdout",
     "output_type": "stream",
     "text": [
      "Config: (array([[0.      , 0.      , 0.      , ..., 0.      , 0.      , 0.      ],\n",
      "       [0.      , 0.      , 0.      , ..., 0.      , 0.      , 0.      ],\n",
      "       [0.      , 0.      , 0.      , ..., 0.      , 0.      , 0.      ],\n",
      "       ...,\n",
      "       [0.      , 0.      , 0.      , ..., 0.      , 0.      , 0.      ],\n",
      "       [0.      , 0.      , 0.      , ..., 0.      , 0.      , 0.179094],\n",
      "       [0.      , 0.      , 0.103019, ..., 0.      , 0.112834, 0.      ]]), array(['MLBT', '0.2', '2.0'], dtype='<U32')) -> Just a unique entry found: True\n",
      "alpha_s: 0.2\n",
      "q0: 2.5\n",
      "config_07_alpha_0.2_q0_2.5_MMAT_MLBT_size_1200000_shuffled.pkl\n",
      "file found\n"
     ]
    },
    {
     "data": {
      "text/plain": [
       "1080000"
      ]
     },
     "metadata": {},
     "output_type": "display_data"
    },
    {
     "data": {
      "text/plain": [
       "(array([['MLBT', '0.2', '2.5'],\n",
       "        ['MMAT', '0.2', '1']], dtype='<U32'),\n",
       " array([540000, 540000]))"
      ]
     },
     "metadata": {},
     "output_type": "display_data"
    },
    {
     "name": "stdout",
     "output_type": "stream",
     "text": [
      "Config: (array([[0.       , 0.       , 0.       , ..., 0.       , 0.       ,\n",
      "        0.0857442],\n",
      "       [0.0729852, 0.       , 0.       , ..., 0.       , 0.       ,\n",
      "        0.       ],\n",
      "       [0.       , 0.       , 0.       , ..., 0.       , 0.       ,\n",
      "        0.       ],\n",
      "       ...,\n",
      "       [0.       , 0.       , 0.       , ..., 0.       , 0.       ,\n",
      "        0.       ],\n",
      "       [0.       , 0.       , 0.       , ..., 0.       , 0.       ,\n",
      "        0.       ],\n",
      "       [0.       , 0.       , 0.       , ..., 0.       , 0.       ,\n",
      "        0.       ]]), array(['MLBT', '0.2', '2.5'], dtype='<U32')) -> Just a unique entry found: True\n",
      "alpha_s: 0.3\n",
      "q0: 1.5\n",
      "config_02_alpha_0.3_q0_1.5_MMAT_MLBT_size_1200000_shuffled.pkl\n",
      "file found\n"
     ]
    },
    {
     "data": {
      "text/plain": [
       "1080000"
      ]
     },
     "metadata": {},
     "output_type": "display_data"
    },
    {
     "data": {
      "text/plain": [
       "(array([['MLBT', '0.3', '1.5'],\n",
       "        ['MMAT', '0.3', '1']], dtype='<U32'),\n",
       " array([540000, 540000]))"
      ]
     },
     "metadata": {},
     "output_type": "display_data"
    },
    {
     "name": "stdout",
     "output_type": "stream",
     "text": [
      "Config: (array([[0.      , 0.      , 0.      , ..., 0.      , 0.      , 0.      ],\n",
      "       [0.      , 0.      , 0.      , ..., 0.      , 0.      , 0.      ],\n",
      "       [0.      , 0.169425, 0.      , ..., 0.      , 0.      , 0.      ],\n",
      "       ...,\n",
      "       [0.      , 0.      , 0.      , ..., 0.      , 0.      , 0.      ],\n",
      "       [0.      , 0.      , 0.      , ..., 0.      , 0.      , 0.      ],\n",
      "       [0.      , 0.      , 0.      , ..., 0.      , 0.      , 0.      ]]), array(['MLBT', '0.3', '1.5'], dtype='<U32')) -> Just a unique entry found: True\n",
      "alpha_s: 0.3\n",
      "q0: 2.0\n",
      "config_05_alpha_0.3_q0_2.0_MMAT_MLBT_size_1200000_shuffled.pkl\n",
      "file found\n"
     ]
    },
    {
     "data": {
      "text/plain": [
       "1079991"
      ]
     },
     "metadata": {},
     "output_type": "display_data"
    },
    {
     "data": {
      "text/plain": [
       "(array([['MLBT', '0.3', '2.0'],\n",
       "        ['MMAT', '0.3', '1']], dtype='<U32'),\n",
       " array([539991, 540000]))"
      ]
     },
     "metadata": {},
     "output_type": "display_data"
    },
    {
     "name": "stdout",
     "output_type": "stream",
     "text": [
      "Config: (array([[0., 0., 0., ..., 0., 0., 0.],\n",
      "       [0., 0., 0., ..., 0., 0., 0.],\n",
      "       [0., 0., 0., ..., 0., 0., 0.],\n",
      "       ...,\n",
      "       [0., 0., 0., ..., 0., 0., 0.],\n",
      "       [0., 0., 0., ..., 0., 0., 0.],\n",
      "       [0., 0., 0., ..., 0., 0., 0.]]), array(['MLBT', '0.3', '2.0'], dtype='<U32')) -> Just a unique entry found: True\n",
      "alpha_s: 0.3\n",
      "q0: 2.5\n",
      "config_08_alpha_0.3_q0_2.5_MMAT_MLBT_size_1200000_shuffled.pkl\n",
      "file found\n"
     ]
    },
    {
     "data": {
      "text/plain": [
       "1080000"
      ]
     },
     "metadata": {},
     "output_type": "display_data"
    },
    {
     "data": {
      "text/plain": [
       "(array([['MLBT', '0.3', '2.5'],\n",
       "        ['MMAT', '0.3', '1']], dtype='<U32'),\n",
       " array([540000, 540000]))"
      ]
     },
     "metadata": {},
     "output_type": "display_data"
    },
    {
     "name": "stdout",
     "output_type": "stream",
     "text": [
      "Config: (array([[0., 0., 0., ..., 0., 0., 0.],\n",
      "       [0., 0., 0., ..., 0., 0., 0.],\n",
      "       [0., 0., 0., ..., 0., 0., 0.],\n",
      "       ...,\n",
      "       [0., 0., 0., ..., 0., 0., 0.],\n",
      "       [0., 0., 0., ..., 0., 0., 0.],\n",
      "       [0., 0., 0., ..., 0., 0., 0.]]), array(['MLBT', '0.3', '2.5'], dtype='<U32')) -> Just a unique entry found: True\n",
      "alpha_s: 0.4\n",
      "q0: 1.5\n",
      "config_03_alpha_0.4_q0_1.5_MMAT_MLBT_size_1200000_shuffled.pkl\n",
      "file found\n"
     ]
    },
    {
     "data": {
      "text/plain": [
       "1080000"
      ]
     },
     "metadata": {},
     "output_type": "display_data"
    },
    {
     "data": {
      "text/plain": [
       "(array([['MLBT', '0.4', '1.5'],\n",
       "        ['MMAT', '0.4', '1']], dtype='<U32'),\n",
       " array([540000, 540000]))"
      ]
     },
     "metadata": {},
     "output_type": "display_data"
    },
    {
     "name": "stdout",
     "output_type": "stream",
     "text": [
      "Config: (array([[0.      , 0.      , 0.      , ..., 0.      , 0.      , 0.      ],\n",
      "       [0.      , 0.      , 0.      , ..., 0.      , 0.      , 0.      ],\n",
      "       [0.      , 0.      , 0.      , ..., 0.      , 0.      , 0.      ],\n",
      "       ...,\n",
      "       [0.      , 0.      , 0.      , ..., 0.      , 0.      , 0.      ],\n",
      "       [0.335131, 0.      , 0.      , ..., 0.      , 0.      , 0.      ],\n",
      "       [0.      , 0.      , 0.      , ..., 0.      , 0.      , 0.      ]]), array(['MLBT', '0.4', '1.5'], dtype='<U32')) -> Just a unique entry found: True\n",
      "alpha_s: 0.4\n",
      "q0: 2.0\n",
      "config_06_alpha_0.4_q0_2.0_MMAT_MLBT_size_1200000_shuffled.pkl\n",
      "file found\n"
     ]
    },
    {
     "data": {
      "text/plain": [
       "1080000"
      ]
     },
     "metadata": {},
     "output_type": "display_data"
    },
    {
     "data": {
      "text/plain": [
       "(array([['MLBT', '0.4', '2.0'],\n",
       "        ['MMAT', '0.4', '1']], dtype='<U32'),\n",
       " array([540000, 540000]))"
      ]
     },
     "metadata": {},
     "output_type": "display_data"
    },
    {
     "name": "stdout",
     "output_type": "stream",
     "text": [
      "Config: (array([[0.     , 0.     , 0.     , ..., 0.     , 0.     , 0.     ],\n",
      "       [0.     , 0.     , 0.     , ..., 0.     , 0.     , 0.     ],\n",
      "       [0.     , 0.     , 0.     , ..., 0.     , 0.     , 0.     ],\n",
      "       ...,\n",
      "       [0.     , 0.     , 0.     , ..., 0.     , 0.     , 0.     ],\n",
      "       [0.     , 0.     , 0.     , ..., 0.     , 0.     , 0.     ],\n",
      "       [0.     , 0.     , 0.     , ..., 0.     , 0.     , 2.05216]]), array(['MLBT', '0.4', '2.0'], dtype='<U32')) -> Just a unique entry found: True\n",
      "alpha_s: 0.4\n",
      "q0: 2.5\n",
      "config_09_alpha_0.4_q0_2.5_MMAT_MLBT_size_1200000_shuffled.pkl\n",
      "file found\n"
     ]
    },
    {
     "data": {
      "text/plain": [
       "1080000"
      ]
     },
     "metadata": {},
     "output_type": "display_data"
    },
    {
     "data": {
      "text/plain": [
       "(array([['MLBT', '0.4', '2.5'],\n",
       "        ['MMAT', '0.4', '1']], dtype='<U32'),\n",
       " array([540000, 540000]))"
      ]
     },
     "metadata": {},
     "output_type": "display_data"
    },
    {
     "name": "stdout",
     "output_type": "stream",
     "text": [
      "Config: (array([[0., 0., 0., ..., 0., 0., 0.],\n",
      "       [0., 0., 0., ..., 0., 0., 0.],\n",
      "       [0., 0., 0., ..., 0., 0., 0.],\n",
      "       ...,\n",
      "       [0., 0., 0., ..., 0., 0., 0.],\n",
      "       [0., 0., 0., ..., 0., 0., 0.],\n",
      "       [0., 0., 0., ..., 0., 0., 0.]]), array(['MLBT', '0.4', '2.5'], dtype='<U32')) -> Just a unique entry found: True\n",
      "alpha_s: 0.2\n",
      "q0: 1.5\n",
      "config_01_alpha_0.2_q0_1.5_MMAT_MLBT_size_1200000_shuffled.pkl\n",
      "file found\n"
     ]
    },
    {
     "data": {
      "text/plain": [
       "1080000"
      ]
     },
     "metadata": {},
     "output_type": "display_data"
    },
    {
     "data": {
      "text/plain": [
       "(array([['MLBT', '0.2', '1.5'],\n",
       "        ['MMAT', '0.2', '1']], dtype='<U32'),\n",
       " array([540000, 540000]))"
      ]
     },
     "metadata": {},
     "output_type": "display_data"
    },
    {
     "name": "stdout",
     "output_type": "stream",
     "text": [
      "Config: (array([[0., 0., 0., ..., 0., 0., 0.],\n",
      "       [0., 0., 0., ..., 0., 0., 0.],\n",
      "       [0., 0., 0., ..., 0., 0., 0.],\n",
      "       ...,\n",
      "       [0., 0., 0., ..., 0., 0., 0.],\n",
      "       [0., 0., 0., ..., 0., 0., 0.],\n",
      "       [0., 0., 0., ..., 0., 0., 0.]]), array(['MMAT', '0.2', '1'], dtype='<U32')) -> Not found in q0=1.5\n",
      "alpha_s: 0.2\n",
      "q0: 2.0\n",
      "config_04_alpha_0.2_q0_2.0_MMAT_MLBT_size_1200000_shuffled.pkl\n",
      "file found\n"
     ]
    },
    {
     "data": {
      "text/plain": [
       "1080000"
      ]
     },
     "metadata": {},
     "output_type": "display_data"
    },
    {
     "data": {
      "text/plain": [
       "(array([['MLBT', '0.2', '2.0'],\n",
       "        ['MMAT', '0.2', '1']], dtype='<U32'),\n",
       " array([540000, 540000]))"
      ]
     },
     "metadata": {},
     "output_type": "display_data"
    },
    {
     "name": "stdout",
     "output_type": "stream",
     "text": [
      "Config: (array([[0., 0., 0., ..., 0., 0., 0.],\n",
      "       [0., 0., 0., ..., 0., 0., 0.],\n",
      "       [0., 0., 0., ..., 0., 0., 0.],\n",
      "       ...,\n",
      "       [0., 0., 0., ..., 0., 0., 0.],\n",
      "       [0., 0., 0., ..., 0., 0., 0.],\n",
      "       [0., 0., 0., ..., 0., 0., 0.]]), array(['MMAT', '0.2', '1'], dtype='<U32')) -> Found in q0=2.0\n",
      "alpha_s: 0.2\n",
      "q0: 2.5\n",
      "config_07_alpha_0.2_q0_2.5_MMAT_MLBT_size_1200000_shuffled.pkl\n",
      "file found\n"
     ]
    },
    {
     "data": {
      "text/plain": [
       "1080000"
      ]
     },
     "metadata": {},
     "output_type": "display_data"
    },
    {
     "data": {
      "text/plain": [
       "(array([['MLBT', '0.2', '2.5'],\n",
       "        ['MMAT', '0.2', '1']], dtype='<U32'),\n",
       " array([540000, 540000]))"
      ]
     },
     "metadata": {},
     "output_type": "display_data"
    },
    {
     "name": "stdout",
     "output_type": "stream",
     "text": [
      "Config: (array([[0., 0., 0., ..., 0., 0., 0.],\n",
      "       [0., 0., 0., ..., 0., 0., 0.],\n",
      "       [0., 0., 0., ..., 0., 0., 0.],\n",
      "       ...,\n",
      "       [0., 0., 0., ..., 0., 0., 0.],\n",
      "       [0., 0., 0., ..., 0., 0., 0.],\n",
      "       [0., 0., 0., ..., 0., 0., 0.]]), array(['MMAT', '0.2', '1'], dtype='<U32')) -> Not found in q0=2.5\n",
      "alpha_s: 0.3\n",
      "q0: 1.5\n",
      "config_02_alpha_0.3_q0_1.5_MMAT_MLBT_size_1200000_shuffled.pkl\n",
      "file found\n"
     ]
    },
    {
     "data": {
      "text/plain": [
       "1080000"
      ]
     },
     "metadata": {},
     "output_type": "display_data"
    },
    {
     "data": {
      "text/plain": [
       "(array([['MLBT', '0.3', '1.5'],\n",
       "        ['MMAT', '0.3', '1']], dtype='<U32'),\n",
       " array([540000, 540000]))"
      ]
     },
     "metadata": {},
     "output_type": "display_data"
    },
    {
     "name": "stdout",
     "output_type": "stream",
     "text": [
      "Config: (array([[0., 0., 0., ..., 0., 0., 0.],\n",
      "       [0., 0., 0., ..., 0., 0., 0.],\n",
      "       [0., 0., 0., ..., 0., 0., 0.],\n",
      "       ...,\n",
      "       [0., 0., 0., ..., 0., 0., 0.],\n",
      "       [0., 0., 0., ..., 0., 0., 0.],\n",
      "       [0., 0., 0., ..., 0., 0., 0.]]), array(['MMAT', '0.3', '1'], dtype='<U32')) -> Not found in q0=1.5\n",
      "alpha_s: 0.3\n",
      "q0: 2.0\n",
      "config_05_alpha_0.3_q0_2.0_MMAT_MLBT_size_1200000_shuffled.pkl\n",
      "file found\n"
     ]
    },
    {
     "data": {
      "text/plain": [
       "1079991"
      ]
     },
     "metadata": {},
     "output_type": "display_data"
    },
    {
     "data": {
      "text/plain": [
       "(array([['MLBT', '0.3', '2.0'],\n",
       "        ['MMAT', '0.3', '1']], dtype='<U32'),\n",
       " array([539991, 540000]))"
      ]
     },
     "metadata": {},
     "output_type": "display_data"
    },
    {
     "name": "stdout",
     "output_type": "stream",
     "text": [
      "Config: (array([[0., 0., 0., ..., 0., 0., 0.],\n",
      "       [0., 0., 0., ..., 0., 0., 0.],\n",
      "       [0., 0., 0., ..., 0., 0., 0.],\n",
      "       ...,\n",
      "       [0., 0., 0., ..., 0., 0., 0.],\n",
      "       [0., 0., 0., ..., 0., 0., 0.],\n",
      "       [0., 0., 0., ..., 0., 0., 0.]]), array(['MMAT', '0.3', '1'], dtype='<U32')) -> Not found in q0=2.0\n",
      "alpha_s: 0.3\n",
      "q0: 2.5\n",
      "config_08_alpha_0.3_q0_2.5_MMAT_MLBT_size_1200000_shuffled.pkl\n",
      "file found\n"
     ]
    },
    {
     "data": {
      "text/plain": [
       "1080000"
      ]
     },
     "metadata": {},
     "output_type": "display_data"
    },
    {
     "data": {
      "text/plain": [
       "(array([['MLBT', '0.3', '2.5'],\n",
       "        ['MMAT', '0.3', '1']], dtype='<U32'),\n",
       " array([540000, 540000]))"
      ]
     },
     "metadata": {},
     "output_type": "display_data"
    },
    {
     "name": "stdout",
     "output_type": "stream",
     "text": [
      "Config: (array([[0., 0., 0., ..., 0., 0., 0.],\n",
      "       [0., 0., 0., ..., 0., 0., 0.],\n",
      "       [0., 0., 0., ..., 0., 0., 0.],\n",
      "       ...,\n",
      "       [0., 0., 0., ..., 0., 0., 0.],\n",
      "       [0., 0., 0., ..., 0., 0., 0.],\n",
      "       [0., 0., 0., ..., 0., 0., 0.]]), array(['MMAT', '0.3', '1'], dtype='<U32')) -> Found in q0=2.5\n",
      "alpha_s: 0.4\n",
      "q0: 1.5\n",
      "config_03_alpha_0.4_q0_1.5_MMAT_MLBT_size_1200000_shuffled.pkl\n",
      "file found\n"
     ]
    },
    {
     "data": {
      "text/plain": [
       "1080000"
      ]
     },
     "metadata": {},
     "output_type": "display_data"
    },
    {
     "data": {
      "text/plain": [
       "(array([['MLBT', '0.4', '1.5'],\n",
       "        ['MMAT', '0.4', '1']], dtype='<U32'),\n",
       " array([540000, 540000]))"
      ]
     },
     "metadata": {},
     "output_type": "display_data"
    },
    {
     "name": "stdout",
     "output_type": "stream",
     "text": [
      "Config: (array([[0.0886838, 0.       , 0.       , ..., 0.       , 0.       ,\n",
      "        0.       ],\n",
      "       [0.       , 0.       , 0.       , ..., 0.       , 0.       ,\n",
      "        0.       ],\n",
      "       [0.       , 0.       , 0.       , ..., 0.       , 0.       ,\n",
      "        0.       ],\n",
      "       ...,\n",
      "       [0.       , 0.       , 0.       , ..., 0.       , 0.       ,\n",
      "        0.       ],\n",
      "       [0.       , 0.       , 0.       , ..., 0.       , 0.       ,\n",
      "        0.       ],\n",
      "       [0.       , 0.       , 0.       , ..., 0.       , 0.       ,\n",
      "        0.0506899]]), array(['MMAT', '0.4', '1'], dtype='<U32')) -> Found in q0=1.5\n",
      "alpha_s: 0.4\n",
      "q0: 2.0\n",
      "config_06_alpha_0.4_q0_2.0_MMAT_MLBT_size_1200000_shuffled.pkl\n",
      "file found\n"
     ]
    },
    {
     "data": {
      "text/plain": [
       "1080000"
      ]
     },
     "metadata": {},
     "output_type": "display_data"
    },
    {
     "data": {
      "text/plain": [
       "(array([['MLBT', '0.4', '2.0'],\n",
       "        ['MMAT', '0.4', '1']], dtype='<U32'),\n",
       " array([540000, 540000]))"
      ]
     },
     "metadata": {},
     "output_type": "display_data"
    },
    {
     "name": "stdout",
     "output_type": "stream",
     "text": [
      "Config: (array([[0.0886838, 0.       , 0.       , ..., 0.       , 0.       ,\n",
      "        0.       ],\n",
      "       [0.       , 0.       , 0.       , ..., 0.       , 0.       ,\n",
      "        0.       ],\n",
      "       [0.       , 0.       , 0.       , ..., 0.       , 0.       ,\n",
      "        0.       ],\n",
      "       ...,\n",
      "       [0.       , 0.       , 0.       , ..., 0.       , 0.       ,\n",
      "        0.       ],\n",
      "       [0.       , 0.       , 0.       , ..., 0.       , 0.       ,\n",
      "        0.       ],\n",
      "       [0.       , 0.       , 0.       , ..., 0.       , 0.       ,\n",
      "        0.0506899]]), array(['MMAT', '0.4', '1'], dtype='<U32')) -> Not found in q0=2.0\n",
      "alpha_s: 0.4\n",
      "q0: 2.5\n",
      "config_09_alpha_0.4_q0_2.5_MMAT_MLBT_size_1200000_shuffled.pkl\n",
      "file found\n"
     ]
    },
    {
     "data": {
      "text/plain": [
       "1080000"
      ]
     },
     "metadata": {},
     "output_type": "display_data"
    },
    {
     "data": {
      "text/plain": [
       "(array([['MLBT', '0.4', '2.5'],\n",
       "        ['MMAT', '0.4', '1']], dtype='<U32'),\n",
       " array([540000, 540000]))"
      ]
     },
     "metadata": {},
     "output_type": "display_data"
    },
    {
     "name": "stdout",
     "output_type": "stream",
     "text": [
      "Config: (array([[0.0886838, 0.       , 0.       , ..., 0.       , 0.       ,\n",
      "        0.       ],\n",
      "       [0.       , 0.       , 0.       , ..., 0.       , 0.       ,\n",
      "        0.       ],\n",
      "       [0.       , 0.       , 0.       , ..., 0.       , 0.       ,\n",
      "        0.       ],\n",
      "       ...,\n",
      "       [0.       , 0.       , 0.       , ..., 0.       , 0.       ,\n",
      "        0.       ],\n",
      "       [0.       , 0.       , 0.       , ..., 0.       , 0.       ,\n",
      "        0.       ],\n",
      "       [0.       , 0.       , 0.       , ..., 0.       , 0.       ,\n",
      "        0.0506899]]), array(['MMAT', '0.4', '1'], dtype='<U32')) -> Not found in q0=2.5\n",
      "[True, True, True, True, True, True, True, True, True, False, True, False, False, False, True, True, False, False]\n"
     ]
    }
   ],
   "source": [
    "check_list = find_entries_in_config_based_datasets(entries)\n",
    "print(check_list)"
   ]
  },
  {
   "cell_type": "code",
   "execution_count": 21,
   "metadata": {},
   "outputs": [
    {
     "name": "stdout",
     "output_type": "stream",
     "text": [
      "Total count of True in check_list: 12\n"
     ]
    }
   ],
   "source": [
    "# count number of True in check_list\n",
    "def check_truthtable(check_list):\n",
    "    count=0\n",
    "    for i in range(len(check_list)):\n",
    "        if check_list[i]:\n",
    "            count+=1\n",
    "    return count\n",
    "count=check_truthtable(check_list)\n",
    "print(f\"Total count of True in check_list: {count}\")\n"
   ]
  }
 ],
 "metadata": {
  "kernelspec": {
   "display_name": "Python 3.12.4 (tensorflow)",
   "language": "python",
   "name": "tensorflow"
  },
  "language_info": {
   "codemirror_mode": {
    "name": "ipython",
    "version": 3
   },
   "file_extension": ".py",
   "mimetype": "text/x-python",
   "name": "python",
   "nbconvert_exporter": "python",
   "pygments_lexer": "ipython3",
   "version": "3.12.5"
  }
 },
 "nbformat": 4,
 "nbformat_minor": 2
}
