{
 "cells": [
  {
   "cell_type": "code",
   "execution_count": 1,
   "metadata": {},
   "outputs": [],
   "source": [
    "def load_namespace():\n",
    "    import sys\n",
    "    sys.path.insert(1,f'/wsu/home/gy/gy40/gy4065/hm_jetscapeml_source')#WSU Grid\n",
    "    sys.path.insert(1,'/content/drive/My Drive/Projects/110_JetscapeMl/hm_jetscapeml_source')#Colab GDrive v1\n",
    "    sys.path.insert(1,'/content/drive/MyDrive/Projects/110_JetscapeMl/hm_jetscapeml_source')#Colab GDrive v2\n",
    "    sys.path.insert(1,f'/mnt/g/My Drive/Projects/110_JetscapeMl/hm_jetscapeml_source')#wsl gdrive\n",
    "    sys.path.insert(1,'G:\\\\My Drive\\\\Projects\\\\110_JetscapeMl\\\\hm_jetscapeml_source') #Windows GDrive\n",
    "    sys.path.insert(1,'/home/arsalan/Projects/110_JetscapeML/hm_jetscapeml_source/') #office tower\n",
    "    \n",
    "load_namespace()"
   ]
  },
  {
   "cell_type": "code",
   "execution_count": 2,
   "metadata": {},
   "outputs": [
    {
     "name": "stderr",
     "output_type": "stream",
     "text": [
      "2024-10-21 15:33:45.290407: I tensorflow/core/util/port.cc:153] oneDNN custom operations are on. You may see slightly different numerical results due to floating-point round-off errors from different computation orders. To turn them off, set the environment variable `TF_ENABLE_ONEDNN_OPTS=0`.\n",
      "2024-10-21 15:33:45.298008: E external/local_xla/xla/stream_executor/cuda/cuda_fft.cc:485] Unable to register cuFFT factory: Attempting to register factory for plugin cuFFT when one has already been registered\n",
      "2024-10-21 15:33:45.307026: E external/local_xla/xla/stream_executor/cuda/cuda_dnn.cc:8454] Unable to register cuDNN factory: Attempting to register factory for plugin cuDNN when one has already been registered\n",
      "2024-10-21 15:33:45.309772: E external/local_xla/xla/stream_executor/cuda/cuda_blas.cc:1452] Unable to register cuBLAS factory: Attempting to register factory for plugin cuBLAS when one has already been registered\n",
      "2024-10-21 15:33:45.316435: I tensorflow/core/platform/cpu_feature_guard.cc:210] This TensorFlow binary is optimized to use available CPU instructions in performance-critical operations.\n",
      "To enable the following instructions: AVX2 AVX_VNNI FMA, in other operations, rebuild TensorFlow with the appropriate compiler flags.\n",
      "2024-10-21 15:33:45.800024: W tensorflow/compiler/tf2tensorrt/utils/py_utils.cc:38] TF-TRT Warning: Could not find TensorRT\n"
     ]
    },
    {
     "name": "stdout",
     "output_type": "stream",
     "text": [
      "Directory /home/arsalan/Projects/110_JetscapeML/hm_jetscapeml_source/models/alpha_s_res_net_2_fold_3_epoch_1k_dataset_size_wsu_grid_v100_cpu_24_mem_256gb created.\n",
      "Directory /home/arsalan/Projects/110_JetscapeML/hm_jetscapeml_source/reports/alpha_s_res_net_2_fold_3_epoch_1k_dataset_size_wsu_grid_v100_cpu_24_mem_256gb created.\n",
      "Directory /home/arsalan/Projects/110_JetscapeML/hm_jetscapeml_source/reports/figures/alpha_s_res_net_2_fold_3_epoch_1k_dataset_size_wsu_grid_v100_cpu_24_mem_256gb created.\n"
     ]
    },
    {
     "name": "stderr",
     "output_type": "stream",
     "text": [
      "2024-10-21 15:33:46.341052: E external/local_xla/xla/stream_executor/cuda/cuda_driver.cc:266] failed call to cuInit: CUDA_ERROR_NO_DEVICE: no CUDA-capable device is detected\n"
     ]
    },
    {
     "data": {
      "text/plain": [
       "'Project Root: /home/arsalan/Projects/110_JetscapeML/hm_jetscapeml_source\\nData Directory: /home/arsalan/Projects/110_JetscapeML/hm_jetscapeml_source/data\\nModels Directory: /home/arsalan/Projects/110_JetscapeML/hm_jetscapeml_source/models\\nReports Directory: /home/arsalan/Projects/110_JetscapeML/hm_jetscapeml_source/reports\\nFigures Directory: /home/arsalan/Projects/110_JetscapeML/hm_jetscapeml_source/reports/figures\\nSimulation Models Directory: /home/arsalan/Projects/110_JetscapeML/hm_jetscapeml_source/models/alpha_s_res_net_2_fold_3_epoch_1k_dataset_size_wsu_grid_v100_cpu_24_mem_256gb\\nSimulation Reports Directory: /home/arsalan/Projects/110_JetscapeML/hm_jetscapeml_source/reports/alpha_s_res_net_2_fold_3_epoch_1k_dataset_size_wsu_grid_v100_cpu_24_mem_256gb\\nSimulation Figures Directory: /home/arsalan/Projects/110_JetscapeML/hm_jetscapeml_source/reports/figures/alpha_s_res_net_2_fold_3_epoch_1k_dataset_size_wsu_grid_v100_cpu_24_mem_256gb\\nEnvironment Details:\\n  TensorFlow Version: 2.17.0\\n  Keras Version: 3.5.0\\n  Python Version: 3.12.5 | packaged by conda-forge | (main, Aug  8 2024, 18:36:51) [GCC 12.4.0]\\n  Pandas Version: 2.2.2\\n  Scikit-Learn Version: 1.5.1\\n  GPU is NOT AVAILABLE'"
      ]
     },
     "execution_count": 2,
     "metadata": {},
     "output_type": "execute_result"
    }
   ],
   "source": [
    "# Loading/Preparing Environment for simulation\n",
    "from jet_ml.config import Config\n",
    "folds=2\n",
    "epochs=3\n",
    "dataset_size=1000 #10800000 #1000000\n",
    "model_name=\"res_net\"\n",
    "server_name=\"wsu_grid_v100_cpu_24_mem_256gb\"\n",
    "simulation_name=f\"alpha_s_{model_name}_{folds}_fold_{epochs}_epoch_{int(dataset_size/1000)}k_dataset_size_{server_name}\"\n",
    "\n",
    "config=Config(simulation_name=simulation_name)\n",
    "config.__str__()"
   ]
  },
  {
   "cell_type": "code",
   "execution_count": 3,
   "metadata": {},
   "outputs": [
    {
     "name": "stdout",
     "output_type": "stream",
     "text": [
      "Dataset Preprocessor\n",
      "Loading the whole dataset\n",
      "Extract the working column#1 for classification\n",
      "dataset.x: <class 'numpy.ndarray'> 1024000 (1000, 32, 32)\n",
      "dataset.y: <class 'numpy.ndarray'> 1000 (1000,)\n"
     ]
    },
    {
     "data": {
      "text/plain": [
       "'y_classes: '"
      ]
     },
     "metadata": {},
     "output_type": "display_data"
    },
    {
     "data": {
      "text/plain": [
       "Index(['0.2', '0.3', '0.4'], dtype='object')"
      ]
     },
     "metadata": {},
     "output_type": "display_data"
    },
    {
     "data": {
      "text/plain": [
       "'y: '"
      ]
     },
     "metadata": {},
     "output_type": "display_data"
    },
    {
     "data": {
      "text/plain": [
       "array([[1, 0, 0],\n",
       "       [1, 0, 0],\n",
       "       [1, 0, 0],\n",
       "       [1, 0, 0],\n",
       "       [1, 0, 0]])"
      ]
     },
     "metadata": {},
     "output_type": "display_data"
    },
    {
     "data": {
      "text/plain": [
       "'y_raw: '"
      ]
     },
     "metadata": {},
     "output_type": "display_data"
    },
    {
     "data": {
      "text/plain": [
       "array(['0.2', '0.2', '0.2', '0.2', '0.2'], dtype='<U32')"
      ]
     },
     "metadata": {},
     "output_type": "display_data"
    }
   ],
   "source": [
    "from IPython.display import display\n",
    "# with tf.device(\"CPU\"):\n",
    "import jet_ml.classifiers.alpha_s.preprocess_dataset as pred\n",
    "(x,y_raw,y_df)=pred.preprocess_dataset_for_alpha_s(dataset_size)\n",
    "y_classes=y_df.columns\n",
    "y=y_df.values\n",
    "display(\"y_classes: \",y_classes)\n",
    "display(\"y: \",y[:5])\n",
    "display(\"y_raw: \",y_raw[:5])"
   ]
  },
  {
   "cell_type": "code",
   "execution_count": 4,
   "metadata": {},
   "outputs": [
    {
     "data": {
      "text/plain": [
       "'x.shape (1000, 32, 32, 1)'"
      ]
     },
     "metadata": {},
     "output_type": "display_data"
    },
    {
     "data": {
      "text/plain": [
       "'y.shape (1000, 3)'"
      ]
     },
     "metadata": {},
     "output_type": "display_data"
    },
    {
     "data": {
      "text/plain": [
       "'Data is normalized: True'"
      ]
     },
     "metadata": {},
     "output_type": "display_data"
    },
    {
     "data": {
      "text/plain": [
       "'x_rgb.shape (1000, 32, 32, 3)'"
      ]
     },
     "metadata": {},
     "output_type": "display_data"
    },
    {
     "data": {
      "text/plain": [
       "'x_resized.shape (1000, 256, 256, 3)'"
      ]
     },
     "metadata": {},
     "output_type": "display_data"
    },
    {
     "data": {
      "text/plain": [
       "'y_resized.shape (1000, 3, 1)'"
      ]
     },
     "metadata": {},
     "output_type": "display_data"
    }
   ],
   "source": [
    "from jet_ml.classifiers.alpha_s.preprocess_dataset import preprocess_dataset_for_resnet\n",
    "\n",
    "WIDTH = 256\n",
    "HEIGHT = 256\n",
    "import tensorflow as tf\n",
    "with tf.device(\"/CPU:0\"):\n",
    "    x_resized,y_resized= preprocess_dataset_for_resnet(x,y,WIDTH,HEIGHT)"
   ]
  },
  {
   "cell_type": "code",
   "execution_count": 5,
   "metadata": {},
   "outputs": [],
   "source": [
    "if folds==1:\n",
    "    Display(\"Folds: \",folds)\n",
    "    TRAIN_PCT = 0.9\n",
    "    TRAIN_CUT = int(len(x) * TRAIN_PCT)\n",
    "\n",
    "    x_df_train_cut = x_resized[0:TRAIN_CUT]\n",
    "    x_df_validate_cut = x_resized[TRAIN_CUT:]\n",
    "\n",
    "    y_df_train_cut = y_resized[0:TRAIN_CUT]\n",
    "    y_df_validate_cut = y_resized[TRAIN_CUT:]\n",
    "\n",
    "\n",
    "    print(f\"Training size: {len(x_df_train_cut)}\")\n",
    "    print(f\"Validate size: {len(x_df_validate_cut)}\")\n",
    "    from jet_ml.dataset import create_train_data_generator, create_validation_data_generator\n",
    "    # Usage\n",
    "    train_generator = create_train_data_generator(x_df_train_cut, y_df_train_cut)\n",
    "    val_generator = create_validation_data_generator(x_df_validate_cut, y_df_validate_cut)\n",
    "    display(\"train_generator_x: \",train_generator.__next__()[0].shape)\n",
    "    display(\"train_generator_y: \",train_generator.__next__()[1].shape)\n",
    "    display(\"val_generator_x: \",val_generator.__next__()[0].shape)\n",
    "    display(\"val_generator_y: \",val_generator.__next__()[1].shape)\n",
    "    from jet_ml.models.resnet import build_model\n",
    "\n",
    "    with tf.device('/GPU:0'):#/GPU:0\n",
    "        import tensorflow as tf\n",
    "        # Enable logging of device placement\n",
    "        tf.debugging.set_log_device_placement(True)\n",
    "        \n",
    "        from tensorflow.keras.layers import Input\n",
    "        input_tensor = Input(shape=(HEIGHT, WIDTH, 3))\n",
    "        model=build_model(input_tensor,num_classes=3,activation='softmax')\n",
    "        # model.summary()\n",
    "        import tensorflow as tf\n",
    "\n",
    "        from jet_ml.models.helpers import compile_model\n",
    "        model=compile_model(model)\n",
    "    # model.summary()\n",
    "\n",
    "    from jet_ml.models.resnet import train_model\n",
    "    monitor='val_accuracy' #'val_accuracy' or 'val_loss'\n",
    "    import tensorflow as tf\n",
    "    with tf.device('/GPU:0'):#/GPU:0\n",
    "        train_model(model,train_generator,val_generator,epochs=epochs,monitor=monitor)\n",
    "    from jet_ml.evaluation import get_accuracy_from_generator\n",
    "    predictions, accuracy = get_accuracy_from_generator(model=model, data_generator=val_generator)  # or use train_generator\n",
    "\n",
    "    print(\"Predicted classes:\", predictions)\n",
    "    print(\"Accuracy:\", accuracy)\n",
    "\n"
   ]
  },
  {
   "cell_type": "code",
   "execution_count": 8,
   "metadata": {},
   "outputs": [
    {
     "name": "stdout",
     "output_type": "stream",
     "text": [
      "Fold #1\n",
      "Shape of x in the batch: (32, 256, 256, 3)\n",
      "Epoch 1/3\n"
     ]
    },
    {
     "name": "stderr",
     "output_type": "stream",
     "text": [
      "/home/arsalan/miniconda3/envs/tensorflow/lib/python3.12/site-packages/keras/src/trainers/data_adapters/py_dataset_adapter.py:122: UserWarning: Your `PyDataset` class should call `super().__init__(**kwargs)` in its constructor. `**kwargs` can include `workers`, `use_multiprocessing`, `max_queue_size`. Do not pass these arguments to `fit()`, as they will be ignored.\n",
      "  self._warn_if_super_not_called()\n"
     ]
    },
    {
     "name": "stdout",
     "output_type": "stream",
     "text": [
      "\u001b[1m15/15\u001b[0m \u001b[32m━━━━━━━━━━━━━━━━━━━━\u001b[0m\u001b[37m\u001b[0m \u001b[1m0s\u001b[0m 3s/step - accuracy: 0.2369 - loss: 3.9827\n",
      "Epoch 1: val_accuracy improved from -inf to 0.00000, saving model to /home/arsalan/Projects/110_JetscapeML/hm_jetscapeml_source/models/alpha_s_res_net_2_fold_3_epoch_1k_dataset_size_wsu_grid_v100_cpu_24_mem_256gb/ResNet50_fold_1_model.keras\n",
      "\u001b[1m15/15\u001b[0m \u001b[32m━━━━━━━━━━━━━━━━━━━━\u001b[0m\u001b[37m\u001b[0m \u001b[1m79s\u001b[0m 4s/step - accuracy: 0.2357 - loss: 4.0050 - val_accuracy: 0.0000e+00 - val_loss: 1.1655 - learning_rate: 0.0010\n",
      "Epoch 2/3\n",
      "\u001b[1m 1/15\u001b[0m \u001b[32m━\u001b[0m\u001b[37m━━━━━━━━━━━━━━━━━━━\u001b[0m \u001b[1m52s\u001b[0m 4s/step - accuracy: 0.6667 - loss: 2.1358"
     ]
    },
    {
     "name": "stderr",
     "output_type": "stream",
     "text": [
      "/home/arsalan/miniconda3/envs/tensorflow/lib/python3.12/contextlib.py:158: UserWarning: Your input ran out of data; interrupting training. Make sure that your dataset or generator can generate at least `steps_per_epoch * epochs` batches. You may need to use the `.repeat()` function when building your dataset.\n",
      "  self.gen.throw(value)\n"
     ]
    },
    {
     "name": "stdout",
     "output_type": "stream",
     "text": [
      "\n",
      "Epoch 2: val_accuracy did not improve from 0.00000\n",
      "\u001b[1m15/15\u001b[0m \u001b[32m━━━━━━━━━━━━━━━━━━━━\u001b[0m\u001b[37m\u001b[0m \u001b[1m4s\u001b[0m 41ms/step - accuracy: 0.6667 - loss: 2.1358 - val_accuracy: 0.0000e+00 - val_loss: 1.0692 - learning_rate: 0.0010\n",
      "Epoch 3/3\n",
      "\u001b[1m15/15\u001b[0m \u001b[32m━━━━━━━━━━━━━━━━━━━━\u001b[0m\u001b[37m\u001b[0m \u001b[1m0s\u001b[0m 4s/step - accuracy: 0.6197 - loss: 1.7469\n",
      "Epoch 3: val_accuracy did not improve from 0.00000\n",
      "\u001b[1m15/15\u001b[0m \u001b[32m━━━━━━━━━━━━━━━━━━━━\u001b[0m\u001b[37m\u001b[0m \u001b[1m67s\u001b[0m 5s/step - accuracy: 0.6181 - loss: 1.7371 - val_accuracy: 0.0000e+00 - val_loss: 23.5405 - learning_rate: 0.0010\n",
      "Restoring model weights from the end of the best epoch: 1.\n",
      "Elpased time: 0:02:30\n",
      "batch_index: 1\n",
      "\u001b[1m1/1\u001b[0m \u001b[32m━━━━━━━━━━━━━━━━━━━━\u001b[0m\u001b[37m\u001b[0m \u001b[1m1s\u001b[0m 1s/step\n",
      "batch_index: 2\n",
      "\u001b[1m1/1\u001b[0m \u001b[32m━━━━━━━━━━━━━━━━━━━━\u001b[0m\u001b[37m\u001b[0m \u001b[1m1s\u001b[0m 818ms/step\n",
      "batch_index: 3\n",
      "\u001b[1m1/1\u001b[0m \u001b[32m━━━━━━━━━━━━━━━━━━━━\u001b[0m\u001b[37m\u001b[0m \u001b[1m1s\u001b[0m 820ms/step\n",
      "batch_index: 4\n",
      "\u001b[1m1/1\u001b[0m \u001b[32m━━━━━━━━━━━━━━━━━━━━\u001b[0m\u001b[37m\u001b[0m \u001b[1m1s\u001b[0m 802ms/step\n",
      "batch_index: 5\n",
      "\u001b[1m1/1\u001b[0m \u001b[32m━━━━━━━━━━━━━━━━━━━━\u001b[0m\u001b[37m\u001b[0m \u001b[1m1s\u001b[0m 892ms/step\n",
      "batch_index: 6\n",
      "\u001b[1m1/1\u001b[0m \u001b[32m━━━━━━━━━━━━━━━━━━━━\u001b[0m\u001b[37m\u001b[0m \u001b[1m1s\u001b[0m 830ms/step\n",
      "batch_index: 7\n",
      "\u001b[1m1/1\u001b[0m \u001b[32m━━━━━━━━━━━━━━━━━━━━\u001b[0m\u001b[37m\u001b[0m \u001b[1m1s\u001b[0m 805ms/step\n",
      "batch_index: 8\n",
      "\u001b[1m1/1\u001b[0m \u001b[32m━━━━━━━━━━━━━━━━━━━━\u001b[0m\u001b[37m\u001b[0m \u001b[1m1s\u001b[0m 826ms/step\n",
      "batch_index: 9\n",
      "\u001b[1m1/1\u001b[0m \u001b[32m━━━━━━━━━━━━━━━━━━━━\u001b[0m\u001b[37m\u001b[0m \u001b[1m1s\u001b[0m 812ms/step\n",
      "batch_index: 10\n",
      "\u001b[1m1/1\u001b[0m \u001b[32m━━━━━━━━━━━━━━━━━━━━\u001b[0m\u001b[37m\u001b[0m \u001b[1m1s\u001b[0m 815ms/step\n",
      "batch_index: 11\n",
      "\u001b[1m1/1\u001b[0m \u001b[32m━━━━━━━━━━━━━━━━━━━━\u001b[0m\u001b[37m\u001b[0m \u001b[1m1s\u001b[0m 813ms/step\n",
      "batch_index: 12\n",
      "\u001b[1m1/1\u001b[0m \u001b[32m━━━━━━━━━━━━━━━━━━━━\u001b[0m\u001b[37m\u001b[0m \u001b[1m1s\u001b[0m 805ms/step\n",
      "batch_index: 13\n",
      "\u001b[1m1/1\u001b[0m \u001b[32m━━━━━━━━━━━━━━━━━━━━\u001b[0m\u001b[37m\u001b[0m \u001b[1m1s\u001b[0m 827ms/step\n",
      "batch_index: 14\n",
      "\u001b[1m1/1\u001b[0m \u001b[32m━━━━━━━━━━━━━━━━━━━━\u001b[0m\u001b[37m\u001b[0m \u001b[1m1s\u001b[0m 835ms/step\n",
      "batch_index: 15\n",
      "\u001b[1m1/1\u001b[0m \u001b[32m━━━━━━━━━━━━━━━━━━━━\u001b[0m\u001b[37m\u001b[0m \u001b[1m1s\u001b[0m 842ms/step\n",
      "batch_index: 16\n",
      "\u001b[1m1/1\u001b[0m \u001b[32m━━━━━━━━━━━━━━━━━━━━\u001b[0m\u001b[37m\u001b[0m \u001b[1m1s\u001b[0m 1s/step\n",
      "Accuracy: 0.332\n",
      "Fold score (accuracy): 0.332\n"
     ]
    },
    {
     "ename": "ValueError",
     "evalue": "cannot select an axis to squeeze out which has size not equal to one",
     "output_type": "error",
     "traceback": [
      "\u001b[0;31m---------------------------------------------------------------------------\u001b[0m",
      "\u001b[0;31mAttributeError\u001b[0m                            Traceback (most recent call last)",
      "File \u001b[0;32m~/miniconda3/envs/tensorflow/lib/python3.12/site-packages/numpy/core/fromnumeric.py:1552\u001b[0m, in \u001b[0;36msqueeze\u001b[0;34m(a, axis)\u001b[0m\n\u001b[1;32m   1551\u001b[0m \u001b[38;5;28;01mtry\u001b[39;00m:\n\u001b[0;32m-> 1552\u001b[0m     squeeze \u001b[38;5;241m=\u001b[39m \u001b[43ma\u001b[49m\u001b[38;5;241;43m.\u001b[39;49m\u001b[43msqueeze\u001b[49m\n\u001b[1;32m   1553\u001b[0m \u001b[38;5;28;01mexcept\u001b[39;00m \u001b[38;5;167;01mAttributeError\u001b[39;00m:\n",
      "\u001b[0;31mAttributeError\u001b[0m: 'list' object has no attribute 'squeeze'",
      "\nDuring handling of the above exception, another exception occurred:\n",
      "\u001b[0;31mValueError\u001b[0m                                Traceback (most recent call last)",
      "Cell \u001b[0;32mIn[8], line 77\u001b[0m\n\u001b[1;32m     75\u001b[0m \u001b[38;5;28;01mfrom\u001b[39;00m \u001b[38;5;21;01mjet_ml\u001b[39;00m\u001b[38;5;21;01m.\u001b[39;00m\u001b[38;5;21;01mevaluation\u001b[39;00m \u001b[38;5;28;01mimport\u001b[39;00m store_out_of_sample_y_and_predictions\n\u001b[1;32m     76\u001b[0m \u001b[38;5;66;03m# convert out_of_sample_y from (1000, 3, 1) to (1000, 3)\u001b[39;00m\n\u001b[0;32m---> 77\u001b[0m out_of_sample_y_squeezed\u001b[38;5;241m=\u001b[39m\u001b[43mnp\u001b[49m\u001b[38;5;241;43m.\u001b[39;49m\u001b[43msqueeze\u001b[49m\u001b[43m(\u001b[49m\u001b[43mout_of_sample_y\u001b[49m\u001b[43m,\u001b[49m\u001b[43maxis\u001b[49m\u001b[38;5;241;43m=\u001b[39;49m\u001b[38;5;241;43m1\u001b[39;49m\u001b[43m)\u001b[49m\n\u001b[1;32m     78\u001b[0m store_out_of_sample_y_and_predictions(y_df,out_of_sample_y_squeezed,out_of_sample_pred,y_classes,fold\u001b[38;5;241m=\u001b[39mfold)\n\u001b[1;32m     81\u001b[0m \u001b[38;5;28;01mfrom\u001b[39;00m \u001b[38;5;21;01mjet_ml\u001b[39;00m\u001b[38;5;21;01m.\u001b[39;00m\u001b[38;5;21;01mevaluation\u001b[39;00m \u001b[38;5;28;01mimport\u001b[39;00m save_training_history\n",
      "File \u001b[0;32m~/miniconda3/envs/tensorflow/lib/python3.12/site-packages/numpy/core/fromnumeric.py:1554\u001b[0m, in \u001b[0;36msqueeze\u001b[0;34m(a, axis)\u001b[0m\n\u001b[1;32m   1552\u001b[0m     squeeze \u001b[38;5;241m=\u001b[39m a\u001b[38;5;241m.\u001b[39msqueeze\n\u001b[1;32m   1553\u001b[0m \u001b[38;5;28;01mexcept\u001b[39;00m \u001b[38;5;167;01mAttributeError\u001b[39;00m:\n\u001b[0;32m-> 1554\u001b[0m     \u001b[38;5;28;01mreturn\u001b[39;00m \u001b[43m_wrapit\u001b[49m\u001b[43m(\u001b[49m\u001b[43ma\u001b[49m\u001b[43m,\u001b[49m\u001b[43m \u001b[49m\u001b[38;5;124;43m'\u001b[39;49m\u001b[38;5;124;43msqueeze\u001b[39;49m\u001b[38;5;124;43m'\u001b[39;49m\u001b[43m,\u001b[49m\u001b[43m \u001b[49m\u001b[43maxis\u001b[49m\u001b[38;5;241;43m=\u001b[39;49m\u001b[43maxis\u001b[49m\u001b[43m)\u001b[49m\n\u001b[1;32m   1555\u001b[0m \u001b[38;5;28;01mif\u001b[39;00m axis \u001b[38;5;129;01mis\u001b[39;00m \u001b[38;5;28;01mNone\u001b[39;00m:\n\u001b[1;32m   1556\u001b[0m     \u001b[38;5;28;01mreturn\u001b[39;00m squeeze()\n",
      "File \u001b[0;32m~/miniconda3/envs/tensorflow/lib/python3.12/site-packages/numpy/core/fromnumeric.py:45\u001b[0m, in \u001b[0;36m_wrapit\u001b[0;34m(obj, method, *args, **kwds)\u001b[0m\n\u001b[1;32m     43\u001b[0m \u001b[38;5;28;01mexcept\u001b[39;00m \u001b[38;5;167;01mAttributeError\u001b[39;00m:\n\u001b[1;32m     44\u001b[0m     wrap \u001b[38;5;241m=\u001b[39m \u001b[38;5;28;01mNone\u001b[39;00m\n\u001b[0;32m---> 45\u001b[0m result \u001b[38;5;241m=\u001b[39m \u001b[38;5;28;43mgetattr\u001b[39;49m\u001b[43m(\u001b[49m\u001b[43masarray\u001b[49m\u001b[43m(\u001b[49m\u001b[43mobj\u001b[49m\u001b[43m)\u001b[49m\u001b[43m,\u001b[49m\u001b[43m \u001b[49m\u001b[43mmethod\u001b[49m\u001b[43m)\u001b[49m\u001b[43m(\u001b[49m\u001b[38;5;241;43m*\u001b[39;49m\u001b[43margs\u001b[49m\u001b[43m,\u001b[49m\u001b[43m \u001b[49m\u001b[38;5;241;43m*\u001b[39;49m\u001b[38;5;241;43m*\u001b[39;49m\u001b[43mkwds\u001b[49m\u001b[43m)\u001b[49m\n\u001b[1;32m     46\u001b[0m \u001b[38;5;28;01mif\u001b[39;00m wrap:\n\u001b[1;32m     47\u001b[0m     \u001b[38;5;28;01mif\u001b[39;00m \u001b[38;5;129;01mnot\u001b[39;00m \u001b[38;5;28misinstance\u001b[39m(result, mu\u001b[38;5;241m.\u001b[39mndarray):\n",
      "\u001b[0;31mValueError\u001b[0m: cannot select an axis to squeeze out which has size not equal to one"
     ]
    }
   ],
   "source": [
    "if folds !=1:\n",
    "    from jet_ml.dataset import create_train_data_generator, create_validation_data_generator\n",
    "    from jet_ml.models.resnet import build_model\n",
    "    from jet_ml.models.helpers import compile_model\n",
    "    from jet_ml.models.resnet import train_model\n",
    "    from jet_ml.evaluation import get_accuracy\n",
    "\n",
    "    # fold, shuffle, x, y_raw\n",
    "    import numpy as np\n",
    "    from sklearn.model_selection import StratifiedKFold\n",
    "    from sklearn import metrics\n",
    "    k_fold=StratifiedKFold(folds,shuffle=True,random_state=42)\n",
    "\n",
    "    out_of_sample_y=[]\n",
    "    out_of_sample_pred=[]\n",
    "    folds_accuracy=[]\n",
    "    epochs_needed = []\n",
    "    times_taken=[]\n",
    "    fold=0\n",
    "\n",
    "    #Must specify y StratifiedKFold for classification\n",
    "    for train,test in k_fold.split(x,y_raw):\n",
    "        fold+=1\n",
    "        print(f\"Fold #{fold}\")\n",
    "\n",
    "        x_train=x_resized[train]\n",
    "        y_train=y_resized[train]\n",
    "        train_generator = create_train_data_generator(x_train, y_train)\n",
    "        # Get a batch of data\n",
    "        x_batch, y_batch = next(train_generator)\n",
    "\n",
    "        # Get the shape of y (labels) from the batch\n",
    "        x_batch_shape = x_batch.shape\n",
    "\n",
    "        print(\"Shape of x in the batch:\", x_batch_shape)\n",
    "        \n",
    "        #log train_generator size\n",
    "        # print(f\"train_generator size: {len(train_generator)}\")\n",
    "        x_test=x_resized[test]\n",
    "        y_test=y_resized[test]\n",
    "        val_generator = create_validation_data_generator(x_test, y_test)\n",
    "\n",
    "        # from jet_ml.models import resnet\n",
    "        from tensorflow.keras.layers import Input\n",
    "        \n",
    "        input_tensor = Input(shape=(HEIGHT, WIDTH, 3))\n",
    "        output_shape=y.shape[1]\n",
    "        activation='softmax'\n",
    "        import tensorflow as tf\n",
    "        with tf.device('GPU:0'):#/GPU:0\n",
    "            model=build_model(input_tensor,num_classes=output_shape,activation=activation)\n",
    "            # model.summary()\n",
    "            model=compile_model(model)\n",
    "            monitor='val_accuracy' #'val_accuracy' or 'val_loss'\n",
    "            \n",
    "            model, history,elapsed_time,stopped_epoch=train_model(model,\n",
    "                                                                train_generator,val_generator,\n",
    "                                                                epochs=epochs,monitor=monitor,\n",
    "                                                                fold=fold)\n",
    "\n",
    "        from jet_ml.evaluation import get_accuracy_from_generator\n",
    "        pred, score=get_accuracy_from_generator(model=model, data_generator=val_generator)\n",
    "        \n",
    "        print(f\"Accuracy: {score}\")\n",
    "        print(f\"Fold score (accuracy): {score}\")\n",
    "        folds_accuracy.append(score)\n",
    "\n",
    "        times_taken.append(elapsed_time)    \n",
    "        epochs_needed.append(epochs)\n",
    "\n",
    "        out_of_sample_y.append(y_test)\n",
    "        out_of_sample_pred.append(pred)\n",
    "\n",
    "\n",
    "        from jet_ml.evaluation import store_out_of_sample_y_and_predictions\n",
    "        # convert out_of_sample_y from (1000, 3, 1) to (1000, 3)\n",
    "        display(\"out_of_sample_y.shape: \",np.array(out_of_sample_y).shape)\n",
    "        out_of_sample_y_squeezed=np.squeeze(out_of_sample_y,axis=1)\n",
    "        store_out_of_sample_y_and_predictions(y_df,out_of_sample_y_squeezed,out_of_sample_pred,y_classes,fold=fold)\n",
    "        \n",
    "\n",
    "        from jet_ml.evaluation import save_training_history\n",
    "        save_training_history(history=history,fold=fold)\n",
    "\n",
    "        from jet_ml.evaluation import plot_training_history\n",
    "        plot_training_history(history=history,fold=fold)\n",
    "\n",
    "        from jet_ml.evaluation import save_training_stats\n",
    "        save_training_stats(accuracies=folds_accuracy,\n",
    "                            epochs_needed=epochs_needed,\n",
    "                            times_taken=times_taken)\n",
    "\n"
   ]
  },
  {
   "cell_type": "code",
   "execution_count": null,
   "metadata": {},
   "outputs": [],
   "source": [
    "# Build the oos prediction list and calculate the error.\n",
    "out_of_sample_y=np.concatenate(out_of_sample_y)\n",
    "display(\"out_of_sample_y.shape: \", out_of_sample_y.shape)\n",
    "display(\"out_of_sample_y: \",out_of_sample_y[:5])\n",
    "\n",
    "out_of_sample_pred=np.concatenate(out_of_sample_pred)\n",
    "\n",
    "# convert the out_of_sample_y to a 1D array\n",
    "out_of_sample_y_compare=np.argmax(out_of_sample_y,axis=1)# For accuracy and confusion matrix calculation\n",
    "display(\"out_of_sample_compare.shape: \",out_of_sample_y_compare.shape)\n",
    "display(\"out_of_sample_compare\" ,out_of_sample_y_compare[:5])\n"
   ]
  },
  {
   "cell_type": "code",
   "execution_count": 6,
   "metadata": {},
   "outputs": [
    {
     "data": {
      "text/plain": [
       "0.333"
      ]
     },
     "metadata": {},
     "output_type": "display_data"
    }
   ],
   "source": [
    "from jet_ml.evaluation import calculate_accuracy\n",
    "calculate_accuracy(out_of_sample_y_compare,out_of_sample_pred)"
   ]
  },
  {
   "cell_type": "code",
   "execution_count": 7,
   "metadata": {},
   "outputs": [],
   "source": [
    "from jet_ml.evaluation import store_out_of_sample_y_and_predictions\n",
    "# convert out_of_sample_y from (1000, 3, 1) to (1000, 3)\n",
    "out_of_sample_y_squeezed=np.squeeze(out_of_sample_y,axis=2)\n",
    "store_out_of_sample_y_and_predictions(y_df,out_of_sample_y_squeezed,out_of_sample_pred,y_classes)"
   ]
  },
  {
   "cell_type": "code",
   "execution_count": 9,
   "metadata": {},
   "outputs": [
    {
     "name": "stdout",
     "output_type": "stream",
     "text": [
      "Confusion matrix, without normalization\n",
      "[[167 168   0]\n",
      " [167 166   0]\n",
      " [166 166   0]]\n",
      "Normalized confusion matrix\n",
      "[[0.5 0.5 0. ]\n",
      " [0.5 0.5 0. ]\n",
      " [0.5 0.5 0. ]]\n"
     ]
    },
    {
     "data": {
      "image/png": "[encoded data removed]",
      "text/plain": [
       "<Figure size 640x480 with 2 Axes>"
      ]
     },
     "metadata": {},
     "output_type": "display_data"
    },
    {
     "data": {
      "image/png": "[encoded data removed]",
      "text/plain": [
       "<Figure size 640x480 with 2 Axes>"
      ]
     },
     "metadata": {},
     "output_type": "display_data"
    }
   ],
   "source": [
    "from jet_ml.evaluation import calculate_confusion_matrix\n",
    "calculate_confusion_matrix(out_of_sample_y_compare, out_of_sample_pred,y_classes)"
   ]
  }
 ],
 "metadata": {
  "kernelspec": {
   "display_name": "Python 3.12.4 (tensorflow)",
   "language": "python",
   "name": "tensorflow"
  },
  "language_info": {
   "codemirror_mode": {
    "name": "ipython",
    "version": 3
   },
   "file_extension": ".py",
   "mimetype": "text/x-python",
   "name": "python",
   "nbconvert_exporter": "python",
   "pygments_lexer": "ipython3",
   "version": "3.12.5"
  }
 },
 "nbformat": 4,
 "nbformat_minor": 2
}
