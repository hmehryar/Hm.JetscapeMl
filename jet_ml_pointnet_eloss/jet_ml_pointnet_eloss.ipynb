{
  "cells": [
    {
      "cell_type": "markdown",
      "metadata": {
        "colab_type": "text",
        "id": "view-in-github"
      },
      "source": [
        "<a href=\"https://colab.research.google.com/github/hmehryar/Hm.JetscapeMl/blob/309-implementingtraining-pointnet-for-alpha_s-with-various-epochs-and-folds-and-finding-the-best-learning-rate/jet_ml_pointnet_alpha_s/jet_ml_pointnet_alpha_s.ipynb\" target=\"_parent\"><img src=\"https://colab.research.google.com/assets/colab-badge.svg\" alt=\"Open In Colab\"/></a>"
      ]
    },
    {
      "cell_type": "code",
      "execution_count": null,
      "metadata": {
        "id": "ABQ-iwWYE11A"
      },
      "outputs": [],
      "source": [
        "# !pip install --upgrade tensorflow\n",
        "import tensorflow as tf"
      ]
    },
    {
      "cell_type": "code",
      "execution_count": null,
      "metadata": {
        "colab": {
          "base_uri": "https://localhost:8080/"
        },
        "id": "7QTmTx2NmfYy",
        "outputId": "3cdee538-921e-4edd-d2fc-fe5e157b38b0"
      },
      "outputs": [],
      "source": [
        "# uncomment this cell when you are on COLAB\n",
        "# device_name = tf.test.gpu_device_name()\n",
        "# if device_name != '/device:GPU:0':\n",
        "#   raise SystemError('GPU device not found')\n",
        "# print('Found GPU at: {}'.format(device_name))\n",
        "# # from google.colab import drive\n",
        "# # drive.mount('/content/drive')"
      ]
    },
    {
      "cell_type": "code",
      "execution_count": null,
      "metadata": {
        "id": "fN_qL4lPE11B"
      },
      "outputs": [],
      "source": [
        "import sys\n",
        "sys.path.insert(1,'/wsu/home/gy/gy40/gy4065/hm.jetscapeml.source')\n",
        "sys.path.insert(1,'/content/drive/My Drive/Projects/110_JetscapeMl/hm.jetscapeml.source')\n",
        "sys.path.insert(1,'/content/drive/MyDrive/Projects/110_JetscapeMl/hm.jetscapeml.source')\n",
        "sys.path.insert(1,'/g/My Drive/Projects/110_JetscapeMl/hm.jetscapeml.source')\n",
        "sys.path.insert(1,'G:\\\\My Drive\\\\Projects\\\\110_JetscapeMl\\\\hm.jetscapeml.source')"
      ]
    },
    {
      "cell_type": "code",
      "execution_count": null,
      "metadata": {
        "colab": {
          "base_uri": "https://localhost:8080/"
        },
        "id": "CnUN6eQFE11B",
        "outputId": "b32e027c-63e8-43f9-ff48-186fec1d5312"
      },
      "outputs": [],
      "source": [
        "from jet_ml_dataset_builder.jet_ml_dataset_builder_utilities import set_directory_paths\n",
        "dataset_directory_path, simulation_directory_path = set_directory_paths()"
      ]
    },
    {
      "cell_type": "code",
      "execution_count": null,
      "metadata": {
        "colab": {
          "base_uri": "https://localhost:8080/"
        },
        "id": "M0Ia3knFE11C",
        "outputId": "5786af16-130f-4124-e350-70ab70782c24"
      },
      "outputs": [],
      "source": [
        "from jet_ml_dataset_builder.jet_ml_dataset_builder_utilities import get_labels_str\n",
        "label_str_dict=get_labels_str()"
      ]
    },
    {
      "cell_type": "code",
      "execution_count": null,
      "metadata": {
        "colab": {
          "base_uri": "https://localhost:8080/"
        },
        "id": "7xJ4GM0mE11C",
        "outputId": "c13230d4-7f03-4356-d961-0681d365890f"
      },
      "outputs": [],
      "source": [
        "with tf.device(\"CPU\"):\n",
        "    from jet_ml_dataset_builder.jet_ml_dataset_builder_utilities import get_dataset\n",
        "    dataset_size=1000\n",
        "    dataset_x, dataset_y=get_dataset(dataset_size,label_str_dict, dataset_directory_path,working_column=0,scale_x=True)"
      ]
    },
    {
      "cell_type": "code",
      "execution_count": null,
      "metadata": {
        "colab": {
          "base_uri": "https://localhost:8080/"
        },
        "id": "hwq-rIjQE11D",
        "outputId": "3859c036-a043-4bd8-cf6f-02ceab3a6898"
      },
      "outputs": [],
      "source": [
        "with tf.device(\"CPU\"):\n",
        "    from jet_ml_models.pointnet import preprocess_dataset\n",
        "    (x_train,  y_train,x_test,  y_test)=preprocess_dataset(dataset_x, dataset_y,is_one_hot_encoded=True)\n",
        "    print(\"deleting original dataset\")\n",
        "    del dataset_x,dataset_y"
      ]
    },
    {
      "cell_type": "code",
      "execution_count": null,
      "metadata": {
        "id": "75D5CtfxE11D"
      },
      "outputs": [],
      "source": [
        "with tf.device(\"CPU\"):\n",
        "    from jet_ml_models.pointnet import create_tf_dataset\n",
        "    print(\"converting to tensor data\")\n",
        "    # Create TensorFlow Dataset for training data and test data\n",
        "    dataset = create_tf_dataset(x_train, y_train)\n",
        "    test_dataset = create_tf_dataset(x_test, y_test)\n",
        "    len_x_train=len(x_train)\n",
        "    len_x_test=len(x_test)\n",
        "    print(\"deleting preprocessed dataset\")\n",
        "    del x_train,y_train,x_test,y_test"
      ]
    },
    {
      "cell_type": "code",
      "execution_count": null,
      "metadata": {
        "id": "HhPSN2l5E11D"
      },
      "outputs": [],
      "source": [
        "from jet_ml_models.pointnet import prepare_datasets\n",
        "from jet_ml_models.pointnet import augment\n",
        "\n",
        "with tf.device(\"CPU\"):\n",
        "    # Prepare datasets for training\n",
        "    print(\"going to prepare dataset\")\n",
        "    train_dataset, validation_dataset,test_dataset = prepare_datasets(dataset, test_dataset, len_x_train, len_x_test, augment,train_size=1)\n",
        "    print(\"deleting initial tensor dataset\")\n",
        "    del dataset"
      ]
    },
    {
      "cell_type": "code",
      "execution_count": null,
      "metadata": {},
      "outputs": [],
      "source": [
        "with tf.device(\"CPU\"):\n",
        "    print(len(test_dataset))\n",
        "    print(len(validation_dataset))"
      ]
    },
    {
      "cell_type": "code",
      "execution_count": null,
      "metadata": {
        "colab": {
          "base_uri": "https://localhost:8080/"
        },
        "id": "Yf_g2CF4E11E",
        "outputId": "ae6afb80-ea8c-4dfc-aced-251b3572ae00"
      },
      "outputs": [],
      "source": [
        "from jet_ml_dataset_builder.jet_ml_dataset_builder_utilities import generate_simulation_path\n",
        "monitor = 'val_accuracy'  # 'val_accuracy' or 'val_loss'\n",
        "\n",
        "classifying_parameter=\"eloss\"\n",
        "n_epochs = 100\n",
        "fold = 1\n",
        "\n",
        "current_simulation_path = generate_simulation_path(simulation_directory_path, classifying_parameter,label_str_dict, dataset_size, n_epochs, fold)\n",
        "print(\"current_simulation_path:\",current_simulation_path)\n",
        "\n",
        "# Use ModelCheckpoint callback to save the best model\n",
        "best_model_file_path = f'{current_simulation_path}_best_model.keras'\n",
        "print(\"best_model_file_path:\",best_model_file_path)"
      ]
    },
    {
      "cell_type": "code",
      "execution_count": null,
      "metadata": {
        "id": "dUUGesHrmfY0"
      },
      "outputs": [],
      "source": [
        "from jet_ml_models.pointnet import build_pointnet_classifier_model\n",
        "\n",
        "NUM_POINTS = 1024\n",
        "#because alpha_s can get 3 values\n",
        "NUM_CLASSES = 2\n",
        "# activation=\"softmax\"\n",
        "activation=\"sigmoid\"\n",
        "\n",
        "pointnet=build_pointnet_classifier_model(NUM_POINTS=NUM_POINTS,NUM_CLASSES=NUM_CLASSES, activation=activation)\n"
      ]
    },
    {
      "cell_type": "code",
      "execution_count": null,
      "metadata": {
        "id": "Mu-55lL4mfY1"
      },
      "outputs": [],
      "source": [
        "from jet_ml_models.pointnet import compile_pointnet_classifier_model_with_hyperparam\n",
        "from jet_ml_models.pointnet import print_model_summary\n",
        "learning_rate=0.001\n",
        "# loss='sparse_categorical_crossentropy'\n",
        "# loss='categorical_crossentropy',\n",
        "loss=\"binary_crossentropy\",\n",
        "# metrics='sparse_categorical_accuracy'\n",
        "metrics=['accuracy'],\n",
        "\n",
        "pointnet=compile_pointnet_classifier_model_with_hyperparam(pointnet,learning_rate=learning_rate, loss=loss,metrics=metrics)\n",
        "print_model_summary(pointnet)"
      ]
    },
    {
      "cell_type": "code",
      "execution_count": null,
      "metadata": {
        "colab": {
          "base_uri": "https://localhost:8080/"
        },
        "id": "ItMIa0ZxE11E",
        "outputId": "2d02f002-1d05-428f-f37d-b6e7dd097fbf"
      },
      "outputs": [],
      "source": [
        "# %%timeit -n1 -r1\n",
        "from jet_ml_models.pointnet import train_model_with_callbacks\n",
        "# monitor='val_sparse_categorical_accuracy'\n",
        "monitor='val_accuracy'\n",
        "with tf.device('/GPU:0'):\n",
        "  model, history, train_time=train_model_with_callbacks(pointnet, train_dataset=train_dataset, validation_dataset=validation_dataset,monitor=monitor, best_model_file_path=best_model_file_path, n_epochs=n_epochs)"
      ]
    },
    {
      "cell_type": "code",
      "execution_count": null,
      "metadata": {
        "colab": {
          "base_uri": "https://localhost:8080/"
        },
        "id": "rEDiOd94E11E",
        "outputId": "0106290e-2149-4235-f00a-768a3e168b19"
      },
      "outputs": [],
      "source": [
        "print(train_time)\n",
        "print(model)\n",
        "print(history.history)"
      ]
    },
    {
      "cell_type": "code",
      "execution_count": null,
      "metadata": {
        "colab": {
          "base_uri": "https://localhost:8080/"
        },
        "id": "yY5W0FPyE11E",
        "outputId": "908e4bb0-b104-4092-9e2b-01c749f9111a"
      },
      "outputs": [],
      "source": [
        "from jet_ml_models.pointnet import save_training_history\n",
        "training_history_file_path_json,training_history_file_path_csv,training_history_file_path_csv = \\\n",
        "  save_training_history(history,current_simulation_path)"
      ]
    },
    {
      "cell_type": "code",
      "execution_count": null,
      "metadata": {
        "colab": {
          "base_uri": "https://localhost:8080/",
          "height": 624
        },
        "id": "0f56lUDLE11F",
        "outputId": "3e76b9ba-9a0d-4bc6-f9a7-1316d6836564"
      },
      "outputs": [],
      "source": [
        "from jet_ml_models.pointnet import plot_training_history\n",
        "plot_training_history_path=plot_training_history(history,current_simulation_path)\n",
        "print(plot_training_history_path)"
      ]
    },
    {
      "cell_type": "code",
      "execution_count": null,
      "metadata": {
        "colab": {
          "base_uri": "https://localhost:8080/"
        },
        "id": "knyOyK5EE11F",
        "outputId": "10802eba-aca8-4cce-c0d3-73c824a4b764"
      },
      "outputs": [],
      "source": [
        "from jet_ml_models.pointnet import evaluate_model\n",
        "accuracy, confusion_matrix = evaluate_model(model,test_dataset=test_dataset)"
      ]
    },
    {
      "cell_type": "code",
      "execution_count": null,
      "metadata": {
        "colab": {
          "base_uri": "https://localhost:8080/",
          "height": 272
        },
        "id": "69PoytJAE11F",
        "outputId": "b6d09bd0-9ab7-48c3-aabf-2b5511e10d9c"
      },
      "outputs": [],
      "source": [
        "from jet_ml_models.pointnet import save_kfold_results\n",
        "results_kfold = []\n",
        "results_kfold.append({\n",
        "                  'Dataset Size': dataset_size,\n",
        "                  'Classifier': model.name,\n",
        "                  'Fold Number': fold,\n",
        "                  'Accuracy': accuracy,\n",
        "                  'Confusion Matrix': confusion_matrix,\n",
        "                  'Train Time': train_time,\n",
        "                  'Loss/Accuracy Plot Path': plot_training_history_path,\n",
        "                  'Best Model Path': best_model_file_path\n",
        "              })\n",
        "save_kfold_results(results_kfold, current_simulation_path)"
      ]
    }
  ],
  "metadata": {
    "accelerator": "GPU",
    "colab": {
      "gpuType": "T4",
      "include_colab_link": true,
      "provenance": []
    },
    "kernelspec": {
      "display_name": "Python 3",
      "name": "python3"
    },
    "language_info": {
      "codemirror_mode": {
        "name": "ipython",
        "version": 3
      },
      "file_extension": ".py",
      "mimetype": "text/x-python",
      "name": "python",
      "nbconvert_exporter": "python",
      "pygments_lexer": "ipython3",
      "version": "3.11.5"
    }
  },
  "nbformat": 4,
  "nbformat_minor": 0
}
