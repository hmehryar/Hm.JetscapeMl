{
  "cells": [
    {
      "cell_type": "markdown",
      "metadata": {
        "colab_type": "text",
        "id": "view-in-github"
      },
      "source": [
        "<a href=\"https://colab.research.google.com/github/hmehryar/Hm.JetscapeMl/blob/309-implementingtraining-pointnet-for-alpha_s-with-various-epochs-and-folds-and-finding-the-best-learning-rate/jet_ml_pointnet_alpha_s/jet_ml_pointnet_alpha_s.ipynb\" target=\"_parent\"><img src=\"https://colab.research.google.com/assets/colab-badge.svg\" alt=\"Open In Colab\"/></a>"
      ]
    },
    {
      "cell_type": "code",
      "execution_count": 1,
      "metadata": {
        "id": "ABQ-iwWYE11A"
      },
      "outputs": [],
      "source": [
        "# !pip install --upgrade tensorflow\n",
        "import tensorflow as tf"
      ]
    },
    {
      "cell_type": "code",
      "execution_count": 3,
      "metadata": {
        "colab": {
          "base_uri": "https://localhost:8080/"
        },
        "id": "7QTmTx2NmfYy",
        "outputId": "3cdee538-921e-4edd-d2fc-fe5e157b38b0"
      },
      "outputs": [],
      "source": [
        "# uncomment this cell when you are on COLAB\n",
        "# device_name = tf.test.gpu_device_name()\n",
        "# if device_name != '/device:GPU:0':\n",
        "#   raise SystemError('GPU device not found')\n",
        "# print('Found GPU at: {}'.format(device_name))\n",
        "# # from google.colab import drive\n",
        "# # drive.mount('/content/drive')"
      ]
    },
    {
      "cell_type": "code",
      "execution_count": 4,
      "metadata": {
        "id": "fN_qL4lPE11B"
      },
      "outputs": [],
      "source": [
        "import sys\n",
        "sys.path.insert(1,'/wsu/home/gy/gy40/gy4065/hm.jetscapeml.source')\n",
        "sys.path.insert(1,'/content/drive/My Drive/Projects/110_JetscapeMl/hm.jetscapeml.source')\n",
        "sys.path.insert(1,'/content/drive/MyDrive/Projects/110_JetscapeMl/hm.jetscapeml.source')\n",
        "sys.path.insert(1,'/g/My Drive/Projects/110_JetscapeMl/hm.jetscapeml.source')\n",
        "sys.path.insert(1,'G:\\\\My Drive\\\\Projects\\\\110_JetscapeMl\\\\hm.jetscapeml.source')"
      ]
    },
    {
      "cell_type": "code",
      "execution_count": 5,
      "metadata": {
        "colab": {
          "base_uri": "https://localhost:8080/"
        },
        "id": "CnUN6eQFE11B",
        "outputId": "b32e027c-63e8-43f9-ff48-186fec1d5312"
      },
      "outputs": [
        {
          "name": "stdout",
          "output_type": "stream",
          "text": [
            "\n",
            "########################################################################\n",
            "Checking the running platforms and setting the directory path\n",
            "\n",
            "Python version: 3.11.5\n",
            "OS: Windows\n",
            "OS version: 10\n",
            "running on Colab: False\n",
            "Dataset Directory Path: D:\\Projects\\110_JetscapeMl\\hm.jetscapeml.data\\\n",
            "Simulation Results Path: D:\\Projects\\110_JetscapeMl\\hm.jetscapeml.data\\simulation_results\\\n",
            "########################################################################\n",
            "\n"
          ]
        }
      ],
      "source": [
        "from jet_ml_dataset_builder.jet_ml_dataset_builder_utilities import set_directory_paths\n",
        "dataset_directory_path, simulation_directory_path = set_directory_paths()"
      ]
    },
    {
      "cell_type": "code",
      "execution_count": 6,
      "metadata": {
        "colab": {
          "base_uri": "https://localhost:8080/"
        },
        "id": "M0Ia3knFE11C",
        "outputId": "5786af16-130f-4124-e350-70ab70782c24"
      },
      "outputs": [
        {
          "name": "stdout",
          "output_type": "stream",
          "text": [
            "Aggregatring all parameters values\n",
            "label_items:\n",
            " {'y_class_label_items': ['MMAT', 'MLBT'], 'alpha_s_items': [0.2, 0.3, 0.4], 'q0_items': [1.5, 2.0, 2.5]}\n",
            "Building required params for the loading the dataset file\n",
            "labels_str:\n",
            " {'class_labels_str': 'MMAT_MLBT', 'alpha_s_items_str': '0.2_0.3_0.4', 'q0_items_str': '1.5_2.0_2.5'}\n"
          ]
        }
      ],
      "source": [
        "from jet_ml_dataset_builder.jet_ml_dataset_builder_utilities import get_labels_str\n",
        "label_str_dict=get_labels_str()"
      ]
    },
    {
      "cell_type": "code",
      "execution_count": 7,
      "metadata": {
        "colab": {
          "base_uri": "https://localhost:8080/"
        },
        "id": "7xJ4GM0mE11C",
        "outputId": "c13230d4-7f03-4356-d961-0681d365890f"
      },
      "outputs": [
        {
          "name": "stdout",
          "output_type": "stream",
          "text": [
            "Loading the whole dataset\n",
            "dataset.x: <class 'numpy.ndarray'> 1024000 (1000, 32, 32)\n",
            "dataset.y: <class 'numpy.ndarray'> 3000 (1000, 3)\n",
            "Scaling the datset_x each image between 0 and 1\n",
            "Extract the working column#0 for classification\n",
            "dataset.x: <class 'numpy.ndarray'> 1024000 (1000, 32, 32)\n",
            "dataset.y: <class 'numpy.ndarray'> 1000 (1000,)\n",
            "dataset.y(working_column) sample ['MLBT' 'MLBT' 'MLBT' 'MMAT' 'MMAT' 'MMAT' 'MMAT' 'MMAT' 'MLBT' 'MLBT']\n"
          ]
        }
      ],
      "source": [
        "with tf.device(\"CPU\"):\n",
        "    from jet_ml_dataset_builder.jet_ml_dataset_builder_utilities import get_dataset\n",
        "    dataset_size=1000\n",
        "    dataset_x, dataset_y=get_dataset(dataset_size,label_str_dict, dataset_directory_path,working_column=0,scale_x=True)"
      ]
    },
    {
      "cell_type": "code",
      "execution_count": 8,
      "metadata": {
        "colab": {
          "base_uri": "https://localhost:8080/"
        },
        "id": "hwq-rIjQE11D",
        "outputId": "3859c036-a043-4bd8-cf6f-02ceab3a6898"
      },
      "outputs": [
        {
          "name": "stdout",
          "output_type": "stream",
          "text": [
            "Pre-processing\n",
            "dataset_x_points shape: (1000, 1024, 3)\n",
            "deleting the original dataset after splitting ...\n",
            "train_points: <class 'numpy.ndarray'> 2457600 (800, 1024, 3)\n",
            "train_y: <class 'numpy.ndarray'> 800 (800,)\n",
            "x_test_points: <class 'numpy.ndarray'> 614400 (200, 1024, 3)\n",
            "y_test: <class 'numpy.ndarray'> 200 (200,)\n",
            "y_test[:10]:\n",
            " ['MMAT' 'MMAT' 'MMAT' 'MLBT' 'MLBT' 'MMAT' 'MMAT' 'MMAT' 'MLBT' 'MLBT']\n",
            "Preprocess y_train and y_test\n",
            "Encoding to sparse categorical variable\n",
            "y_test_encoded:\n",
            " [1 1 1 0 0 1 1 1 0 0]\n",
            "deleting original dataset\n"
          ]
        }
      ],
      "source": [
        "with tf.device(\"CPU\"):\n",
        "    from jet_ml_models.pointnet import preprocess_dataset\n",
        "    (x_train,  y_train,x_test,  y_test)=preprocess_dataset(dataset_x, dataset_y,is_one_hot_encoded=False)\n",
        "    print(\"deleting original dataset\")\n",
        "    del dataset_x,dataset_y"
      ]
    },
    {
      "cell_type": "code",
      "execution_count": 9,
      "metadata": {
        "id": "75D5CtfxE11D"
      },
      "outputs": [
        {
          "name": "stdout",
          "output_type": "stream",
          "text": [
            "converting to tensor data\n",
            "deleting preprocessed dataset\n"
          ]
        }
      ],
      "source": [
        "with tf.device(\"CPU\"):\n",
        "    from jet_ml_models.pointnet import create_tf_dataset\n",
        "    print(\"converting to tensor data\")\n",
        "    # Create TensorFlow Dataset for training data and test data\n",
        "    dataset = create_tf_dataset(x_train, y_train)\n",
        "    test_dataset = create_tf_dataset(x_test, y_test)\n",
        "    len_x_train=len(x_train)\n",
        "    len_x_test=len(x_test)\n",
        "    print(\"deleting preprocessed dataset\")\n",
        "    del x_train,y_train,x_test,y_test"
      ]
    },
    {
      "cell_type": "code",
      "execution_count": 10,
      "metadata": {
        "id": "HhPSN2l5E11D"
      },
      "outputs": [
        {
          "name": "stdout",
          "output_type": "stream",
          "text": [
            "going to prepare dataset\n",
            "deleting initial tensor dataset\n"
          ]
        }
      ],
      "source": [
        "from jet_ml_models.pointnet import prepare_datasets\n",
        "from jet_ml_models.pointnet import augment\n",
        "\n",
        "with tf.device(\"CPU\"):\n",
        "    # Prepare datasets for training\n",
        "    print(\"going to prepare dataset\")\n",
        "    train_dataset, validation_dataset,test_dataset = prepare_datasets(dataset, test_dataset, len_x_train, len_x_test, augment,train_size=1)\n",
        "    print(\"deleting initial tensor dataset\")\n",
        "    del dataset"
      ]
    },
    {
      "cell_type": "code",
      "execution_count": 11,
      "metadata": {},
      "outputs": [
        {
          "name": "stdout",
          "output_type": "stream",
          "text": [
            "7\n",
            "7\n"
          ]
        }
      ],
      "source": [
        "with tf.device(\"CPU\"):\n",
        "    print(len(test_dataset))\n",
        "    print(len(validation_dataset))"
      ]
    },
    {
      "cell_type": "code",
      "execution_count": 12,
      "metadata": {
        "colab": {
          "base_uri": "https://localhost:8080/"
        },
        "id": "Yf_g2CF4E11E",
        "outputId": "ae6afb80-ea8c-4dfc-aced-251b3572ae00"
      },
      "outputs": [
        {
          "name": "stdout",
          "output_type": "stream",
          "text": [
            "simulation_directory_path: D:\\Projects\\110_JetscapeMl\\hm.jetscapeml.data\\simulation_results\\\n"
          ]
        },
        {
          "ename": "KeyError",
          "evalue": "'eloss_items_str'",
          "output_type": "error",
          "traceback": [
            "\u001b[1;31m---------------------------------------------------------------------------\u001b[0m",
            "\u001b[1;31mKeyError\u001b[0m                                  Traceback (most recent call last)",
            "Cell \u001b[1;32mIn[12], line 8\u001b[0m\n\u001b[0;32m      5\u001b[0m n_epochs \u001b[38;5;241m=\u001b[39m \u001b[38;5;241m100\u001b[39m\n\u001b[0;32m      6\u001b[0m fold \u001b[38;5;241m=\u001b[39m \u001b[38;5;241m1\u001b[39m\n\u001b[1;32m----> 8\u001b[0m current_simulation_path \u001b[38;5;241m=\u001b[39m generate_simulation_path(simulation_directory_path, classifying_parameter,label_str_dict, dataset_size, n_epochs, fold)\n\u001b[0;32m      9\u001b[0m \u001b[38;5;28mprint\u001b[39m(\u001b[38;5;124m\"\u001b[39m\u001b[38;5;124mcurrent_simulation_path:\u001b[39m\u001b[38;5;124m\"\u001b[39m,current_simulation_path)\n\u001b[0;32m     11\u001b[0m \u001b[38;5;66;03m# Use ModelCheckpoint callback to save the best model\u001b[39;00m\n",
            "File \u001b[1;32mG:\\My Drive\\Projects\\110_JetscapeMl\\hm.jetscapeml.source\\jet_ml_dataset_builder\\jet_ml_dataset_builder_utilities.py:470\u001b[0m, in \u001b[0;36mgenerate_simulation_path\u001b[1;34m(simulation_directory_path, classifying_parameter, label_str_dict, dataset_size, n_epochs, fold)\u001b[0m\n\u001b[0;32m    467\u001b[0m \u001b[38;5;28mprint\u001b[39m(\u001b[38;5;124m\"\u001b[39m\u001b[38;5;124msimulation_directory_path:\u001b[39m\u001b[38;5;124m\"\u001b[39m, simulation_directory_path)\n\u001b[0;32m    469\u001b[0m key\u001b[38;5;241m=\u001b[39mclassifying_parameter\u001b[38;5;241m+\u001b[39m\u001b[38;5;124m\"\u001b[39m\u001b[38;5;124m_items_str\u001b[39m\u001b[38;5;124m\"\u001b[39m\n\u001b[1;32m--> 470\u001b[0m classifying_parameter_label_str\u001b[38;5;241m=\u001b[39mlabel_str_dict[key]\n\u001b[0;32m    471\u001b[0m \u001b[38;5;66;03m# Generate simulation path components\u001b[39;00m\n\u001b[0;32m    472\u001b[0m simulation_path \u001b[38;5;241m=\u001b[39m \u001b[38;5;124mf\u001b[39m\u001b[38;5;124m'\u001b[39m\u001b[38;5;132;01m{\u001b[39;00msimulation_directory_path\u001b[38;5;132;01m}\u001b[39;00m\u001b[38;5;124mjetml_pointnet_classification_\u001b[39m\u001b[38;5;132;01m{\u001b[39;00mclassifying_parameter\u001b[38;5;132;01m}\u001b[39;00m\u001b[38;5;124m_\u001b[39m\u001b[38;5;132;01m{\u001b[39;00mclassifying_parameter_label_str\u001b[38;5;132;01m}\u001b[39;00m\u001b[38;5;124m'\u001b[39m\n",
            "\u001b[1;31mKeyError\u001b[0m: 'eloss_items_str'"
          ]
        }
      ],
      "source": [
        "from jet_ml_dataset_builder.jet_ml_dataset_builder_utilities import generate_simulation_path\n",
        "monitor = 'val_accuracy'  # 'val_accuracy' or 'val_loss'\n",
        "\n",
        "classifying_parameter=\"eloss\"\n",
        "n_epochs = 100\n",
        "fold = 1\n",
        "\n",
        "current_simulation_path = generate_simulation_path(simulation_directory_path, classifying_parameter,label_str_dict, dataset_size, n_epochs, fold)\n",
        "print(\"current_simulation_path:\",current_simulation_path)\n",
        "\n",
        "# Use ModelCheckpoint callback to save the best model\n",
        "best_model_file_path = f'{current_simulation_path}_best_model.keras'\n",
        "print(\"best_model_file_path:\",best_model_file_path)"
      ]
    },
    {
      "cell_type": "code",
      "execution_count": 12,
      "metadata": {
        "id": "dUUGesHrmfY0"
      },
      "outputs": [],
      "source": [
        "from jet_ml_models.pointnet import build_pointnet_classifier_model\n",
        "\n",
        "NUM_POINTS = 1024\n",
        "#because alpha_s can get 3 values\n",
        "NUM_CLASSES = 3\n",
        "activation=\"softmax\"\n",
        "# activation=\"sigmoid\"\n",
        "\n",
        "pointnet=build_pointnet_classifier_model(NUM_POINTS=NUM_POINTS,NUM_CLASSES=NUM_CLASSES, activation=activation)\n"
      ]
    },
    {
      "cell_type": "code",
      "execution_count": 13,
      "metadata": {
        "id": "Mu-55lL4mfY1"
      },
      "outputs": [],
      "source": [
        "from jet_ml_models.pointnet import compile_pointnet_classifier_model_with_hyperparam\n",
        "from jet_ml_models.pointnet import print_model_summary\n",
        "learning_rate=0.001\n",
        "loss='sparse_categorical_crossentropy'\n",
        "# loss='categorical_crossentropy',\n",
        "\n",
        "metrics='sparse_categorical_accuracy'\n",
        "# metrics=['accuracy'],\n",
        "\n",
        "pointnet=compile_pointnet_classifier_model_with_hyperparam(pointnet,learning_rate=learning_rate, loss=loss,metrics=metrics)\n",
        "# print_model_summary(pointnet)"
      ]
    },
    {
      "cell_type": "code",
      "execution_count": 14,
      "metadata": {
        "colab": {
          "base_uri": "https://localhost:8080/"
        },
        "id": "ItMIa0ZxE11E",
        "outputId": "2d02f002-1d05-428f-f37d-b6e7dd097fbf"
      },
      "outputs": [
        {
          "name": "stdout",
          "output_type": "stream",
          "text": [
            "Epoch 1/100\n",
            "\u001b[1m25/25\u001b[0m \u001b[32m━━━━━━━━━━━━━━━━━━━━\u001b[0m\u001b[37m\u001b[0m \u001b[1m0s\u001b[0m 1s/step - loss: 58.4999 - sparse_categorical_accuracy: 0.3295\n",
            "Epoch 1: val_sparse_categorical_accuracy improved from -inf to 0.26500, saving model to D:\\Projects\\110_JetscapeMl\\hm.jetscapeml.data\\simulation_results\\jetml_pointnet_classification_alpha_s_0.2_0.3_0.4_size_1000_epochs_100_fold_1_best_model.keras\n",
            "\u001b[1m25/25\u001b[0m \u001b[32m━━━━━━━━━━━━━━━━━━━━\u001b[0m\u001b[37m\u001b[0m \u001b[1m48s\u001b[0m 1s/step - loss: 58.1378 - sparse_categorical_accuracy: 0.3296 - val_loss: 272.0306 - val_sparse_categorical_accuracy: 0.2650\n",
            "Epoch 2/100\n",
            "\u001b[1m25/25\u001b[0m \u001b[32m━━━━━━━━━━━━━━━━━━━━\u001b[0m\u001b[37m\u001b[0m \u001b[1m0s\u001b[0m 1s/step - loss: 36.2211 - sparse_categorical_accuracy: 0.3205\n",
            "Epoch 2: val_sparse_categorical_accuracy improved from 0.26500 to 0.34500, saving model to D:\\Projects\\110_JetscapeMl\\hm.jetscapeml.data\\simulation_results\\jetml_pointnet_classification_alpha_s_0.2_0.3_0.4_size_1000_epochs_100_fold_1_best_model.keras\n",
            "\u001b[1m25/25\u001b[0m \u001b[32m━━━━━━━━━━━━━━━━━━━━\u001b[0m\u001b[37m\u001b[0m \u001b[1m28s\u001b[0m 1s/step - loss: 36.2098 - sparse_categorical_accuracy: 0.3206 - val_loss: 49.1218 - val_sparse_categorical_accuracy: 0.3450\n",
            "Epoch 3/100\n",
            "\u001b[1m25/25\u001b[0m \u001b[32m━━━━━━━━━━━━━━━━━━━━\u001b[0m\u001b[37m\u001b[0m \u001b[1m0s\u001b[0m 1s/step - loss: 35.5306 - sparse_categorical_accuracy: 0.3257\n",
            "Epoch 3: val_sparse_categorical_accuracy did not improve from 0.34500\n",
            "\u001b[1m25/25\u001b[0m \u001b[32m━━━━━━━━━━━━━━━━━━━━\u001b[0m\u001b[37m\u001b[0m \u001b[1m30s\u001b[0m 1s/step - loss: 35.5278 - sparse_categorical_accuracy: 0.3261 - val_loss: 34.3834 - val_sparse_categorical_accuracy: 0.3150\n",
            "Epoch 4/100\n",
            "\u001b[1m25/25\u001b[0m \u001b[32m━━━━━━━━━━━━━━━━━━━━\u001b[0m\u001b[37m\u001b[0m \u001b[1m0s\u001b[0m 1s/step - loss: 35.3544 - sparse_categorical_accuracy: 0.3423\n",
            "Epoch 4: val_sparse_categorical_accuracy did not improve from 0.34500\n",
            "\u001b[1m25/25\u001b[0m \u001b[32m━━━━━━━━━━━━━━━━━━━━\u001b[0m\u001b[37m\u001b[0m \u001b[1m33s\u001b[0m 1s/step - loss: 35.3529 - sparse_categorical_accuracy: 0.3422 - val_loss: 34.3784 - val_sparse_categorical_accuracy: 0.3100\n",
            "Epoch 5/100\n",
            "\u001b[1m25/25\u001b[0m \u001b[32m━━━━━━━━━━━━━━━━━━━━\u001b[0m\u001b[37m\u001b[0m \u001b[1m0s\u001b[0m 1s/step - loss: 35.2751 - sparse_categorical_accuracy: 0.3259\n",
            "Epoch 5: val_sparse_categorical_accuracy did not improve from 0.34500\n",
            "\u001b[1m25/25\u001b[0m \u001b[32m━━━━━━━━━━━━━━━━━━━━\u001b[0m\u001b[37m\u001b[0m \u001b[1m42s\u001b[0m 1s/step - loss: 35.2753 - sparse_categorical_accuracy: 0.3268 - val_loss: 34.0134 - val_sparse_categorical_accuracy: 0.2700\n",
            "Epoch 6/100\n",
            "\u001b[1m25/25\u001b[0m \u001b[32m━━━━━━━━━━━━━━━━━━━━\u001b[0m\u001b[37m\u001b[0m \u001b[1m0s\u001b[0m 1s/step - loss: 35.2374 - sparse_categorical_accuracy: 0.3716\n",
            "Epoch 6: val_sparse_categorical_accuracy improved from 0.34500 to 0.35500, saving model to D:\\Projects\\110_JetscapeMl\\hm.jetscapeml.data\\simulation_results\\jetml_pointnet_classification_alpha_s_0.2_0.3_0.4_size_1000_epochs_100_fold_1_best_model.keras\n",
            "\u001b[1m25/25\u001b[0m \u001b[32m━━━━━━━━━━━━━━━━━━━━\u001b[0m\u001b[37m\u001b[0m \u001b[1m32s\u001b[0m 1s/step - loss: 35.2375 - sparse_categorical_accuracy: 0.3711 - val_loss: 33.8287 - val_sparse_categorical_accuracy: 0.3550\n",
            "Epoch 7/100\n",
            "\u001b[1m25/25\u001b[0m \u001b[32m━━━━━━━━━━━━━━━━━━━━\u001b[0m\u001b[37m\u001b[0m \u001b[1m0s\u001b[0m 1s/step - loss: 35.1967 - sparse_categorical_accuracy: 0.3866\n",
            "Epoch 7: val_sparse_categorical_accuracy improved from 0.35500 to 0.40000, saving model to D:\\Projects\\110_JetscapeMl\\hm.jetscapeml.data\\simulation_results\\jetml_pointnet_classification_alpha_s_0.2_0.3_0.4_size_1000_epochs_100_fold_1_best_model.keras\n",
            "\u001b[1m25/25\u001b[0m \u001b[32m━━━━━━━━━━━━━━━━━━━━\u001b[0m\u001b[37m\u001b[0m \u001b[1m30s\u001b[0m 1s/step - loss: 35.1971 - sparse_categorical_accuracy: 0.3851 - val_loss: 33.9462 - val_sparse_categorical_accuracy: 0.4000\n",
            "Epoch 8/100\n",
            "\u001b[1m25/25\u001b[0m \u001b[32m━━━━━━━━━━━━━━━━━━━━\u001b[0m\u001b[37m\u001b[0m \u001b[1m0s\u001b[0m 1s/step - loss: 35.1543 - sparse_categorical_accuracy: 0.3767\n",
            "Epoch 8: val_sparse_categorical_accuracy did not improve from 0.40000\n",
            "\u001b[1m25/25\u001b[0m \u001b[32m━━━━━━━━━━━━━━━━━━━━\u001b[0m\u001b[37m\u001b[0m \u001b[1m32s\u001b[0m 1s/step - loss: 35.1532 - sparse_categorical_accuracy: 0.3762 - val_loss: 34.2276 - val_sparse_categorical_accuracy: 0.3200\n",
            "Epoch 9/100\n",
            "\u001b[1m25/25\u001b[0m \u001b[32m━━━━━━━━━━━━━━━━━━━━\u001b[0m\u001b[37m\u001b[0m \u001b[1m0s\u001b[0m 1s/step - loss: 35.1114 - sparse_categorical_accuracy: 0.3758\n",
            "Epoch 9: val_sparse_categorical_accuracy did not improve from 0.40000\n",
            "\u001b[1m25/25\u001b[0m \u001b[32m━━━━━━━━━━━━━━━━━━━━\u001b[0m\u001b[37m\u001b[0m \u001b[1m34s\u001b[0m 1s/step - loss: 35.1114 - sparse_categorical_accuracy: 0.3752 - val_loss: 33.7921 - val_sparse_categorical_accuracy: 0.3700\n",
            "Epoch 10/100\n",
            "\u001b[1m25/25\u001b[0m \u001b[32m━━━━━━━━━━━━━━━━━━━━\u001b[0m\u001b[37m\u001b[0m \u001b[1m0s\u001b[0m 1s/step - loss: 35.1215 - sparse_categorical_accuracy: 0.3619\n",
            "Epoch 10: val_sparse_categorical_accuracy did not improve from 0.40000\n",
            "\u001b[1m25/25\u001b[0m \u001b[32m━━━━━━━━━━━━━━━━━━━━\u001b[0m\u001b[37m\u001b[0m \u001b[1m35s\u001b[0m 1s/step - loss: 35.1225 - sparse_categorical_accuracy: 0.3616 - val_loss: 33.8253 - val_sparse_categorical_accuracy: 0.3350\n",
            "Epoch 11/100\n",
            "\u001b[1m25/25\u001b[0m \u001b[32m━━━━━━━━━━━━━━━━━━━━\u001b[0m\u001b[37m\u001b[0m \u001b[1m0s\u001b[0m 1s/step - loss: 35.1521 - sparse_categorical_accuracy: 0.3112\n",
            "Epoch 11: val_sparse_categorical_accuracy did not improve from 0.40000\n",
            "\u001b[1m25/25\u001b[0m \u001b[32m━━━━━━━━━━━━━━━━━━━━\u001b[0m\u001b[37m\u001b[0m \u001b[1m31s\u001b[0m 1s/step - loss: 35.1519 - sparse_categorical_accuracy: 0.3117 - val_loss: 34.1216 - val_sparse_categorical_accuracy: 0.3150\n",
            "Epoch 12/100\n",
            "\u001b[1m25/25\u001b[0m \u001b[32m━━━━━━━━━━━━━━━━━━━━\u001b[0m\u001b[37m\u001b[0m \u001b[1m0s\u001b[0m 1s/step - loss: 35.1405 - sparse_categorical_accuracy: 0.3346\n",
            "Epoch 12: val_sparse_categorical_accuracy improved from 0.40000 to 0.45500, saving model to D:\\Projects\\110_JetscapeMl\\hm.jetscapeml.data\\simulation_results\\jetml_pointnet_classification_alpha_s_0.2_0.3_0.4_size_1000_epochs_100_fold_1_best_model.keras\n",
            "\u001b[1m25/25\u001b[0m \u001b[32m━━━━━━━━━━━━━━━━━━━━\u001b[0m\u001b[37m\u001b[0m \u001b[1m30s\u001b[0m 1s/step - loss: 35.1391 - sparse_categorical_accuracy: 0.3359 - val_loss: 34.1580 - val_sparse_categorical_accuracy: 0.4550\n",
            "Epoch 13/100\n",
            "\u001b[1m25/25\u001b[0m \u001b[32m━━━━━━━━━━━━━━━━━━━━\u001b[0m\u001b[37m\u001b[0m \u001b[1m0s\u001b[0m 1s/step - loss: 35.0848 - sparse_categorical_accuracy: 0.3642\n",
            "Epoch 13: val_sparse_categorical_accuracy did not improve from 0.45500\n",
            "\u001b[1m25/25\u001b[0m \u001b[32m━━━━━━━━━━━━━━━━━━━━\u001b[0m\u001b[37m\u001b[0m \u001b[1m31s\u001b[0m 1s/step - loss: 35.0860 - sparse_categorical_accuracy: 0.3637 - val_loss: 35.3650 - val_sparse_categorical_accuracy: 0.3650\n",
            "Epoch 14/100\n",
            "\u001b[1m25/25\u001b[0m \u001b[32m━━━━━━━━━━━━━━━━━━━━\u001b[0m\u001b[37m\u001b[0m \u001b[1m0s\u001b[0m 1s/step - loss: 35.1153 - sparse_categorical_accuracy: 0.3337\n",
            "Epoch 14: val_sparse_categorical_accuracy did not improve from 0.45500\n",
            "\u001b[1m25/25\u001b[0m \u001b[32m━━━━━━━━━━━━━━━━━━━━\u001b[0m\u001b[37m\u001b[0m \u001b[1m33s\u001b[0m 1s/step - loss: 35.1151 - sparse_categorical_accuracy: 0.3338 - val_loss: 40.4389 - val_sparse_categorical_accuracy: 0.3750\n",
            "Epoch 15/100\n",
            "\u001b[1m25/25\u001b[0m \u001b[32m━━━━━━━━━━━━━━━━━━━━\u001b[0m\u001b[37m\u001b[0m \u001b[1m0s\u001b[0m 1s/step - loss: 35.1368 - sparse_categorical_accuracy: 0.3294\n",
            "Epoch 15: val_sparse_categorical_accuracy did not improve from 0.45500\n",
            "\u001b[1m25/25\u001b[0m \u001b[32m━━━━━━━━━━━━━━━━━━━━\u001b[0m\u001b[37m\u001b[0m \u001b[1m33s\u001b[0m 1s/step - loss: 35.1362 - sparse_categorical_accuracy: 0.3300 - val_loss: 34.1469 - val_sparse_categorical_accuracy: 0.2750\n",
            "Epoch 16/100\n",
            "\u001b[1m25/25\u001b[0m \u001b[32m━━━━━━━━━━━━━━━━━━━━\u001b[0m\u001b[37m\u001b[0m \u001b[1m0s\u001b[0m 1s/step - loss: 35.0924 - sparse_categorical_accuracy: 0.3473\n",
            "Epoch 16: val_sparse_categorical_accuracy did not improve from 0.45500\n",
            "\u001b[1m25/25\u001b[0m \u001b[32m━━━━━━━━━━━━━━━━━━━━\u001b[0m\u001b[37m\u001b[0m \u001b[1m34s\u001b[0m 1s/step - loss: 35.0928 - sparse_categorical_accuracy: 0.3473 - val_loss: 33.8115 - val_sparse_categorical_accuracy: 0.3700\n",
            "Epoch 17/100\n",
            "\u001b[1m25/25\u001b[0m \u001b[32m━━━━━━━━━━━━━━━━━━━━\u001b[0m\u001b[37m\u001b[0m \u001b[1m0s\u001b[0m 1s/step - loss: 35.1053 - sparse_categorical_accuracy: 0.3402\n",
            "Epoch 17: val_sparse_categorical_accuracy did not improve from 0.45500\n",
            "\u001b[1m25/25\u001b[0m \u001b[32m━━━━━━━━━━━━━━━━━━━━\u001b[0m\u001b[37m\u001b[0m \u001b[1m33s\u001b[0m 1s/step - loss: 35.1056 - sparse_categorical_accuracy: 0.3405 - val_loss: 34.1021 - val_sparse_categorical_accuracy: 0.3750\n",
            "Epoch 17: early stopping\n",
            "Restoring model weights from the end of the best epoch: 12.\n"
          ]
        }
      ],
      "source": [
        "# %%timeit -n1 -r1\n",
        "from jet_ml_models.pointnet import train_model_with_callbacks\n",
        "monitor='val_sparse_categorical_accuracy'\n",
        "with tf.device('/GPU:0'):\n",
        "  model, history, train_time=train_model_with_callbacks(pointnet, train_dataset=train_dataset, validation_dataset=validation_dataset,monitor=monitor, best_model_file_path=best_model_file_path, n_epochs=n_epochs)"
      ]
    },
    {
      "cell_type": "code",
      "execution_count": 15,
      "metadata": {
        "colab": {
          "base_uri": "https://localhost:8080/"
        },
        "id": "rEDiOd94E11E",
        "outputId": "0106290e-2149-4235-f00a-768a3e168b19"
      },
      "outputs": [
        {
          "name": "stdout",
          "output_type": "stream",
          "text": [
            "9.495279304186504\n",
            "<Functional name=pointnet, built=True>\n",
            "{'loss': [49.08642578125, 35.9262809753418, 35.4564208984375, 35.31743621826172, 35.28157043457031, 35.23838424682617, 35.207088470458984, 35.125797271728516, 35.1102409362793, 35.14894104003906, 35.14856719970703, 35.102088928222656, 35.114871978759766, 35.109012603759766, 35.12224197387695, 35.10212707519531, 35.113826751708984], 'sparse_categorical_accuracy': [0.33125001192092896, 0.32374998927116394, 0.3362500071525574, 0.3400000035762787, 0.3499999940395355, 0.35874998569488525, 0.3487499952316284, 0.36375001072883606, 0.36125001311302185, 0.35374999046325684, 0.32374998927116394, 0.3675000071525574, 0.3512499928474426, 0.33500000834465027, 0.3449999988079071, 0.3487499952316284, 0.3487499952316284], 'val_loss': [272.0306396484375, 49.121761322021484, 34.38341522216797, 34.37838363647461, 34.01335144042969, 33.828697204589844, 33.94624328613281, 34.22758865356445, 33.7921028137207, 33.82533645629883, 34.12158966064453, 34.158023834228516, 35.365047454833984, 40.438873291015625, 34.146934509277344, 33.811492919921875, 34.10205078125], 'val_sparse_categorical_accuracy': [0.26499998569488525, 0.3449999988079071, 0.3149999976158142, 0.3100000023841858, 0.27000001072883606, 0.35499998927116394, 0.4000000059604645, 0.3199999928474426, 0.3700000047683716, 0.33500000834465027, 0.3149999976158142, 0.45500001311302185, 0.36500000953674316, 0.375, 0.2750000059604645, 0.3700000047683716, 0.375]}\n"
          ]
        }
      ],
      "source": [
        "print(train_time)\n",
        "print(model)\n",
        "print(history.history)"
      ]
    },
    {
      "cell_type": "code",
      "execution_count": 16,
      "metadata": {
        "colab": {
          "base_uri": "https://localhost:8080/"
        },
        "id": "yY5W0FPyE11E",
        "outputId": "908e4bb0-b104-4092-9e2b-01c749f9111a"
      },
      "outputs": [
        {
          "name": "stdout",
          "output_type": "stream",
          "text": [
            "D:\\Projects\\110_JetscapeMl\\hm.jetscapeml.data\\simulation_results\\jetml_pointnet_classification_alpha_s_0.2_0.3_0.4_size_1000_epochs_100_fold_1_training_history.json\n",
            "D:\\Projects\\110_JetscapeMl\\hm.jetscapeml.data\\simulation_results\\jetml_pointnet_classification_alpha_s_0.2_0.3_0.4_size_1000_epochs_100_fold_1_training_history.csv\n",
            "D:\\Projects\\110_JetscapeMl\\hm.jetscapeml.data\\simulation_results\\jetml_pointnet_classification_alpha_s_0.2_0.3_0.4_size_1000_epochs_100_fold_1_training_history.npy\n"
          ]
        }
      ],
      "source": [
        "from jet_ml_models.pointnet import save_training_history\n",
        "training_history_file_path_json,training_history_file_path_csv,training_history_file_path_csv = \\\n",
        "  save_training_history(history,current_simulation_path)"
      ]
    },
    {
      "cell_type": "code",
      "execution_count": 17,
      "metadata": {
        "colab": {
          "base_uri": "https://localhost:8080/",
          "height": 624
        },
        "id": "0f56lUDLE11F",
        "outputId": "3e76b9ba-9a0d-4bc6-f9a7-1316d6836564"
      },
      "outputs": [
        {
          "data": {
            "image/png": "[encoded data removed]",
            "text/plain": [
              "<Figure size 1200x600 with 2 Axes>"
            ]
          },
          "metadata": {},
          "output_type": "display_data"
        },
        {
          "name": "stdout",
          "output_type": "stream",
          "text": [
            "D:\\Projects\\110_JetscapeMl\\hm.jetscapeml.data\\simulation_results\\jetml_pointnet_classification_alpha_s_0.2_0.3_0.4_size_1000_epochs_100_fold_1_accuracy_loss.png\n"
          ]
        }
      ],
      "source": [
        "from jet_ml_models.pointnet import plot_training_history\n",
        "plot_training_history_path=plot_training_history(history,current_simulation_path)\n",
        "print(plot_training_history_path)"
      ]
    },
    {
      "cell_type": "code",
      "execution_count": 18,
      "metadata": {
        "colab": {
          "base_uri": "https://localhost:8080/"
        },
        "id": "knyOyK5EE11F",
        "outputId": "10802eba-aca8-4cce-c0d3-73c824a4b764"
      },
      "outputs": [
        {
          "name": "stdout",
          "output_type": "stream",
          "text": [
            "\u001b[1m7/7\u001b[0m \u001b[32m━━━━━━━━━━━━━━━━━━━━\u001b[0m\u001b[37m\u001b[0m \u001b[1m6s\u001b[0m 558ms/step\n",
            "Accuracy: 0.405\n",
            "Confusion Matrix: [[40  4 34]\n",
            " [31  6 22]\n",
            " [23  5 35]]\n"
          ]
        }
      ],
      "source": [
        "from jet_ml_models.pointnet import evaluate_model\n",
        "accuracy, confusion_matrix = evaluate_model(model,test_dataset=test_dataset)"
      ]
    },
    {
      "cell_type": "code",
      "execution_count": 19,
      "metadata": {
        "colab": {
          "base_uri": "https://localhost:8080/",
          "height": 272
        },
        "id": "69PoytJAE11F",
        "outputId": "b6d09bd0-9ab7-48c3-aabf-2b5511e10d9c"
      },
      "outputs": [
        {
          "name": "stdout",
          "output_type": "stream",
          "text": [
            "   Dataset Size Classifier  Fold Number  Accuracy  \\\n",
            "0          1000   pointnet            1     0.405   \n",
            "\n",
            "                          Confusion Matrix  Train Time  \\\n",
            "0  [[40, 4, 34], [31, 6, 22], [23, 5, 35]]    9.495279   \n",
            "\n",
            "                             Loss/Accuracy Plot Path  \\\n",
            "0  D:\\Projects\\110_JetscapeMl\\hm.jetscapeml.data\\...   \n",
            "\n",
            "                                     Best Model Path  \n",
            "0  D:\\Projects\\110_JetscapeMl\\hm.jetscapeml.data\\...  \n"
          ]
        },
        {
          "data": {
            "text/html": [
              "<div>\n",
              "<style scoped>\n",
              "    .dataframe tbody tr th:only-of-type {\n",
              "        vertical-align: middle;\n",
              "    }\n",
              "\n",
              "    .dataframe tbody tr th {\n",
              "        vertical-align: top;\n",
              "    }\n",
              "\n",
              "    .dataframe thead th {\n",
              "        text-align: right;\n",
              "    }\n",
              "</style>\n",
              "<table border=\"1\" class=\"dataframe\">\n",
              "  <thead>\n",
              "    <tr style=\"text-align: right;\">\n",
              "      <th></th>\n",
              "      <th>Dataset Size</th>\n",
              "      <th>Classifier</th>\n",
              "      <th>Fold Number</th>\n",
              "      <th>Accuracy</th>\n",
              "      <th>Confusion Matrix</th>\n",
              "      <th>Train Time</th>\n",
              "      <th>Loss/Accuracy Plot Path</th>\n",
              "      <th>Best Model Path</th>\n",
              "    </tr>\n",
              "  </thead>\n",
              "  <tbody>\n",
              "    <tr>\n",
              "      <th>0</th>\n",
              "      <td>1000</td>\n",
              "      <td>pointnet</td>\n",
              "      <td>1</td>\n",
              "      <td>0.405</td>\n",
              "      <td>[[40, 4, 34], [31, 6, 22], [23, 5, 35]]</td>\n",
              "      <td>9.495279</td>\n",
              "      <td>D:\\Projects\\110_JetscapeMl\\hm.jetscapeml.data\\...</td>\n",
              "      <td>D:\\Projects\\110_JetscapeMl\\hm.jetscapeml.data\\...</td>\n",
              "    </tr>\n",
              "  </tbody>\n",
              "</table>\n",
              "</div>"
            ],
            "text/plain": [
              "   Dataset Size Classifier  Fold Number  Accuracy  \\\n",
              "0          1000   pointnet            1     0.405   \n",
              "\n",
              "                          Confusion Matrix  Train Time  \\\n",
              "0  [[40, 4, 34], [31, 6, 22], [23, 5, 35]]    9.495279   \n",
              "\n",
              "                             Loss/Accuracy Plot Path  \\\n",
              "0  D:\\Projects\\110_JetscapeMl\\hm.jetscapeml.data\\...   \n",
              "\n",
              "                                     Best Model Path  \n",
              "0  D:\\Projects\\110_JetscapeMl\\hm.jetscapeml.data\\...  "
            ]
          },
          "execution_count": 19,
          "metadata": {},
          "output_type": "execute_result"
        }
      ],
      "source": [
        "from jet_ml_models.pointnet import save_kfold_results\n",
        "results_kfold = []\n",
        "results_kfold.append({\n",
        "                  'Dataset Size': dataset_size,\n",
        "                  'Classifier': model.name,\n",
        "                  'Fold Number': fold,\n",
        "                  'Accuracy': accuracy,\n",
        "                  'Confusion Matrix': confusion_matrix,\n",
        "                  'Train Time': train_time,\n",
        "                  'Loss/Accuracy Plot Path': plot_training_history_path,\n",
        "                  'Best Model Path': best_model_file_path\n",
        "              })\n",
        "save_kfold_results(results_kfold, current_simulation_path)"
      ]
    }
  ],
  "metadata": {
    "accelerator": "GPU",
    "colab": {
      "gpuType": "T4",
      "include_colab_link": true,
      "provenance": []
    },
    "kernelspec": {
      "display_name": "Python 3",
      "name": "python3"
    },
    "language_info": {
      "codemirror_mode": {
        "name": "ipython",
        "version": 3
      },
      "file_extension": ".py",
      "mimetype": "text/x-python",
      "name": "python",
      "nbconvert_exporter": "python",
      "pygments_lexer": "ipython3",
      "version": "3.11.5"
    }
  },
  "nbformat": 4,
  "nbformat_minor": 0
}
