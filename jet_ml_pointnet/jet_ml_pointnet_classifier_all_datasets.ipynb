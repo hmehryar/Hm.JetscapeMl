{
  "cells": [
    {
      "cell_type": "markdown",
      "metadata": {
        "colab_type": "text",
        "id": "view-in-github"
      },
      "source": [
        "<a href=\"https://colab.research.google.com/github/hmehryar/Hm.JetscapeMl/blob/ml5/jet-ml-pointnet/jet_ml_pointnet_classifier_all_datasets.ipynb\" target=\"_parent\"><img src=\"https://colab.research.google.com/assets/colab-badge.svg\" alt=\"Open In Colab\"/></a>"
      ]
    },
    {
      "cell_type": "markdown",
      "metadata": {
        "id": "VT8MlMaW_zlo"
      },
      "source": [
        "[link text](https://)# Point cloud classification with PointNet for Heavy Ion Collisions for diffrent dataset size and K-Folding\n",
        "\n",
        "**Authors:** [Haydar Mehryar](https://github.com/hmehryar) <br>\n",
        "**Date created:** 2023/12/01<br>\n",
        "**Last modified:** 2020/12/20<br>\n",
        "**Description:** Implementation of PointNet for heavy ion colllisions classifiction, based on the code from [David Griffiths](https://dgriffiths3.github.io)"
      ]
    },
    {
      "cell_type": "code",
      "execution_count": 37,
      "metadata": {
        "colab": {
          "base_uri": "https://localhost:8080/"
        },
        "id": "T4UgitN8Jch3",
        "outputId": "76d2758a-6e7c-4fcb-835c-0b31acdd1240"
      },
      "outputs": [],
      "source": [
        "import tensorflow as tf\n",
        "# device_name = tf.test.gpu_device_name()\n",
        "# if device_name != '/device:GPU:0':\n",
        "#   raise SystemError('GPU device not found')\n",
        "# print('Found GPU at: {}'.format(device_name))"
      ]
    },
    {
      "cell_type": "code",
      "execution_count": 38,
      "metadata": {},
      "outputs": [
        {
          "data": {
            "text/plain": [
              "[PhysicalDevice(name='/physical_device:CPU:0', device_type='CPU')]"
            ]
          },
          "execution_count": 38,
          "metadata": {},
          "output_type": "execute_result"
        }
      ],
      "source": [
        "tf.config.experimental.list_physical_devices()"
      ]
    },
    {
      "cell_type": "code",
      "execution_count": 39,
      "metadata": {
        "colab": {
          "base_uri": "https://localhost:8080/"
        },
        "id": "hk_dCbkKm-4k",
        "outputId": "bd31efd3-5997-4152-c77b-3d0ca663f2c9"
      },
      "outputs": [],
      "source": [
        "# from google.colab import drive\n",
        "# drive.mount('/content/drive')\n",
        "import sys\n",
        "sys.path.insert(1,'/wsu/home/gy/gy40/gy4065/hm.jetscapeml.source')\n",
        "sys.path.insert(1,'/content/drive/My Drive/Projects/110_JetscapeMl/hm.jetscapeml.source')\n",
        "sys.path.insert(1,'/content/drive/MyDrive/Projects/110_JetscapeMl/hm.jetscapeml.source')\n",
        "sys.path.insert(1,'/g/My Drive/Projects/110_JetscapeMl/hm.jetscapeml.source')\n",
        "sys.path.insert(1,'G:\\\\My Drive\\\\Projects\\\\110_JetscapeMl\\\\hm.jetscapeml.source')"
      ]
    },
    {
      "cell_type": "markdown",
      "metadata": {
        "id": "ILBWgUOo_tQz"
      },
      "source": [
        "## Setup\n",
        "\n",
        "If using colab first install trimesh with `!pip install trimesh`.\n"
      ]
    },
    {
      "cell_type": "code",
      "execution_count": 40,
      "metadata": {
        "colab": {
          "base_uri": "https://localhost:8080/"
        },
        "id": "_o3efLKxrkUq",
        "outputId": "11ef1565-bc2a-4a8c-c611-ed58f6cea203"
      },
      "outputs": [],
      "source": [
        "# pip install --upgrade keras tensorflow"
      ]
    },
    {
      "cell_type": "code",
      "execution_count": 41,
      "metadata": {
        "colab": {
          "base_uri": "https://localhost:8080/"
        },
        "id": "V5FNXhmJqtdZ",
        "outputId": "40c6ee24-a95c-4201-a892-8f9b8f5e28b7"
      },
      "outputs": [
        {
          "name": "stdout",
          "output_type": "stream",
          "text": [
            "Loading/Installing Package => Begin\n",
            "\n",
            "\n",
            "\n",
            "Loading/Installing Package => End\n",
            "\n",
            "\n"
          ]
        }
      ],
      "source": [
        "# loading libraries\n",
        "print('Loading/Installing Package => Begin\\n\\n')\n",
        "import jet_ml_dataset_builder.jet_ml_dataset_builder_utilities as util\n",
        "from jet_ml_dataset_builder.jet_ml_dataset_builder_utilities import set_directory_paths\n",
        "from jet_ml_dataset_builder.jet_ml_dataset_builder_utilities import parse_parameters\n",
        "from jet_ml_dataset_builder.jet_ml_dataset_builder_utilities import load_dataset\n",
        "from jet_ml_dataset_builder.jet_ml_dataset_builder_utilities import install\n",
        "# install(\"trimesh\")\n",
        "import os\n",
        "from time import time\n",
        "import glob\n",
        "# import trimesh\n",
        "import numpy as np\n",
        "import pandas as pd\n",
        "import seaborn as sns\n",
        "import tensorflow as tf\n",
        "from tensorflow import keras\n",
        "from tensorflow.keras import layers\n",
        "from tensorflow.keras.callbacks import ModelCheckpoint, History\n",
        "from matplotlib import pyplot as plt\n",
        "from sklearn.metrics import accuracy_score, confusion_matrix\n",
        "from sklearn.model_selection import train_test_split\n",
        "from sklearn.model_selection import train_test_split, cross_val_score, KFold\n",
        "from sklearn.preprocessing import OneHotEncoder, StandardScaler\n",
        "import json\n",
        "\n",
        "\n",
        "tf.random.set_seed(1234)\n",
        "print('\\nLoading/Installing Package => End\\n\\n')\n"
      ]
    },
    {
      "cell_type": "code",
      "execution_count": 42,
      "metadata": {
        "colab": {
          "base_uri": "https://localhost:8080/"
        },
        "id": "IrDIuS_1sqb6",
        "outputId": "810c844f-93e2-4558-e2fa-4602e223457f"
      },
      "outputs": [
        {
          "name": "stdout",
          "output_type": "stream",
          "text": [
            "\n",
            "########################################################################\n",
            "Checking the running platforms\n",
            "\n",
            "Python version: 3.11.5\n",
            "OS: Windows\n",
            "OS version: 10\n",
            "running on Colab: False\n",
            "Dataset Directory Path: D:\\Projects\\110_JetscapeMl\\hm.jetscapeml.data\\\n",
            "Simulation Results Path: D:\\Projects\\110_JetscapeMl\\hm.jetscapeml.data\\simulation_results\\\n",
            "Dataset Directory Path: D:\\Projects\\110_JetscapeMl\\hm.jetscapeml.data\\\n",
            "Simulation Directory Path: D:\\Projects\\110_JetscapeMl\\hm.jetscapeml.data\\simulation_results\\\n",
            "########################################################################\n",
            "\n"
          ]
        }
      ],
      "source": [
        "\n",
        "\n",
        "print('\\n########################################################################')\n",
        "print('Checking the running platforms\\n')\n",
        "\n",
        "# Call the function and retrieve the dataset_directory_path and simulation_directory_path\n",
        "dataset_directory_path, simulation_directory_path = set_directory_paths()\n",
        "\n",
        "# Access the dataset_directory_path and simulation_directory_path\n",
        "print(\"Dataset Directory Path:\", dataset_directory_path)\n",
        "print(\"Simulation Directory Path:\", simulation_directory_path)\n",
        "print('########################################################################\\n')\n",
        "\n",
        "\n"
      ]
    },
    {
      "cell_type": "code",
      "execution_count": 43,
      "metadata": {
        "colab": {
          "base_uri": "https://localhost:8080/"
        },
        "id": "jX15cxNSs6o3",
        "outputId": "1d02a92e-54ea-4f9d-b397-8a4e71281827"
      },
      "outputs": [
        {
          "name": "stdout",
          "output_type": "stream",
          "text": [
            "option --f not recognized\n",
            "Tokenized Arguments:\n",
            "\n",
            "Tokenized Values:\n",
            "y_class_label_items: ['MMAT', 'MLBT']\n",
            "alpha_s_items: [0.2, 0.3, 0.4]\n",
            "q0_items: [1.5, 2.0, 2.5]\n"
          ]
        }
      ],
      "source": [
        "\n",
        "\n",
        "# Call the function and retrieve the tokenized parameters\n",
        "tokenized_arguments, tokenized_values = parse_parameters()\n",
        "\n",
        "# Access the tokenized arguments and values\n",
        "print(\"Tokenized Arguments:\")\n",
        "for argument in tokenized_arguments:\n",
        "    print(argument)\n",
        "\n",
        "print(\"\\nTokenized Values:\")\n",
        "for argument, value in tokenized_values.items():\n",
        "    print(f\"{argument}: {value}\")\n",
        "\n",
        "y_class_label_items=['MMAT','MLBT']\n",
        "alpha_s_items=[0.2 ,0.3 ,0.4]\n",
        "q0_items=[1.5 ,2.0 ,2.5]\n",
        "\n",
        "print(\"y_class_label_items:\",y_class_label_items)\n",
        "print(\"alpha_s_items:\",alpha_s_items)\n",
        "print(\"q0_items:\",q0_items)"
      ]
    },
    {
      "cell_type": "code",
      "execution_count": 44,
      "metadata": {
        "colab": {
          "base_uri": "https://localhost:8080/"
        },
        "id": "aTojIHZMtGcg",
        "outputId": "07669c33-4ff8-4243-f70b-7ee1601aa8ec"
      },
      "outputs": [
        {
          "name": "stdout",
          "output_type": "stream",
          "text": [
            "Building required params for the loading the dataset file\n"
          ]
        }
      ],
      "source": [
        "print(\"Building required params for the loading the dataset file\")\n",
        "\n",
        "class_labels_str = '_'.join(y_class_label_items)\n",
        "alpha_s_items_str='_'.join(map(str, alpha_s_items))\n",
        "q0_items_str='_'.join(map(str, q0_items))\n",
        "total_size=9*1200000\n"
      ]
    },
    {
      "cell_type": "code",
      "execution_count": 45,
      "metadata": {
        "id": "VUyAMovFsgDO"
      },
      "outputs": [],
      "source": [
        "# loading dataset by size and getting just the first column\n",
        "# Function to load datasets of different sizes\n",
        "def get_dataset(size):\n",
        "    dataset_file_name = f\"jet_ml_benchmark_config_01_to_09_alpha_{alpha_s_items_str}_q0_{q0_items_str}_{class_labels_str}_size_{size}_shuffled.pkl\"\n",
        "\n",
        "    dataset_file_name=dataset_directory_path+dataset_file_name\n",
        "    print(\"dataset_file_name:\",dataset_file_name)\n",
        "\n",
        "    dataset=load_dataset(dataset_file_name,has_test=False)\n",
        "    (dataset_x, dataset_y) = dataset\n",
        "    print('Extract the first column for binary classification')\n",
        "    dataset_y = dataset_y[:, 0]\n",
        "    print(\"dataset.x:\",type(dataset_x), dataset_x.size, dataset_x.shape)\n",
        "    print(\"dataset.y:\",type(dataset_y), dataset_y.size,dataset_y.shape)\n",
        "    return dataset_x, dataset_y"
      ]
    },
    {
      "cell_type": "markdown",
      "metadata": {
        "id": "HcmpjB3C-HH2"
      },
      "source": [
        "Building and Compiling the Classifier model"
      ]
    },
    {
      "cell_type": "code",
      "execution_count": 46,
      "metadata": {
        "id": "7wlkSWaHks0z"
      },
      "outputs": [],
      "source": [
        "def conv_bn(x, filters):\n",
        "    x = layers.Conv1D(filters, kernel_size=1, padding=\"valid\")(x)\n",
        "    x = layers.BatchNormalization(momentum=0.0)(x)\n",
        "    return layers.Activation(\"relu\")(x)\n",
        "\n",
        "\n",
        "def dense_bn(x, filters):\n",
        "    x = layers.Dense(filters)(x)\n",
        "    x = layers.BatchNormalization(momentum=0.0)(x)\n",
        "    return layers.Activation(\"relu\")(x)\n",
        "\n",
        "\n",
        "class OrthogonalRegularizer(keras.regularizers.Regularizer):\n",
        "    def __init__(self, num_features, l2reg=0.001):\n",
        "        self.num_features = num_features\n",
        "        self.l2reg = l2reg\n",
        "        self.eye = tf.eye(num_features)\n",
        "\n",
        "    def __call__(self, x):\n",
        "        x = tf.reshape(x, (-1, self.num_features, self.num_features))\n",
        "        xxt = tf.tensordot(x, x, axes=(2, 2))\n",
        "        xxt = tf.reshape(xxt, (-1, self.num_features, self.num_features))\n",
        "        return tf.reduce_sum(self.l2reg * tf.square(xxt - self.eye))\n",
        "\n",
        "    def get_config(self):\n",
        "        return {'num_features': self.num_features, 'l2reg': self.l2reg}\n",
        "\n",
        "def tnet(inputs, num_features):\n",
        "\n",
        "    # Initalise bias as the indentity matrix\n",
        "    bias = keras.initializers.Constant(np.eye(num_features).flatten())\n",
        "    reg = OrthogonalRegularizer(num_features)\n",
        "\n",
        "    x = conv_bn(inputs, 32)\n",
        "    x = conv_bn(x, 64)\n",
        "    x = conv_bn(x, 512)\n",
        "    x = layers.GlobalMaxPooling1D()(x)\n",
        "    x = dense_bn(x, 256)\n",
        "    x = dense_bn(x, 128)\n",
        "    x = layers.Dense(\n",
        "        num_features * num_features,\n",
        "        kernel_initializer=\"zeros\",\n",
        "        bias_initializer=bias,\n",
        "        activity_regularizer=reg,\n",
        "    )(x)\n",
        "    feat_T = layers.Reshape((num_features, num_features))(x)\n",
        "    # Apply affine transformation to input features\n",
        "    return layers.Dot(axes=(2, 1))([inputs, feat_T])\n",
        "\n",
        "def build_pointnet_binary_classifier_model(NUM_POINTS,NUM_CLASSES):\n",
        "    inputs = keras.Input(shape=(NUM_POINTS, 3))\n",
        "    x = tnet(inputs, 3)\n",
        "    x = conv_bn(x, 32)\n",
        "    x = conv_bn(x, 32)\n",
        "    x = tnet(x, 32)\n",
        "    x = conv_bn(x, 32)\n",
        "    x = conv_bn(x, 64)\n",
        "    x = conv_bn(x, 512)\n",
        "    x = layers.GlobalMaxPooling1D()(x)\n",
        "    x = dense_bn(x, 256)\n",
        "    x = layers.Dropout(0.3)(x)\n",
        "    x = dense_bn(x, 128)\n",
        "    x = layers.Dropout(0.3)(x)\n",
        "\n",
        "    # outputs = layers.Dense(NUM_CLASSES, activation=\"softmax\")(x)\n",
        "    outputs = layers.Dense(NUM_CLASSES, activation=\"sigmoid\")(x)\n",
        "\n",
        "    model = keras.Model(inputs=inputs, outputs=outputs, name=\"pointnet\")\n",
        "    return model"
      ]
    },
    {
      "cell_type": "code",
      "execution_count": 47,
      "metadata": {
        "id": "xveklusUk1T9"
      },
      "outputs": [],
      "source": [
        "\n",
        "# NUM_POINTS = 2048\n",
        "NUM_POINTS = 1024\n",
        "# NUM_CLASSES = 10\n",
        "NUM_CLASSES = 2\n",
        "\n",
        "pointnet=build_pointnet_binary_classifier_model(NUM_POINTS,NUM_CLASSES)\n",
        "learning_rate=0.001"
      ]
    },
    {
      "cell_type": "code",
      "execution_count": 48,
      "metadata": {
        "id": "UgTjO5munWUX"
      },
      "outputs": [],
      "source": [
        "def compile_pointnet_binary_classifier_model_with_hyperparam(model,learning_rate):\n",
        "  optimizer = keras.optimizers.Adam(learning_rate=learning_rate)\n",
        "\n",
        "  model.compile(\n",
        "      # loss=\"sparse_categorical_crossentropy\",\n",
        "      loss=\"binary_crossentropy\",\n",
        "      optimizer=optimizer,\n",
        "      # metrics=[\"sparse_categorical_accuracy\"],\n",
        "      metrics=[\"accuracy\"],\n",
        "  )\n",
        "  model.summary()\n",
        "  return model"
      ]
    },
    {
      "cell_type": "code",
      "execution_count": 49,
      "metadata": {
        "colab": {
          "base_uri": "https://localhost:8080/"
        },
        "id": "o6sK2bSktpOO",
        "outputId": "21d03f00-1c64-449e-ef92-6f8a8258baf3"
      },
      "outputs": [
        {
          "name": "stdout",
          "output_type": "stream",
          "text": [
            "Model: \"pointnet\"\n",
            "__________________________________________________________________________________________________\n",
            " Layer (type)                Output Shape                 Param #   Connected to                  \n",
            "==================================================================================================\n",
            " input_2 (InputLayer)        [(None, 1024, 3)]            0         []                            \n",
            "                                                                                                  \n",
            " conv1d_11 (Conv1D)          (None, 1024, 32)             128       ['input_2[0][0]']             \n",
            "                                                                                                  \n",
            " batch_normalization_17 (Ba  (None, 1024, 32)             128       ['conv1d_11[0][0]']           \n",
            " tchNormalization)                                                                                \n",
            "                                                                                                  \n",
            " activation_17 (Activation)  (None, 1024, 32)             0         ['batch_normalization_17[0][0]\n",
            "                                                                    ']                            \n",
            "                                                                                                  \n",
            " conv1d_12 (Conv1D)          (None, 1024, 64)             2112      ['activation_17[0][0]']       \n",
            "                                                                                                  \n",
            " batch_normalization_18 (Ba  (None, 1024, 64)             256       ['conv1d_12[0][0]']           \n",
            " tchNormalization)                                                                                \n",
            "                                                                                                  \n",
            " activation_18 (Activation)  (None, 1024, 64)             0         ['batch_normalization_18[0][0]\n",
            "                                                                    ']                            \n",
            "                                                                                                  \n",
            " conv1d_13 (Conv1D)          (None, 1024, 512)            33280     ['activation_18[0][0]']       \n",
            "                                                                                                  \n",
            " batch_normalization_19 (Ba  (None, 1024, 512)            2048      ['conv1d_13[0][0]']           \n",
            " tchNormalization)                                                                                \n",
            "                                                                                                  \n",
            " activation_19 (Activation)  (None, 1024, 512)            0         ['batch_normalization_19[0][0]\n",
            "                                                                    ']                            \n",
            "                                                                                                  \n",
            " global_max_pooling1d_3 (Gl  (None, 512)                  0         ['activation_19[0][0]']       \n"
          ]
        },
        {
          "name": "stdout",
          "output_type": "stream",
          "text": [
            " obalMaxPooling1D)                                                                                \n",
            "                                                                                                  \n",
            " dense_9 (Dense)             (None, 256)                  131328    ['global_max_pooling1d_3[0][0]\n",
            "                                                                    ']                            \n",
            "                                                                                                  \n",
            " batch_normalization_20 (Ba  (None, 256)                  1024      ['dense_9[0][0]']             \n",
            " tchNormalization)                                                                                \n",
            "                                                                                                  \n",
            " activation_20 (Activation)  (None, 256)                  0         ['batch_normalization_20[0][0]\n",
            "                                                                    ']                            \n",
            "                                                                                                  \n",
            " dense_10 (Dense)            (None, 128)                  32896     ['activation_20[0][0]']       \n",
            "                                                                                                  \n",
            " batch_normalization_21 (Ba  (None, 128)                  512       ['dense_10[0][0]']            \n",
            " tchNormalization)                                                                                \n",
            "                                                                                                  \n",
            " activation_21 (Activation)  (None, 128)                  0         ['batch_normalization_21[0][0]\n",
            "                                                                    ']                            \n",
            "                                                                                                  \n",
            " dense_11 (Dense)            (None, 9)                    1161      ['activation_21[0][0]']       \n",
            "                                                                                                  \n",
            " reshape_2 (Reshape)         (None, 3, 3)                 0         ['dense_11[0][0]']            \n",
            "                                                                                                  \n",
            " dot_2 (Dot)                 (None, 1024, 3)              0         ['input_2[0][0]',             \n",
            "                                                                     'reshape_2[0][0]']           \n",
            "                                                                                                  \n",
            " conv1d_14 (Conv1D)          (None, 1024, 32)             128       ['dot_2[0][0]']               \n",
            "                                                                                                  \n",
            " batch_normalization_22 (Ba  (None, 1024, 32)             128       ['conv1d_14[0][0]']           \n",
            " tchNormalization)                                                                                \n",
            "                                                                                                  \n",
            " activation_22 (Activation)  (None, 1024, 32)             0         ['batch_normalization_22[0][0]\n",
            "                                                                    ']                            \n",
            "                                                                                                  \n",
            " conv1d_15 (Conv1D)          (None, 1024, 32)             1056      ['activation_22[0][0]']       \n",
            "                                                                                                  \n",
            " batch_normalization_23 (Ba  (None, 1024, 32)             128       ['conv1d_15[0][0]']           \n",
            " tchNormalization)                                                                                \n",
            "                                                                                                  \n",
            " activation_23 (Activation)  (None, 1024, 32)             0         ['batch_normalization_23[0][0]\n",
            "                                                                    ']                            \n",
            "                                                                                                  \n",
            " conv1d_16 (Conv1D)          (None, 1024, 32)             1056      ['activation_23[0][0]']       \n",
            "                                                                                                  \n",
            " batch_normalization_24 (Ba  (None, 1024, 32)             128       ['conv1d_16[0][0]']           \n",
            " tchNormalization)                                                                                \n",
            "                                                                                                  \n",
            " activation_24 (Activation)  (None, 1024, 32)             0         ['batch_normalization_24[0][0]\n",
            "                                                                    ']                            \n",
            "                                                                                                  \n",
            " conv1d_17 (Conv1D)          (None, 1024, 64)             2112      ['activation_24[0][0]']       \n",
            "                                                                                                  \n",
            " batch_normalization_25 (Ba  (None, 1024, 64)             256       ['conv1d_17[0][0]']           \n",
            " tchNormalization)                                                                                \n",
            "                                                                                                  \n",
            " activation_25 (Activation)  (None, 1024, 64)             0         ['batch_normalization_25[0][0]\n",
            "                                                                    ']                            \n",
            "                                                                                                  \n",
            " conv1d_18 (Conv1D)          (None, 1024, 512)            33280     ['activation_25[0][0]']       \n",
            "                                                                                                  \n",
            " batch_normalization_26 (Ba  (None, 1024, 512)            2048      ['conv1d_18[0][0]']           \n",
            " tchNormalization)                                                                                \n",
            "                                                                                                  \n",
            " activation_26 (Activation)  (None, 1024, 512)            0         ['batch_normalization_26[0][0]\n",
            "                                                                    ']                            \n",
            "                                                                                                  \n",
            " global_max_pooling1d_4 (Gl  (None, 512)                  0         ['activation_26[0][0]']       \n",
            " obalMaxPooling1D)                                                                                \n",
            "                                                                                                  \n",
            " dense_12 (Dense)            (None, 256)                  131328    ['global_max_pooling1d_4[0][0]\n",
            "                                                                    ']                            \n",
            "                                                                                                  \n",
            " batch_normalization_27 (Ba  (None, 256)                  1024      ['dense_12[0][0]']            \n",
            " tchNormalization)                                                                                \n",
            "                                                                                                  \n",
            " activation_27 (Activation)  (None, 256)                  0         ['batch_normalization_27[0][0]\n",
            "                                                                    ']                            \n",
            "                                                                                                  \n",
            " dense_13 (Dense)            (None, 128)                  32896     ['activation_27[0][0]']       \n",
            "                                                                                                  \n",
            " batch_normalization_28 (Ba  (None, 128)                  512       ['dense_13[0][0]']            \n",
            " tchNormalization)                                                                                \n",
            "                                                                                                  \n",
            " activation_28 (Activation)  (None, 128)                  0         ['batch_normalization_28[0][0]\n",
            "                                                                    ']                            \n",
            "                                                                                                  \n",
            " dense_14 (Dense)            (None, 1024)                 132096    ['activation_28[0][0]']       \n",
            "                                                                                                  \n",
            " reshape_3 (Reshape)         (None, 32, 32)               0         ['dense_14[0][0]']            \n",
            "                                                                                                  \n",
            " dot_3 (Dot)                 (None, 1024, 32)             0         ['activation_23[0][0]',       \n",
            "                                                                     'reshape_3[0][0]']           \n",
            "                                                                                                  \n",
            " conv1d_19 (Conv1D)          (None, 1024, 32)             1056      ['dot_3[0][0]']               \n",
            "                                                                                                  \n",
            " batch_normalization_29 (Ba  (None, 1024, 32)             128       ['conv1d_19[0][0]']           \n",
            " tchNormalization)                                                                                \n",
            "                                                                                                  \n",
            " activation_29 (Activation)  (None, 1024, 32)             0         ['batch_normalization_29[0][0]\n",
            "                                                                    ']                            \n",
            "                                                                                                  \n",
            " conv1d_20 (Conv1D)          (None, 1024, 64)             2112      ['activation_29[0][0]']       \n",
            "                                                                                                  \n",
            " batch_normalization_30 (Ba  (None, 1024, 64)             256       ['conv1d_20[0][0]']           \n",
            " tchNormalization)                                                                                \n",
            "                                                                                                  \n",
            " activation_30 (Activation)  (None, 1024, 64)             0         ['batch_normalization_30[0][0]\n",
            "                                                                    ']                            \n",
            "                                                                                                  \n",
            " conv1d_21 (Conv1D)          (None, 1024, 512)            33280     ['activation_30[0][0]']       \n",
            "                                                                                                  \n",
            " batch_normalization_31 (Ba  (None, 1024, 512)            2048      ['conv1d_21[0][0]']           \n",
            " tchNormalization)                                                                                \n",
            "                                                                                                  \n",
            " activation_31 (Activation)  (None, 1024, 512)            0         ['batch_normalization_31[0][0]\n",
            "                                                                    ']                            \n",
            "                                                                                                  \n",
            " global_max_pooling1d_5 (Gl  (None, 512)                  0         ['activation_31[0][0]']       \n",
            " obalMaxPooling1D)                                                                                \n",
            "                                                                                                  \n",
            " dense_15 (Dense)            (None, 256)                  131328    ['global_max_pooling1d_5[0][0]\n",
            "                                                                    ']                            \n",
            "                                                                                                  \n",
            " batch_normalization_32 (Ba  (None, 256)                  1024      ['dense_15[0][0]']            \n",
            " tchNormalization)                                                                                \n",
            "                                                                                                  \n",
            " activation_32 (Activation)  (None, 256)                  0         ['batch_normalization_32[0][0]\n",
            "                                                                    ']                            \n",
            "                                                                                                  \n",
            " dropout_2 (Dropout)         (None, 256)                  0         ['activation_32[0][0]']       \n",
            "                                                                                                  \n",
            " dense_16 (Dense)            (None, 128)                  32896     ['dropout_2[0][0]']           \n",
            "                                                                                                  \n",
            " batch_normalization_33 (Ba  (None, 128)                  512       ['dense_16[0][0]']            \n",
            " tchNormalization)                                                                                \n",
            "                                                                                                  \n",
            " activation_33 (Activation)  (None, 128)                  0         ['batch_normalization_33[0][0]\n",
            "                                                                    ']                            \n",
            "                                                                                                  \n",
            " dropout_3 (Dropout)         (None, 128)                  0         ['activation_33[0][0]']       \n",
            "                                                                                                  \n",
            " dense_17 (Dense)            (None, 2)                    258       ['dropout_3[0][0]']           \n",
            "                                                                                                  \n",
            "==================================================================================================\n",
            "Total params: 747947 (2.85 MB)\n",
            "Trainable params: 741867 (2.83 MB)\n",
            "Non-trainable params: 6080 (23.75 KB)\n",
            "__________________________________________________________________________________________________\n"
          ]
        }
      ],
      "source": [
        "pointnet=compile_pointnet_binary_classifier_model_with_hyperparam(pointnet,learning_rate)"
      ]
    },
    {
      "cell_type": "code",
      "execution_count": 50,
      "metadata": {
        "id": "hXGQAvpJtN8t"
      },
      "outputs": [],
      "source": [
        "# Classifiers\n",
        "classifiers = {\n",
        "    'Pointnet': pointnet,\n",
        "}"
      ]
    },
    {
      "cell_type": "code",
      "execution_count": 51,
      "metadata": {
        "id": "nhYozTcXX1YW"
      },
      "outputs": [],
      "source": [
        "def get_coordinates(image_array):\n",
        "  import numpy as np\n",
        "  # Get the dimensions of the original array\n",
        "  height, width = image_array.shape\n",
        "  # Create an array of coordinates (x, y)\n",
        "  coordinates = np.column_stack((np.repeat(np.arange(height), width),\n",
        "                                np.tile(np.arange(width), height)))\n",
        "  return coordinates\n",
        "def get_point_clouds(image_array,coordinates):\n",
        "  # Assuming image_array is your 32x32 numpy array\n",
        "  # image_array = np.random.randint(0, 256, (32, 32), dtype=np.uint8)\n",
        "  # Create an nx3 array with x, y, and intensity values\n",
        "  result_array = np.column_stack((coordinates, image_array.flatten()))\n",
        "  return result_array"
      ]
    },
    {
      "cell_type": "code",
      "execution_count": 52,
      "metadata": {
        "id": "vlFbDGl6XVQs"
      },
      "outputs": [],
      "source": [
        "import numpy as np\n",
        "\n",
        "def get_dataset_points(dataset_x):\n",
        "    \"\"\"\n",
        "    Get 3D points for each entry in the dataset.\n",
        "\n",
        "    Parameters:\n",
        "    - dataset: 3D array-like, the dataset containing non-zero values.\n",
        "\n",
        "    Returns:\n",
        "    - dataset_points: NumPy array, each entry corresponds to the 3D points of non-zero values for a particular entry in the dataset.\n",
        "\n",
        "    \"\"\"\n",
        "    dataset_points = []\n",
        "    coordinates=get_coordinates(dataset_x[0])\n",
        "\n",
        "\n",
        "    for data in dataset_x:\n",
        "\n",
        "        point_clouds=get_point_clouds(data,coordinates)\n",
        "        # Append coordinates to the list\n",
        "        dataset_points.append(point_clouds)\n",
        "\n",
        "    # Convert the list of coordinates to a NumPy array\n",
        "    dataset_points = np.array(dataset_points)\n",
        "    return dataset_points\n",
        "\n",
        "\n",
        "\n"
      ]
    },
    {
      "cell_type": "code",
      "execution_count": 53,
      "metadata": {
        "id": "6CBjsFewAJxe"
      },
      "outputs": [],
      "source": [
        "def split_dataset(dataset_x, dataset_x_points, dataset_y, test_size=0.2, random_state=None):\n",
        "    \"\"\"\n",
        "    Split the dataset into training and testing sets.\n",
        "\n",
        "    Parameters:\n",
        "    - dataset_x: The input data (3D array).\n",
        "    - dataset_x_points: The 3D coordinates corresponding to each entry.\n",
        "    - dataset_y: The target values (2D array).\n",
        "    - test_size: The proportion of the dataset to include in the test split.\n",
        "    - random_state: Seed for random number generation.\n",
        "\n",
        "    Returns:\n",
        "    - x_train, x_test: The split input data for training and testing.\n",
        "    - x_train_points, x_test_points: The split 3D coordinates for training and testing.\n",
        "    - y_train, y_test: The split target values for training and testing.\n",
        "    \"\"\"\n",
        "    # Flatten the input data to 2D\n",
        "    flattened_dataset_x = dataset_x.reshape(dataset_x.shape[0], -1)\n",
        "\n",
        "    # Split the dataset\n",
        "    x_train, x_test, x_train_points, x_test_points, y_train, y_test = \\\n",
        "        train_test_split(flattened_dataset_x, dataset_x_points, dataset_y, test_size=test_size, random_state=random_state)\n",
        "\n",
        "    # Reshape the input data back to 3D\n",
        "    x_train = x_train.reshape(x_train.shape[0], dataset_x.shape[1], dataset_x.shape[2])\n",
        "    x_test = x_test.reshape(x_test.shape[0], dataset_x.shape[1], dataset_x.shape[2])\n",
        "\n",
        "    return x_train, x_test, x_train_points, x_test_points, y_train, y_test\n",
        "\n",
        "\n"
      ]
    },
    {
      "cell_type": "code",
      "execution_count": 54,
      "metadata": {
        "id": "5sWogII7Z06-"
      },
      "outputs": [],
      "source": [
        "def parse_dataset(x_train,x_test):\n",
        "    train_labels = []\n",
        "    test_labels = []\n",
        "    i=0\n",
        "    for f in x_train:\n",
        "\n",
        "        train_labels.append(i)\n",
        "        i=i+1\n",
        "    for f in x_test:\n",
        "        test_labels.append(i)\n",
        "        i=i+1\n",
        "    return (\n",
        "        np.array(train_labels),\n",
        "        np.array(test_labels),\n",
        "    )"
      ]
    },
    {
      "cell_type": "code",
      "execution_count": 55,
      "metadata": {
        "id": "FH9B4SCcaNev"
      },
      "outputs": [],
      "source": [
        "def augment(points, label):\n",
        "    # jitter points\n",
        "    points += tf.random.uniform(points.shape, -0.005, 0.005, dtype=tf.float64)\n",
        "    # shuffle points\n",
        "    points = tf.random.shuffle(points)\n",
        "    return points, label"
      ]
    },
    {
      "cell_type": "code",
      "execution_count": 56,
      "metadata": {
        "id": "8zniYk7xKyBy"
      },
      "outputs": [],
      "source": [
        "def evaluate_model(model, x_test, y_test):\n",
        "    \"\"\"\n",
        "    Evaluate the performance of a trained model on test data.\n",
        "\n",
        "    Parameters:\n",
        "    - model: The trained deep neural model.\n",
        "    - x_test: Test data, it shall be in the cloud points format, each entry contains 1024x3 data.\n",
        "    - y_test: True labels.\n",
        "\n",
        "    Returns:\n",
        "    - accuracy: Accuracy of the model on the test data.\n",
        "    - confusion_matrix: Confusion matrix for the predictions.\n",
        "    \"\"\"\n",
        "    # Assuming model is your trained deep neural model\n",
        "    y_pred = model.predict(x_test)\n",
        "    y_pred_class = np.argmax(y_pred, axis=1)  # Extracting the class with the highest probability\n",
        "\n",
        "    # Assuming y_true is a Nx2 array where each row contains the true class probabilities\n",
        "    y_true_class = np.argmax(y_test, axis=1)  # Extracting the class with the highest true probability\n",
        "\n",
        "    accuracy = accuracy_score(y_true_class, y_pred_class)\n",
        "    print(f'Accuracy: {accuracy}')\n",
        "\n",
        "    cm = confusion_matrix(y_true_class, y_pred_class)\n",
        "    print(f'Confusion Matrix: {cm}')\n",
        "\n",
        "    return accuracy, cm\n",
        "\n",
        "# Example usage:\n",
        "# accuracy, confusion_matrix = evaluate_model(trained_model, test_data, true_labels)\n"
      ]
    },
    {
      "cell_type": "code",
      "execution_count": 57,
      "metadata": {
        "id": "Jbi8LtS3bOtH"
      },
      "outputs": [],
      "source": [
        "def preprocess_dataset(dataset_x, dataset_y):\n",
        "  print(\"Pre-processing\")\n",
        "\n",
        "  # Example usage:\n",
        "  dataset_x_points = get_dataset_points(dataset_x)\n",
        "  print(\"dataset_x_points shape:\", dataset_x_points.shape)\n",
        "  x_train, x_test, x_train_points, x_test_points, y_train, y_test= \\\n",
        "    split_dataset(dataset_x, dataset_x_points, dataset_y, test_size=0.2, random_state=None)\n",
        "  print(\"deleting the original dataset after splitting ...\")\n",
        "  del dataset_x,dataset_x_points,dataset_y\n",
        "  print(\"train_x:\",type(x_train), x_train.size, x_train.shape)\n",
        "  print(\"train_points:\",type(x_train_points), x_train_points.size, x_train_points.shape)\n",
        "  print(\"train_y:\",type(y_train), y_train.size,y_train.shape)\n",
        "\n",
        "  print(\"x_test:\",type(x_test), x_test.size, x_test.shape)\n",
        "  print(\"x_test_points:\",type(x_test_points), x_test_points.size, x_test_points.shape)\n",
        "  print(\"y_test:\",type(y_test), y_test.size,y_test.shape)\n",
        "  train_labels, test_labels = parse_dataset(x_train,x_test)\n",
        "  print(train_labels.size,test_labels.size)\n",
        "\n",
        "\n",
        "  train_dataset = tf.data.Dataset.from_tensor_slices((x_train_points, train_labels))\n",
        "  test_dataset = tf.data.Dataset.from_tensor_slices((x_test_points, test_labels))\n",
        "\n",
        "\n",
        "  BATCH_SIZE = 32\n",
        "\n",
        "  train_dataset = train_dataset.shuffle(len(x_train_points)).map(augment).batch(BATCH_SIZE)\n",
        "  test_dataset = test_dataset.shuffle(len(x_test_points)).batch(BATCH_SIZE)\n",
        "\n",
        "  # Preprocess y_train and y_test\n",
        "  # One-hot encode the categorical variable\n",
        "  # print(y_train)\n",
        "  y_train_categorical = np.array(y_train).reshape(-1, 1)\n",
        "  y_test_categorical = np.array(y_test).reshape(-1, 1)\n",
        "\n",
        "  encoder = OneHotEncoder(sparse_output=False)\n",
        "  y_train_categorical_encoded = encoder.fit_transform(y_train_categorical)\n",
        "  y_test_categorical_encoded = encoder.transform(y_test_categorical)\n",
        "  print(y_test_categorical[:10])\n",
        "  print(y_test_categorical_encoded[:10])\n",
        "  return (x_train_points,  y_train_categorical_encoded,x_test_points,  y_test_categorical_encoded)\n"
      ]
    },
    {
      "cell_type": "code",
      "execution_count": 58,
      "metadata": {
        "id": "ILdXu--e2P_6"
      },
      "outputs": [],
      "source": [
        "def plot_training_history(history,simulation_path):\n",
        "    # Plot training & validation accuracy values\n",
        "    plt.figure(figsize=(12, 6))\n",
        "    plt.subplot(1, 2, 1)\n",
        "    plt.plot(history.history['accuracy'])\n",
        "    plt.plot(history.history['val_accuracy'])\n",
        "    plt.title('Model Accuracy')\n",
        "    plt.xlabel('Epoch')\n",
        "    plt.ylabel('Accuracy')\n",
        "    plt.legend(['Train', 'Validation'], loc='upper left')\n",
        "    # Set ticks on the epoch axis to display only integer values\n",
        "    plt.xticks(range(0, len(history.history['accuracy'])+1,5))\n",
        "\n",
        "    # Plot training & validation loss values\n",
        "    plt.subplot(1, 2, 2)\n",
        "    plt.plot(history.history['loss'])\n",
        "    plt.plot(history.history['val_loss'])\n",
        "    plt.title('Model Loss')\n",
        "    plt.xlabel('Epoch')\n",
        "    plt.ylabel('Loss')\n",
        "    plt.legend(['Train', 'Validation'], loc='upper left')\n",
        "\n",
        "    # Set ticks on the epoch axis to display only integer values\n",
        "    plt.xticks(range(0, len(history.history['accuracy'])+1,5))\n",
        "\n",
        "    # Adjust layout and show the plot\n",
        "    plt.tight_layout()\n",
        "\n",
        "\n",
        "    # Save the plot with high resolution (300 dpi)\n",
        "    file_name='_accuracy_loss.png'\n",
        "    file_path=simulation_path+file_name\n",
        "    plt.savefig(file_path, dpi=300)\n",
        "    plt.show()\n",
        "    plt.close()\n",
        "    return file_path\n",
        "\n",
        "# Plot the training history\n",
        "# plot_training_history_path=plot_training_history(history,simulation_path)"
      ]
    },
    {
      "cell_type": "code",
      "execution_count": 59,
      "metadata": {
        "id": "pUyg0Teluaa0"
      },
      "outputs": [],
      "source": [
        "def save_training_history(history,simulation_path):\n",
        "  # Save the training history to a file (e.g., JSON format)\n",
        "\n",
        "  training_history_file_path =simulation_path+'_training_history'\n",
        "  # training_history_file_path  =simulation_directory_path+training_history_file_name\n",
        "\n",
        "  training_history_file_path_json=training_history_file_path+'.json'\n",
        "  with open(training_history_file_path_json, 'w') as f:\n",
        "      json.dump(history.history, f)\n",
        "  print(training_history_file_path_json)\n",
        "\n",
        "  training_history_file_path_csv=training_history_file_path+'.csv'\n",
        "  pd.DataFrame.from_dict(history.history).to_csv(training_history_file_path_csv,index=False)\n",
        "  print(training_history_file_path_csv)\n",
        "\n",
        "  training_history_file_path_npy=training_history_file_path+'.npy'\n",
        "  np.save(training_history_file_path_npy,history.history)\n",
        "  print(training_history_file_path_npy)\n",
        "  return training_history_file_path_json,training_history_file_path_csv,training_history_file_path_csv\n",
        "\n",
        "# training_history_file_path_json,training_history_file_path_csv,training_history_file_path_csv = \\\n",
        "#   save_training_history(history,simulation_path)"
      ]
    },
    {
      "cell_type": "code",
      "execution_count": 66,
      "metadata": {
        "id": "4Txe-hJQNEZx"
      },
      "outputs": [],
      "source": [
        "import tensorflow as tf\n",
        "\n",
        "# Function to train and evaluate classifiers\n",
        "# This method shall get the cloud points as the trainset, to be trained by pointnet\n",
        "def train_and_evaluate_classifier_kfold(model, x_train,y_train , x_test, y_test, n_epochs, monitor, k_folds,simulation_path):\n",
        "\n",
        "    # Use KFold for k-fold cross-validation\n",
        "    kfold = KFold(n_splits=k_folds, shuffle=True, random_state=42)\n",
        "\n",
        "    accuracies = []\n",
        "    cms = []\n",
        "    train_times = []\n",
        "    all_histories = []  # Store histories for each fold\n",
        "    plots=[]\n",
        "    models=[]\n",
        "\n",
        "    for fold, (train_index, val_index) in enumerate(kfold.split(x_train)):\n",
        "    # train_index, val_index in kfold.split(x_train):\n",
        "        x_train_fold, x_val_fold = x_train[train_index], x_train[val_index]\n",
        "        y_train_fold, y_val_fold = y_train[train_index], y_train[val_index]\n",
        "\n",
        "        # Clear any previous TensorFlow session\n",
        "        tf.keras.backend.clear_session()\n",
        "\n",
        "        # Include both ModelCheckpoint and History callbacks in the callbacks list\n",
        "        # callbacks=[checkpoint_callback]\n",
        "        fold_path=f'{simulation_path}_fold_{fold}'\n",
        "        # Use ModelCheckpoint callback to save the best model\n",
        "        best_model_file_path = f'{fold_path}_best_model.keras'\n",
        "        models.append(best_model_file_path)\n",
        "        checkpoint_callback = ModelCheckpoint(\n",
        "            best_model_file_path,\n",
        "            monitor=monitor,\n",
        "            save_best_only=True,\n",
        "            mode=\"max\" if monitor == \"val_accuracy\" else \"min\",\n",
        "            verbose=1\n",
        "        )\n",
        "\n",
        "        # Use History callback to retrieve the training history\n",
        "        history_callback = History()\n",
        "\n",
        "        start = time()\n",
        "\n",
        "        # Create a new session\n",
        "        with tf.Session() as sess:\n",
        "            # Create the model\n",
        "            model_fold = compile_pointnet_binary_classifier_model_with_hyperparam()\n",
        "            history = model_fold.fit(\n",
        "                x_train_fold,\n",
        "                y_train_fold,\n",
        "                epochs=n_epochs,\n",
        "                validation_data=(x_val_fold, y_val_fold),\n",
        "                callbacks=[checkpoint_callback]\n",
        "            )\n",
        "            train_time = (time()-start)/60.0\n",
        "            train_times.append(train_time)\n",
        "            # Append history to the list\n",
        "            all_histories.append(history.history)\n",
        "\n",
        "            plot=plot_training_history(history,fold_path)\n",
        "            training_history_file_path_json,training_history_file_path_csv,training_history_file_path_csv = \\\n",
        "            save_training_history(history,fold_path)\n",
        "            plots.append(plot)\n",
        "\n",
        "            accuracy, confusion_matrix = evaluate_model(model_fold, x_test, y_test)\n",
        "            accuracies.append(accuracy)\n",
        "            cms.append(confusion_matrix)\n",
        "\n",
        "    return accuracies, cms, train_times, all_histories, plots,models"
      ]
    },
    {
      "cell_type": "code",
      "execution_count": 61,
      "metadata": {
        "id": "PeY0tSPQ6lVJ"
      },
      "outputs": [],
      "source": [
        "# #example for testing classifier k fold training for a dataset size manually\n",
        "# monitor = 'val_accuracy'  # 'val_accuracy' or 'val_loss'\n",
        "# n_epochs = 50\n",
        "# k_folds = 10  # You can adjust the number of folds\n",
        "\n",
        "# print(simulation_directory_path)\n",
        "# current_simulation_name=f'jetml_pointnet_classification_eloss_{class_labels_str}_size_{1000}'\n",
        "# current_simulation_path=simulation_directory_path+current_simulation_name\n",
        "# print(current_simulation_path)\n",
        "\n",
        "# (dataset_x, dataset_y)= get_dataset(1000)\n",
        "# (x_train,  y_train,x_test,  y_test)=preprocess_dataset(dataset_x, dataset_y)\n",
        "# accuracies, cms, train_times, all_histories, plots,models = \\\n",
        "#     train_and_evaluate_classifier_kfold(pointnet, x_train,  y_train,x_test,  y_test, n_epochs, monitor, k_folds,current_simulation_path)\n",
        "\n",
        "# print(f'Accuracies: {accuracies}')\n",
        "# print(f'Confusion Matrices: {cms}')\n",
        "# print(f'Train Times: {train_times} minutes')\n",
        "# print(f'Plot Paths: {plots}')\n",
        "# print(f'Model Paths: {models}')\n",
        "# # Calculate average accuracy and confusion matrix\n",
        "# avg_accuracy = np.mean(accuracies)\n",
        "# avg_cm = np.mean(cms, axis=0)\n",
        "\n",
        "# print(f'Average Accuracy: {avg_accuracy}')\n",
        "# print(f'Average Confusion Matrix: {avg_cm}')\n",
        "# print(f'Average Train Time: {np.mean(train_times)} minutes')\n",
        "\n",
        "# print(f'Histories:{all_histories}')"
      ]
    },
    {
      "cell_type": "code",
      "execution_count": 62,
      "metadata": {
        "id": "lzP5rLoMLRqp"
      },
      "outputs": [],
      "source": [
        "# Load the DataFrame from the saved file\n",
        "def load_csv_into_dataframe(file_path):\n",
        "  df_results = pd.read_csv(file_path, sep='\\t')\n",
        "  return df_results\n",
        "#example usage\n",
        "# df_results=load_csv_into_dataframe(\"/content/drive/MyDrive/Colab Notebooks/binary_classification_results_kfold_errorbar.txt\")"
      ]
    },
    {
      "cell_type": "code",
      "execution_count": 63,
      "metadata": {
        "id": "3lYKLbf1TxpA"
      },
      "outputs": [],
      "source": [
        "def plot_save_mean_error_bar(df_results,simulation_path):\n",
        "    # df_results= df_results_kfold_errorbar\n",
        "    print(df_results)\n",
        "    # Set a seaborn style (optional)\n",
        "    sns.set(style=\"whitegrid\")\n",
        "\n",
        "\n",
        "    # Define a dictionary to map classifiers to markers\n",
        "    marker_dict = {\n",
        "        'Pointnet': 'o',\n",
        "        # 'Decision Tree': 's',\n",
        "        # 'LinearSVC': '^',\n",
        "        # 'KNN': 'v',\n",
        "        # 'Random Forest': 'D'\n",
        "    }\n",
        "    plt.figure(figsize=(10, 6))\n",
        "\n",
        "    for clf_name, group in df_results.groupby('Classifier'):\n",
        "        plt.errorbar(\n",
        "            group['Dataset_Size'],\n",
        "            group['Mean_Accuracy'],\n",
        "            yerr=group['Std_Accuracy'],\n",
        "            label=clf_name,\n",
        "            marker=marker_dict.get(clf_name, 'o'),  # Use 'o' as default marker if not found in the dictionary\n",
        "            capsize=5\n",
        "        )\n",
        "\n",
        "    plt.xscale('log')  # Set x-axis to logarithmic scale\n",
        "    plt.xlabel('Dataset Size (log scale)')\n",
        "    plt.ylabel('Mean Accuracy')\n",
        "    plt.title('Binary Classification Accuracy with Error Bars for Different Dataset Sizes')\n",
        "    plt.legend()\n",
        "    # plt.grid(True)\n",
        "    # Save the plot with high resolution (300 dpi)\n",
        "    accuracy_errorbar_plot_path=simulation_path+'_accuracy_errorbar_plot.png'\n",
        "    plt.savefig(accuracy_errorbar_plot_path, dpi=300)\n",
        "    plt.show()"
      ]
    },
    {
      "cell_type": "code",
      "execution_count": 64,
      "metadata": {
        "id": "lFHDNMtlQ6Zh"
      },
      "outputs": [],
      "source": [
        "def train_and_evaluate_classifier_for_all_datasets(dataset_sizes,classifiers,simulation_path,n_epochs, monitor, k_folds):\n",
        "  print(simulation_path)\n",
        "\n",
        "  # Results storage\n",
        "  results_kfold = []\n",
        "  results_kfold_errorbar=[]\n",
        "  # Loop through different dataset sizes\n",
        "  for size in dataset_sizes:\n",
        "      current_simulation_name=f'_size_{size}'\n",
        "      current_simulation_path=simulation_path+current_simulation_name\n",
        "      print(current_simulation_path)\n",
        "      # Generate dataset\n",
        "      # x, y = get_dataset(size)\n",
        "      (dataset_x, dataset_y)= get_dataset(size)\n",
        "      (x_train,  y_train,x_test,  y_test)=preprocess_dataset(dataset_x, dataset_y)\n",
        "\n",
        "      # Loop through classifiers\n",
        "      for clf_name, clf in classifiers.items():\n",
        "\n",
        "          # Evaluate classifier using k-fold cross-validation\n",
        "          fold_accuracies, fold_conf_matrices, fold_train_times, all_histories, plots, models = \\\n",
        "          train_and_evaluate_classifier_kfold(pointnet, x_train,  y_train,x_test,  y_test, n_epochs, monitor, k_folds,current_simulation_path)\n",
        "          # fold_accuracies, fold_conf_matrices, fold_train_times, all_histories = \\\n",
        "          # train_and_evaluate_classifier_kfold(clf, x_train,y_train, x_test, y_test, n_epochs, monitor, k_folds)\n",
        "          # fold_scores, fold_conf_matrices = train_and_evaluate_classifier_kfold(clf, x, y)\n",
        "\n",
        "          # Store results for each fold\n",
        "          for fold_num, (accuracy, cm,train_time,plot,model) in enumerate(zip(fold_accuracies, fold_conf_matrices,fold_train_times,plots,models), start=1):\n",
        "              results_kfold.append({\n",
        "                  'Dataset Size': size,\n",
        "                  'Classifier': clf_name,\n",
        "                  'Fold Number': fold_num,\n",
        "                  'Accuracy': accuracy,\n",
        "                  'Confusion Matrix': cm,\n",
        "                  'Train Time': train_time,\n",
        "                  'Loss/Accuracy Plot Path': plot,\n",
        "                  'Best Model Path': model\n",
        "              })\n",
        "          print(f'Average Train Time: {np.mean(fold_train_times)} minutes')\n",
        "          # Calculate mean and standard deviation of accuracy scores\n",
        "          mean_accuracy = np.mean(fold_accuracies)\n",
        "          std_accuracy = np.std(fold_accuracies)\n",
        "\n",
        "          # Store results\n",
        "          results_kfold_errorbar.append({\n",
        "              'Dataset_Size': size,\n",
        "              'Classifier': clf_name,\n",
        "              'Mean_Accuracy': mean_accuracy,\n",
        "              'Std_Accuracy': std_accuracy\n",
        "          })\n",
        "  # Create a DataFrame from k-fold results\n",
        "  df_results_kfold = pd.DataFrame(results_kfold)\n",
        "  # Save the DataFrame to a text file\n",
        "  results_kfold_path=simulation_path+'_results_kfold.txt'\n",
        "  df_results_kfold.to_csv(results_kfold_path, index=False, sep='\\t')\n",
        "  # Display results in a table\n",
        "  print(df_results_kfold)\n",
        "\n",
        "  # Create a DataFrame from k-fold results\n",
        "  df_results_kfold_errorbar = pd.DataFrame(results_kfold_errorbar)\n",
        "  # Save the DataFrame to a text file\n",
        "  results_kfold_errorbar_path=simulation_path+'_results_kfold_errorbar.txt'\n",
        "  df_results_kfold_errorbar.to_csv(results_kfold_errorbar_path, index=False, sep='\\t')\n",
        "  # Display results in a table\n",
        "  print(df_results_kfold_errorbar)\n",
        "  plot_save_mean_error_bar(df_results_kfold_errorbar,simulation_path)"
      ]
    },
    {
      "cell_type": "code",
      "execution_count": 67,
      "metadata": {
        "colab": {
          "base_uri": "https://localhost:8080/"
        },
        "id": "XHqJCbwcA1oq",
        "outputId": "49434047-9bc5-4c28-b908-bea6cf73dcad"
      },
      "outputs": [
        {
          "name": "stdout",
          "output_type": "stream",
          "text": [
            "D:\\Projects\\110_JetscapeMl\\hm.jetscapeml.data\\simulation_results\\\n",
            "D:\\Projects\\110_JetscapeMl\\hm.jetscapeml.data\\simulation_results\\jetml_pointnet_classification_eloss_MMAT_MLBT\n",
            "D:\\Projects\\110_JetscapeMl\\hm.jetscapeml.data\\simulation_results\\jetml_pointnet_classification_eloss_MMAT_MLBT_size_1000\n",
            "dataset_file_name: D:\\Projects\\110_JetscapeMl\\hm.jetscapeml.data\\jet_ml_benchmark_config_01_to_09_alpha_0.2_0.3_0.4_q0_1.5_2.0_2.5_MMAT_MLBT_size_1000_shuffled.pkl\n",
            "dataset.x: <class 'numpy.ndarray'> 1024000 (1000, 32, 32)\n",
            "dataset.y: <class 'numpy.ndarray'> 3000 (1000, 3)\n",
            "Extract the first column for binary classification\n",
            "dataset.x: <class 'numpy.ndarray'> 1024000 (1000, 32, 32)\n",
            "dataset.y: <class 'numpy.ndarray'> 1000 (1000,)\n",
            "Pre-processing\n",
            "dataset_x_points shape: (1000, 1024, 3)\n",
            "deleting the original dataset after splitting ...\n",
            "train_x: <class 'numpy.ndarray'> 819200 (800, 32, 32)\n",
            "train_points: <class 'numpy.ndarray'> 2457600 (800, 1024, 3)\n",
            "train_y: <class 'numpy.ndarray'> 800 (800,)\n",
            "x_test: <class 'numpy.ndarray'> 204800 (200, 32, 32)\n",
            "x_test_points: <class 'numpy.ndarray'> 614400 (200, 1024, 3)\n",
            "y_test: <class 'numpy.ndarray'> 200 (200,)\n",
            "800 200\n",
            "[['MMAT']\n",
            " ['MMAT']\n",
            " ['MMAT']\n",
            " ['MLBT']\n",
            " ['MLBT']\n",
            " ['MMAT']\n",
            " ['MLBT']\n",
            " ['MLBT']\n",
            " ['MMAT']\n",
            " ['MLBT']]\n",
            "[[0. 1.]\n",
            " [0. 1.]\n",
            " [0. 1.]\n",
            " [1. 0.]\n",
            " [1. 0.]\n",
            " [0. 1.]\n",
            " [1. 0.]\n",
            " [1. 0.]\n",
            " [0. 1.]\n",
            " [1. 0.]]\n"
          ]
        },
        {
          "ename": "AttributeError",
          "evalue": "module 'tensorflow' has no attribute 'Session'",
          "output_type": "error",
          "traceback": [
            "\u001b[1;31m---------------------------------------------------------------------------\u001b[0m",
            "\u001b[1;31mAttributeError\u001b[0m                            Traceback (most recent call last)",
            "Cell \u001b[1;32mIn[67], line 17\u001b[0m\n\u001b[0;32m     15\u001b[0m \u001b[38;5;28mprint\u001b[39m(simulation_directory_path)\n\u001b[0;32m     16\u001b[0m simulation_path\u001b[38;5;241m=\u001b[39m\u001b[38;5;124mf\u001b[39m\u001b[38;5;124m'\u001b[39m\u001b[38;5;132;01m{\u001b[39;00msimulation_directory_path\u001b[38;5;132;01m}\u001b[39;00m\u001b[38;5;124mjetml_pointnet_classification_eloss_\u001b[39m\u001b[38;5;132;01m{\u001b[39;00mclass_labels_str\u001b[38;5;132;01m}\u001b[39;00m\u001b[38;5;124m'\u001b[39m\n\u001b[1;32m---> 17\u001b[0m train_and_evaluate_classifier_for_all_datasets(dataset_sizes,classifiers,simulation_path,n_epochs, monitor, k_folds)\n",
            "Cell \u001b[1;32mIn[64], line 22\u001b[0m, in \u001b[0;36mtrain_and_evaluate_classifier_for_all_datasets\u001b[1;34m(dataset_sizes, classifiers, simulation_path, n_epochs, monitor, k_folds)\u001b[0m\n\u001b[0;32m     17\u001b[0m \u001b[38;5;66;03m# Loop through classifiers\u001b[39;00m\n\u001b[0;32m     18\u001b[0m \u001b[38;5;28;01mfor\u001b[39;00m clf_name, clf \u001b[38;5;129;01min\u001b[39;00m classifiers\u001b[38;5;241m.\u001b[39mitems():\n\u001b[0;32m     19\u001b[0m \n\u001b[0;32m     20\u001b[0m     \u001b[38;5;66;03m# Evaluate classifier using k-fold cross-validation\u001b[39;00m\n\u001b[0;32m     21\u001b[0m     fold_accuracies, fold_conf_matrices, fold_train_times, all_histories, plots, models \u001b[38;5;241m=\u001b[39m \\\n\u001b[1;32m---> 22\u001b[0m     train_and_evaluate_classifier_kfold(pointnet, x_train,  y_train,x_test,  y_test, n_epochs, monitor, k_folds,current_simulation_path)\n\u001b[0;32m     23\u001b[0m     \u001b[38;5;66;03m# fold_accuracies, fold_conf_matrices, fold_train_times, all_histories = \\\u001b[39;00m\n\u001b[0;32m     24\u001b[0m     \u001b[38;5;66;03m# train_and_evaluate_classifier_kfold(clf, x_train,y_train, x_test, y_test, n_epochs, monitor, k_folds)\u001b[39;00m\n\u001b[0;32m     25\u001b[0m     \u001b[38;5;66;03m# fold_scores, fold_conf_matrices = train_and_evaluate_classifier_kfold(clf, x, y)\u001b[39;00m\n\u001b[0;32m     26\u001b[0m \n\u001b[0;32m     27\u001b[0m     \u001b[38;5;66;03m# Store results for each fold\u001b[39;00m\n\u001b[0;32m     28\u001b[0m     \u001b[38;5;28;01mfor\u001b[39;00m fold_num, (accuracy, cm,train_time,plot,model) \u001b[38;5;129;01min\u001b[39;00m \u001b[38;5;28menumerate\u001b[39m(\u001b[38;5;28mzip\u001b[39m(fold_accuracies, fold_conf_matrices,fold_train_times,plots,models), start\u001b[38;5;241m=\u001b[39m\u001b[38;5;241m1\u001b[39m):\n",
            "Cell \u001b[1;32mIn[66], line 45\u001b[0m, in \u001b[0;36mtrain_and_evaluate_classifier_kfold\u001b[1;34m(model, x_train, y_train, x_test, y_test, n_epochs, monitor, k_folds, simulation_path)\u001b[0m\n\u001b[0;32m     42\u001b[0m start \u001b[38;5;241m=\u001b[39m time()\n\u001b[0;32m     44\u001b[0m \u001b[38;5;66;03m# Create a new session\u001b[39;00m\n\u001b[1;32m---> 45\u001b[0m \u001b[38;5;28;01mwith\u001b[39;00m tf\u001b[38;5;241m.\u001b[39mSession() \u001b[38;5;28;01mas\u001b[39;00m sess:\n\u001b[0;32m     46\u001b[0m     \u001b[38;5;66;03m# Create the model\u001b[39;00m\n\u001b[0;32m     47\u001b[0m     model_fold \u001b[38;5;241m=\u001b[39m compile_pointnet_binary_classifier_model_with_hyperparam()\n\u001b[0;32m     48\u001b[0m     history \u001b[38;5;241m=\u001b[39m model_fold\u001b[38;5;241m.\u001b[39mfit(\n\u001b[0;32m     49\u001b[0m         x_train_fold,\n\u001b[0;32m     50\u001b[0m         y_train_fold,\n\u001b[1;32m   (...)\u001b[0m\n\u001b[0;32m     53\u001b[0m         callbacks\u001b[38;5;241m=\u001b[39m[checkpoint_callback]\n\u001b[0;32m     54\u001b[0m     )\n",
            "\u001b[1;31mAttributeError\u001b[0m: module 'tensorflow' has no attribute 'Session'"
          ]
        }
      ],
      "source": [
        "monitor = 'val_accuracy'  # 'val_accuracy' or 'val_loss'\n",
        "n_epochs = 10\n",
        "k_folds = 5  # You can adjust the number of folds\n",
        "\n",
        "# defining dataset sizes and classifiers\n",
        "\n",
        "# Sizes of datasets\n",
        "dataset_sizes = [1000]\n",
        "# dataset_sizes = [100000]\n",
        "# dataset_sizes = [1000000]\n",
        "# dataset_sizes = [1000, 10000]\n",
        "#dataset_sizes = [1000, 10000,100000]\n",
        "# dataset_sizes = [1000, 10000, 100000, 1000000]\n",
        "\n",
        "print(simulation_directory_path)\n",
        "simulation_path=f'{simulation_directory_path}jetml_pointnet_classification_eloss_{class_labels_str}'\n",
        "train_and_evaluate_classifier_for_all_datasets(dataset_sizes,classifiers,simulation_path,n_epochs, monitor, k_folds)"
      ]
    }
  ],
  "metadata": {
    "accelerator": "GPU",
    "colab": {
      "gpuType": "T4",
      "include_colab_link": true,
      "provenance": []
    },
    "kernelspec": {
      "display_name": "base",
      "language": "python",
      "name": "python3"
    },
    "language_info": {
      "codemirror_mode": {
        "name": "ipython",
        "version": 3
      },
      "file_extension": ".py",
      "mimetype": "text/x-python",
      "name": "python",
      "nbconvert_exporter": "python",
      "pygments_lexer": "ipython3",
      "version": "3.11.5"
    }
  },
  "nbformat": 4,
  "nbformat_minor": 0
}
