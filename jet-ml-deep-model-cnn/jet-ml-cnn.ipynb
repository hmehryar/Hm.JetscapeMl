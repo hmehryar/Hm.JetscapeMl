{
 "cells": [
  {
   "cell_type": "markdown",
   "id": "9f5232bc",
   "metadata": {
    "id": "b9722c5d"
   },
   "source": [
    "# Using TensorFlow with Jetscape Benchmarck Dataset\n",
    "**About the JETSCAPE Eloss Classification dataset**.   \n",
    "Jetscape Eloss Classification is the equivalent *Hello World* of jet image analysis.\n",
    "It consists of 2 categories, MATTER/MATTER+LBT, in 32x32 pixel squares.  \n",
    "Each gray-scale pixel contains an integer 0-255 to indicate darkness, with 0 white and 255 black.  \n",
    "There are about 180,000 training records, and about 20,000 test records.  \n",
    "In other words, the images of numbers have already been transformed into arrays of ints to make them easier to use for ML projects. You can find more info on the jetscape [here](https://jetscape.org/). You can also download it from [here](#).\n"
   ]
  },
  {
   "cell_type": "markdown",
   "id": "2bb058a7",
   "metadata": {
    "id": "1c68bad5"
   },
   "source": [
    "## Part 0: Prerequisites:\n",
    "\n",
    "We recommend that you run this this notebook in the cloud on Google Colab (see link with icon at the top) if you're not already doing so. It's the simplest way to get started. You can also [install TensorFlow locally](https://www.tensorflow.org/install/).\n",
    "\n",
    "Note that there's [tf.keras](https://www.tensorflow.org/guide/keras) (comes with TensorFlow) and there's [Keras](https://keras.io/) (standalone). You should be using [tf.keras](https://www.tensorflow.org/guide/keras) because (1) it comes with TensorFlow so you don't need to install anything extra and (2) it comes with powerful TensorFlow-specific features."
   ]
  },
  {
   "cell_type": "code",
   "execution_count": null,
   "id": "c831679f",
   "metadata": {
    "colab": {
     "base_uri": "https://localhost:8080/"
    },
    "executionInfo": {
     "elapsed": 55997,
     "status": "ok",
     "timestamp": 1648214781600,
     "user": {
      "displayName": "Haydar Mehryar",
      "photoUrl": "https://lh3.googleusercontent.com/a-/AOh14GiV2PbrE4NQbmWZlQz1WDM6jCKRcmLwN1DLu24x5g=s64",
      "userId": "09990703679773155769"
     },
     "user_tz": 240
    },
    "id": "9b53a6d3",
    "outputId": "aac994d1-c01e-49e7-e96c-9114b45f2ce7"
   },
   "outputs": [],
   "source": [
    "print('Loading/Installing Package => Begin\\n\\n')\n",
    "# Commonly used modules\n",
    "import numpy as np\n",
    "import os\n",
    "from os import path, makedirs\n",
    "import time\n",
    "from time import time\n",
    "import subprocess\n",
    "import sys\n",
    "\n",
    "\n",
    "def install(package):\n",
    "  print(\"Installing \"+package) \n",
    "  subprocess.check_call([sys.executable,\"-m\" ,\"pip\", \"install\", package])\n",
    "  print(\"Installed \"+package+\"\\n\") \n",
    "# TensorFlow and tf.keras\n",
    "import tensorflow as tf\n",
    "from tensorflow import keras\n",
    "from tensorflow.keras.layers import Conv2D, MaxPooling2D, Dropout, Flatten, Dense\n",
    "from tensorflow.keras.models import load_model\n",
    "\n",
    "# !pip3 install sklearn\n",
    "install(\"sklearn\")\n",
    "from sklearn.metrics import confusion_matrix, classification_report\n",
    "\n",
    "# !pip3 install seaborn\n",
    "install(\"seaborn\")\n",
    "import seaborn as sns\n",
    "\n",
    "\n",
    "# Images, plots, display, and visualization\n",
    "import matplotlib.cm as cm\n",
    "import matplotlib.pyplot as plt\n",
    "import pandas as pd\n",
    "\n",
    "#reading/writing into files\n",
    "# !pip3 install pickle5\n",
    "install(\"pickle5\")\n",
    "import pickle5 as pickle\n",
    "\n",
    "\n",
    "#import cv2\n",
    "install(\"IPython\")\n",
    "import IPython\n",
    "from six.moves import urllib\n",
    "\n",
    "\n",
    "print('\\n########################################################################')\n",
    "print('Checking the running platforms\\n')\n",
    "import platform\n",
    "running_os=platform.system()\n",
    "print(\"OS: \"+running_os)\n",
    "print(\"OS version: \"+platform.release())\n",
    "\n",
    "try:\n",
    "  from google.colab import drive\n",
    "  COLAB = True\n",
    "except:\n",
    "  COLAB = False\n",
    "print(\"running on Colab: \"+str(COLAB))\n",
    "\n",
    "\n",
    "print(\"Python version: \"+platform.python_version())\n",
    "print(\"Tensorflow version: \"+tf.__version__)\n",
    "\n",
    "dataset_directory_path=''\n",
    "simulation_directory_path=''\n",
    "\n",
    "if COLAB == True:\n",
    "  drive.mount('/content/drive')\n",
    "  dataset_directory_path='/content/drive/MyDrive/Projects/110_JetscapeMl/hm.jetscapeml.data/simulation_results/'\n",
    "  simulation_directory_path=dataset_directory_path+'simulation-results-cnn-01-1200K-config-05-02/'\n",
    "elif 'Linux' in running_os:\n",
    "  dataset_directory_path='/wsu/home/gy/gy40/gy4065/hm.jetscapeml.data/simulation_results/'\n",
    "  simulation_directory_path=dataset_directory_path+'simulation-results-cnn-01-1200K-config-05-02/'\n",
    "else:\n",
    "  dataset_directory_path= 'G:\\\\My Drive\\\\Projects\\\\110_JetscapeMl\\\\hm.jetscapeml.data\\\\simulation_results\\\\'\n",
    "  simulation_directory_path=dataset_directory_path+'simulation-results-cnn-01-1200K-config-05-02\\\\'\n",
    "print('Dataset Directory Path: '+dataset_directory_path)\n",
    "\n",
    "# dataset_file_name='jetscape-ml-benchmark-dataset-2k-randomized.pkl'\n",
    "# dataset_file_name='jetscape-ml-benchmark-dataset-matter-vs-lbt-2k-shuffled.pkl'\n",
    "# dataset_file_name='jetscape-ml-benchmark-dataset-matter-vs-lbt-200k-shuffled-01.pkl'\n",
    "# dataset_file_name='jetscape-ml-benchmark-dataset-matter-vs-lbt-1200k-momentum-shuffled.pkl'\n",
    "# dataset_file_name='config-01-matter-vs-lbt-simulationsize1200000-dataset-momentum-shuffled.pkl'\n",
    "# dataset_file_name='config-02-matter-vs-lbt-simulationsize1200000-dataset-momentum-shuffled.pkl'\n",
    "# dataset_file_name='config-03-matter-vs-lbt-simulationsize1200000-dataset-momentum-shuffled.pkl'\n",
    "# dataset_file_name='config-04-matter-vs-lbt-simulationsize1200000-dataset-momentum-shuffled.pkl'\n",
    "dataset_file_name='config-05-matter-vs-lbt-simulationsize1200000-dataset-momentum-shuffled.pkl'\n",
    "# dataset_file_name='config-06-matter-vs-lbt-simulationsize1200000-dataset-momentum-shuffled.pkl'\n",
    "# dataset_file_name='config-07-matter-vs-lbt-simulationsize1200000-dataset-momentum-shuffled.pkl'\n",
    "# dataset_file_name='config-08-matter-vs-lbt-simulationsize1200000-dataset-momentum-shuffled.pkl'\n",
    "# dataset_file_name='config-09-matter-vs-lbt-simulationsize1200000-dataset-momentum-shuffled.pkl'\n",
    "print(\"Dataset file name: \"+dataset_file_name)\n",
    "\n",
    "if not path.exists(simulation_directory_path):\n",
    "    makedirs(simulation_directory_path)\n",
    "print('Simulation Results Path: '+simulation_directory_path)\n",
    "print('########################################################################\\n')\n",
    "print('\\nLoading/Installing Package => End\\n\\n')"
   ]
  },
  {
   "cell_type": "markdown",
   "id": "06ccc261",
   "metadata": {
    "id": "50e5e471"
   },
   "source": [
    "## 1. Load Data into a Numpy Array  \n",
    "I downloaded the data file onto my desktop and loaded it locally.  \n",
    "You can also load it directly from the cloud as follows:  \n",
    "```mnist = tf.keras.datasets.mnist  \n",
    "(x_train, y_train), (x_test, y_test) = jetscapeMl.load_data()  \n",
    "```  \n",
    "**After the load:**   \n",
    "x_train contains 180k arrays of 32x32.  \n",
    "The y_train vector contains the corresponding labels for these.  \n",
    "x_test contains 20k arrays of 32x32.  \n",
    "The y_test vector contains the corresponding labels for these."
   ]
  },
  {
   "cell_type": "markdown",
   "id": "58d67a96",
   "metadata": {
    "id": "4b776264"
   },
   "source": [
    "#Saving and Loading Dataset Methods Implementation"
   ]
  },
  {
   "cell_type": "code",
   "execution_count": 2,
   "id": "4d35fcb5",
   "metadata": {
    "executionInfo": {
     "elapsed": 127,
     "status": "ok",
     "timestamp": 1648214796051,
     "user": {
      "displayName": "Haydar Mehryar",
      "photoUrl": "https://lh3.googleusercontent.com/a-/AOh14GiV2PbrE4NQbmWZlQz1WDM6jCKRcmLwN1DLu24x5g=s64",
      "userId": "09990703679773155769"
     },
     "user_tz": 240
    },
    "id": "4b30dbb6"
   },
   "outputs": [],
   "source": [
    "def save_dataset(file_name,dataset):\n",
    "    with open(file_name, 'wb') as dataset_file:\n",
    "        pickle.dump(dataset,dataset_file, protocol=pickle.HIGHEST_PROTOCOL)\n",
    "\n",
    "        \n",
    "def load_dataset(file_name):\n",
    "    with open(file_name, 'rb') as dataset_file:\n",
    "        (x_train, y_train), (x_test, y_test) = pickle.load(dataset_file, encoding='latin1')\n",
    "        dataset=((x_train, y_train), (x_test, y_test))\n",
    "        return dataset"
   ]
  },
  {
   "cell_type": "markdown",
   "id": "fbbd714c",
   "metadata": {
    "id": "71d21209"
   },
   "source": [
    "## 2. Use Matplotlib to visualize one record.  \n",
    "I set the colormap to Grey and ColorMap. There are a bunch of other colormap choices if you like bright visualizations. Try magma or any of the other  choice in the [docs](https://matplotlib.org/tutorials/colors/colormaps.html)."
   ]
  },
  {
   "cell_type": "code",
   "execution_count": null,
   "id": "e8291e46",
   "metadata": {
    "id": "c5961a83"
   },
   "outputs": [],
   "source": [
    "def plot_event(image_frame_size,event_matrix,file_name):\n",
    "  plt.imshow(event_matrix.reshape(image_frame_size, image_frame_size), cmap=cm.Greys)\n",
    "  cb = plt.colorbar()\n",
    "  cb.set_label(\"Hit Frequency\")\n",
    "  \n",
    "  file_path=simulation_directory_path+file_name\n",
    "  plt.savefig(file_path)\n",
    "# # Funtionality Testing\n",
    "# # Plotting sample Random Event Histogram on gray scale\n",
    "# image_frame_size=32\n",
    "# plot_event(image_frame_size,counts,file_name='sample_random_event_histogram_32x32_grayscale.png')"
   ]
  },
  {
   "cell_type": "markdown",
   "id": "7a43b484",
   "metadata": {
    "id": "J5X0SCShDqVe"
   },
   "source": [
    "#Loading Dataset\n",
    "**First learning step**"
   ]
  },
  {
   "cell_type": "code",
   "execution_count": 3,
   "id": "91209884",
   "metadata": {
    "colab": {
     "base_uri": "https://localhost:8080/"
    },
    "executionInfo": {
     "elapsed": 12031,
     "status": "ok",
     "timestamp": 1648214821296,
     "user": {
      "displayName": "Haydar Mehryar",
      "photoUrl": "https://lh3.googleusercontent.com/a-/AOh14GiV2PbrE4NQbmWZlQz1WDM6jCKRcmLwN1DLu24x5g=s64",
      "userId": "09990703679773155769"
     },
     "user_tz": 240
    },
    "id": "21d8508b",
    "outputId": "e5b10e13-7e54-4703-a980-ebbe56bf66f5"
   },
   "outputs": [
    {
     "name": "stdout",
     "output_type": "stream",
     "text": [
      "Dataset file path: /content/drive/MyDrive/Projects/110_JetscapeMl/hm.jetscapeml.data/jetscape-ml-benchmark-dataset-matter-vs-lbt-200k-shuffled-01.pkl\n",
      "\n",
      "#############################################################\n",
      "Post-Load: DataType Checkpoint: Begin\n",
      "<class 'numpy.ndarray'> 184320000 (180000, 32, 32)\n",
      "<class 'numpy.ndarray'> 180000 (180000,)\n",
      "<class 'numpy.ndarray'> 20480000 (20000, 32, 32)\n",
      "<class 'numpy.ndarray'> 20000 (20000,)\n",
      "MVAC MVAC\n",
      "['MLBT' 'MLBT' 'MVAC' 'MLBT' 'MLBT' 'MVAC' 'MLBT' 'MVAC' 'MVAC' 'MLBT'\n",
      " 'MVAC' 'MLBT' 'MVAC' 'MVAC' 'MLBT' 'MVAC' 'MLBT' 'MLBT' 'MLBT' 'MLBT'\n",
      " 'MLBT' 'MLBT' 'MVAC' 'MLBT' 'MLBT' 'MVAC' 'MLBT' 'MVAC' 'MLBT' 'MLBT'\n",
      " 'MLBT' 'MVAC' 'MLBT' 'MLBT' 'MLBT' 'MLBT' 'MVAC' 'MVAC' 'MLBT' 'MLBT'\n",
      " 'MLBT' 'MVAC' 'MLBT' 'MVAC' 'MLBT' 'MLBT' 'MVAC' 'MVAC' 'MVAC' 'MLBT'\n",
      " 'MVAC' 'MLBT' 'MLBT' 'MLBT' 'MVAC' 'MVAC' 'MVAC' 'MLBT' 'MLBT' 'MLBT'\n",
      " 'MVAC' 'MLBT' 'MLBT' 'MVAC' 'MVAC' 'MLBT' 'MVAC' 'MLBT' 'MVAC' 'MVAC'\n",
      " 'MVAC' 'MVAC' 'MLBT' 'MLBT' 'MVAC' 'MVAC' 'MVAC' 'MLBT' 'MLBT' 'MLBT'\n",
      " 'MLBT' 'MLBT' 'MLBT' 'MVAC' 'MLBT' 'MVAC' 'MVAC' 'MLBT' 'MVAC' 'MVAC'\n",
      " 'MVAC' 'MLBT' 'MVAC' 'MVAC' 'MVAC' 'MLBT' 'MLBT' 'MVAC' 'MVAC' 'MVAC'\n",
      " 'MLBT' 'MLBT' 'MVAC' 'MVAC' 'MLBT' 'MVAC' 'MVAC' 'MLBT' 'MLBT' 'MVAC'\n",
      " 'MLBT' 'MLBT' 'MVAC' 'MVAC' 'MVAC' 'MLBT' 'MLBT' 'MLBT' 'MLBT' 'MVAC'\n",
      " 'MVAC' 'MLBT' 'MLBT' 'MVAC' 'MLBT' 'MVAC' 'MVAC' 'MLBT' 'MLBT' 'MVAC'\n",
      " 'MLBT' 'MVAC' 'MVAC' 'MLBT' 'MLBT' 'MLBT' 'MLBT' 'MLBT' 'MLBT' 'MVAC'\n",
      " 'MVAC' 'MVAC' 'MVAC' 'MVAC' 'MVAC' 'MLBT' 'MLBT' 'MLBT' 'MLBT' 'MVAC'\n",
      " 'MVAC' 'MLBT' 'MLBT' 'MVAC' 'MVAC' 'MVAC' 'MLBT' 'MLBT' 'MVAC' 'MLBT'\n",
      " 'MVAC' 'MLBT' 'MVAC' 'MLBT' 'MVAC' 'MLBT' 'MLBT' 'MVAC' 'MLBT' 'MVAC'\n",
      " 'MLBT' 'MLBT' 'MVAC' 'MVAC' 'MVAC' 'MLBT' 'MVAC' 'MVAC' 'MLBT' 'MLBT'\n",
      " 'MLBT' 'MVAC' 'MLBT' 'MVAC' 'MVAC' 'MVAC' 'MLBT' 'MVAC' 'MLBT' 'MVAC'\n",
      " 'MLBT' 'MLBT' 'MVAC' 'MVAC' 'MLBT' 'MVAC' 'MVAC' 'MVAC' 'MVAC' 'MVAC'\n",
      " 'MVAC' 'MLBT' 'MLBT' 'MVAC' 'MVAC' 'MLBT' 'MLBT' 'MVAC' 'MVAC' 'MVAC'\n",
      " 'MVAC' 'MVAC' 'MVAC' 'MLBT' 'MLBT' 'MVAC' 'MVAC' 'MLBT' 'MVAC' 'MVAC'\n",
      " 'MVAC' 'MLBT' 'MLBT' 'MLBT' 'MLBT' 'MLBT' 'MLBT' 'MVAC' 'MLBT' 'MLBT'\n",
      " 'MLBT' 'MVAC' 'MVAC' 'MVAC' 'MVAC' 'MLBT' 'MVAC' 'MVAC' 'MLBT' 'MLBT'\n",
      " 'MVAC' 'MLBT' 'MVAC' 'MLBT' 'MLBT' 'MLBT' 'MLBT' 'MLBT' 'MLBT' 'MVAC'\n",
      " 'MVAC' 'MVAC' 'MLBT' 'MLBT' 'MLBT' 'MLBT' 'MLBT' 'MVAC' 'MVAC' 'MVAC'\n",
      " 'MVAC' 'MLBT' 'MVAC' 'MVAC' 'MLBT' 'MVAC' 'MLBT' 'MVAC' 'MLBT' 'MVAC'\n",
      " 'MVAC' 'MVAC' 'MLBT' 'MLBT' 'MLBT' 'MLBT' 'MVAC' 'MLBT' 'MVAC' 'MLBT'\n",
      " 'MVAC' 'MLBT' 'MLBT' 'MVAC' 'MLBT' 'MLBT' 'MVAC' 'MLBT' 'MVAC' 'MLBT'\n",
      " 'MLBT' 'MVAC' 'MLBT' 'MVAC' 'MVAC' 'MVAC' 'MVAC' 'MLBT' 'MVAC' 'MVAC'\n",
      " 'MLBT' 'MLBT' 'MLBT' 'MVAC' 'MLBT' 'MVAC' 'MVAC' 'MLBT' 'MLBT' 'MLBT'\n",
      " 'MLBT' 'MVAC' 'MLBT' 'MLBT' 'MVAC' 'MLBT' 'MLBT' 'MLBT' 'MVAC' 'MLBT'\n",
      " 'MVAC' 'MVAC' 'MLBT' 'MLBT' 'MVAC' 'MLBT' 'MVAC' 'MLBT' 'MLBT' 'MVAC'\n",
      " 'MVAC' 'MVAC' 'MVAC' 'MLBT' 'MVAC' 'MLBT' 'MLBT' 'MLBT' 'MVAC' 'MLBT'\n",
      " 'MLBT' 'MLBT' 'MLBT' 'MVAC' 'MVAC' 'MLBT' 'MLBT' 'MLBT' 'MVAC' 'MLBT'\n",
      " 'MLBT' 'MLBT' 'MVAC' 'MLBT' 'MVAC' 'MLBT' 'MVAC' 'MLBT' 'MVAC' 'MLBT'\n",
      " 'MVAC' 'MVAC' 'MVAC' 'MVAC' 'MLBT' 'MLBT' 'MVAC' 'MVAC' 'MVAC' 'MLBT'\n",
      " 'MVAC' 'MLBT' 'MVAC' 'MVAC' 'MLBT' 'MVAC' 'MVAC' 'MVAC' 'MLBT' 'MVAC'\n",
      " 'MVAC' 'MLBT' 'MVAC' 'MLBT' 'MLBT' 'MLBT' 'MVAC' 'MVAC' 'MLBT' 'MVAC'\n",
      " 'MLBT' 'MLBT' 'MLBT' 'MVAC' 'MVAC' 'MLBT' 'MVAC' 'MLBT' 'MVAC' 'MLBT'\n",
      " 'MLBT' 'MVAC' 'MLBT' 'MVAC' 'MVAC' 'MLBT' 'MLBT' 'MVAC' 'MVAC' 'MVAC'\n",
      " 'MLBT' 'MLBT' 'MLBT' 'MLBT' 'MLBT' 'MLBT' 'MVAC' 'MVAC' 'MLBT' 'MVAC'\n",
      " 'MVAC' 'MLBT' 'MVAC' 'MVAC' 'MVAC' 'MVAC' 'MVAC' 'MVAC' 'MVAC' 'MLBT'\n",
      " 'MLBT' 'MVAC' 'MLBT' 'MLBT' 'MLBT' 'MVAC' 'MVAC' 'MLBT' 'MVAC' 'MLBT'\n",
      " 'MVAC' 'MVAC' 'MLBT' 'MLBT' 'MLBT' 'MVAC' 'MLBT' 'MLBT' 'MLBT' 'MVAC'\n",
      " 'MVAC' 'MVAC' 'MVAC' 'MVAC' 'MLBT' 'MLBT' 'MLBT' 'MVAC' 'MLBT' 'MVAC'\n",
      " 'MVAC' 'MLBT' 'MVAC' 'MLBT' 'MLBT' 'MLBT' 'MVAC' 'MLBT' 'MLBT' 'MLBT'\n",
      " 'MVAC' 'MLBT' 'MVAC' 'MLBT' 'MLBT' 'MLBT' 'MLBT' 'MLBT' 'MLBT' 'MLBT'\n",
      " 'MLBT' 'MVAC' 'MVAC' 'MVAC' 'MVAC' 'MVAC' 'MLBT' 'MVAC' 'MLBT' 'MVAC'\n",
      " 'MVAC' 'MLBT' 'MLBT' 'MLBT' 'MVAC' 'MLBT' 'MLBT' 'MVAC' 'MVAC']\n",
      "Post-Load: DataType Checkpoint: End\n",
      "#############################################################\n",
      "\n"
     ]
    }
   ],
   "source": [
    "class JetscapeMlCnn:\n",
    "   # class attribute\n",
    "  \n",
    "    # Instance attribute\n",
    "    def __init__(self, x_train,y_train,x_test,y_test):\n",
    "        self.x_train=x_train\n",
    "        self.y_train=y_train\n",
    "        self.x_test=x_test\n",
    "        self.y_test=y_test\n",
    "\n",
    "\n",
    "#Loading Dataset Phase\n",
    "\n",
    "\n",
    "dataset_file_path=dataset_directory_path+dataset_file_name\n",
    "print(\"Dataset file path: \"+dataset_file_path)\n",
    "(x_train, y_train), (x_test, y_test) =load_dataset(dataset_file_path)\n",
    "\n",
    "oJetscapeMlCnn=JetscapeMlCnn(x_train, y_train, x_test, y_test)\n",
    "print(\"\\n#############################################################\")\n",
    "print(\"Post-Load: DataType Checkpoint: Begin\")\n",
    "print(type(oJetscapeMlCnn.x_train), oJetscapeMlCnn.x_train.size, oJetscapeMlCnn.x_train.shape)\n",
    "print(type(oJetscapeMlCnn.y_train), oJetscapeMlCnn.y_train.size, oJetscapeMlCnn.y_train.shape)\n",
    "print(type(oJetscapeMlCnn.x_test), oJetscapeMlCnn.x_test.size, oJetscapeMlCnn.x_test.shape)\n",
    "print(type(oJetscapeMlCnn.y_test), oJetscapeMlCnn.y_test.size, oJetscapeMlCnn.y_test.shape)\n",
    "print(oJetscapeMlCnn.y_train[1500], oJetscapeMlCnn.y_test[99])\n",
    "print(oJetscapeMlCnn.y_train[1:500])\n",
    "print(\"Post-Load: DataType Checkpoint: End\")\n",
    "print(\"#############################################################\\n\")"
   ]
  },
  {
   "cell_type": "markdown",
   "id": "266b6eba",
   "metadata": {
    "id": "fd8574af"
   },
   "source": [
    "## 3. Plot a bunch of records to see sample data  \n",
    "Basically, use the same Matplotlib commands above in a for loop to show 20 records from the train set in a subplot figure. We also make the figsize a bit bigger and remove the tick marks for readability.\n",
    "** TODO: try to make the subplot like the below from the first project meeting"
   ]
  },
  {
   "cell_type": "code",
   "execution_count": 4,
   "id": "945d185b",
   "metadata": {
    "colab": {
     "base_uri": "https://localhost:8080/",
     "height": 254
    },
    "executionInfo": {
     "elapsed": 2687,
     "status": "ok",
     "timestamp": 1648214861744,
     "user": {
      "displayName": "Haydar Mehryar",
      "photoUrl": "https://lh3.googleusercontent.com/a-/AOh14GiV2PbrE4NQbmWZlQz1WDM6jCKRcmLwN1DLu24x5g=s64",
      "userId": "09990703679773155769"
     },
     "user_tz": 240
    },
    "id": "0e94cf16",
    "outputId": "42cb2b0e-78f8-42f8-88d6-3d1f46cd3cb7"
   },
   "outputs": [
    {
     "data": {
      "image/png": "[encoded data removed]",
      "text/plain": [
       "<Figure size 1080x360 with 20 Axes>"
      ]
     },
     "metadata": {},
     "output_type": "display_data"
    }
   ],
   "source": [
    "from matplotlib.pyplot import figure\n",
    "\n",
    "def plot_20_sample_events(events_matrix_items):\n",
    "  # images = x_train[0:18]\n",
    "  # fig, axes = plt.subplots(3, 6, figsize=[9,5])\n",
    "  \n",
    "  images = events_matrix_items\n",
    "  # fig, axes = plt.subplots(2, 10, figsize=[15,5])\n",
    "  fig, axes = plt.subplots(2, 10, figsize=[40,8], dpi=100)\n",
    "  for i, ax in enumerate(axes.flat):\n",
    "      # current_plot= ax.imshow(x_train[i].reshape(32, 32), cmap=cm.Greys, extent=[-3.14, 3.14, -3.14, 3.14])\n",
    "      current_plot= ax.imshow(x_train[i].reshape(32, 32), cmap=cm.jet,vmin=0, vmax=3)\n",
    "      ticks = np.linspace(0, 31, endpoint=True)\n",
    "      # ax.set_xticks( [0, 31, 5])  \n",
    "      # ax.set_yticks( ticks) \n",
    "      # ax.set_xticks( [-3.14, 3.14, 0.5],  [-3.14, 3.14, 0.5] )  \n",
    "      # ax.set_yticks( [-3.14, 3.14, 0.5],  [-3.14, 3.14, 0.5] )  \n",
    "      ax.set_xticks([])\n",
    "      ax.set_yticks([]) \n",
    "      \n",
    "      # \n",
    "  \n",
    "\n",
    " \n",
    "  \n",
    "  # fig.subplots_adjust(bottom=0.1, top=0.9, left=0.1, right=0.8,\n",
    "  #                   wspace=0.02, hspace=0.02)\n",
    "\n",
    "  \n",
    "\n",
    "  \n",
    "  # cb_ax = fig.add_axes([0.83, 0.1, 0.02, 0.8])\n",
    "  # cbar = fig.colorbar(current_plot, cax=cb_ax)\n",
    "  cbar=fig.colorbar(current_plot, ax=axes.ravel().tolist())\n",
    "  # set the colorbar ticks and tick labels\n",
    "  \n",
    "  # ticks = np.linspace(current_plot.min(), current_plot.max(), 5, endpoint=True)\n",
    "  # cbar.set_ticks(ticks)\n",
    "  # cbar.set_ticklabels(['low', 'medium', 'high'])\n",
    "\n",
    "  file_name='hm_jetscape_ml_plot_20_sample_events.png'\n",
    "  file_path=simulation_directory_path+file_name\n",
    "  plt.savefig(file_path)\n",
    "\n",
    "  plt.show()\n",
    "  plt.close()\n",
    "#Plotting 20 Sample Events Phase  from shuffled dataset\n",
    "events_matrix_items=np.array(np.zeros((20,32,32)))\n",
    "events_matrix_items=x_train[0:20]\n",
    "\n",
    "plot_20_sample_events(events_matrix_items)\n",
    "# exit()"
   ]
  },
  {
   "cell_type": "markdown",
   "id": "20416d98",
   "metadata": {
    "id": "273e679f"
   },
   "source": [
    "## 4. Show distribution of training data labels   \n",
    "The training data is about evenly distributed across all nine digits. "
   ]
  },
  {
   "cell_type": "code",
   "execution_count": null,
   "id": "48e1570e",
   "metadata": {
    "colab": {
     "base_uri": "https://localhost:8080/",
     "height": 458
    },
    "executionInfo": {
     "elapsed": 635,
     "status": "ok",
     "timestamp": 1647475402101,
     "user": {
      "displayName": "Haydar Mehryar",
      "photoUrl": "https://lh3.googleusercontent.com/a-/AOh14GiV2PbrE4NQbmWZlQz1WDM6jCKRcmLwN1DLu24x5g=s64",
      "userId": "09990703679773155769"
     },
     "user_tz": 240
    },
    "id": "4790a035",
    "outputId": "e906cb66-14ac-4713-dbac-85fab6e12adf"
   },
   "outputs": [
    {
     "data": {
      "image/png": "[encoded data removed]",
      "text/plain": [
       "<Figure size 432x288 with 1 Axes>"
      ]
     },
     "metadata": {
      "needs_background": "light"
     },
     "output_type": "display_data"
    },
    {
     "name": "stdout",
     "output_type": "stream",
     "text": [
      "\n",
      "#############################################################\n",
      "Classification vector statistics:\n",
      "['MLBT' 'MVAC']\n",
      "[90000 90000]\n",
      "['MLBT' 'MVAC']\n",
      "Sample 20 head labels:\n",
      "[1 0 0 1 0 0 1 0 1 1 0 1 0 1 1 0 1 0 0 0]\n",
      "#############################################################\n",
      "\n"
     ]
    }
   ],
   "source": [
    "def plot_y_train_dataset_distribution(y_train):\n",
    "  unique_class_labels,positions = np.unique(y_train,return_inverse=True)\n",
    "\n",
    "\n",
    "  counts = np.bincount(positions)\n",
    "  plt.bar(unique_class_labels, counts)\n",
    "  plt.title(\"Dataset classification vector's distribution\")\n",
    "  \n",
    "  \n",
    "  file_name='hm_jetscape_ml_plot_y_train_dataset_distribution.png'\n",
    "  file_path=simulation_directory_path+file_name\n",
    "  plt.savefig(file_path)\n",
    "\n",
    "  plt.show()\n",
    "  plt.close()\n",
    "  print(\"\\n#############################################################\")\n",
    "  print(\"Classification vector statistics:\")\n",
    "  print(unique_class_labels)\n",
    "  unique_class_labels,positions = np.unique(y_train,return_inverse=True)\n",
    "  print(counts)\n",
    "  print(unique_class_labels)\n",
    "  print(\"Sample 20 head labels:\")\n",
    "  print(positions[:20])\n",
    "  print(\"#############################################################\\n\")\n",
    "\n",
    "#Checking Train Dataset Y Distribution\n",
    "plot_y_train_dataset_distribution(y_train)"
   ]
  },
  {
   "cell_type": "markdown",
   "id": "f39f734d",
   "metadata": {
    "id": "f16ebd2d"
   },
   "source": [
    "# Changing classification labels from Literal to Numeric\n",
    "\n",
    "---\n",
    "\n"
   ]
  },
  {
   "cell_type": "code",
   "execution_count": null,
   "id": "b521d111",
   "metadata": {
    "colab": {
     "base_uri": "https://localhost:8080/"
    },
    "executionInfo": {
     "elapsed": 303,
     "status": "ok",
     "timestamp": 1647464872537,
     "user": {
      "displayName": "Haydar Mehryar",
      "photoUrl": "https://lh3.googleusercontent.com/a-/AOh14GiV2PbrE4NQbmWZlQz1WDM6jCKRcmLwN1DLu24x5g=s64",
      "userId": "09990703679773155769"
     },
     "user_tz": 240
    },
    "id": "d6ad3b71",
    "outputId": "83792148-6a49-4fd3-e4b0-bddd1a1249fb"
   },
   "outputs": [
    {
     "name": "stdout",
     "output_type": "stream",
     "text": [
      "\n",
      "#############################################################\n",
      "Changing classification labels from Literal to Numeric:\n",
      "\n",
      "Before conversion:\n",
      "<class 'numpy.ndarray'> 180000 (180000,)\n",
      "<class 'numpy.ndarray'> 20000 (20000,)\n",
      "<class 'numpy.str_'>\n",
      "<class 'numpy.str_'>\n",
      "['MLBT' 'MVAC']\n",
      "['MLBT' 'MVAC']\n",
      "\n",
      "After conversion:\n",
      "<class 'numpy.ndarray'> 180000 (180000,)\n",
      "<class 'numpy.ndarray'> 20000 (20000,)\n",
      "<class 'numpy.int64'>\n",
      "<class 'numpy.int64'>\n",
      "#############################################################\n",
      "\n"
     ]
    }
   ],
   "source": [
    "def convertDatasetYFromLiteralToNumeric(y_dataset):\n",
    "  y_train=y_dataset[0]\n",
    "  y_test=y_dataset[1]\n",
    "  y_train_unique_class_labels,y_train_positions = np.unique(y_train,return_inverse=True)\n",
    "  y_test_unique_class_labels,y_test_positions = np.unique(y_test,return_inverse=True)\n",
    "  \n",
    "  print(y_train_unique_class_labels)\n",
    "  print(y_test_unique_class_labels)\n",
    "  \n",
    "  y_train=y_train_positions\n",
    "  y_test=y_test_positions\n",
    "  \n",
    "  return ((y_train,y_test))\n",
    "\n",
    "\n",
    "print(\"\\n#############################################################\")\n",
    "print(\"Changing classification labels from Literal to Numeric:\")\n",
    "print(\"\\nBefore conversion:\")\n",
    "print(type(y_train), y_train.size, y_train.shape)\n",
    "print(type(y_test), y_test.size, y_test.shape)\n",
    "print(type(y_train[0]))\n",
    "print(type(y_test[0]))\n",
    "\n",
    "y_train,y_test =convertDatasetYFromLiteralToNumeric((y_train,y_test))\n",
    "\n",
    "print(\"\\nAfter conversion:\")\n",
    "print(type(y_train), y_train.size, y_train.shape)\n",
    "print(type(y_test), y_test.size, y_test.shape)\n",
    "\n",
    "print(type(y_train[0]))\n",
    "print(type(y_test[0]))\n",
    "print(\"#############################################################\\n\")"
   ]
  },
  {
   "cell_type": "markdown",
   "id": "521e7f74",
   "metadata": {
    "id": "a6e6e723"
   },
   "source": [
    "## Normalizing the Dataset X\n",
    "For training the model, the dataset needs to be normalized, meaning all of the dataset values should me between zero and one. This can be done by finding the maximum values over the dataset X side values and devide all the element by it."
   ]
  },
  {
   "cell_type": "code",
   "execution_count": null,
   "id": "a17b1f6a",
   "metadata": {
    "colab": {
     "base_uri": "https://localhost:8080/"
    },
    "executionInfo": {
     "elapsed": 3448,
     "status": "ok",
     "timestamp": 1647464884207,
     "user": {
      "displayName": "Haydar Mehryar",
      "photoUrl": "https://lh3.googleusercontent.com/a-/AOh14GiV2PbrE4NQbmWZlQz1WDM6jCKRcmLwN1DLu24x5g=s64",
      "userId": "09990703679773155769"
     },
     "user_tz": 240
    },
    "id": "ec3c1e55",
    "outputId": "6068defc-ac63-450c-e72d-208c36a63260"
   },
   "outputs": [
    {
     "name": "stdout",
     "output_type": "stream",
     "text": [
      "\n",
      "#############################################################\n",
      "Normalizing Dataset X: maximum hit frequency in the dataset: \n",
      "20.0\n",
      "#############################################################\n",
      "\n"
     ]
    }
   ],
   "source": [
    "def calculate_dataset_x_max_value(x_dataset):\n",
    "  x_train=x_dataset[0]\n",
    "  x_test=x_dataset[1]\n",
    "  max_x=np.amax([np.amax(x_train), np.amax(x_test)])\n",
    "  return max_x\n",
    "\n",
    "def normalize_dataset_x_value_range_between_0_and_1(x_dataset,max_x):\n",
    "  x_train=x_dataset[0]\n",
    "  x_test=x_dataset[1]\n",
    "\n",
    "  # Normalize the data to a 0.0 to 1.0 scale for faster processing\n",
    "  x_train, x_test = x_train / max_x, x_test / max_x\n",
    "  return (x_train, x_test)\n",
    "\n",
    "\n",
    "#Normalizing Phase\n",
    "x_dataset=(x_train,x_test)\n",
    "max_x=calculate_dataset_x_max_value(x_dataset)\n",
    "x_train,x_test=normalize_dataset_x_value_range_between_0_and_1(x_dataset,max_x)\n",
    "\n",
    "image_frame_size=32\n",
    "\n",
    "print(\"\\n#############################################################\")\n",
    "\n",
    "print(\"Normalizing Dataset X: maximum sum of transfer momentum in the dataset: \")\n",
    "print(max_x)\n",
    "\n",
    "print(\"#############################################################\\n\")\n"
   ]
  },
  {
   "cell_type": "markdown",
   "id": "85a2b9aa",
   "metadata": {
    "id": "8ff58977"
   },
   "source": [
    "## Defining Validation Dataset from Train Dataset"
   ]
  },
  {
   "cell_type": "code",
   "execution_count": null,
   "id": "cf341aa9",
   "metadata": {
    "colab": {
     "base_uri": "https://localhost:8080/"
    },
    "executionInfo": {
     "elapsed": 142,
     "status": "ok",
     "timestamp": 1647464890689,
     "user": {
      "displayName": "Haydar Mehryar",
      "photoUrl": "https://lh3.googleusercontent.com/a-/AOh14GiV2PbrE4NQbmWZlQz1WDM6jCKRcmLwN1DLu24x5g=s64",
      "userId": "09990703679773155769"
     },
     "user_tz": 240
    },
    "id": "2bfbef61",
    "outputId": "061f8e2e-94d9-4b45-b453-1f6077291da2"
   },
   "outputs": [
    {
     "name": "stdout",
     "output_type": "stream",
     "text": [
      "\n",
      "#############################################################\n",
      "Defining Validation Dataset from Train Dataset:\n",
      "\n",
      "Train data info:\n",
      "<class 'numpy.ndarray'> 140000 (140000,)\n",
      "<class 'numpy.ndarray'> 143360000 (140000, 32, 32)\n",
      "\n",
      "Validation data info:\n",
      "<class 'numpy.ndarray'> 40000 (40000,)\n",
      "<class 'numpy.ndarray'> 40960000 (40000, 32, 32)\n",
      "\n",
      "Test data info:\n",
      "<class 'numpy.ndarray'> 20000 (20000,)\n",
      "<class 'numpy.ndarray'> 20480000 (20000, 32, 32)\n",
      "#############################################################\n",
      "\n"
     ]
    }
   ],
   "source": [
    "# Reserve 20% samples for validation dataset\n",
    "def calculate_validation_dataset_size(dataset_train_size,dataset_test_size):\n",
    "  dataset_size= dataset_train_size+dataset_test_size\n",
    "  dataset_validation_size=dataset_size*.2\n",
    "  return int(dataset_validation_size)\n",
    "\n",
    "def set_validation_dataset(x_train,y_train,validation_dataset_size):\n",
    "  \n",
    "  x_val = x_train[-validation_dataset_size:]\n",
    "  y_val = y_train[-validation_dataset_size:]\n",
    "  x_train = x_train[:-validation_dataset_size]\n",
    "  y_train = y_train[:-validation_dataset_size]\n",
    "  \n",
    "  \n",
    "  return (x_train, y_train), (x_val, y_val)\n",
    "\n",
    "validation_dataset_size= calculate_validation_dataset_size(y_train.size,y_test.size)\n",
    "(x_train, y_train), (x_val, y_val)=set_validation_dataset(x_train,y_train,validation_dataset_size)\n",
    "print(\"\\n#############################################################\")\n",
    "print(\"Defining Validation Dataset from Train Dataset:\")\n",
    "\n",
    "print(\"\\nTrain data info:\")\n",
    "print(type(y_train), y_train.size, y_train.shape)\n",
    "print(type(x_train), x_train.size, x_train.shape)\n",
    "\n",
    "print(\"\\nValidation data info:\")\n",
    "print(type(y_val), y_val.size, y_val.shape)\n",
    "print(type(x_val), x_val.size, x_val.shape)\n",
    "\n",
    "print(\"\\nTest data info:\")\n",
    "print(type(y_test), y_test.size, y_test.shape)\n",
    "print(type(x_test), x_test.size, x_test.shape)\n",
    "print(\"#############################################################\\n\")"
   ]
  },
  {
   "cell_type": "markdown",
   "id": "4fb46744",
   "metadata": {
    "id": "3d2bae1e"
   },
   "source": [
    "## 5.2 Apply Keras/TensorFlow with complicated CNN\n",
    "Previous research replication\n"
   ]
  },
  {
   "cell_type": "code",
   "execution_count": null,
   "id": "847a5574",
   "metadata": {
    "id": "24475a89"
   },
   "outputs": [],
   "source": [
    "## event info\n",
    "collision = 'PbPb'\n",
    "energy = 5020\n",
    "centrality = '0_10'\n",
    "Modules = ['MATTER','LBT']\n",
    "JetptMinMax = '100_110'\n",
    "#observables = ['pt','charge','mass']\n",
    "observables = ['pt']\n",
    "kind = 'Hadron'"
   ]
  },
  {
   "cell_type": "code",
   "execution_count": null,
   "id": "16ee2630",
   "metadata": {
    "colab": {
     "base_uri": "https://localhost:8080/"
    },
    "executionInfo": {
     "elapsed": 141,
     "status": "ok",
     "timestamp": 1647467187840,
     "user": {
      "displayName": "Haydar Mehryar",
      "photoUrl": "https://lh3.googleusercontent.com/a-/AOh14GiV2PbrE4NQbmWZlQz1WDM6jCKRcmLwN1DLu24x5g=s64",
      "userId": "09990703679773155769"
     },
     "user_tz": 240
    },
    "id": "0b5a54ca",
    "outputId": "195824f1-fda9-44dc-81f2-8ec9ee2c986f"
   },
   "outputs": [
    {
     "name": "stdout",
     "output_type": "stream",
     "text": [
      "Directory to save models: /content/drive/MyDrive/Projects/110_JetscapeMl/hm.jetscapeml.data/models/Models_PP19_vs_LBT_Hadron_ch1\n"
     ]
    }
   ],
   "source": [
    "## create a directory to save the best model\n",
    "\n",
    "save_dir = (simulation_directory_path+'Models_{}_vs_{}_{}_ch{}').format(Modules[0], Modules[1], kind, len(observables))\n",
    "if not path.exists(save_dir):\n",
    "    makedirs(save_dir)\n",
    "print('Directory to save models: {}'.format(save_dir))"
   ]
  },
  {
   "cell_type": "code",
   "execution_count": null,
   "id": "228a3838",
   "metadata": {
    "id": "0118889a"
   },
   "outputs": [],
   "source": [
    "from tensorflow.keras.models import Sequential, load_model\n",
    "from tensorflow.keras.layers import Dense, Dropout, LeakyReLU\n",
    "from tensorflow.keras.layers import Conv2D, MaxPool2D, BatchNormalization, Flatten\n",
    "from tensorflow.keras.callbacks import EarlyStopping, ReduceLROnPlateau, ModelCheckpoint\n",
    "from tensorflow.keras.regularizers import l2\n",
    "from tensorflow.keras.optimizers import Adam, Adagrad\n",
    "\n",
    "\n",
    "def get_callbacks(monitor, save_dir):\n",
    "    mode = None\n",
    "    if 'loss' in monitor:\n",
    "        mode = 'min'\n",
    "    elif 'accuracy' in monitor:\n",
    "        mode = 'max'\n",
    "    assert mode != None, 'Check the monitor parameter!'\n",
    "\n",
    "    es = EarlyStopping(monitor=monitor, mode=mode, patience=10,\n",
    "                      min_delta=0., verbose=1)\n",
    "    rlp = ReduceLROnPlateau(monitor=monitor, mode=mode, factor=0.2, patience=5,\n",
    "                            min_lr=0.001, verbose=1)\n",
    "    mcp = ModelCheckpoint(path.join(save_dir, 'hm_jetscape_ml_model_best.h5'), monitor=monitor, \n",
    "                          save_best_only=True, mode=mode, verbose=1)\n",
    "    \n",
    "    return [es, rlp, mcp]\n",
    "\n",
    "def conv2d_layer_block(prev_layer, filters, dropout_rate, input_shape=None):\n",
    "    if input_shape != None:\n",
    "        prev_layer.add(Conv2D(filters=filters, kernel_size=5,\n",
    "                              kernel_initializer='he_uniform',\n",
    "                              padding='same',\n",
    "                              activation='relu',\n",
    "                              kernel_regularizer=l2(l=0.02),\n",
    "                              input_shape=input_shape\n",
    "                             )\n",
    "                      )\n",
    "    else:\n",
    "        prev_layer.add(Conv2D(filters=filters, kernel_size=5,\n",
    "                              kernel_initializer='he_uniform',\n",
    "                              padding='same',\n",
    "                              activation='relu',\n",
    "                              kernel_regularizer=l2(l=0.02),\n",
    "                             )\n",
    "                      )\n",
    "    prev_layer.add(Conv2D(filters=filters, kernel_size=5,\n",
    "                              kernel_initializer='he_uniform',\n",
    "                              padding='same',\n",
    "                              activation='relu',\n",
    "                              kernel_regularizer=l2(l=0.02)\n",
    "                             )\n",
    "                      )    \n",
    "    prev_layer.add(MaxPool2D(pool_size=(2, 2)))\n",
    "    prev_layer.add(Dropout(dropout_rate))\n",
    "    \n",
    "    return prev_layer\n",
    "\n",
    "def fc_layer_block(prev_layer, units, dropout_rate, last_layer=False):\n",
    "    if last_layer == False:\n",
    "        prev_layer.add(Dense(units, activation='relu',\n",
    "                             kernel_initializer='he_uniform',\n",
    "                             kernel_regularizer=l2(l=0.02)\n",
    "                            )\n",
    "                      )\n",
    "        prev_layer.add(Dropout(dropout_rate))\n",
    "    else:\n",
    "        prev_layer.add(Dense(1, activation='sigmoid'))\n",
    "\n",
    "    return prev_layer\n",
    "\n",
    "def CNN_model(input_shape, lr, dropout1, dropout2):\n",
    "    model = Sequential()\n",
    "    model = conv2d_layer_block(model, 256, dropout1, input_shape)\n",
    "    model = conv2d_layer_block(model, 256, dropout1)\n",
    "    model = conv2d_layer_block(model, 256, dropout1)\n",
    "    model = conv2d_layer_block(model, 256, dropout1)\n",
    "    #model = conv2d_layer_block(model, 128, dropout1)\n",
    "    model.add(Flatten())\n",
    "    model = fc_layer_block(model, 1024, dropout2)\n",
    "    model = fc_layer_block(model, 1024, dropout2)\n",
    "    model = fc_layer_block(model, 1024, dropout2)\n",
    "    model = fc_layer_block(model, 1024, dropout2)\n",
    "    model = fc_layer_block(model, 1, None, last_layer=True)\n",
    "    \n",
    "    optimizer = Adam(learning_rate=lr)\n",
    "    model.compile(loss='binary_crossentropy', optimizer=optimizer,\n",
    "                  metrics=['accuracy'])\n",
    "    \n",
    "    return model"
   ]
  },
  {
   "cell_type": "code",
   "execution_count": null,
   "id": "d488d01b",
   "metadata": {
    "colab": {
     "base_uri": "https://localhost:8080/"
    },
    "executionInfo": {
     "elapsed": 144,
     "status": "ok",
     "timestamp": 1647465291713,
     "user": {
      "displayName": "Haydar Mehryar",
      "photoUrl": "https://lh3.googleusercontent.com/a-/AOh14GiV2PbrE4NQbmWZlQz1WDM6jCKRcmLwN1DLu24x5g=s64",
      "userId": "09990703679773155769"
     },
     "user_tz": 240
    },
    "id": "7ef66c80",
    "outputId": "c4e58828-121f-4c10-eb10-eec026f02e55"
   },
   "outputs": [
    {
     "name": "stdout",
     "output_type": "stream",
     "text": [
      "\n",
      "#############################################################\n",
      "Reshaping dataset X-side dimention to be fit in the defined convolutional :\n",
      "X train:\n",
      "(140000, 32, 32)\n",
      "140000 32 32\n",
      "(140000, 32, 32, 1)\n",
      "X val:\n",
      "(40000, 32, 32)\n",
      "40000 32 32\n",
      "(140000, 32, 32, 1)\n",
      "X test:\n",
      "(20000, 32, 32)\n",
      "20000 32 32\n",
      "(20000, 32, 32, 1)\n",
      "#############################################################\n",
      "\n"
     ]
    }
   ],
   "source": [
    "print(\"\\n#############################################################\")\n",
    "print(\"Reshaping dataset X-side dimension to be fit in the defined convolutional :\")\n",
    "\n",
    "print(\"\\nX train:\")\n",
    "print(x_train.shape)\n",
    "print (x_train.shape[0],x_train.shape[1],x_train.shape[2])\n",
    "x_train_reshaped=x_train.reshape(x_train.shape[0],x_train.shape[1],x_train.shape[2],1)\n",
    "print(x_train_reshaped.shape)\n",
    "\n",
    "print(\"\\nX val:\")\n",
    "print(x_val.shape)\n",
    "print (x_val.shape[0],x_val.shape[1],x_val.shape[2])\n",
    "x_val_reshaped=x_val.reshape(x_val.shape[0],x_val.shape[1],x_val.shape[2],1)\n",
    "print(x_train_reshaped.shape)\n",
    "\n",
    "print(\"\\nX test:\")\n",
    "print(x_test.shape)\n",
    "print (x_test.shape[0],x_test.shape[1],x_test.shape[2])\n",
    "x_test_reshaped=x_test.reshape(x_test.shape[0],x_test.shape[1],x_test.shape[2],1)\n",
    "print(x_test_reshaped.shape)\n",
    "print(\"#############################################################\\n\")\n"
   ]
  },
  {
   "cell_type": "code",
   "execution_count": null,
   "id": "2fd2c1b1",
   "metadata": {
    "id": "9f40da40"
   },
   "outputs": [],
   "source": [
    "## parameers for training\n",
    "n_epochs = 50\n",
    "# n_epochs=2\n",
    "batch_size = 256\n",
    "input_shape = x_train_reshaped.shape[1:]\n",
    "monitor='val_accuracy' #'val_accuracy' or 'val_loss'\n",
    "lr = 5e-6\n",
    "dropout1, dropout2 = 0.2, 0.2"
   ]
  },
  {
   "cell_type": "code",
   "execution_count": null,
   "id": "cec06479",
   "metadata": {
    "id": "d9294e84"
   },
   "outputs": [],
   "source": [
    "from time import time\n",
    "def train_network(train_set, val_set, n_epochs, lr, batch_size, monitor):\n",
    "    tf.keras.backend.clear_session()\n",
    "    X_train = train_set[0]\n",
    "    Y_train = train_set[1]\n",
    "    model = CNN_model(input_shape, lr, dropout1, dropout2)\n",
    "    callbacks = get_callbacks(monitor, save_dir)\n",
    "    \n",
    "    model.summary()\n",
    "    \n",
    "    start = time()\n",
    "    history = model.fit(X_train, Y_train, epochs=n_epochs, verbose=1, batch_size=batch_size, \n",
    "                        validation_data=val_set, shuffle=True, callbacks=callbacks)\n",
    "    train_time = (time()-start)/60.\n",
    "    return history, train_time"
   ]
  },
  {
   "cell_type": "code",
   "execution_count": null,
   "id": "b5745e9c",
   "metadata": {
    "colab": {
     "base_uri": "https://localhost:8080/"
    },
    "id": "5b2633c2",
    "outputId": "f015e115-4920-4f6b-e841-95e0d211a95f"
   },
   "outputs": [
    {
     "name": "stdout",
     "output_type": "stream",
     "text": [
      "Model: \"sequential\"\n",
      "_________________________________________________________________\n",
      " Layer (type)                Output Shape              Param #   \n",
      "=================================================================\n",
      " conv2d (Conv2D)             (None, 32, 32, 256)       6656      \n",
      "                                                                 \n",
      " conv2d_1 (Conv2D)           (None, 32, 32, 256)       1638656   \n",
      "                                                                 \n",
      " max_pooling2d (MaxPooling2D  (None, 16, 16, 256)      0         \n",
      " )                                                               \n",
      "                                                                 \n",
      " dropout (Dropout)           (None, 16, 16, 256)       0         \n",
      "                                                                 \n",
      " conv2d_2 (Conv2D)           (None, 16, 16, 256)       1638656   \n",
      "                                                                 \n",
      " conv2d_3 (Conv2D)           (None, 16, 16, 256)       1638656   \n",
      "                                                                 \n",
      " max_pooling2d_1 (MaxPooling  (None, 8, 8, 256)        0         \n",
      " 2D)                                                             \n",
      "                                                                 \n",
      " dropout_1 (Dropout)         (None, 8, 8, 256)         0         \n",
      "                                                                 \n",
      " conv2d_4 (Conv2D)           (None, 8, 8, 256)         1638656   \n",
      "                                                                 \n",
      " conv2d_5 (Conv2D)           (None, 8, 8, 256)         1638656   \n",
      "                                                                 \n",
      " max_pooling2d_2 (MaxPooling  (None, 4, 4, 256)        0         \n",
      " 2D)                                                             \n",
      "                                                                 \n",
      " dropout_2 (Dropout)         (None, 4, 4, 256)         0         \n",
      "                                                                 \n",
      " conv2d_6 (Conv2D)           (None, 4, 4, 256)         1638656   \n",
      "                                                                 \n",
      " conv2d_7 (Conv2D)           (None, 4, 4, 256)         1638656   \n",
      "                                                                 \n",
      " max_pooling2d_3 (MaxPooling  (None, 2, 2, 256)        0         \n",
      " 2D)                                                             \n",
      "                                                                 \n",
      " dropout_3 (Dropout)         (None, 2, 2, 256)         0         \n",
      "                                                                 \n",
      " flatten (Flatten)           (None, 1024)              0         \n",
      "                                                                 \n",
      " dense (Dense)               (None, 1024)              1049600   \n",
      "                                                                 \n",
      " dropout_4 (Dropout)         (None, 1024)              0         \n",
      "                                                                 \n",
      " dense_1 (Dense)             (None, 1024)              1049600   \n",
      "                                                                 \n",
      " dropout_5 (Dropout)         (None, 1024)              0         \n",
      "                                                                 \n",
      " dense_2 (Dense)             (None, 1024)              1049600   \n",
      "                                                                 \n",
      " dropout_6 (Dropout)         (None, 1024)              0         \n",
      "                                                                 \n",
      " dense_3 (Dense)             (None, 1024)              1049600   \n",
      "                                                                 \n",
      " dropout_7 (Dropout)         (None, 1024)              0         \n",
      "                                                                 \n",
      " dense_4 (Dense)             (None, 1)                 1025      \n",
      "                                                                 \n",
      "=================================================================\n",
      "Total params: 15,676,673\n",
      "Trainable params: 15,676,673\n",
      "Non-trainable params: 0\n",
      "_________________________________________________________________\n",
      "Epoch 1/2\n",
      "224/547 [===========>..................] - ETA: 6:56:07 - loss: 239.0317 - accuracy: 0.5025"
     ]
    }
   ],
   "source": [
    "# training and validation sets\n",
    "train_set, val_set = (x_train_reshaped, y_train), (x_val_reshaped, y_val)\n",
    "\n",
    "# train the network\n",
    "history, train_time = train_network(train_set, val_set, n_epochs, lr, batch_size, monitor)\n",
    "file_name='hm_jetscape_ml_model_history.csv'\n",
    "file_path=simulation_directory_path+file_name\n",
    "pd.DataFrame.from_dict(history.history).to_csv(file_path,index=False)\n",
    "\n",
    "\n",
    "file_name='hm_jetscape_ml_model_history.npy'\n",
    "file_path=simulation_directory_path+file_name\n",
    "np.save(file_path,history.history)\n",
    "\n",
    "\n"
   ]
  },
  {
   "cell_type": "code",
   "execution_count": null,
   "id": "19749383",
   "metadata": {
    "colab": {
     "base_uri": "https://localhost:8080/"
    },
    "executionInfo": {
     "elapsed": 156,
     "status": "ok",
     "timestamp": 1647466581578,
     "user": {
      "displayName": "Haydar Mehryar",
      "photoUrl": "https://lh3.googleusercontent.com/a-/AOh14GiV2PbrE4NQbmWZlQz1WDM6jCKRcmLwN1DLu24x5g=s64",
      "userId": "09990703679773155769"
     },
     "user_tz": 240
    },
    "id": "NuDqrAdDl4AQ",
    "outputId": "12c07e59-6722-4bb7-913b-ef8afcdf5f13"
   },
   "outputs": [
    {
     "name": "stdout",
     "output_type": "stream",
     "text": [
      "{'history': {'loss': [228.9948661621094, 197.9379549281529], 'accuracy': [0.50295, 0.51447856], 'val_loss': [212.5898095703125, 183.9870919433594], 'val_accuracy': [0.559325, 0.529875], 'lr': [5e-06, 5e-06]}}\n"
     ]
    }
   ],
   "source": [
    "# This section shall be just used after training or for stand alone evaluations\n",
    "# Building a dictionary which is accessable by dot\n",
    "class dotdict(dict):\n",
    "    \"\"\"dot.notation access to dictionary attributes\"\"\"\n",
    "    __getattr__ = dict.get\n",
    "    __setattr__ = dict.__setitem__\n",
    "    __delattr__ = dict.__delitem__\n",
    "\n",
    "#Loading learning history after training \n",
    "file_name='hm_jetscape_ml_model_history.npy'\n",
    "file_path=simulation_directory_path+file_name\n",
    "\n",
    "\n",
    "history=dict({'history':np.load(file_path,allow_pickle='TRUE').item()})\n",
    "history=dotdict(history)\n",
    "print(history)"
   ]
  },
  {
   "cell_type": "code",
   "execution_count": null,
   "id": "ae6ce6d7",
   "metadata": {
    "id": "5ae67cec"
   },
   "outputs": [],
   "source": [
    "from matplotlib import pyplot as plt\n",
    "def plot_train_history(history):\n",
    "\n",
    "    color_list = ['red','blue','black','green']\n",
    "\n",
    "    plt.figure(figsize=(8, 2.5), dpi=100)\n",
    "\n",
    "    plt.subplot(121)\n",
    "    plt.plot(history.history['loss'], label='loss')\n",
    "    plt.plot(history.history['val_loss'], label='val_loss')\n",
    "    plt.yscale('log')\n",
    "    plt.xlabel('Epoch')\n",
    "    plt.title('Loss history')\n",
    "    plt.legend()\n",
    "    \n",
    "    plt.subplot(122)\n",
    "    plt.plot(history.history['accuracy'], label='accuracy')\n",
    "    plt.plot(history.history['val_accuracy'], label='val_accuracy')\n",
    "    plt.xlabel('Epoch')\n",
    "    plt.title('Accuracy history')\n",
    "    plt.legend()\n",
    "    file_name='hm_jetscape_ml_plot_train_history.png'\n",
    "    file_path=simulation_directory_path+file_name\n",
    "    plt.savefig(file_path)\n",
    "    plt.show()\n",
    "    plt.close()\n",
    "# plot the training history for each fold\n",
    "plot_train_history(history)"
   ]
  },
  {
   "cell_type": "code",
   "execution_count": null,
   "id": "f5c90a6c",
   "metadata": {
    "colab": {
     "base_uri": "https://localhost:8080/",
     "height": 387
    },
    "executionInfo": {
     "elapsed": 537183,
     "status": "error",
     "timestamp": 1647468451916,
     "user": {
      "displayName": "Haydar Mehryar",
      "photoUrl": "https://lh3.googleusercontent.com/a-/AOh14GiV2PbrE4NQbmWZlQz1WDM6jCKRcmLwN1DLu24x5g=s64",
      "userId": "09990703679773155769"
     },
     "user_tz": 240
    },
    "id": "03b9d8a5",
    "outputId": "aa1c9bfa-c8a7-4906-c77a-e88e7b60f8d6"
   },
   "outputs": [
    {
     "ename": "KeyboardInterrupt",
     "evalue": "ignored",
     "output_type": "error",
     "traceback": [
      "\u001b[0;31m---------------------------------------------------------------------------\u001b[0m",
      "\u001b[0;31mKeyboardInterrupt\u001b[0m                         Traceback (most recent call last)",
      "\u001b[0;32m<ipython-input-104-bafe2500611a>\u001b[0m in \u001b[0;36m<module>\u001b[0;34m()\u001b[0m\n\u001b[1;32m      6\u001b[0m \u001b[0;34m\u001b[0m\u001b[0m\n\u001b[1;32m      7\u001b[0m \u001b[0;31m## evaluate the model on train/val/test sets and append the results to lists\u001b[0m\u001b[0;34m\u001b[0m\u001b[0;34m\u001b[0m\u001b[0;34m\u001b[0m\u001b[0m\n\u001b[0;32m----> 8\u001b[0;31m \u001b[0m_\u001b[0m\u001b[0;34m,\u001b[0m \u001b[0mtrain_acc\u001b[0m \u001b[0;34m=\u001b[0m \u001b[0mbest_model\u001b[0m\u001b[0;34m.\u001b[0m\u001b[0mevaluate\u001b[0m\u001b[0;34m(\u001b[0m\u001b[0mx_train_reshaped\u001b[0m\u001b[0;34m,\u001b[0m \u001b[0my_train\u001b[0m\u001b[0;34m,\u001b[0m \u001b[0mverbose\u001b[0m\u001b[0;34m=\u001b[0m\u001b[0;36m0\u001b[0m\u001b[0;34m)\u001b[0m\u001b[0;34m\u001b[0m\u001b[0;34m\u001b[0m\u001b[0m\n\u001b[0m\u001b[1;32m      9\u001b[0m \u001b[0m_\u001b[0m\u001b[0;34m,\u001b[0m \u001b[0mval_acc\u001b[0m \u001b[0;34m=\u001b[0m \u001b[0mbest_model\u001b[0m\u001b[0;34m.\u001b[0m\u001b[0mevaluate\u001b[0m\u001b[0;34m(\u001b[0m\u001b[0mx_val_reshaped\u001b[0m\u001b[0;34m,\u001b[0m \u001b[0my_val\u001b[0m\u001b[0;34m,\u001b[0m \u001b[0mverbose\u001b[0m\u001b[0;34m=\u001b[0m\u001b[0;36m0\u001b[0m\u001b[0;34m)\u001b[0m\u001b[0;34m\u001b[0m\u001b[0;34m\u001b[0m\u001b[0m\n\u001b[1;32m     10\u001b[0m \u001b[0m_\u001b[0m\u001b[0;34m,\u001b[0m \u001b[0mtest_acc\u001b[0m \u001b[0;34m=\u001b[0m \u001b[0mbest_model\u001b[0m\u001b[0;34m.\u001b[0m\u001b[0mevaluate\u001b[0m\u001b[0;34m(\u001b[0m\u001b[0mx_test_reshaped\u001b[0m\u001b[0;34m,\u001b[0m \u001b[0my_test\u001b[0m\u001b[0;34m,\u001b[0m \u001b[0mverbose\u001b[0m\u001b[0;34m=\u001b[0m\u001b[0;36m0\u001b[0m\u001b[0;34m)\u001b[0m\u001b[0;34m\u001b[0m\u001b[0;34m\u001b[0m\u001b[0m\n",
      "\u001b[0;32m/usr/local/lib/python3.7/dist-packages/keras/utils/traceback_utils.py\u001b[0m in \u001b[0;36merror_handler\u001b[0;34m(*args, **kwargs)\u001b[0m\n\u001b[1;32m     62\u001b[0m     \u001b[0mfiltered_tb\u001b[0m \u001b[0;34m=\u001b[0m \u001b[0;32mNone\u001b[0m\u001b[0;34m\u001b[0m\u001b[0;34m\u001b[0m\u001b[0m\n\u001b[1;32m     63\u001b[0m     \u001b[0;32mtry\u001b[0m\u001b[0;34m:\u001b[0m\u001b[0;34m\u001b[0m\u001b[0;34m\u001b[0m\u001b[0m\n\u001b[0;32m---> 64\u001b[0;31m       \u001b[0;32mreturn\u001b[0m \u001b[0mfn\u001b[0m\u001b[0;34m(\u001b[0m\u001b[0;34m*\u001b[0m\u001b[0margs\u001b[0m\u001b[0;34m,\u001b[0m \u001b[0;34m**\u001b[0m\u001b[0mkwargs\u001b[0m\u001b[0;34m)\u001b[0m\u001b[0;34m\u001b[0m\u001b[0;34m\u001b[0m\u001b[0m\n\u001b[0m\u001b[1;32m     65\u001b[0m     \u001b[0;32mexcept\u001b[0m \u001b[0mException\u001b[0m \u001b[0;32mas\u001b[0m \u001b[0me\u001b[0m\u001b[0;34m:\u001b[0m  \u001b[0;31m# pylint: disable=broad-except\u001b[0m\u001b[0;34m\u001b[0m\u001b[0;34m\u001b[0m\u001b[0m\n\u001b[1;32m     66\u001b[0m       \u001b[0mfiltered_tb\u001b[0m \u001b[0;34m=\u001b[0m \u001b[0m_process_traceback_frames\u001b[0m\u001b[0;34m(\u001b[0m\u001b[0me\u001b[0m\u001b[0;34m.\u001b[0m\u001b[0m__traceback__\u001b[0m\u001b[0;34m)\u001b[0m\u001b[0;34m\u001b[0m\u001b[0;34m\u001b[0m\u001b[0m\n",
      "\u001b[0;32m/usr/local/lib/python3.7/dist-packages/keras/engine/training.py\u001b[0m in \u001b[0;36mevaluate\u001b[0;34m(self, x, y, batch_size, verbose, sample_weight, steps, callbacks, max_queue_size, workers, use_multiprocessing, return_dict, **kwargs)\u001b[0m\n\u001b[1;32m   1714\u001b[0m             \u001b[0;32mwith\u001b[0m \u001b[0mtf\u001b[0m\u001b[0;34m.\u001b[0m\u001b[0mprofiler\u001b[0m\u001b[0;34m.\u001b[0m\u001b[0mexperimental\u001b[0m\u001b[0;34m.\u001b[0m\u001b[0mTrace\u001b[0m\u001b[0;34m(\u001b[0m\u001b[0;34m'test'\u001b[0m\u001b[0;34m,\u001b[0m \u001b[0mstep_num\u001b[0m\u001b[0;34m=\u001b[0m\u001b[0mstep\u001b[0m\u001b[0;34m,\u001b[0m \u001b[0m_r\u001b[0m\u001b[0;34m=\u001b[0m\u001b[0;36m1\u001b[0m\u001b[0;34m)\u001b[0m\u001b[0;34m:\u001b[0m\u001b[0;34m\u001b[0m\u001b[0;34m\u001b[0m\u001b[0m\n\u001b[1;32m   1715\u001b[0m               \u001b[0mcallbacks\u001b[0m\u001b[0;34m.\u001b[0m\u001b[0mon_test_batch_begin\u001b[0m\u001b[0;34m(\u001b[0m\u001b[0mstep\u001b[0m\u001b[0;34m)\u001b[0m\u001b[0;34m\u001b[0m\u001b[0;34m\u001b[0m\u001b[0m\n\u001b[0;32m-> 1716\u001b[0;31m               \u001b[0mtmp_logs\u001b[0m \u001b[0;34m=\u001b[0m \u001b[0mself\u001b[0m\u001b[0;34m.\u001b[0m\u001b[0mtest_function\u001b[0m\u001b[0;34m(\u001b[0m\u001b[0miterator\u001b[0m\u001b[0;34m)\u001b[0m\u001b[0;34m\u001b[0m\u001b[0;34m\u001b[0m\u001b[0m\n\u001b[0m\u001b[1;32m   1717\u001b[0m               \u001b[0;32mif\u001b[0m \u001b[0mdata_handler\u001b[0m\u001b[0;34m.\u001b[0m\u001b[0mshould_sync\u001b[0m\u001b[0;34m:\u001b[0m\u001b[0;34m\u001b[0m\u001b[0;34m\u001b[0m\u001b[0m\n\u001b[1;32m   1718\u001b[0m                 \u001b[0mcontext\u001b[0m\u001b[0;34m.\u001b[0m\u001b[0masync_wait\u001b[0m\u001b[0;34m(\u001b[0m\u001b[0;34m)\u001b[0m\u001b[0;34m\u001b[0m\u001b[0;34m\u001b[0m\u001b[0m\n",
      "\u001b[0;32m/usr/local/lib/python3.7/dist-packages/tensorflow/python/util/traceback_utils.py\u001b[0m in \u001b[0;36merror_handler\u001b[0;34m(*args, **kwargs)\u001b[0m\n\u001b[1;32m    148\u001b[0m     \u001b[0mfiltered_tb\u001b[0m \u001b[0;34m=\u001b[0m \u001b[0;32mNone\u001b[0m\u001b[0;34m\u001b[0m\u001b[0;34m\u001b[0m\u001b[0m\n\u001b[1;32m    149\u001b[0m     \u001b[0;32mtry\u001b[0m\u001b[0;34m:\u001b[0m\u001b[0;34m\u001b[0m\u001b[0;34m\u001b[0m\u001b[0m\n\u001b[0;32m--> 150\u001b[0;31m       \u001b[0;32mreturn\u001b[0m \u001b[0mfn\u001b[0m\u001b[0;34m(\u001b[0m\u001b[0;34m*\u001b[0m\u001b[0margs\u001b[0m\u001b[0;34m,\u001b[0m \u001b[0;34m**\u001b[0m\u001b[0mkwargs\u001b[0m\u001b[0;34m)\u001b[0m\u001b[0;34m\u001b[0m\u001b[0;34m\u001b[0m\u001b[0m\n\u001b[0m\u001b[1;32m    151\u001b[0m     \u001b[0;32mexcept\u001b[0m \u001b[0mException\u001b[0m \u001b[0;32mas\u001b[0m \u001b[0me\u001b[0m\u001b[0;34m:\u001b[0m\u001b[0;34m\u001b[0m\u001b[0;34m\u001b[0m\u001b[0m\n\u001b[1;32m    152\u001b[0m       \u001b[0mfiltered_tb\u001b[0m \u001b[0;34m=\u001b[0m \u001b[0m_process_traceback_frames\u001b[0m\u001b[0;34m(\u001b[0m\u001b[0me\u001b[0m\u001b[0;34m.\u001b[0m\u001b[0m__traceback__\u001b[0m\u001b[0;34m)\u001b[0m\u001b[0;34m\u001b[0m\u001b[0;34m\u001b[0m\u001b[0m\n",
      "\u001b[0;32m/usr/local/lib/python3.7/dist-packages/tensorflow/python/eager/def_function.py\u001b[0m in \u001b[0;36m__call__\u001b[0;34m(self, *args, **kwds)\u001b[0m\n\u001b[1;32m    913\u001b[0m \u001b[0;34m\u001b[0m\u001b[0m\n\u001b[1;32m    914\u001b[0m       \u001b[0;32mwith\u001b[0m \u001b[0mOptionalXlaContext\u001b[0m\u001b[0;34m(\u001b[0m\u001b[0mself\u001b[0m\u001b[0;34m.\u001b[0m\u001b[0m_jit_compile\u001b[0m\u001b[0;34m)\u001b[0m\u001b[0;34m:\u001b[0m\u001b[0;34m\u001b[0m\u001b[0;34m\u001b[0m\u001b[0m\n\u001b[0;32m--> 915\u001b[0;31m         \u001b[0mresult\u001b[0m \u001b[0;34m=\u001b[0m \u001b[0mself\u001b[0m\u001b[0;34m.\u001b[0m\u001b[0m_call\u001b[0m\u001b[0;34m(\u001b[0m\u001b[0;34m*\u001b[0m\u001b[0margs\u001b[0m\u001b[0;34m,\u001b[0m \u001b[0;34m**\u001b[0m\u001b[0mkwds\u001b[0m\u001b[0;34m)\u001b[0m\u001b[0;34m\u001b[0m\u001b[0;34m\u001b[0m\u001b[0m\n\u001b[0m\u001b[1;32m    916\u001b[0m \u001b[0;34m\u001b[0m\u001b[0m\n\u001b[1;32m    917\u001b[0m       \u001b[0mnew_tracing_count\u001b[0m \u001b[0;34m=\u001b[0m \u001b[0mself\u001b[0m\u001b[0;34m.\u001b[0m\u001b[0mexperimental_get_tracing_count\u001b[0m\u001b[0;34m(\u001b[0m\u001b[0;34m)\u001b[0m\u001b[0;34m\u001b[0m\u001b[0;34m\u001b[0m\u001b[0m\n",
      "\u001b[0;32m/usr/local/lib/python3.7/dist-packages/tensorflow/python/eager/def_function.py\u001b[0m in \u001b[0;36m_call\u001b[0;34m(self, *args, **kwds)\u001b[0m\n\u001b[1;32m    952\u001b[0m       \u001b[0;31m# In this case we have not created variables on the first call. So we can\u001b[0m\u001b[0;34m\u001b[0m\u001b[0;34m\u001b[0m\u001b[0;34m\u001b[0m\u001b[0m\n\u001b[1;32m    953\u001b[0m       \u001b[0;31m# run the first trace but we should fail if variables are created.\u001b[0m\u001b[0;34m\u001b[0m\u001b[0;34m\u001b[0m\u001b[0;34m\u001b[0m\u001b[0m\n\u001b[0;32m--> 954\u001b[0;31m       \u001b[0mresults\u001b[0m \u001b[0;34m=\u001b[0m \u001b[0mself\u001b[0m\u001b[0;34m.\u001b[0m\u001b[0m_stateful_fn\u001b[0m\u001b[0;34m(\u001b[0m\u001b[0;34m*\u001b[0m\u001b[0margs\u001b[0m\u001b[0;34m,\u001b[0m \u001b[0;34m**\u001b[0m\u001b[0mkwds\u001b[0m\u001b[0;34m)\u001b[0m\u001b[0;34m\u001b[0m\u001b[0;34m\u001b[0m\u001b[0m\n\u001b[0m\u001b[1;32m    955\u001b[0m       \u001b[0;32mif\u001b[0m \u001b[0mself\u001b[0m\u001b[0;34m.\u001b[0m\u001b[0m_created_variables\u001b[0m \u001b[0;32mand\u001b[0m \u001b[0;32mnot\u001b[0m \u001b[0mALLOW_DYNAMIC_VARIABLE_CREATION\u001b[0m\u001b[0;34m:\u001b[0m\u001b[0;34m\u001b[0m\u001b[0;34m\u001b[0m\u001b[0m\n\u001b[1;32m    956\u001b[0m         raise ValueError(\"Creating variables on a non-first call to a function\"\n",
      "\u001b[0;32m/usr/local/lib/python3.7/dist-packages/tensorflow/python/eager/function.py\u001b[0m in \u001b[0;36m__call__\u001b[0;34m(self, *args, **kwargs)\u001b[0m\n\u001b[1;32m   2955\u001b[0m        filtered_flat_args) = self._maybe_define_function(args, kwargs)\n\u001b[1;32m   2956\u001b[0m     return graph_function._call_flat(\n\u001b[0;32m-> 2957\u001b[0;31m         filtered_flat_args, captured_inputs=graph_function.captured_inputs)  # pylint: disable=protected-access\n\u001b[0m\u001b[1;32m   2958\u001b[0m \u001b[0;34m\u001b[0m\u001b[0m\n\u001b[1;32m   2959\u001b[0m   \u001b[0;34m@\u001b[0m\u001b[0mproperty\u001b[0m\u001b[0;34m\u001b[0m\u001b[0;34m\u001b[0m\u001b[0m\n",
      "\u001b[0;32m/usr/local/lib/python3.7/dist-packages/tensorflow/python/eager/function.py\u001b[0m in \u001b[0;36m_call_flat\u001b[0;34m(self, args, captured_inputs, cancellation_manager)\u001b[0m\n\u001b[1;32m   1852\u001b[0m       \u001b[0;31m# No tape is watching; skip to running the function.\u001b[0m\u001b[0;34m\u001b[0m\u001b[0;34m\u001b[0m\u001b[0;34m\u001b[0m\u001b[0m\n\u001b[1;32m   1853\u001b[0m       return self._build_call_outputs(self._inference_function.call(\n\u001b[0;32m-> 1854\u001b[0;31m           ctx, args, cancellation_manager=cancellation_manager))\n\u001b[0m\u001b[1;32m   1855\u001b[0m     forward_backward = self._select_forward_and_backward_functions(\n\u001b[1;32m   1856\u001b[0m         \u001b[0margs\u001b[0m\u001b[0;34m,\u001b[0m\u001b[0;34m\u001b[0m\u001b[0;34m\u001b[0m\u001b[0m\n",
      "\u001b[0;32m/usr/local/lib/python3.7/dist-packages/tensorflow/python/eager/function.py\u001b[0m in \u001b[0;36mcall\u001b[0;34m(self, ctx, args, cancellation_manager)\u001b[0m\n\u001b[1;32m    502\u001b[0m               \u001b[0minputs\u001b[0m\u001b[0;34m=\u001b[0m\u001b[0margs\u001b[0m\u001b[0;34m,\u001b[0m\u001b[0;34m\u001b[0m\u001b[0;34m\u001b[0m\u001b[0m\n\u001b[1;32m    503\u001b[0m               \u001b[0mattrs\u001b[0m\u001b[0;34m=\u001b[0m\u001b[0mattrs\u001b[0m\u001b[0;34m,\u001b[0m\u001b[0;34m\u001b[0m\u001b[0;34m\u001b[0m\u001b[0m\n\u001b[0;32m--> 504\u001b[0;31m               ctx=ctx)\n\u001b[0m\u001b[1;32m    505\u001b[0m         \u001b[0;32melse\u001b[0m\u001b[0;34m:\u001b[0m\u001b[0;34m\u001b[0m\u001b[0;34m\u001b[0m\u001b[0m\n\u001b[1;32m    506\u001b[0m           outputs = execute.execute_with_cancellation(\n",
      "\u001b[0;32m/usr/local/lib/python3.7/dist-packages/tensorflow/python/eager/execute.py\u001b[0m in \u001b[0;36mquick_execute\u001b[0;34m(op_name, num_outputs, inputs, attrs, ctx, name)\u001b[0m\n\u001b[1;32m     53\u001b[0m     \u001b[0mctx\u001b[0m\u001b[0;34m.\u001b[0m\u001b[0mensure_initialized\u001b[0m\u001b[0;34m(\u001b[0m\u001b[0;34m)\u001b[0m\u001b[0;34m\u001b[0m\u001b[0;34m\u001b[0m\u001b[0m\n\u001b[1;32m     54\u001b[0m     tensors = pywrap_tfe.TFE_Py_Execute(ctx._handle, device_name, op_name,\n\u001b[0;32m---> 55\u001b[0;31m                                         inputs, attrs, num_outputs)\n\u001b[0m\u001b[1;32m     56\u001b[0m   \u001b[0;32mexcept\u001b[0m \u001b[0mcore\u001b[0m\u001b[0;34m.\u001b[0m\u001b[0m_NotOkStatusException\u001b[0m \u001b[0;32mas\u001b[0m \u001b[0me\u001b[0m\u001b[0;34m:\u001b[0m\u001b[0;34m\u001b[0m\u001b[0;34m\u001b[0m\u001b[0m\n\u001b[1;32m     57\u001b[0m     \u001b[0;32mif\u001b[0m \u001b[0mname\u001b[0m \u001b[0;32mis\u001b[0m \u001b[0;32mnot\u001b[0m \u001b[0;32mNone\u001b[0m\u001b[0;34m:\u001b[0m\u001b[0;34m\u001b[0m\u001b[0;34m\u001b[0m\u001b[0m\n",
      "\u001b[0;31mKeyboardInterrupt\u001b[0m: "
     ]
    }
   ],
   "source": [
    "from tensorflow.keras.models import load_model\n",
    "## load the best model\n",
    "best_model = load_model(path.join(save_dir,'hm_jetscape_ml_model_best.h5'))\n",
    "\n",
    "outputStr='Train   | Validation | Test sets\\n'\n",
    "\n",
    "## evaluate the model on train/val/test sets and append the results to lists\n",
    "_, train_acc = best_model.evaluate(x_train_reshaped, y_train, verbose=0)\n",
    "_, val_acc = best_model.evaluate(x_val_reshaped, y_val, verbose=0)\n",
    "_, test_acc = best_model.evaluate(x_test_reshaped, y_test, verbose=0)\n",
    "    \n",
    "## print out the accuracy\n",
    "outputStr+='{:.4f}%  {:.4f}%     {:.4f}%\\n'.format(train_acc * 100, val_acc * 100, test_acc * 100)\n",
    "print(outputStr)\n",
    "\n",
    "file_name=\"hm_jetscape_ml_model_evaluation.txt\"\n",
    "file_path=simulation_directory_path+file_name\n",
    "evaluation_file = open(file_path, \"w\")\n",
    "evaluation_file.write(outputStr)\n",
    "evaluation_file.close()\n"
   ]
  },
  {
   "cell_type": "code",
   "execution_count": null,
   "id": "fc835bb8",
   "metadata": {
    "colab": {
     "base_uri": "https://localhost:8080/",
     "height": 239
    },
    "executionInfo": {
     "elapsed": 195,
     "status": "error",
     "timestamp": 1647468567768,
     "user": {
      "displayName": "Haydar Mehryar",
      "photoUrl": "https://lh3.googleusercontent.com/a-/AOh14GiV2PbrE4NQbmWZlQz1WDM6jCKRcmLwN1DLu24x5g=s64",
      "userId": "09990703679773155769"
     },
     "user_tz": 240
    },
    "id": "2271cdbf",
    "outputId": "4e35b64b-3899-4399-8520-438484589b41"
   },
   "outputs": [
    {
     "ename": "AttributeError",
     "evalue": "ignored",
     "output_type": "error",
     "traceback": [
      "\u001b[0;31m---------------------------------------------------------------------------\u001b[0m",
      "\u001b[0;31mAttributeError\u001b[0m                            Traceback (most recent call last)",
      "\u001b[0;32m<ipython-input-107-fa2be622c608>\u001b[0m in \u001b[0;36m<module>\u001b[0;34m()\u001b[0m\n\u001b[1;32m      2\u001b[0m \u001b[0;32mimport\u001b[0m \u001b[0mseaborn\u001b[0m \u001b[0;32mas\u001b[0m \u001b[0msns\u001b[0m\u001b[0;34m\u001b[0m\u001b[0;34m\u001b[0m\u001b[0m\n\u001b[1;32m      3\u001b[0m \u001b[0;31m## plot confution matrix\u001b[0m\u001b[0;34m\u001b[0m\u001b[0;34m\u001b[0m\u001b[0;34m\u001b[0m\u001b[0m\n\u001b[0;32m----> 4\u001b[0;31m \u001b[0my_pred\u001b[0m \u001b[0;34m=\u001b[0m \u001b[0mbest_model\u001b[0m\u001b[0;34m.\u001b[0m\u001b[0mpredict_classes\u001b[0m\u001b[0;34m(\u001b[0m\u001b[0mx_test_reshaped\u001b[0m\u001b[0;34m)\u001b[0m\u001b[0;34m\u001b[0m\u001b[0;34m\u001b[0m\u001b[0m\n\u001b[0m\u001b[1;32m      5\u001b[0m \u001b[0;34m\u001b[0m\u001b[0m\n\u001b[1;32m      6\u001b[0m \u001b[0mconf_mat\u001b[0m \u001b[0;34m=\u001b[0m \u001b[0mconfusion_matrix\u001b[0m\u001b[0;34m(\u001b[0m\u001b[0my_pred\u001b[0m\u001b[0;34m,\u001b[0m \u001b[0my_test\u001b[0m\u001b[0;34m)\u001b[0m\u001b[0;34m\u001b[0m\u001b[0;34m\u001b[0m\u001b[0m\n",
      "\u001b[0;31mAttributeError\u001b[0m: 'Sequential' object has no attribute 'predict_classes'"
     ]
    }
   ],
   "source": [
    "from sklearn.metrics import confusion_matrix, classification_report\n",
    "import seaborn as sns\n",
    "## plot confution matrix\n",
    "y_pred = best_model.predict_classes(x_test_reshaped)\n",
    "\n",
    "conf_mat = confusion_matrix(y_pred, y_test)\n",
    "sns.heatmap(conf_mat, annot=True, cmap='Blues', \n",
    "            xticklabels=Modules, yticklabels=Modules, fmt='g')\n",
    "plt.xlabel('True Label', fontsize=15)\n",
    "plt.ylabel('Prediction', fontsize=15)\n",
    "file_name='hm_jetscape_ml_model_confision_matrix.png'\n",
    "file_path=simulation_directory_path+file_name\n",
    "plt.savefig(file_path)\n",
    "plt.show()\n",
    "plt.close()\n",
    "\n",
    "classification_report_str= classification_report(y_test,y_pred)\n",
    "\n",
    "print (classification_report_str)\n",
    "file_name=\"hm_jetscape_ml_model_evaluation.txt\"\n",
    "file_path=simulation_directory_path+file_name\n",
    "evaluation_file = open(file_path, \"a\")\n",
    "evaluation_file.write(classification_report_str)\n",
    "evaluation_file.close()"
   ]
  },
  {
   "cell_type": "markdown",
   "id": "7bed7031",
   "metadata": {
    "id": "1469d657"
   },
   "source": [
    "#Binary Classification Results\n",
    "\n",
    "\n",
    "Classification                      | #epoch | Hadron \\begin{pmatrix} p_{T} \\end{pmatrix}\n",
    "-------------------                 |--------|------------------\n",
    "MATTER (in-medium) v.s. MATTER+LBT  |500| 95.88%\n",
    " \n",
    "\n",
    "#Precision - Recall - F1Score\n",
    "\n",
    "$precision= \\frac{true \\: positive}{true \\: positive \\: + \\:false \\: positive}$\n",
    "\n",
    "$recal= \\frac{true \\: positive}{true \\: positive \\: + \\: false \\: negative}$\n",
    "\n",
    "$f1-score= \\frac{2}{precision^{-1} \\: + \\: recall^{-1}}$"
   ]
  },
  {
   "cell_type": "code",
   "execution_count": null,
   "id": "a6370b02",
   "metadata": {
    "id": "6359d77d"
   },
   "outputs": [],
   "source": [
    "\n",
    "# Source code credit for this function: https://gist.github.com/shaypal5/94c53d765083101efc0240d776a23823\n",
    "def print_confusion_matrix(confusion_matrix, class_names, figsize = (10,7), fontsize=14):\n",
    "    \"\"\"Prints a confusion matrix, as returned by sklearn.metrics.confusion_matrix, as a heatmap.\n",
    "    \n",
    "    Arguments\n",
    "    ---------\n",
    "    confusion_matrix: numpy.ndarray\n",
    "        The numpy.ndarray object returned from a call to sklearn.metrics.confusion_matrix. \n",
    "        Similarly constructed ndarrays can also be used.\n",
    "    class_names: list\n",
    "        An ordered list of class names, in the order they index the given confusion matrix.\n",
    "    figsize: tuple\n",
    "        A 2-long tuple, the first value determining the horizontal size of the ouputted figure,\n",
    "        the second determining the vertical size. Defaults to (10,7).\n",
    "    fontsize: int\n",
    "        Font size for axes labels. Defaults to 14.\n",
    "        \n",
    "    Returns\n",
    "    -------\n",
    "    matplotlib.figure.Figure\n",
    "        The resulting confusion matrix figure\n",
    "    \"\"\"\n",
    "    df_cm = pd.DataFrame(\n",
    "        confusion_matrix, index=class_names, columns=class_names, \n",
    "    )\n",
    "    fig = plt.figure(figsize=figsize)\n",
    "    try:\n",
    "        heatmap = sns.heatmap(df_cm, annot=True, fmt=\"d\")\n",
    "    except ValueError:\n",
    "        raise ValueError(\"Confusion matrix values must be integers.\")\n",
    "    heatmap.yaxis.set_ticklabels(heatmap.yaxis.get_ticklabels(), rotation=0, ha='right', fontsize=fontsize)\n",
    "    heatmap.xaxis.set_ticklabels(heatmap.xaxis.get_ticklabels(), rotation=45, ha='right', fontsize=fontsize)\n",
    "    plt.ylabel('Truth')\n",
    "    plt.xlabel('Prediction')"
   ]
  },
  {
   "cell_type": "code",
   "execution_count": null,
   "id": "902fa5b8",
   "metadata": {
    "id": "06f997f3"
   },
   "outputs": [],
   "source": [
    "def calcualte_precision_recall_f1score_confision_matrix():\n",
    "  prediction=model.predict(x_test)\n",
    "  prediction=[ 1 if current_y_test>0.5 else 0 for current_y_test in prediction ]\n",
    "  #checking if prediction vector is binary\n",
    "  truth=y_test\n",
    "  cm = confusion_matrix(truth,prediction)\n",
    "  print_confusion_matrix(cm,[\"MATTER\",\"MATTER-LBT\"])\n",
    "  print(classification_report(truth, prediction))"
   ]
  },
  {
   "cell_type": "markdown",
   "id": "393c147e",
   "metadata": {
    "id": "956dc650"
   },
   "source": [
    "### Mean Square Error\n",
    "\n",
    "The mean square error is the sum of the squared differences between the prediction ($\\hat{y}$) and the expected ($y$).  MSE values are not of a particular unit.  If an MSE value has decreased for a model, that is good.  However, beyond this, there is not much more you can determine.  Low MSE values are desired.\n",
    "\n",
    "$ \\mbox{MSE} = \\frac{1}{n} \\sum_{i=1}^n \\left(\\hat{y}_i - y_i\\right)^2 $\n"
   ]
  },
  {
   "cell_type": "code",
   "execution_count": null,
   "id": "76bf26bd",
   "metadata": {
    "colab": {
     "base_uri": "https://localhost:8080/"
    },
    "executionInfo": {
     "elapsed": 449,
     "status": "ok",
     "timestamp": 1644964376403,
     "user": {
      "displayName": "Haydar Mehryar",
      "photoUrl": "https://lh3.googleusercontent.com/a-/AOh14GiV2PbrE4NQbmWZlQz1WDM6jCKRcmLwN1DLu24x5g=s64",
      "userId": "09990703679773155769"
     },
     "user_tz": 300
    },
    "id": "94efde30",
    "outputId": "dcf57252-74e6-4898-c447-6024268e54c8"
   },
   "outputs": [
    {
     "name": "stdout",
     "output_type": "stream",
     "text": [
      "Final score (MSE): 0.3986714993310698\n",
      "Root Mean Square Error on test set: 0.631\n"
     ]
    }
   ],
   "source": [
    "from sklearn import metrics\n",
    "def calcualte_mse(x_test):\n",
    "\n",
    "  # Predict\n",
    "  pred = model.predict(x_test)\n",
    "  # Measure MSE error.  \n",
    "  mse = metrics.mean_squared_error(pred,y_test)\n",
    "  print(\"Final score (MSE): {}\".format(mse))\n",
    "  rmse = np.sqrt(mse)\n",
    "  print('Root Mean Square Error on test set: {}'.format(round(rmse, 3)))\n"
   ]
  }
 ],
 "metadata": {
  "colab": {
   "collapsed_sections": [],
   "name": "jetscape-ml-tensorflow-cnn.ipynb",
   "provenance": []
  },
  "interpreter": {
   "hash": "ada828d16365d2b22d3899327f52f8feba3feb56b4fde7279c1cd0b9201605e0"
  },
  "kernelspec": {
   "display_name": "Python 3",
   "language": "python",
   "name": "python3"
  },
  "language_info": {
   "codemirror_mode": {
    "name": "ipython",
    "version": 3
   },
   "file_extension": ".py",
   "mimetype": "text/x-python",
   "name": "python",
   "nbconvert_exporter": "python",
   "pygments_lexer": "ipython3",
   "version": "3.7.6"
  }
 },
 "nbformat": 4,
 "nbformat_minor": 5
}
