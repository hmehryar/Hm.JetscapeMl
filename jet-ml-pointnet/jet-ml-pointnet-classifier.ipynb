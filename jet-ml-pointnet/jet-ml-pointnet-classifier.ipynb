{
  "cells": [
    {
      "cell_type": "markdown",
      "metadata": {
        "id": "yVb8Oel2-fnO"
      },
      "source": [
        "# Point cloud classification with PointNet\n",
        "\n",
        "**Author:** [David Griffiths](https://dgriffiths3.github.io)<br>\n",
        "**Date created:** 2020/05/25<br>\n",
        "**Last modified:** 2020/05/26<br>\n",
        "**Description:** Implementation of PointNet for ModelNet10 classification."
      ]
    },
    {
      "cell_type": "markdown",
      "metadata": {
        "id": "7JDaLV8X-fnX"
      },
      "source": [
        "# Point cloud classification\n"
      ]
    },
    {
      "cell_type": "markdown",
      "metadata": {
        "id": "KxdcC9AH-fnY"
      },
      "source": [
        "## Introduction\n",
        "\n",
        "Classification, detection and segmentation of unordered 3D point sets i.e. point clouds\n",
        "is a core problem in computer vision. This example implements the seminal point cloud\n",
        "deep learning paper [PointNet (Qi et al., 2017)](https://arxiv.org/abs/1612.00593). For a\n",
        "detailed intoduction on PointNet see [this blog\n",
        "post](https://medium.com/@luis_gonzales/an-in-depth-look-at-pointnet-111d7efdaa1a).\n"
      ]
    },
    {
      "cell_type": "code",
      "execution_count": null,
      "metadata": {},
      "outputs": [],
      "source": [
        "import sys\n",
        "sys.path.insert(1,'/wsu/home/gy/gy40/gy4065/hm.jetscapeml.source')\n",
        "import jet_ml_dataset_builder.jet_ml_dataset_builder_utilities as util\n",
        "util.install(\"trimesh\")\n"
      ]
    },
    {
      "cell_type": "markdown",
      "metadata": {
        "id": "2z07I4k8-fnZ"
      },
      "source": [
        "## Setup\n",
        "\n",
        "If using colab first install trimesh with `!pip install trimesh`.\n"
      ]
    },
    {
      "cell_type": "code",
      "execution_count": null,
      "metadata": {
        "id": "mXs3uAt6-fna"
      },
      "outputs": [],
      "source": [
        "\n",
        "import os\n",
        "import glob\n",
        "import trimesh\n",
        "import numpy as np\n",
        "import tensorflow as tf\n",
        "from tensorflow import keras\n",
        "from tensorflow.keras import layers\n",
        "from matplotlib import pyplot as plt\n",
        "\n",
        "tf.random.set_seed(1234)\n"
      ]
    },
    {
      "cell_type": "markdown",
      "metadata": {
        "id": "gUyw-ho2-fnd"
      },
      "source": [
        "## Load dataset\n",
        "\n",
        "We use the ModelNet10 model dataset, the smaller 10 class version of the ModelNet40\n",
        "dataset. First download the data:\n"
      ]
    },
    {
      "cell_type": "code",
      "execution_count": null,
      "metadata": {
        "id": "gUHhjNkg-fne"
      },
      "outputs": [],
      "source": [
        "# DATA_DIR = tf.keras.utils.get_file(\n",
        "#     \"modelnet.zip\",\n",
        "#     \"http://3dvision.princeton.edu/projects/2014/3DShapeNets/ModelNet10.zip\",\n",
        "#     extract=True,\n",
        "# )\n",
        "# DATA_DIR = os.path.join(os.path.dirname(DATA_DIR), \"ModelNet10\")\n"
      ]
    },
    {
      "cell_type": "code",
      "execution_count": null,
      "metadata": {},
      "outputs": [],
      "source": [
        "import sys\n",
        "sys.path.insert(1,'/wsu/home/gy/gy40/gy4065/hm.jetscapeml.source')\n",
        "\n",
        "import numpy as np"
      ]
    },
    {
      "cell_type": "code",
      "execution_count": null,
      "metadata": {},
      "outputs": [],
      "source": [
        "print('Loading/Installing Package => Begin\\n\\n')\n",
        "\n",
        "import jet_ml_dataset_builder.jet_ml_dataset_builder_utilities as util\n",
        "\n",
        "print('\\n########################################################################')\n",
        "print('Checking the running platforms\\n')\n",
        "\n",
        "from jet_ml_dataset_builder.jet_ml_dataset_builder_utilities import set_directory_paths\n",
        "# Call the function and retrieve the dataset_directory_path and simulation_directory_path\n",
        "dataset_directory_path, simulation_directory_path = set_directory_paths()\n",
        "\n",
        "# Access the dataset_directory_path and simulation_directory_path\n",
        "print(\"Dataset Directory Path:\", dataset_directory_path)\n",
        "print(\"Simulation Directory Path:\", simulation_directory_path)\n",
        "print('########################################################################\\n')\n",
        "\n",
        "\n",
        "print('\\nLoading/Installing Package => End\\n\\n')\n"
      ]
    },
    {
      "cell_type": "code",
      "execution_count": null,
      "metadata": {},
      "outputs": [],
      "source": [
        "from jet_ml_dataset_builder.jet_ml_dataset_builder_utilities import  parse_parameters\n",
        "\n",
        "# Call the function and retrieve the tokenized parameters\n",
        "tokenized_arguments, tokenized_values = parse_parameters()\n",
        "\n",
        "# Access the tokenized arguments and values\n",
        "print(\"Tokenized Arguments:\")\n",
        "for argument in tokenized_arguments:\n",
        "    print(argument)\n",
        "\n",
        "print(\"\\nTokenized Values:\")\n",
        "for argument, value in tokenized_values.items():\n",
        "    print(f\"{argument}: {value}\")\n",
        "\n",
        "y_class_label_items=['MMAT','MLBT']\n",
        "alpha_s_items=[0.2 ,0.3 ,0.4]\n",
        "q0_items=[1.5 ,2.0 ,2.5]\n",
        "\n",
        "print(\"y_class_label_items:\",y_class_label_items)\n",
        "print(\"alpha_s_items:\",alpha_s_items)\n",
        "print(\"q0_items:\",q0_items)"
      ]
    },
    {
      "cell_type": "code",
      "execution_count": null,
      "metadata": {},
      "outputs": [],
      "source": [
        "print(\"Building required params for the loading the dataset file\")\n",
        "\n",
        "class_labels_str = '_'.join(y_class_label_items)\n",
        "alpha_s_items_str='_'.join(map(str, alpha_s_items))\n",
        "q0_items_str='_'.join(map(str, q0_items))\n",
        "total_size=9*1200000\n",
        "# for shuffled_y_processed\n",
        "# dataset_file_name = f\"jet_ml_benchmark_config_01_to_09_alpha_{alpha_s_items_str}_q0_{q0_items_str}_{class_labels_str}_size_{total_size}_split_train_datasets/train_split_0.pkl\"\n",
        "# for shuffled\n",
        "dataset_file_name = f\"jet_ml_benchmark_config_01_to_09_alpha_{alpha_s_items_str}_q0_{q0_items_str}_{class_labels_str}_size_{1000}_shuffled.pkl\"\n",
        "# dataset_file_name = f\"jet_ml_benchmark_config_01_to_09_alpha_{alpha_s_items_str}_q0_{q0_items_str}_{class_labels_str}_size_{10000}_shuffled.pkl\"\n",
        "# dataset_file_name = f\"jet_ml_benchmark_config_01_to_09_alpha_{alpha_s_items_str}_q0_{q0_items_str}_{class_labels_str}_size_{100000}_shuffled.pkl\"\n",
        "# dataset_file_name = f\"jet_ml_benchmark_config_01_to_09_alpha_{alpha_s_items_str}_q0_{q0_items_str}_{class_labels_str}_size_{1000000}_shuffled.pkl\"\n",
        "# dataset_file_name = f\"jet_ml_benchmark_config_01_to_09_alpha_{alpha_s_items_str}_q0_{q0_items_str}_{class_labels_str}_size_{total_size}_shuffled.pkl\"\n",
        "\n",
        "dataset_file_name=simulation_directory_path+dataset_file_name\n",
        "print(\"dataset_file_name:\",dataset_file_name)"
      ]
    },
    {
      "cell_type": "code",
      "execution_count": null,
      "metadata": {},
      "outputs": [],
      "source": [
        "from jet_ml_dataset_builder.jet_ml_dataset_builder_utilities import load_dataset\n",
        "dataset=load_dataset(dataset_file_name,has_test=False)\n",
        "# ((x_train, y_train),(x_test,y_test))=dataset\n",
        "# dataset_x=[x_train,x_test]\n",
        "# dataset_y=[x_test,y_test]\n",
        "(dataset_x, dataset_y) = dataset\n",
        "print(\"dataset.x:\",type(dataset_x), dataset_x.size, dataset_x.shape)\n",
        "print(\"dataset.y:\",type(dataset_y), dataset_y.size,dataset_y.shape)"
      ]
    },
    {
      "cell_type": "code",
      "execution_count": null,
      "metadata": {},
      "outputs": [],
      "source": [
        "import matplotlib.pyplot as plt\n",
        "import numpy as np\n",
        "\n",
        "# Assuming dataset.x contains the images and dataset.y contains the labels\n",
        "# Extract the first image and label\n",
        "first_image = dataset_x[0]\n",
        "label = dataset_y[0]\n",
        "\n",
        "# Plot the first image with a white background\n",
        "fig, ax = plt.subplots(figsize=(4, 4))\n",
        "\n",
        "ax.imshow(first_image, cmap='gray', vmin=0, vmax=1)  # Assuming images are normalized between 0 and 1\n",
        "# ax.set_title(f'Label: {label}')\n",
        "ax.axis('off')\n",
        "ax.set_facecolor('white')  # Set white background\n",
        "\n",
        "# Save the plot as an image file (e.g., PNG)\n",
        "plt.savefig('first_image_plot_labelless.png')\n",
        "\n",
        "# Show the plot\n",
        "plt.show()\n"
      ]
    },
    {
      "cell_type": "markdown",
      "metadata": {
        "id": "VDm7vCzL-fnf"
      },
      "source": [
        "We can use the `trimesh` package to read and visualize the `.off` mesh files.\n"
      ]
    },
    {
      "cell_type": "code",
      "execution_count": null,
      "metadata": {},
      "outputs": [],
      "source": [
        "import trimesh\n",
        "import numpy as np\n",
        "\n",
        "\n",
        "# Extract the first item from the x set\n",
        "first_data = dataset_x[0]\n",
        "\n",
        "# Assuming your data represents a 3D model, create a trimesh object\n",
        "mesh = trimesh.Trimesh(vertices=first_data, faces=None)\n",
        "\n",
        "# Visualize the mesh\n",
        "mesh.show()"
      ]
    },
    {
      "cell_type": "code",
      "execution_count": null,
      "metadata": {
        "id": "0wUGtMrK-fng"
      },
      "outputs": [],
      "source": [
        "# mesh = trimesh.load(os.path.join(DATA_DIR, \"chair/train/chair_0001.off\"))\n",
        "# mesh.show()\n"
      ]
    },
    {
      "cell_type": "markdown",
      "metadata": {
        "id": "WRjnKRY1-fni"
      },
      "source": [
        "To convert a mesh file to a point cloud we first need to sample points on the mesh\n",
        "surface. `.sample()` performs a unifrom random sampling. Here we sample at 2048 locations\n",
        "and visualize in `matplotlib`.\n"
      ]
    },
    {
      "cell_type": "code",
      "execution_count": null,
      "metadata": {
        "id": "opwJCjWL-fnj"
      },
      "outputs": [],
      "source": [
        "# points = mesh.sample(2048)\n",
        "\n",
        "# fig = plt.figure(figsize=(5, 5))\n",
        "# ax = fig.add_subplot(111, projection=\"3d\")\n",
        "# ax.scatter(points[:, 0], points[:, 1], points[:, 2])\n",
        "# ax.set_axis_off()\n",
        "# plt.show()\n"
      ]
    },
    {
      "cell_type": "markdown",
      "metadata": {
        "id": "IYvHf9tT-fnk"
      },
      "source": [
        "To generate a `tf.data.Dataset()` we need to first parse through the ModelNet data\n",
        "folders. Each mesh is loaded and sampled into a point cloud before being added to a\n",
        "standard python list and converted to a `numpy` array. We also store the current\n",
        "enumerate index value as the object label and use a dictionary to recall this later.\n"
      ]
    },
    {
      "cell_type": "code",
      "execution_count": null,
      "metadata": {
        "id": "GpPU912s-fnl"
      },
      "outputs": [],
      "source": [
        "\n",
        "# def parse_dataset(num_points=2048):\n",
        "\n",
        "#     train_points = []\n",
        "#     train_labels = []\n",
        "#     test_points = []\n",
        "#     test_labels = []\n",
        "#     class_map = {}\n",
        "#     folders = glob.glob(os.path.join(DATA_DIR, \"[!README]*\"))\n",
        "\n",
        "#     for i, folder in enumerate(folders):\n",
        "#         print(\"processing class: {}\".format(os.path.basename(folder)))\n",
        "#         # store folder name with ID so we can retrieve later\n",
        "#         class_map[i] = folder.split(\"/\")[-1]\n",
        "#         # gather all files\n",
        "#         train_files = glob.glob(os.path.join(folder, \"train/*\"))\n",
        "#         test_files = glob.glob(os.path.join(folder, \"test/*\"))\n",
        "\n",
        "#         for f in train_files:\n",
        "#             train_points.append(trimesh.load(f).sample(num_points))\n",
        "#             train_labels.append(i)\n",
        "\n",
        "#         for f in test_files:\n",
        "#             test_points.append(trimesh.load(f).sample(num_points))\n",
        "#             test_labels.append(i)\n",
        "\n",
        "#     return (\n",
        "#         np.array(train_points),\n",
        "#         np.array(test_points),\n",
        "#         np.array(train_labels),\n",
        "#         np.array(test_labels),\n",
        "#         class_map,\n",
        "#     )\n",
        "\n"
      ]
    },
    {
      "cell_type": "markdown",
      "metadata": {
        "id": "59tYHC0d-fnl"
      },
      "source": [
        "Set the number of points to sample and batch size and parse the dataset. This can take\n",
        "~5minutes to complete.\n"
      ]
    },
    {
      "cell_type": "code",
      "execution_count": null,
      "metadata": {
        "id": "4r8loRud-fnm"
      },
      "outputs": [],
      "source": [
        "# NUM_POINTS = 2048\n",
        "# NUM_CLASSES = 10\n",
        "# BATCH_SIZE = 32\n",
        "\n",
        "# train_points, test_points, train_labels, test_labels, CLASS_MAP = parse_dataset(\n",
        "#     NUM_POINTS\n",
        "# )\n"
      ]
    },
    {
      "cell_type": "markdown",
      "metadata": {
        "id": "JjxNiUPK-fnm"
      },
      "source": [
        "Our data can now be read into a `tf.data.Dataset()` object. We set the shuffle buffer\n",
        "size to the entire size of the dataset as prior to this the data is ordered by class.\n",
        "Data augmentation is important when working with point cloud data. We create a\n",
        "augmentation function to jitter and shuffle the train dataset.\n"
      ]
    },
    {
      "cell_type": "code",
      "execution_count": null,
      "metadata": {
        "id": "rLmiebuX-fnm"
      },
      "outputs": [],
      "source": [
        "\n",
        "# def augment(points, label):\n",
        "#     # jitter points\n",
        "#     points += tf.random.uniform(points.shape, -0.005, 0.005, dtype=tf.float64)\n",
        "#     # shuffle points\n",
        "#     points = tf.random.shuffle(points)\n",
        "#     return points, label\n",
        "\n",
        "\n",
        "# train_dataset = tf.data.Dataset.from_tensor_slices((train_points, train_labels))\n",
        "# test_dataset = tf.data.Dataset.from_tensor_slices((test_points, test_labels))\n",
        "\n",
        "# train_dataset = train_dataset.shuffle(len(train_points)).map(augment).batch(BATCH_SIZE)\n",
        "# test_dataset = test_dataset.shuffle(len(test_points)).batch(BATCH_SIZE)\n"
      ]
    },
    {
      "cell_type": "markdown",
      "metadata": {
        "id": "WiKDg2GE-fnn"
      },
      "source": [
        "### Build a model\n",
        "\n",
        "Each convolution and fully-connected layer (with exception for end layers) consits of\n",
        "Convolution / Dense -> Batch Normalization -> ReLU Activation.\n"
      ]
    },
    {
      "cell_type": "code",
      "execution_count": null,
      "metadata": {
        "id": "9vjbAOxp-fnn"
      },
      "outputs": [],
      "source": [
        "\n",
        "# def conv_bn(x, filters):\n",
        "#     x = layers.Conv1D(filters, kernel_size=1, padding=\"valid\")(x)\n",
        "#     x = layers.BatchNormalization(momentum=0.0)(x)\n",
        "#     return layers.Activation(\"relu\")(x)\n",
        "\n",
        "\n",
        "# def dense_bn(x, filters):\n",
        "#     x = layers.Dense(filters)(x)\n",
        "#     x = layers.BatchNormalization(momentum=0.0)(x)\n",
        "#     return layers.Activation(\"relu\")(x)\n",
        "\n"
      ]
    },
    {
      "cell_type": "markdown",
      "metadata": {
        "id": "COazknc1-fnn"
      },
      "source": [
        "PointNet consists of two core components. The primary MLP network, and the transformer\n",
        "net (T-net). The T-net aims to learn an affine transformation matrix by its own mini\n",
        "network. The T-net is used twice. The first time to transform the input features (n, 3)\n",
        "into a canonical representation. The second is an affine transformation for alignment in\n",
        "feature space (n, 3). As per the original paper we constrain the transformation to be\n",
        "close to an orthogonal matrix (i.e. ||X*X^T - I|| = 0).\n"
      ]
    },
    {
      "cell_type": "code",
      "execution_count": null,
      "metadata": {
        "id": "4zoTUYLm-fnn"
      },
      "outputs": [],
      "source": [
        "\n",
        "# class OrthogonalRegularizer(keras.regularizers.Regularizer):\n",
        "#     def __init__(self, num_features, l2reg=0.001):\n",
        "#         self.num_features = num_features\n",
        "#         self.l2reg = l2reg\n",
        "#         self.eye = tf.eye(num_features)\n",
        "\n",
        "#     def __call__(self, x):\n",
        "#         x = tf.reshape(x, (-1, self.num_features, self.num_features))\n",
        "#         xxt = tf.tensordot(x, x, axes=(2, 2))\n",
        "#         xxt = tf.reshape(xxt, (-1, self.num_features, self.num_features))\n",
        "#         return tf.reduce_sum(self.l2reg * tf.square(xxt - self.eye))\n",
        "\n"
      ]
    },
    {
      "cell_type": "markdown",
      "metadata": {
        "id": "q-me42d_-fno"
      },
      "source": [
        " We can then define a general function to build T-net layers.\n"
      ]
    },
    {
      "cell_type": "code",
      "execution_count": null,
      "metadata": {
        "id": "scFKRYyX-fno"
      },
      "outputs": [],
      "source": [
        "\n",
        "# def tnet(inputs, num_features):\n",
        "\n",
        "#     # Initalise bias as the indentity matrix\n",
        "#     bias = keras.initializers.Constant(np.eye(num_features).flatten())\n",
        "#     reg = OrthogonalRegularizer(num_features)\n",
        "\n",
        "#     x = conv_bn(inputs, 32)\n",
        "#     x = conv_bn(x, 64)\n",
        "#     x = conv_bn(x, 512)\n",
        "#     x = layers.GlobalMaxPooling1D()(x)\n",
        "#     x = dense_bn(x, 256)\n",
        "#     x = dense_bn(x, 128)\n",
        "#     x = layers.Dense(\n",
        "#         num_features * num_features,\n",
        "#         kernel_initializer=\"zeros\",\n",
        "#         bias_initializer=bias,\n",
        "#         activity_regularizer=reg,\n",
        "#     )(x)\n",
        "#     feat_T = layers.Reshape((num_features, num_features))(x)\n",
        "#     # Apply affine transformation to input features\n",
        "#     return layers.Dot(axes=(2, 1))([inputs, feat_T])\n",
        "\n"
      ]
    },
    {
      "cell_type": "markdown",
      "metadata": {
        "id": "b9g7AWhj-fno"
      },
      "source": [
        "The main network can be then implemented in the same manner where the t-net mini models\n",
        "can be dropped in a layers in the graph. Here we replicate the network architecture\n",
        "published in the original paper but with half the number of weights at each layer as we\n",
        "are using the smaller 10 class ModelNet dataset.\n"
      ]
    },
    {
      "cell_type": "code",
      "execution_count": null,
      "metadata": {
        "id": "IBfP5g1M-fno"
      },
      "outputs": [],
      "source": [
        "# inputs = keras.Input(shape=(NUM_POINTS, 3))\n",
        "\n",
        "# x = tnet(inputs, 3)\n",
        "# x = conv_bn(x, 32)\n",
        "# x = conv_bn(x, 32)\n",
        "# x = tnet(x, 32)\n",
        "# x = conv_bn(x, 32)\n",
        "# x = conv_bn(x, 64)\n",
        "# x = conv_bn(x, 512)\n",
        "# x = layers.GlobalMaxPooling1D()(x)\n",
        "# x = dense_bn(x, 256)\n",
        "# x = layers.Dropout(0.3)(x)\n",
        "# x = dense_bn(x, 128)\n",
        "# x = layers.Dropout(0.3)(x)\n",
        "\n",
        "# outputs = layers.Dense(NUM_CLASSES, activation=\"softmax\")(x)\n",
        "\n",
        "# model = keras.Model(inputs=inputs, outputs=outputs, name=\"pointnet\")\n",
        "# model.summary()\n"
      ]
    },
    {
      "cell_type": "markdown",
      "metadata": {
        "id": "aeKpu_QN-fnp"
      },
      "source": [
        "### Train model\n",
        "\n",
        "Once the model is defined it can be trained like any other standard classification model\n",
        "using `.compile()` and `.fit()`.\n"
      ]
    },
    {
      "cell_type": "code",
      "execution_count": null,
      "metadata": {
        "id": "2mV3f03i-fnp"
      },
      "outputs": [],
      "source": [
        "# model.compile(\n",
        "#     loss=\"sparse_categorical_crossentropy\",\n",
        "#     optimizer=keras.optimizers.Adam(learning_rate=0.001),\n",
        "#     metrics=[\"sparse_categorical_accuracy\"],\n",
        "# )\n",
        "\n",
        "# model.fit(train_dataset, epochs=20, validation_data=test_dataset)\n"
      ]
    },
    {
      "cell_type": "markdown",
      "metadata": {
        "id": "C4ujj00m-fnp"
      },
      "source": [
        "## Visualize predictions\n",
        "\n",
        "We can use matplotlib to visualize our trained model performance.\n"
      ]
    },
    {
      "cell_type": "code",
      "execution_count": null,
      "metadata": {
        "id": "lDUAJFI8-fnp"
      },
      "outputs": [],
      "source": [
        "# data = test_dataset.take(1)\n",
        "\n",
        "# points, labels = list(data)[0]\n",
        "# points = points[:8, ...]\n",
        "# labels = labels[:8, ...]\n",
        "\n",
        "# # run test data through model\n",
        "# preds = model.predict(points)\n",
        "# preds = tf.math.argmax(preds, -1)\n",
        "\n",
        "# points = points.numpy()\n",
        "\n",
        "# # plot points with predicted class and label\n",
        "# fig = plt.figure(figsize=(15, 10))\n",
        "# for i in range(8):\n",
        "#     ax = fig.add_subplot(2, 4, i + 1, projection=\"3d\")\n",
        "#     ax.scatter(points[i, :, 0], points[i, :, 1], points[i, :, 2])\n",
        "#     ax.set_title(\n",
        "#         \"pred: {:}, label: {:}\".format(\n",
        "#             CLASS_MAP[preds[i].numpy()], CLASS_MAP[labels.numpy()[i]]\n",
        "#         )\n",
        "#     )\n",
        "#     ax.set_axis_off()\n",
        "# plt.show()\n"
      ]
    }
  ],
  "metadata": {
    "accelerator": "GPU",
    "colab": {
      "provenance": [],
      "toc_visible": true
    },
    "kernelspec": {
      "display_name": "Python (tensorflow-gpu-v2.8)",
      "language": "python",
      "name": "tensorflow-gpu-v2.8"
    },
    "language_info": {
      "codemirror_mode": {
        "name": "ipython",
        "version": 3
      },
      "file_extension": ".py",
      "mimetype": "text/x-python",
      "name": "python",
      "nbconvert_exporter": "python",
      "pygments_lexer": "ipython3",
      "version": "3.7.3"
    }
  },
  "nbformat": 4,
  "nbformat_minor": 0
}
