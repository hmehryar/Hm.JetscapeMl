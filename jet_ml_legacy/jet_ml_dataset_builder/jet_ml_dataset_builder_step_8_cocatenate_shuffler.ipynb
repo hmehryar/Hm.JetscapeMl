{
 "cells": [
  {
   "cell_type": "code",
   "execution_count": null,
   "metadata": {},
   "outputs": [],
   "source": [
    "import sys\n",
    "\n",
    "print('Loading/Installing Package => Begin\\n\\n')\n",
    "# Commonly used modules\n",
    "import numpy as np\n",
    "import os\n",
    "from os import path, makedirs\n",
    "import time\n",
    "from time import time\n",
    "import subprocess\n",
    "\n",
    "\n",
    "def install(package):\n",
    "  print(\"Installing \"+package) \n",
    "  subprocess.check_call([sys.executable,\"-m\" ,\"pip\", \"install\", package])\n",
    "  print(\"Installed \"+package+\"\\n\") \n",
    "\n",
    "\n",
    "\n",
    "# Images, plots, display, and visualization\n",
    "import matplotlib.cm as cm\n",
    "import matplotlib.pyplot as plt\n",
    "import pandas as pd\n",
    "\n",
    "#reading/writing into files\n",
    "# !pip3 install pickle5\n",
    "install(\"pickle5\")\n",
    "import pickle5 as pickle\n",
    "\n",
    "print('\\n########################################################################')\n",
    "print('Checking the running platforms\\n')\n",
    "\n",
    "from jet_ml_dataset_builder_utilities import set_directory_paths\n",
    "# Call the function and retrieve the dataset_directory_path and simulation_directory_path\n",
    "dataset_directory_path, simulation_directory_path = set_directory_paths()\n",
    "\n",
    "# Access the dataset_directory_path and simulation_directory_path\n",
    "print(\"Dataset Directory Path:\", dataset_directory_path)\n",
    "print(\"Simulation Directory Path:\", simulation_directory_path)\n",
    "print('########################################################################\\n')\n",
    "\n",
    "\n",
    "print('\\nLoading/Installing Package => End\\n\\n')"
   ]
  },
  {
   "cell_type": "code",
   "execution_count": null,
   "metadata": {},
   "outputs": [],
   "source": [
    "from jet_ml_dataset_builder_utilities import  parse_parameters\n",
    "\n",
    "# Call the function and retrieve the tokenized parameters\n",
    "tokenized_arguments, tokenized_values = parse_parameters()\n",
    "\n",
    "# Access the tokenized arguments and values\n",
    "print(\"Tokenized Arguments:\")\n",
    "for argument in tokenized_arguments:\n",
    "    print(argument)\n",
    "\n",
    "print(\"\\nTokenized Values:\")\n",
    "for argument, value in tokenized_values.items():\n",
    "    print(f\"{argument}: {value}\")\n",
    "\n",
    "y_class_label_items=['MMAT','MLBT']"
   ]
  },
  {
   "cell_type": "code",
   "execution_count": null,
   "metadata": {},
   "outputs": [],
   "source": [
    "from jet_ml_dataset_builder_utilities import load_dataset_by_y_class_label\n",
    "print (\"Test: Loading dataset MATTER side and Printing Y side to make sure, 3 colums are\")\n",
    "\n",
    "print(\"Loading dataset_mvac\")\n",
    "dataset_mvac=None\n",
    "if dataset_mvac is None:\n",
    "    dataset_mvac=load_dataset_by_y_class_label(tokenized_values[\"configuration_number\"],tokenized_values[\"data_size\"],simulation_directory_path,y_class_label_items[0],tokenized_values[\"alpha_s\"],q0=1)\n",
    "    ((dataset_mvac_x_train,dataset_mvac_y_train),(dataset_mvac_x_test,dataset_mvac_y_test))=dataset_mvac\n",
    "\n",
    "print(\"Loading dataset_mlbt\")\n",
    "dataset_mlbt=None\n",
    "if dataset_mlbt is None:\n",
    "    dataset_mlbt=load_dataset_by_y_class_label(tokenized_values[\"configuration_number\"],tokenized_values[\"data_size\"],simulation_directory_path,y_class_label_items[1],tokenized_values[\"alpha_s\"],tokenized_values[\"q0\"])\n",
    "    ((dataset_mlbt_x_train,dataset_mlbt_y_train),(dataset_mlbt_x_test,dataset_mlbt_y_test))=dataset_mlbt\n"
   ]
  },
  {
   "cell_type": "code",
   "execution_count": null,
   "metadata": {},
   "outputs": [],
   "source": [
    "from jet_ml_dataset_builder_utilities import merge_and_shuffle_datasets\n",
    "merged_dataset = merge_and_shuffle_datasets(dataset_mvac, dataset_mlbt)"
   ]
  },
  {
   "cell_type": "code",
   "execution_count": null,
   "metadata": {},
   "outputs": [],
   "source": [
    "from jet_ml_dataset_builder_utilities import store_merged_dataset\n",
    "total_size = len(merged_dataset['x_train'])+len(merged_dataset['x_test'])\n",
    "store_merged_dataset(merged_dataset,  tokenized_values[\"alpha_s\"], tokenized_values[\"q0\"], total_size, y_class_label_items, tokenized_values[\"configuration_number\"],simulation_directory_path)\n"
   ]
  }
 ],
 "metadata": {
  "language_info": {
   "name": "python"
  },
  "orig_nbformat": 4
 },
 "nbformat": 4,
 "nbformat_minor": 2
}
