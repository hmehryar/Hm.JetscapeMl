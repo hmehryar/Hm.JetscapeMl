{
 "cells": [
  {
   "cell_type": "code",
   "execution_count": 1,
   "id": "c831679f",
   "metadata": {
    "colab": {
     "base_uri": "https://localhost:8080/"
    },
    "executionInfo": {
     "elapsed": 55997,
     "status": "ok",
     "timestamp": 1648214781600,
     "user": {
      "displayName": "Haydar Mehryar",
      "photoUrl": "https://lh3.googleusercontent.com/a-/AOh14GiV2PbrE4NQbmWZlQz1WDM6jCKRcmLwN1DLu24x5g=s64",
      "userId": "09990703679773155769"
     },
     "user_tz": 240
    },
    "id": "9b53a6d3",
    "outputId": "aac994d1-c01e-49e7-e96c-9114b45f2ce7"
   },
   "outputs": [
    {
     "name": "stdout",
     "output_type": "stream",
     "text": [
      "Loading/Installing Package => Begin\n",
      "\n",
      "\n",
      "\n",
      "########################################################################\n",
      "Checking the running platforms\n",
      "\n",
      "OS: Windows\n",
      "OS version: 10\n",
      "running on Colab: False\n",
      "Python version: 3.11.5\n",
      "Tensorflow version: 2.16.1\n",
      "Dataset Directory Path: G:\\My Drive\\Projects\\110_JetscapeMl\\hm_jetscapeml_data\\\n",
      "Dataset file name: jet_ml_benchmark_config_01_to_09_alpha_0.2_0.3_0.4_q0_1.5_2.0_2.5_MMAT_MLBT_size_10000_shuffled.pkl\n",
      "Simulation Results Path: G:\\My Drive\\Projects\\110_JetscapeMl\\hm_jetscapeml_data\\simulation_results\\\n",
      "########################################################################\n",
      "\n",
      "\n",
      "Loading/Installing Package => End\n",
      "\n",
      "\n"
     ]
    }
   ],
   "source": [
    "print('Loading/Installing Package => Begin\\n\\n')\n",
    "# Commonly used modules\n",
    "import numpy as np\n",
    "import os\n",
    "from os import path, makedirs\n",
    "import time\n",
    "from time import time\n",
    "import subprocess\n",
    "import sys\n",
    "\n",
    "\n",
    "def install(package):\n",
    "  print(\"Installing \"+package) \n",
    "  subprocess.check_call([sys.executable,\"-m\" ,\"pip\", \"install\", package])\n",
    "  print(\"Installed \"+package+\"\\n\") \n",
    "# TensorFlow and tf.keras\n",
    "import tensorflow as tf\n",
    "from tensorflow import keras\n",
    "from tensorflow.keras.layers import Conv2D, MaxPooling2D, Dropout, Flatten, Dense\n",
    "from tensorflow.keras.models import load_model\n",
    "\n",
    "# !pip3 install sklearn\n",
    "# install(\"sklearn\")\n",
    "from sklearn.metrics import confusion_matrix, classification_report\n",
    "\n",
    "# !pip3 install seaborn\n",
    "# install(\"seaborn\")\n",
    "import seaborn as sns\n",
    "\n",
    "\n",
    "# Images, plots, display, and visualization\n",
    "import matplotlib.cm as cm\n",
    "import matplotlib.pyplot as plt\n",
    "import pandas as pd\n",
    "\n",
    "#reading/writing into files\n",
    "# !pip3 install pickle5\n",
    "# install(\"pickle5\")\n",
    "# import pickle5 as pickle\n",
    "\n",
    "import pickle\n",
    "\n",
    "\n",
    "#import cv2\n",
    "# install(\"IPython\")\n",
    "import IPython\n",
    "from six.moves import urllib\n",
    "\n",
    "\n",
    "print('\\n########################################################################')\n",
    "print('Checking the running platforms\\n')\n",
    "import platform\n",
    "running_os=platform.system()\n",
    "print(\"OS: \"+running_os)\n",
    "print(\"OS version: \"+platform.release())\n",
    "\n",
    "try:\n",
    "  from google.colab import drive\n",
    "  COLAB = True\n",
    "except:\n",
    "  COLAB = False\n",
    "print(\"running on Colab: \"+str(COLAB))\n",
    "\n",
    "\n",
    "print(\"Python version: \"+platform.python_version())\n",
    "print(\"Tensorflow version: \"+tf.__version__)\n",
    "\n",
    "dataset_directory_path=''\n",
    "simulation_directory_path=''\n",
    "\n",
    "if COLAB == True:\n",
    "  drive.mount('/content/drive')\n",
    "  dataset_directory_path='/content/drive/MyDrive/Projects/110_JetscapeMl/hm.jetscapeml.data/simulation_results/'\n",
    "  simulation_directory_path=dataset_directory_path+'simulation_results/'\n",
    "elif 'Linux' in running_os:\n",
    "  dataset_directory_path='/wsu/home/gy/gy40/gy4065/hm.jetscapeml.data/simulation_results/'\n",
    "  simulation_directory_path=dataset_directory_path+'simulation_results/'\n",
    "else:\n",
    "  dataset_directory_path= 'G:\\\\My Drive\\\\Projects\\\\110_JetscapeMl\\\\hm_jetscapeml_data\\\\'\n",
    "  simulation_directory_path=dataset_directory_path+'simulation_results\\\\'\n",
    "print('Dataset Directory Path: '+dataset_directory_path)\n",
    "\n",
    "# dataset_file_name='jetscape-ml-benchmark-dataset-2k-randomized.pkl'\n",
    "# dataset_file_name='jetscape-ml-benchmark-dataset-matter-vs-lbt-2k-shuffled.pkl'\n",
    "# dataset_file_name='jetscape-ml-benchmark-dataset-matter-vs-lbt-200k-shuffled-01.pkl'\n",
    "# dataset_file_name='jetscape-ml-benchmark-dataset-matter-vs-lbt-1200k-momentum-shuffled.pkl'\n",
    "# dataset_file_name='config-01-matter-vs-lbt-simulationsize1200000-dataset-momentum-shuffled.pkl'\n",
    "# dataset_file_name='config-02-matter-vs-lbt-simulationsize1200000-dataset-momentum-shuffled.pkl'\n",
    "# dataset_file_name='config-03-matter-vs-lbt-simulationsize1200000-dataset-momentum-shuffled.pkl'\n",
    "# dataset_file_name='config-04-matter-vs-lbt-simulationsize1200000-dataset-momentum-shuffled.pkl'\n",
    "# dataset_file_name='config-05-matter-vs-lbt-simulationsize1200000-dataset-momentum-shuffled.pkl'\n",
    "# dataset_file_name='config-06-matter-vs-lbt-simulationsize1200000-dataset-momentum-shuffled.pkl'\n",
    "# dataset_file_name='config-07-matter-vs-lbt-simulationsize1200000-dataset-momentum-shuffled.pkl'\n",
    "# dataset_file_name='config-08-matter-vs-lbt-simulationsize1200000-dataset-momentum-shuffled.pkl'\n",
    "# dataset_file_name='config-09-matter-vs-lbt-simulationsize1200000-dataset-momentum-shuffled.pkl'\n",
    "dataset_file_name='jet_ml_benchmark_config_01_to_09_alpha_0.2_0.3_0.4_q0_1.5_2.0_2.5_MMAT_MLBT_size_10000_shuffled.pkl'\n",
    "print(\"Dataset file name: \"+dataset_file_name)\n",
    "\n",
    "if not path.exists(simulation_directory_path):\n",
    "    makedirs(simulation_directory_path)\n",
    "print('Simulation Results Path: '+simulation_directory_path)\n",
    "print('########################################################################\\n')\n",
    "print('\\nLoading/Installing Package => End\\n\\n')"
   ]
  },
  {
   "cell_type": "code",
   "execution_count": 2,
   "id": "4d35fcb5",
   "metadata": {
    "executionInfo": {
     "elapsed": 127,
     "status": "ok",
     "timestamp": 1648214796051,
     "user": {
      "displayName": "Haydar Mehryar",
      "photoUrl": "https://lh3.googleusercontent.com/a-/AOh14GiV2PbrE4NQbmWZlQz1WDM6jCKRcmLwN1DLu24x5g=s64",
      "userId": "09990703679773155769"
     },
     "user_tz": 240
    },
    "id": "4b30dbb6"
   },
   "outputs": [],
   "source": [
    "def save_dataset(file_name,dataset):\n",
    "    with open(file_name, 'wb') as dataset_file:\n",
    "        pickle.dump(dataset,dataset_file, protocol=pickle.HIGHEST_PROTOCOL)\n",
    "\n",
    "        \n",
    "def load_dataset(file_name):\n",
    "    with open(file_name, 'rb') as dataset_file:\n",
    "        # (x_train, y_train), (x_test, y_test) = pickle.load(dataset_file, encoding='latin1')\n",
    "        (x_train, y_train)= pickle.load(dataset_file, encoding='latin1')\n",
    "        # dataset=((x_train, y_train), (x_test, y_test))\n",
    "        dataset=(x_train, y_train)\n",
    "        return dataset"
   ]
  },
  {
   "cell_type": "markdown",
   "id": "fbbd714c",
   "metadata": {
    "id": "71d21209"
   },
   "source": [
    "## 2. Use Matplotlib to visualize one record.  \n",
    "I set the colormap to Grey and ColorMap. There are a bunch of other colormap choices if you like bright visualizations. Try magma or any of the other  choice in the [docs](https://matplotlib.org/tutorials/colors/colormaps.html)."
   ]
  },
  {
   "cell_type": "code",
   "execution_count": 3,
   "id": "e8291e46",
   "metadata": {
    "id": "c5961a83"
   },
   "outputs": [],
   "source": [
    "def plot_event(image_frame_size,event_matrix,file_name):\n",
    "  plt.imshow(event_matrix.reshape(image_frame_size, image_frame_size), cmap=cm.Greys)\n",
    "  cb = plt.colorbar()\n",
    "  cb.set_label(\"Hit Frequency\")\n",
    "  \n",
    "  file_path=simulation_directory_path+file_name\n",
    "  plt.savefig(file_path)\n",
    "# Funtionality Testing\n",
    "# # Plotting sample Random Event Histogram on gray scale\n",
    "# image_frame_size=32\n",
    "# plot_event(image_frame_size,counts,file_name='sample_random_event_histogram_32x32_grayscale.png')"
   ]
  },
  {
   "cell_type": "code",
   "execution_count": 3,
   "id": "cd80b1dc",
   "metadata": {},
   "outputs": [
    {
     "name": "stdout",
     "output_type": "stream",
     "text": [
      "Dataset file path: G:\\My Drive\\Projects\\110_JetscapeMl\\hm_jetscapeml_data\\jet_ml_benchmark_config_01_to_09_alpha_0.2_0.3_0.4_q0_1.5_2.0_2.5_MMAT_MLBT_size_10000_shuffled.pkl\n"
     ]
    }
   ],
   "source": [
    "dataset_file_path=dataset_directory_path+dataset_file_name\n",
    "print(\"Dataset file path: \"+dataset_file_path)\n",
    "with open(dataset_file_path, 'rb') as dataset_file:\n",
    "        # (x_train, y_train), (x_test, y_test) = pickle.load(dataset_file, encoding='latin1')\n",
    "        dataset= pickle.load(dataset_file, encoding='latin1')"
   ]
  },
  {
   "cell_type": "code",
   "execution_count": 25,
   "id": "2bf2a59a",
   "metadata": {},
   "outputs": [],
   "source": [
    "df=pd.read_pickle(dataset_file_path)"
   ]
  },
  {
   "cell_type": "code",
   "execution_count": 5,
   "id": "5c612b8c",
   "metadata": {},
   "outputs": [],
   "source": [
    "eloss_items=['MMAT','MLBT']\n",
    "alpha_s_items=[0.2 ,0.3 ,0.4]\n",
    "q0_items=[1.5 ,2.0 ,2.5]"
   ]
  },
  {
   "cell_type": "code",
   "execution_count": 27,
   "id": "2cf20c7b",
   "metadata": {},
   "outputs": [
    {
     "data": {
      "text/plain": [
       "numpy.ndarray"
      ]
     },
     "metadata": {},
     "output_type": "display_data"
    },
    {
     "name": "stdout",
     "output_type": "stream",
     "text": [
      "30000\n"
     ]
    }
   ],
   "source": [
    "df_y=df[1]\n",
    "display(type(df_y))\n",
    "print(df_y.size)\n"
   ]
  },
  {
   "cell_type": "code",
   "execution_count": 28,
   "id": "739ac6e6",
   "metadata": {},
   "outputs": [],
   "source": [
    "df_y = pd.DataFrame(df_y)\n"
   ]
  },
  {
   "cell_type": "code",
   "execution_count": 29,
   "id": "b849d9b7",
   "metadata": {},
   "outputs": [
    {
     "data": {
      "text/html": [
       "<div>\n",
       "<style scoped>\n",
       "    .dataframe tbody tr th:only-of-type {\n",
       "        vertical-align: middle;\n",
       "    }\n",
       "\n",
       "    .dataframe tbody tr th {\n",
       "        vertical-align: top;\n",
       "    }\n",
       "\n",
       "    .dataframe thead th {\n",
       "        text-align: right;\n",
       "    }\n",
       "</style>\n",
       "<table border=\"1\" class=\"dataframe\">\n",
       "  <thead>\n",
       "    <tr style=\"text-align: right;\">\n",
       "      <th></th>\n",
       "      <th>0</th>\n",
       "      <th>1</th>\n",
       "      <th>2</th>\n",
       "    </tr>\n",
       "  </thead>\n",
       "  <tbody>\n",
       "    <tr>\n",
       "      <th>0</th>\n",
       "      <td>MLBT</td>\n",
       "      <td>0.4</td>\n",
       "      <td>2.5</td>\n",
       "    </tr>\n",
       "    <tr>\n",
       "      <th>1</th>\n",
       "      <td>MLBT</td>\n",
       "      <td>0.4</td>\n",
       "      <td>2.5</td>\n",
       "    </tr>\n",
       "    <tr>\n",
       "      <th>2</th>\n",
       "      <td>MLBT</td>\n",
       "      <td>0.2</td>\n",
       "      <td>2.5</td>\n",
       "    </tr>\n",
       "    <tr>\n",
       "      <th>3</th>\n",
       "      <td>MMAT</td>\n",
       "      <td>0.4</td>\n",
       "      <td>1</td>\n",
       "    </tr>\n",
       "    <tr>\n",
       "      <th>4</th>\n",
       "      <td>MMAT</td>\n",
       "      <td>0.4</td>\n",
       "      <td>1</td>\n",
       "    </tr>\n",
       "    <tr>\n",
       "      <th>...</th>\n",
       "      <td>...</td>\n",
       "      <td>...</td>\n",
       "      <td>...</td>\n",
       "    </tr>\n",
       "    <tr>\n",
       "      <th>9995</th>\n",
       "      <td>MLBT</td>\n",
       "      <td>0.4</td>\n",
       "      <td>1.5</td>\n",
       "    </tr>\n",
       "    <tr>\n",
       "      <th>9996</th>\n",
       "      <td>MLBT</td>\n",
       "      <td>0.2</td>\n",
       "      <td>2.0</td>\n",
       "    </tr>\n",
       "    <tr>\n",
       "      <th>9997</th>\n",
       "      <td>MLBT</td>\n",
       "      <td>0.3</td>\n",
       "      <td>2.0</td>\n",
       "    </tr>\n",
       "    <tr>\n",
       "      <th>9998</th>\n",
       "      <td>MMAT</td>\n",
       "      <td>0.2</td>\n",
       "      <td>1</td>\n",
       "    </tr>\n",
       "    <tr>\n",
       "      <th>9999</th>\n",
       "      <td>MMAT</td>\n",
       "      <td>0.3</td>\n",
       "      <td>1</td>\n",
       "    </tr>\n",
       "  </tbody>\n",
       "</table>\n",
       "<p>10000 rows × 3 columns</p>\n",
       "</div>"
      ],
      "text/plain": [
       "         0    1    2\n",
       "0     MLBT  0.4  2.5\n",
       "1     MLBT  0.4  2.5\n",
       "2     MLBT  0.2  2.5\n",
       "3     MMAT  0.4    1\n",
       "4     MMAT  0.4    1\n",
       "...    ...  ...  ...\n",
       "9995  MLBT  0.4  1.5\n",
       "9996  MLBT  0.2  2.0\n",
       "9997  MLBT  0.3  2.0\n",
       "9998  MMAT  0.2    1\n",
       "9999  MMAT  0.3    1\n",
       "\n",
       "[10000 rows x 3 columns]"
      ]
     },
     "metadata": {},
     "output_type": "display_data"
    }
   ],
   "source": [
    "display(df_y)"
   ]
  },
  {
   "cell_type": "code",
   "execution_count": 31,
   "id": "a1bab8ce",
   "metadata": {},
   "outputs": [
    {
     "data": {
      "text/plain": [
       "0       0.4\n",
       "1       0.4\n",
       "2       0.2\n",
       "3       0.4\n",
       "4       0.4\n",
       "       ... \n",
       "9995    0.4\n",
       "9996    0.2\n",
       "9997    0.3\n",
       "9998    0.2\n",
       "9999    0.3\n",
       "Name: 1, Length: 10000, dtype: object"
      ]
     },
     "execution_count": 31,
     "metadata": {},
     "output_type": "execute_result"
    }
   ],
   "source": [
    "df_y[1]"
   ]
  },
  {
   "cell_type": "code",
   "execution_count": 32,
   "id": "edb8035d",
   "metadata": {},
   "outputs": [
    {
     "name": "stdout",
     "output_type": "stream",
     "text": [
      "   alpha_s_0.2  alpha_s_0.3  alpha_s_0.4\n",
      "0            0            0            1\n",
      "1            0            0            1\n",
      "2            1            0            0\n",
      "3            0            0            1\n",
      "4            0            0            1\n",
      "5            0            1            0\n",
      "6            0            0            1\n",
      "7            0            1            0\n",
      "8            0            0            1\n",
      "9            0            0            1\n",
      "30000\n",
      "<class 'pandas.core.frame.DataFrame'>\n",
      "<class 'pandas.core.frame.DataFrame'>\n"
     ]
    }
   ],
   "source": [
    "alpha_s_dummies=pd.get_dummies(df_y[1], prefix='alpha_s',dtype=int)\n",
    "print(alpha_s_dummies[0:10])\n",
    "print(alpha_s_dummies.size)\n",
    "df_y=pd.concat([df_y,alpha_s_dummies],axis=1)\n",
    "print(type(df_y))\n",
    "print(type(alpha_s_dummies))"
   ]
  },
  {
   "cell_type": "code",
   "execution_count": 39,
   "id": "cc2e9cbc",
   "metadata": {},
   "outputs": [
    {
     "data": {
      "text/plain": [
       "array([[0, 0, 1],\n",
       "       [0, 0, 1],\n",
       "       [1, 0, 0],\n",
       "       ...,\n",
       "       [0, 1, 0],\n",
       "       [1, 0, 0],\n",
       "       [0, 1, 0]])"
      ]
     },
     "metadata": {},
     "output_type": "display_data"
    }
   ],
   "source": [
    "y=alpha_s_dummies.values\n",
    "display(y)"
   ]
  },
  {
   "cell_type": "code",
   "execution_count": 36,
   "id": "38012e2b",
   "metadata": {},
   "outputs": [
    {
     "name": "stdout",
     "output_type": "stream",
     "text": [
      "(10000, 32, 32) <class 'numpy.ndarray'>\n"
     ]
    },
    {
     "data": {
      "text/plain": [
       "array([[[0.       , 0.       , 0.       , ..., 0.       , 0.       ,\n",
       "         0.       ],\n",
       "        [0.       , 0.       , 0.       , ..., 0.       , 0.       ,\n",
       "         0.       ],\n",
       "        [0.       , 0.       , 0.       , ..., 0.       , 0.       ,\n",
       "         0.       ],\n",
       "        ...,\n",
       "        [0.       , 0.       , 0.       , ..., 0.       , 0.       ,\n",
       "         0.       ],\n",
       "        [0.       , 0.       , 0.       , ..., 0.       , 0.       ,\n",
       "         0.       ],\n",
       "        [0.       , 0.       , 0.       , ..., 0.       , 0.       ,\n",
       "         0.       ]],\n",
       "\n",
       "       [[0.       , 0.       , 0.       , ..., 0.       , 0.0295267,\n",
       "         0.       ],\n",
       "        [0.       , 0.       , 0.       , ..., 0.       , 0.       ,\n",
       "         0.       ],\n",
       "        [0.       , 0.       , 0.       , ..., 0.       , 0.       ,\n",
       "         0.       ],\n",
       "        ...,\n",
       "        [0.       , 0.       , 0.       , ..., 0.       , 0.       ,\n",
       "         0.       ],\n",
       "        [0.       , 0.       , 0.       , ..., 0.       , 0.       ,\n",
       "         0.       ],\n",
       "        [0.       , 0.       , 0.       , ..., 0.       , 0.       ,\n",
       "         0.       ]],\n",
       "\n",
       "       [[0.       , 0.       , 0.       , ..., 0.       , 0.       ,\n",
       "         0.0857442],\n",
       "        [0.0729852, 0.       , 0.       , ..., 0.       , 0.       ,\n",
       "         0.       ],\n",
       "        [0.       , 0.       , 0.       , ..., 0.       , 0.       ,\n",
       "         0.       ],\n",
       "        ...,\n",
       "        [0.       , 0.       , 0.       , ..., 0.       , 0.       ,\n",
       "         0.       ],\n",
       "        [0.       , 0.       , 0.       , ..., 0.       , 0.       ,\n",
       "         0.       ],\n",
       "        [0.       , 0.       , 0.       , ..., 0.       , 0.       ,\n",
       "         0.       ]],\n",
       "\n",
       "       ...,\n",
       "\n",
       "       [[0.       , 0.       , 0.       , ..., 0.       , 0.       ,\n",
       "         0.       ],\n",
       "        [0.       , 0.       , 0.       , ..., 0.       , 0.       ,\n",
       "         0.       ],\n",
       "        [0.       , 0.       , 0.       , ..., 0.       , 0.       ,\n",
       "         0.       ],\n",
       "        ...,\n",
       "        [0.       , 0.       , 0.       , ..., 0.       , 0.       ,\n",
       "         0.       ],\n",
       "        [0.       , 0.       , 0.       , ..., 0.       , 0.       ,\n",
       "         0.       ],\n",
       "        [0.0129783, 0.       , 0.       , ..., 0.       , 0.       ,\n",
       "         0.       ]],\n",
       "\n",
       "       [[0.       , 0.       , 0.       , ..., 0.       , 0.       ,\n",
       "         0.       ],\n",
       "        [0.       , 0.       , 0.       , ..., 0.       , 0.       ,\n",
       "         0.       ],\n",
       "        [0.       , 0.       , 0.       , ..., 0.       , 0.       ,\n",
       "         0.       ],\n",
       "        ...,\n",
       "        [0.       , 0.       , 0.       , ..., 0.       , 0.       ,\n",
       "         0.       ],\n",
       "        [0.       , 0.       , 0.       , ..., 0.       , 0.       ,\n",
       "         0.       ],\n",
       "        [0.       , 0.       , 0.       , ..., 0.       , 0.       ,\n",
       "         0.       ]],\n",
       "\n",
       "       [[0.       , 0.       , 0.       , ..., 0.       , 0.       ,\n",
       "         0.       ],\n",
       "        [0.       , 0.       , 0.       , ..., 0.       , 0.       ,\n",
       "         0.       ],\n",
       "        [0.       , 0.       , 0.       , ..., 0.       , 0.       ,\n",
       "         0.       ],\n",
       "        ...,\n",
       "        [0.       , 0.       , 0.       , ..., 0.       , 0.       ,\n",
       "         0.       ],\n",
       "        [0.       , 0.       , 0.       , ..., 0.       , 0.       ,\n",
       "         0.       ],\n",
       "        [0.       , 0.       , 0.       , ..., 0.       , 0.       ,\n",
       "         0.       ]]])"
      ]
     },
     "metadata": {},
     "output_type": "display_data"
    }
   ],
   "source": [
    "x=df[0]\n",
    "print(x.shape,type(x))\n",
    "display(x)\n"
   ]
  },
  {
   "cell_type": "code",
   "execution_count": 41,
   "id": "2bc91ccf",
   "metadata": {},
   "outputs": [
    {
     "name": "stdout",
     "output_type": "stream",
     "text": [
      "\n",
      "#############################################################\n",
      "Defining Validation Dataset from Train Dataset:\n",
      "\n",
      "Train data info:\n",
      "<class 'numpy.ndarray'> 22500 (7500, 3)\n",
      "<class 'numpy.ndarray'> 7680000 (7500, 32, 32)\n",
      "\n",
      "Test data info:\n",
      "<class 'numpy.ndarray'> 7500 (2500, 3)\n",
      "<class 'numpy.ndarray'> 2560000 (2500, 32, 32)\n",
      "#############################################################\n",
      "\n"
     ]
    }
   ],
   "source": [
    "from sklearn.model_selection import train_test_split\n",
    "# Split into train/test\n",
    "x_train, x_test, y_train, y_test = train_test_split(    \n",
    "    x, y, test_size=0.25, random_state=42)\n",
    "\n",
    "print(\"\\n#############################################################\")\n",
    "print(\"Defining Validation Dataset from Train Dataset:\")\n",
    "\n",
    "print(\"\\nTrain data info:\")\n",
    "print(type(y_train), y_train.size, y_train.shape)\n",
    "print(type(x_train), x_train.size, x_train.shape)\n",
    "\n",
    "print(\"\\nTest data info:\")\n",
    "print(type(y_test), y_test.size, y_test.shape)\n",
    "print(type(x_test), x_test.size, x_test.shape)\n",
    "print(\"#############################################################\\n\")"
   ]
  },
  {
   "cell_type": "code",
   "execution_count": 59,
   "id": "17039bdf",
   "metadata": {},
   "outputs": [
    {
     "name": "stdout",
     "output_type": "stream",
     "text": [
      "\n",
      "#############################################################\n",
      "Reshaping dataset X-side dimension to be fit in the defined convolutional :\n",
      "\n",
      "X train:\n",
      "(7500, 32, 32)\n",
      "7500 32 32\n",
      "(7500, 32, 32, 1)\n",
      "\n",
      "X test:\n",
      "(2500, 32, 32)\n",
      "2500 32 32\n",
      "(2500, 32, 32, 1)\n",
      "#############################################################\n",
      "\n"
     ]
    }
   ],
   "source": [
    "print(\"\\n#############################################################\")\n",
    "print(\"Reshaping dataset X-side dimension to be fit in the defined convolutional :\")\n",
    "\n",
    "print(\"\\nX train:\")\n",
    "print(x_train.shape)\n",
    "print (x_train.shape[0],x_train.shape[1],x_train.shape[2])\n",
    "x_train_reshaped=x_train.reshape(x_train.shape[0],x_train.shape[1],x_train.shape[2],1)\n",
    "print(x_train_reshaped.shape)\n",
    "\n",
    "print(\"\\nX test:\")\n",
    "print(x_test.shape)\n",
    "print (x_test.shape[0],x_test.shape[1],x_test.shape[2])\n",
    "x_test_reshaped=x_test.reshape(x_test.shape[0],x_test.shape[1],x_test.shape[2],1)\n",
    "print(x_test_reshaped.shape)\n",
    "print(\"#############################################################\\n\")\n"
   ]
  },
  {
   "cell_type": "code",
   "execution_count": 68,
   "id": "fb567fbb",
   "metadata": {},
   "outputs": [],
   "source": [
    "from tensorflow.keras.models import Sequential, load_model\n",
    "from tensorflow.keras.layers import Dense, Dropout, LeakyReLU\n",
    "from tensorflow.keras.layers import Conv2D, MaxPool2D, BatchNormalization, Flatten\n",
    "from tensorflow.keras.callbacks import EarlyStopping, ReduceLROnPlateau, ModelCheckpoint\n",
    "from tensorflow.keras.regularizers import l2\n",
    "from tensorflow.keras.optimizers import Adam, Adagrad\n",
    "\n",
    "\n",
    "def get_callbacks(monitor, save_dir):\n",
    "    mode = None\n",
    "    if 'loss' in monitor:\n",
    "        mode = 'min'\n",
    "    elif 'accuracy' in monitor:\n",
    "        mode = 'max'\n",
    "    assert mode != None, 'Check the monitor parameter!'\n",
    "\n",
    "    # es = EarlyStopping(monitor=monitor, mode=mode, patience=10,\n",
    "    #                   min_delta=0., verbose=1)\n",
    "    es=EarlyStopping(monitor='val_loss', min_delta=1e-3, patience=5, \n",
    "                        verbose=1, mode='auto', restore_best_weights=True)\n",
    "    rlp = ReduceLROnPlateau(monitor=monitor, mode=mode, factor=0.2, patience=5,\n",
    "                            min_lr=0.001, verbose=1)\n",
    "    mcp = ModelCheckpoint(path.join(save_dir, 'hm_jetscape_ml_model_best.keras'), monitor=monitor, \n",
    "                          save_best_only=True, mode=mode, verbose=1)\n",
    "    \n",
    "    return [es, rlp, mcp]\n",
    "\n",
    "def conv2d_layer_block(prev_layer, filters, dropout_rate, input_shape=None):\n",
    "    if input_shape != None:\n",
    "        prev_layer.add(Conv2D(filters=filters, kernel_size=5,\n",
    "                              kernel_initializer='he_uniform',\n",
    "                              padding='same',\n",
    "                              activation='relu',\n",
    "                              kernel_regularizer=l2(l2=0.02),\n",
    "                              input_shape=input_shape\n",
    "                             )\n",
    "                      )\n",
    "    else:\n",
    "        prev_layer.add(Conv2D(filters=filters, kernel_size=5,\n",
    "                              kernel_initializer='he_uniform',\n",
    "                              padding='same',\n",
    "                              activation='relu',\n",
    "                              kernel_regularizer=l2(l2=0.02),\n",
    "                             )\n",
    "                      )\n",
    "    prev_layer.add(Conv2D(filters=filters, kernel_size=5,\n",
    "                              kernel_initializer='he_uniform',\n",
    "                              padding='same',\n",
    "                              activation='relu',\n",
    "                              kernel_regularizer=l2(l2=0.02)\n",
    "                             )\n",
    "                      )    \n",
    "    prev_layer.add(MaxPool2D(pool_size=(2, 2)))\n",
    "    prev_layer.add(Dropout(dropout_rate))\n",
    "    \n",
    "    return prev_layer\n",
    "\n",
    "def fc_layer_block(prev_layer, units, dropout_rate, last_layer=False):\n",
    "    if last_layer == False:\n",
    "        prev_layer.add(Dense(units, activation='relu',\n",
    "                             kernel_initializer='he_uniform',\n",
    "                             kernel_regularizer=l2(l2=0.02)\n",
    "                            )\n",
    "                      )\n",
    "        prev_layer.add(Dropout(dropout_rate))\n",
    "    else:\n",
    "        prev_layer.add(Dense(y.shape[1],activation='softmax'))\n",
    "\n",
    "    return prev_layer\n",
    "\n",
    "def CNN_model(input_shape, lr, dropout1, dropout2):\n",
    "    model = Sequential()\n",
    "    model = conv2d_layer_block(model, 256, dropout1,input_shape=input_shape)\n",
    "    model = conv2d_layer_block(model, 256, dropout1)\n",
    "    model = conv2d_layer_block(model, 256, dropout1)\n",
    "    model = conv2d_layer_block(model, 256, dropout1)\n",
    "    #model = conv2d_layer_block(model, 128, dropout1)\n",
    "    model.add(Flatten())\n",
    "    model = fc_layer_block(model, 1024, dropout2)\n",
    "    model = fc_layer_block(model, 1024, dropout2)\n",
    "    model = fc_layer_block(model, 1024, dropout2)\n",
    "    model = fc_layer_block(model, 1024, dropout2)\n",
    "    model = fc_layer_block(model, 1, None, last_layer=True)\n",
    "    \n",
    "    optimizer = Adam(learning_rate=lr)\n",
    "    model.compile(loss='categorical_crossentropy', optimizer=optimizer,\n",
    "                  metrics=['accuracy'])\n",
    "    \n",
    "    return model"
   ]
  },
  {
   "cell_type": "code",
   "execution_count": 63,
   "id": "725740a8",
   "metadata": {},
   "outputs": [],
   "source": [
    "## parameers for training\n",
    "n_epochs = 100\n",
    "# n_epochs=2\n",
    "batch_size = 256\n",
    "input_shape = x_train_reshaped.shape[1:]\n",
    "monitor='val_accuracy' #'val_accuracy' or 'val_loss'\n",
    "lr = 5e-6\n",
    "dropout1, dropout2 = 0.2, 0.2"
   ]
  },
  {
   "cell_type": "code",
   "execution_count": 47,
   "id": "32c2a928",
   "metadata": {},
   "outputs": [
    {
     "data": {
      "text/plain": [
       "(32, 32)"
      ]
     },
     "metadata": {},
     "output_type": "display_data"
    }
   ],
   "source": [
    "display(input_shape)"
   ]
  },
  {
   "cell_type": "code",
   "execution_count": 49,
   "id": "9c267def",
   "metadata": {},
   "outputs": [
    {
     "name": "stdout",
     "output_type": "stream",
     "text": [
      "Directory to save models: G:\\My Drive\\Projects\\110_JetscapeMl\\hm_jetscapeml_data\\simulation_results\\\n"
     ]
    }
   ],
   "source": [
    "## create a directory to save the best model\n",
    "\n",
    "save_dir = (simulation_directory_path)\n",
    "if not path.exists(save_dir):\n",
    "    makedirs(save_dir)\n",
    "print('Directory to save models: {}'.format(save_dir))"
   ]
  },
  {
   "cell_type": "code",
   "execution_count": 70,
   "id": "37ee9357",
   "metadata": {},
   "outputs": [
    {
     "data": {
      "text/html": [
       "<pre style=\"white-space:pre;overflow-x:auto;line-height:normal;font-family:Menlo,'DejaVu Sans Mono',consolas,'Courier New',monospace\"><span style=\"font-weight: bold\">Model: \"sequential_9\"</span>\n",
       "</pre>\n"
      ],
      "text/plain": [
       "\u001b[1mModel: \"sequential_9\"\u001b[0m\n"
      ]
     },
     "metadata": {},
     "output_type": "display_data"
    },
    {
     "data": {
      "text/html": [
       "<pre style=\"white-space:pre;overflow-x:auto;line-height:normal;font-family:Menlo,'DejaVu Sans Mono',consolas,'Courier New',monospace\">┏━━━━━━━━━━━━━━━━━━━━━━━━━━━━━━━━━┳━━━━━━━━━━━━━━━━━━━━━━━━┳━━━━━━━━━━━━━━━┓\n",
       "┃<span style=\"font-weight: bold\"> Layer (type)                    </span>┃<span style=\"font-weight: bold\"> Output Shape           </span>┃<span style=\"font-weight: bold\">       Param # </span>┃\n",
       "┡━━━━━━━━━━━━━━━━━━━━━━━━━━━━━━━━━╇━━━━━━━━━━━━━━━━━━━━━━━━╇━━━━━━━━━━━━━━━┩\n",
       "│ conv2d_27 (<span style=\"color: #0087ff; text-decoration-color: #0087ff\">Conv2D</span>)              │ (<span style=\"color: #00d7ff; text-decoration-color: #00d7ff\">None</span>, <span style=\"color: #00af00; text-decoration-color: #00af00\">32</span>, <span style=\"color: #00af00; text-decoration-color: #00af00\">32</span>, <span style=\"color: #00af00; text-decoration-color: #00af00\">256</span>)    │         <span style=\"color: #00af00; text-decoration-color: #00af00\">6,656</span> │\n",
       "├─────────────────────────────────┼────────────────────────┼───────────────┤\n",
       "│ conv2d_28 (<span style=\"color: #0087ff; text-decoration-color: #0087ff\">Conv2D</span>)              │ (<span style=\"color: #00d7ff; text-decoration-color: #00d7ff\">None</span>, <span style=\"color: #00af00; text-decoration-color: #00af00\">32</span>, <span style=\"color: #00af00; text-decoration-color: #00af00\">32</span>, <span style=\"color: #00af00; text-decoration-color: #00af00\">256</span>)    │     <span style=\"color: #00af00; text-decoration-color: #00af00\">1,638,656</span> │\n",
       "├─────────────────────────────────┼────────────────────────┼───────────────┤\n",
       "│ max_pooling2d_12 (<span style=\"color: #0087ff; text-decoration-color: #0087ff\">MaxPooling2D</span>) │ (<span style=\"color: #00d7ff; text-decoration-color: #00d7ff\">None</span>, <span style=\"color: #00af00; text-decoration-color: #00af00\">16</span>, <span style=\"color: #00af00; text-decoration-color: #00af00\">16</span>, <span style=\"color: #00af00; text-decoration-color: #00af00\">256</span>)    │             <span style=\"color: #00af00; text-decoration-color: #00af00\">0</span> │\n",
       "├─────────────────────────────────┼────────────────────────┼───────────────┤\n",
       "│ dropout_20 (<span style=\"color: #0087ff; text-decoration-color: #0087ff\">Dropout</span>)            │ (<span style=\"color: #00d7ff; text-decoration-color: #00d7ff\">None</span>, <span style=\"color: #00af00; text-decoration-color: #00af00\">16</span>, <span style=\"color: #00af00; text-decoration-color: #00af00\">16</span>, <span style=\"color: #00af00; text-decoration-color: #00af00\">256</span>)    │             <span style=\"color: #00af00; text-decoration-color: #00af00\">0</span> │\n",
       "├─────────────────────────────────┼────────────────────────┼───────────────┤\n",
       "│ conv2d_29 (<span style=\"color: #0087ff; text-decoration-color: #0087ff\">Conv2D</span>)              │ (<span style=\"color: #00d7ff; text-decoration-color: #00d7ff\">None</span>, <span style=\"color: #00af00; text-decoration-color: #00af00\">16</span>, <span style=\"color: #00af00; text-decoration-color: #00af00\">16</span>, <span style=\"color: #00af00; text-decoration-color: #00af00\">256</span>)    │     <span style=\"color: #00af00; text-decoration-color: #00af00\">1,638,656</span> │\n",
       "├─────────────────────────────────┼────────────────────────┼───────────────┤\n",
       "│ conv2d_30 (<span style=\"color: #0087ff; text-decoration-color: #0087ff\">Conv2D</span>)              │ (<span style=\"color: #00d7ff; text-decoration-color: #00d7ff\">None</span>, <span style=\"color: #00af00; text-decoration-color: #00af00\">16</span>, <span style=\"color: #00af00; text-decoration-color: #00af00\">16</span>, <span style=\"color: #00af00; text-decoration-color: #00af00\">256</span>)    │     <span style=\"color: #00af00; text-decoration-color: #00af00\">1,638,656</span> │\n",
       "├─────────────────────────────────┼────────────────────────┼───────────────┤\n",
       "│ max_pooling2d_13 (<span style=\"color: #0087ff; text-decoration-color: #0087ff\">MaxPooling2D</span>) │ (<span style=\"color: #00d7ff; text-decoration-color: #00d7ff\">None</span>, <span style=\"color: #00af00; text-decoration-color: #00af00\">8</span>, <span style=\"color: #00af00; text-decoration-color: #00af00\">8</span>, <span style=\"color: #00af00; text-decoration-color: #00af00\">256</span>)      │             <span style=\"color: #00af00; text-decoration-color: #00af00\">0</span> │\n",
       "├─────────────────────────────────┼────────────────────────┼───────────────┤\n",
       "│ dropout_21 (<span style=\"color: #0087ff; text-decoration-color: #0087ff\">Dropout</span>)            │ (<span style=\"color: #00d7ff; text-decoration-color: #00d7ff\">None</span>, <span style=\"color: #00af00; text-decoration-color: #00af00\">8</span>, <span style=\"color: #00af00; text-decoration-color: #00af00\">8</span>, <span style=\"color: #00af00; text-decoration-color: #00af00\">256</span>)      │             <span style=\"color: #00af00; text-decoration-color: #00af00\">0</span> │\n",
       "├─────────────────────────────────┼────────────────────────┼───────────────┤\n",
       "│ conv2d_31 (<span style=\"color: #0087ff; text-decoration-color: #0087ff\">Conv2D</span>)              │ (<span style=\"color: #00d7ff; text-decoration-color: #00d7ff\">None</span>, <span style=\"color: #00af00; text-decoration-color: #00af00\">8</span>, <span style=\"color: #00af00; text-decoration-color: #00af00\">8</span>, <span style=\"color: #00af00; text-decoration-color: #00af00\">256</span>)      │     <span style=\"color: #00af00; text-decoration-color: #00af00\">1,638,656</span> │\n",
       "├─────────────────────────────────┼────────────────────────┼───────────────┤\n",
       "│ conv2d_32 (<span style=\"color: #0087ff; text-decoration-color: #0087ff\">Conv2D</span>)              │ (<span style=\"color: #00d7ff; text-decoration-color: #00d7ff\">None</span>, <span style=\"color: #00af00; text-decoration-color: #00af00\">8</span>, <span style=\"color: #00af00; text-decoration-color: #00af00\">8</span>, <span style=\"color: #00af00; text-decoration-color: #00af00\">256</span>)      │     <span style=\"color: #00af00; text-decoration-color: #00af00\">1,638,656</span> │\n",
       "├─────────────────────────────────┼────────────────────────┼───────────────┤\n",
       "│ max_pooling2d_14 (<span style=\"color: #0087ff; text-decoration-color: #0087ff\">MaxPooling2D</span>) │ (<span style=\"color: #00d7ff; text-decoration-color: #00d7ff\">None</span>, <span style=\"color: #00af00; text-decoration-color: #00af00\">4</span>, <span style=\"color: #00af00; text-decoration-color: #00af00\">4</span>, <span style=\"color: #00af00; text-decoration-color: #00af00\">256</span>)      │             <span style=\"color: #00af00; text-decoration-color: #00af00\">0</span> │\n",
       "├─────────────────────────────────┼────────────────────────┼───────────────┤\n",
       "│ dropout_22 (<span style=\"color: #0087ff; text-decoration-color: #0087ff\">Dropout</span>)            │ (<span style=\"color: #00d7ff; text-decoration-color: #00d7ff\">None</span>, <span style=\"color: #00af00; text-decoration-color: #00af00\">4</span>, <span style=\"color: #00af00; text-decoration-color: #00af00\">4</span>, <span style=\"color: #00af00; text-decoration-color: #00af00\">256</span>)      │             <span style=\"color: #00af00; text-decoration-color: #00af00\">0</span> │\n",
       "├─────────────────────────────────┼────────────────────────┼───────────────┤\n",
       "│ conv2d_33 (<span style=\"color: #0087ff; text-decoration-color: #0087ff\">Conv2D</span>)              │ (<span style=\"color: #00d7ff; text-decoration-color: #00d7ff\">None</span>, <span style=\"color: #00af00; text-decoration-color: #00af00\">4</span>, <span style=\"color: #00af00; text-decoration-color: #00af00\">4</span>, <span style=\"color: #00af00; text-decoration-color: #00af00\">256</span>)      │     <span style=\"color: #00af00; text-decoration-color: #00af00\">1,638,656</span> │\n",
       "├─────────────────────────────────┼────────────────────────┼───────────────┤\n",
       "│ conv2d_34 (<span style=\"color: #0087ff; text-decoration-color: #0087ff\">Conv2D</span>)              │ (<span style=\"color: #00d7ff; text-decoration-color: #00d7ff\">None</span>, <span style=\"color: #00af00; text-decoration-color: #00af00\">4</span>, <span style=\"color: #00af00; text-decoration-color: #00af00\">4</span>, <span style=\"color: #00af00; text-decoration-color: #00af00\">256</span>)      │     <span style=\"color: #00af00; text-decoration-color: #00af00\">1,638,656</span> │\n",
       "├─────────────────────────────────┼────────────────────────┼───────────────┤\n",
       "│ max_pooling2d_15 (<span style=\"color: #0087ff; text-decoration-color: #0087ff\">MaxPooling2D</span>) │ (<span style=\"color: #00d7ff; text-decoration-color: #00d7ff\">None</span>, <span style=\"color: #00af00; text-decoration-color: #00af00\">2</span>, <span style=\"color: #00af00; text-decoration-color: #00af00\">2</span>, <span style=\"color: #00af00; text-decoration-color: #00af00\">256</span>)      │             <span style=\"color: #00af00; text-decoration-color: #00af00\">0</span> │\n",
       "├─────────────────────────────────┼────────────────────────┼───────────────┤\n",
       "│ dropout_23 (<span style=\"color: #0087ff; text-decoration-color: #0087ff\">Dropout</span>)            │ (<span style=\"color: #00d7ff; text-decoration-color: #00d7ff\">None</span>, <span style=\"color: #00af00; text-decoration-color: #00af00\">2</span>, <span style=\"color: #00af00; text-decoration-color: #00af00\">2</span>, <span style=\"color: #00af00; text-decoration-color: #00af00\">256</span>)      │             <span style=\"color: #00af00; text-decoration-color: #00af00\">0</span> │\n",
       "├─────────────────────────────────┼────────────────────────┼───────────────┤\n",
       "│ flatten_3 (<span style=\"color: #0087ff; text-decoration-color: #0087ff\">Flatten</span>)             │ (<span style=\"color: #00d7ff; text-decoration-color: #00d7ff\">None</span>, <span style=\"color: #00af00; text-decoration-color: #00af00\">1024</span>)           │             <span style=\"color: #00af00; text-decoration-color: #00af00\">0</span> │\n",
       "├─────────────────────────────────┼────────────────────────┼───────────────┤\n",
       "│ dense_10 (<span style=\"color: #0087ff; text-decoration-color: #0087ff\">Dense</span>)                │ (<span style=\"color: #00d7ff; text-decoration-color: #00d7ff\">None</span>, <span style=\"color: #00af00; text-decoration-color: #00af00\">1024</span>)           │     <span style=\"color: #00af00; text-decoration-color: #00af00\">1,049,600</span> │\n",
       "├─────────────────────────────────┼────────────────────────┼───────────────┤\n",
       "│ dropout_24 (<span style=\"color: #0087ff; text-decoration-color: #0087ff\">Dropout</span>)            │ (<span style=\"color: #00d7ff; text-decoration-color: #00d7ff\">None</span>, <span style=\"color: #00af00; text-decoration-color: #00af00\">1024</span>)           │             <span style=\"color: #00af00; text-decoration-color: #00af00\">0</span> │\n",
       "├─────────────────────────────────┼────────────────────────┼───────────────┤\n",
       "│ dense_11 (<span style=\"color: #0087ff; text-decoration-color: #0087ff\">Dense</span>)                │ (<span style=\"color: #00d7ff; text-decoration-color: #00d7ff\">None</span>, <span style=\"color: #00af00; text-decoration-color: #00af00\">1024</span>)           │     <span style=\"color: #00af00; text-decoration-color: #00af00\">1,049,600</span> │\n",
       "├─────────────────────────────────┼────────────────────────┼───────────────┤\n",
       "│ dropout_25 (<span style=\"color: #0087ff; text-decoration-color: #0087ff\">Dropout</span>)            │ (<span style=\"color: #00d7ff; text-decoration-color: #00d7ff\">None</span>, <span style=\"color: #00af00; text-decoration-color: #00af00\">1024</span>)           │             <span style=\"color: #00af00; text-decoration-color: #00af00\">0</span> │\n",
       "├─────────────────────────────────┼────────────────────────┼───────────────┤\n",
       "│ dense_12 (<span style=\"color: #0087ff; text-decoration-color: #0087ff\">Dense</span>)                │ (<span style=\"color: #00d7ff; text-decoration-color: #00d7ff\">None</span>, <span style=\"color: #00af00; text-decoration-color: #00af00\">1024</span>)           │     <span style=\"color: #00af00; text-decoration-color: #00af00\">1,049,600</span> │\n",
       "├─────────────────────────────────┼────────────────────────┼───────────────┤\n",
       "│ dropout_26 (<span style=\"color: #0087ff; text-decoration-color: #0087ff\">Dropout</span>)            │ (<span style=\"color: #00d7ff; text-decoration-color: #00d7ff\">None</span>, <span style=\"color: #00af00; text-decoration-color: #00af00\">1024</span>)           │             <span style=\"color: #00af00; text-decoration-color: #00af00\">0</span> │\n",
       "├─────────────────────────────────┼────────────────────────┼───────────────┤\n",
       "│ dense_13 (<span style=\"color: #0087ff; text-decoration-color: #0087ff\">Dense</span>)                │ (<span style=\"color: #00d7ff; text-decoration-color: #00d7ff\">None</span>, <span style=\"color: #00af00; text-decoration-color: #00af00\">1024</span>)           │     <span style=\"color: #00af00; text-decoration-color: #00af00\">1,049,600</span> │\n",
       "├─────────────────────────────────┼────────────────────────┼───────────────┤\n",
       "│ dropout_27 (<span style=\"color: #0087ff; text-decoration-color: #0087ff\">Dropout</span>)            │ (<span style=\"color: #00d7ff; text-decoration-color: #00d7ff\">None</span>, <span style=\"color: #00af00; text-decoration-color: #00af00\">1024</span>)           │             <span style=\"color: #00af00; text-decoration-color: #00af00\">0</span> │\n",
       "├─────────────────────────────────┼────────────────────────┼───────────────┤\n",
       "│ dense_14 (<span style=\"color: #0087ff; text-decoration-color: #0087ff\">Dense</span>)                │ (<span style=\"color: #00d7ff; text-decoration-color: #00d7ff\">None</span>, <span style=\"color: #00af00; text-decoration-color: #00af00\">3</span>)              │         <span style=\"color: #00af00; text-decoration-color: #00af00\">3,075</span> │\n",
       "└─────────────────────────────────┴────────────────────────┴───────────────┘\n",
       "</pre>\n"
      ],
      "text/plain": [
       "┏━━━━━━━━━━━━━━━━━━━━━━━━━━━━━━━━━┳━━━━━━━━━━━━━━━━━━━━━━━━┳━━━━━━━━━━━━━━━┓\n",
       "┃\u001b[1m \u001b[0m\u001b[1mLayer (type)                   \u001b[0m\u001b[1m \u001b[0m┃\u001b[1m \u001b[0m\u001b[1mOutput Shape          \u001b[0m\u001b[1m \u001b[0m┃\u001b[1m \u001b[0m\u001b[1m      Param #\u001b[0m\u001b[1m \u001b[0m┃\n",
       "┡━━━━━━━━━━━━━━━━━━━━━━━━━━━━━━━━━╇━━━━━━━━━━━━━━━━━━━━━━━━╇━━━━━━━━━━━━━━━┩\n",
       "│ conv2d_27 (\u001b[38;5;33mConv2D\u001b[0m)              │ (\u001b[38;5;45mNone\u001b[0m, \u001b[38;5;34m32\u001b[0m, \u001b[38;5;34m32\u001b[0m, \u001b[38;5;34m256\u001b[0m)    │         \u001b[38;5;34m6,656\u001b[0m │\n",
       "├─────────────────────────────────┼────────────────────────┼───────────────┤\n",
       "│ conv2d_28 (\u001b[38;5;33mConv2D\u001b[0m)              │ (\u001b[38;5;45mNone\u001b[0m, \u001b[38;5;34m32\u001b[0m, \u001b[38;5;34m32\u001b[0m, \u001b[38;5;34m256\u001b[0m)    │     \u001b[38;5;34m1,638,656\u001b[0m │\n",
       "├─────────────────────────────────┼────────────────────────┼───────────────┤\n",
       "│ max_pooling2d_12 (\u001b[38;5;33mMaxPooling2D\u001b[0m) │ (\u001b[38;5;45mNone\u001b[0m, \u001b[38;5;34m16\u001b[0m, \u001b[38;5;34m16\u001b[0m, \u001b[38;5;34m256\u001b[0m)    │             \u001b[38;5;34m0\u001b[0m │\n",
       "├─────────────────────────────────┼────────────────────────┼───────────────┤\n",
       "│ dropout_20 (\u001b[38;5;33mDropout\u001b[0m)            │ (\u001b[38;5;45mNone\u001b[0m, \u001b[38;5;34m16\u001b[0m, \u001b[38;5;34m16\u001b[0m, \u001b[38;5;34m256\u001b[0m)    │             \u001b[38;5;34m0\u001b[0m │\n",
       "├─────────────────────────────────┼────────────────────────┼───────────────┤\n",
       "│ conv2d_29 (\u001b[38;5;33mConv2D\u001b[0m)              │ (\u001b[38;5;45mNone\u001b[0m, \u001b[38;5;34m16\u001b[0m, \u001b[38;5;34m16\u001b[0m, \u001b[38;5;34m256\u001b[0m)    │     \u001b[38;5;34m1,638,656\u001b[0m │\n",
       "├─────────────────────────────────┼────────────────────────┼───────────────┤\n",
       "│ conv2d_30 (\u001b[38;5;33mConv2D\u001b[0m)              │ (\u001b[38;5;45mNone\u001b[0m, \u001b[38;5;34m16\u001b[0m, \u001b[38;5;34m16\u001b[0m, \u001b[38;5;34m256\u001b[0m)    │     \u001b[38;5;34m1,638,656\u001b[0m │\n",
       "├─────────────────────────────────┼────────────────────────┼───────────────┤\n",
       "│ max_pooling2d_13 (\u001b[38;5;33mMaxPooling2D\u001b[0m) │ (\u001b[38;5;45mNone\u001b[0m, \u001b[38;5;34m8\u001b[0m, \u001b[38;5;34m8\u001b[0m, \u001b[38;5;34m256\u001b[0m)      │             \u001b[38;5;34m0\u001b[0m │\n",
       "├─────────────────────────────────┼────────────────────────┼───────────────┤\n",
       "│ dropout_21 (\u001b[38;5;33mDropout\u001b[0m)            │ (\u001b[38;5;45mNone\u001b[0m, \u001b[38;5;34m8\u001b[0m, \u001b[38;5;34m8\u001b[0m, \u001b[38;5;34m256\u001b[0m)      │             \u001b[38;5;34m0\u001b[0m │\n",
       "├─────────────────────────────────┼────────────────────────┼───────────────┤\n",
       "│ conv2d_31 (\u001b[38;5;33mConv2D\u001b[0m)              │ (\u001b[38;5;45mNone\u001b[0m, \u001b[38;5;34m8\u001b[0m, \u001b[38;5;34m8\u001b[0m, \u001b[38;5;34m256\u001b[0m)      │     \u001b[38;5;34m1,638,656\u001b[0m │\n",
       "├─────────────────────────────────┼────────────────────────┼───────────────┤\n",
       "│ conv2d_32 (\u001b[38;5;33mConv2D\u001b[0m)              │ (\u001b[38;5;45mNone\u001b[0m, \u001b[38;5;34m8\u001b[0m, \u001b[38;5;34m8\u001b[0m, \u001b[38;5;34m256\u001b[0m)      │     \u001b[38;5;34m1,638,656\u001b[0m │\n",
       "├─────────────────────────────────┼────────────────────────┼───────────────┤\n",
       "│ max_pooling2d_14 (\u001b[38;5;33mMaxPooling2D\u001b[0m) │ (\u001b[38;5;45mNone\u001b[0m, \u001b[38;5;34m4\u001b[0m, \u001b[38;5;34m4\u001b[0m, \u001b[38;5;34m256\u001b[0m)      │             \u001b[38;5;34m0\u001b[0m │\n",
       "├─────────────────────────────────┼────────────────────────┼───────────────┤\n",
       "│ dropout_22 (\u001b[38;5;33mDropout\u001b[0m)            │ (\u001b[38;5;45mNone\u001b[0m, \u001b[38;5;34m4\u001b[0m, \u001b[38;5;34m4\u001b[0m, \u001b[38;5;34m256\u001b[0m)      │             \u001b[38;5;34m0\u001b[0m │\n",
       "├─────────────────────────────────┼────────────────────────┼───────────────┤\n",
       "│ conv2d_33 (\u001b[38;5;33mConv2D\u001b[0m)              │ (\u001b[38;5;45mNone\u001b[0m, \u001b[38;5;34m4\u001b[0m, \u001b[38;5;34m4\u001b[0m, \u001b[38;5;34m256\u001b[0m)      │     \u001b[38;5;34m1,638,656\u001b[0m │\n",
       "├─────────────────────────────────┼────────────────────────┼───────────────┤\n",
       "│ conv2d_34 (\u001b[38;5;33mConv2D\u001b[0m)              │ (\u001b[38;5;45mNone\u001b[0m, \u001b[38;5;34m4\u001b[0m, \u001b[38;5;34m4\u001b[0m, \u001b[38;5;34m256\u001b[0m)      │     \u001b[38;5;34m1,638,656\u001b[0m │\n",
       "├─────────────────────────────────┼────────────────────────┼───────────────┤\n",
       "│ max_pooling2d_15 (\u001b[38;5;33mMaxPooling2D\u001b[0m) │ (\u001b[38;5;45mNone\u001b[0m, \u001b[38;5;34m2\u001b[0m, \u001b[38;5;34m2\u001b[0m, \u001b[38;5;34m256\u001b[0m)      │             \u001b[38;5;34m0\u001b[0m │\n",
       "├─────────────────────────────────┼────────────────────────┼───────────────┤\n",
       "│ dropout_23 (\u001b[38;5;33mDropout\u001b[0m)            │ (\u001b[38;5;45mNone\u001b[0m, \u001b[38;5;34m2\u001b[0m, \u001b[38;5;34m2\u001b[0m, \u001b[38;5;34m256\u001b[0m)      │             \u001b[38;5;34m0\u001b[0m │\n",
       "├─────────────────────────────────┼────────────────────────┼───────────────┤\n",
       "│ flatten_3 (\u001b[38;5;33mFlatten\u001b[0m)             │ (\u001b[38;5;45mNone\u001b[0m, \u001b[38;5;34m1024\u001b[0m)           │             \u001b[38;5;34m0\u001b[0m │\n",
       "├─────────────────────────────────┼────────────────────────┼───────────────┤\n",
       "│ dense_10 (\u001b[38;5;33mDense\u001b[0m)                │ (\u001b[38;5;45mNone\u001b[0m, \u001b[38;5;34m1024\u001b[0m)           │     \u001b[38;5;34m1,049,600\u001b[0m │\n",
       "├─────────────────────────────────┼────────────────────────┼───────────────┤\n",
       "│ dropout_24 (\u001b[38;5;33mDropout\u001b[0m)            │ (\u001b[38;5;45mNone\u001b[0m, \u001b[38;5;34m1024\u001b[0m)           │             \u001b[38;5;34m0\u001b[0m │\n",
       "├─────────────────────────────────┼────────────────────────┼───────────────┤\n",
       "│ dense_11 (\u001b[38;5;33mDense\u001b[0m)                │ (\u001b[38;5;45mNone\u001b[0m, \u001b[38;5;34m1024\u001b[0m)           │     \u001b[38;5;34m1,049,600\u001b[0m │\n",
       "├─────────────────────────────────┼────────────────────────┼───────────────┤\n",
       "│ dropout_25 (\u001b[38;5;33mDropout\u001b[0m)            │ (\u001b[38;5;45mNone\u001b[0m, \u001b[38;5;34m1024\u001b[0m)           │             \u001b[38;5;34m0\u001b[0m │\n",
       "├─────────────────────────────────┼────────────────────────┼───────────────┤\n",
       "│ dense_12 (\u001b[38;5;33mDense\u001b[0m)                │ (\u001b[38;5;45mNone\u001b[0m, \u001b[38;5;34m1024\u001b[0m)           │     \u001b[38;5;34m1,049,600\u001b[0m │\n",
       "├─────────────────────────────────┼────────────────────────┼───────────────┤\n",
       "│ dropout_26 (\u001b[38;5;33mDropout\u001b[0m)            │ (\u001b[38;5;45mNone\u001b[0m, \u001b[38;5;34m1024\u001b[0m)           │             \u001b[38;5;34m0\u001b[0m │\n",
       "├─────────────────────────────────┼────────────────────────┼───────────────┤\n",
       "│ dense_13 (\u001b[38;5;33mDense\u001b[0m)                │ (\u001b[38;5;45mNone\u001b[0m, \u001b[38;5;34m1024\u001b[0m)           │     \u001b[38;5;34m1,049,600\u001b[0m │\n",
       "├─────────────────────────────────┼────────────────────────┼───────────────┤\n",
       "│ dropout_27 (\u001b[38;5;33mDropout\u001b[0m)            │ (\u001b[38;5;45mNone\u001b[0m, \u001b[38;5;34m1024\u001b[0m)           │             \u001b[38;5;34m0\u001b[0m │\n",
       "├─────────────────────────────────┼────────────────────────┼───────────────┤\n",
       "│ dense_14 (\u001b[38;5;33mDense\u001b[0m)                │ (\u001b[38;5;45mNone\u001b[0m, \u001b[38;5;34m3\u001b[0m)              │         \u001b[38;5;34m3,075\u001b[0m │\n",
       "└─────────────────────────────────┴────────────────────────┴───────────────┘\n"
      ]
     },
     "metadata": {},
     "output_type": "display_data"
    },
    {
     "data": {
      "text/html": [
       "<pre style=\"white-space:pre;overflow-x:auto;line-height:normal;font-family:Menlo,'DejaVu Sans Mono',consolas,'Courier New',monospace\"><span style=\"font-weight: bold\"> Total params: </span><span style=\"color: #00af00; text-decoration-color: #00af00\">15,678,723</span> (59.81 MB)\n",
       "</pre>\n"
      ],
      "text/plain": [
       "\u001b[1m Total params: \u001b[0m\u001b[38;5;34m15,678,723\u001b[0m (59.81 MB)\n"
      ]
     },
     "metadata": {},
     "output_type": "display_data"
    },
    {
     "data": {
      "text/html": [
       "<pre style=\"white-space:pre;overflow-x:auto;line-height:normal;font-family:Menlo,'DejaVu Sans Mono',consolas,'Courier New',monospace\"><span style=\"font-weight: bold\"> Trainable params: </span><span style=\"color: #00af00; text-decoration-color: #00af00\">15,678,723</span> (59.81 MB)\n",
       "</pre>\n"
      ],
      "text/plain": [
       "\u001b[1m Trainable params: \u001b[0m\u001b[38;5;34m15,678,723\u001b[0m (59.81 MB)\n"
      ]
     },
     "metadata": {},
     "output_type": "display_data"
    },
    {
     "data": {
      "text/html": [
       "<pre style=\"white-space:pre;overflow-x:auto;line-height:normal;font-family:Menlo,'DejaVu Sans Mono',consolas,'Courier New',monospace\"><span style=\"font-weight: bold\"> Non-trainable params: </span><span style=\"color: #00af00; text-decoration-color: #00af00\">0</span> (0.00 B)\n",
       "</pre>\n"
      ],
      "text/plain": [
       "\u001b[1m Non-trainable params: \u001b[0m\u001b[38;5;34m0\u001b[0m (0.00 B)\n"
      ]
     },
     "metadata": {},
     "output_type": "display_data"
    }
   ],
   "source": [
    "model = CNN_model(input_shape, lr, dropout1, dropout2)\n",
    "callbacks = get_callbacks(monitor, save_dir)\n",
    "\n",
    "model.summary()\n"
   ]
  },
  {
   "cell_type": "code",
   "execution_count": 71,
   "id": "1427f807",
   "metadata": {},
   "outputs": [
    {
     "name": "stdout",
     "output_type": "stream",
     "text": [
      "Epoch 1/100\n"
     ]
    }
   ],
   "source": [
    "model.fit(x_train_reshaped,y_train,validation_data=(x_test_reshaped,y_test),\n",
    "          callbacks=callbacks,verbose=2,epochs=n_epochs)"
   ]
  },
  {
   "cell_type": "markdown",
   "id": "521e7f74",
   "metadata": {
    "id": "a6e6e723"
   },
   "source": [
    "## Normalizing the Dataset X\n",
    "For training the model, the dataset needs to be normalized, meaning all of the dataset values should me between zero and one. This can be done by finding the maximum values over the dataset X side values and devide all the element by it."
   ]
  },
  {
   "cell_type": "code",
   "execution_count": null,
   "id": "a17b1f6a",
   "metadata": {
    "colab": {
     "base_uri": "https://localhost:8080/"
    },
    "executionInfo": {
     "elapsed": 3448,
     "status": "ok",
     "timestamp": 1647464884207,
     "user": {
      "displayName": "Haydar Mehryar",
      "photoUrl": "https://lh3.googleusercontent.com/a-/AOh14GiV2PbrE4NQbmWZlQz1WDM6jCKRcmLwN1DLu24x5g=s64",
      "userId": "09990703679773155769"
     },
     "user_tz": 240
    },
    "id": "ec3c1e55",
    "outputId": "6068defc-ac63-450c-e72d-208c36a63260"
   },
   "outputs": [
    {
     "name": "stdout",
     "output_type": "stream",
     "text": [
      "\n",
      "#############################################################\n",
      "Normalizing Dataset X: maximum hit frequency in the dataset: \n",
      "20.0\n",
      "#############################################################\n",
      "\n"
     ]
    }
   ],
   "source": [
    "def calculate_dataset_x_max_value(x_dataset):\n",
    "  x_train=x_dataset[0]\n",
    "  x_test=x_dataset[1]\n",
    "  max_x=np.amax([np.amax(x_train), np.amax(x_test)])\n",
    "  return max_x\n",
    "\n",
    "def normalize_dataset_x_value_range_between_0_and_1(x_dataset,max_x):\n",
    "  x_train=x_dataset[0]\n",
    "  x_test=x_dataset[1]\n",
    "\n",
    "  # Normalize the data to a 0.0 to 1.0 scale for faster processing\n",
    "  x_train, x_test = x_train / max_x, x_test / max_x\n",
    "  return (x_train, x_test)\n",
    "\n",
    "\n",
    "#Normalizing Phase\n",
    "x_dataset=(x_train,x_test)\n",
    "max_x=calculate_dataset_x_max_value(x_dataset)\n",
    "x_train,x_test=normalize_dataset_x_value_range_between_0_and_1(x_dataset,max_x)\n",
    "\n",
    "image_frame_size=32\n",
    "\n",
    "print(\"\\n#############################################################\")\n",
    "\n",
    "print(\"Normalizing Dataset X: maximum sum of transfer momentum in the dataset: \")\n",
    "print(max_x)\n",
    "\n",
    "print(\"#############################################################\\n\")\n"
   ]
  },
  {
   "cell_type": "code",
   "execution_count": null,
   "id": "847a5574",
   "metadata": {
    "id": "24475a89"
   },
   "outputs": [],
   "source": [
    "## event info\n",
    "collision = 'PbPb'\n",
    "energy = 5020\n",
    "centrality = '0_10'\n",
    "Modules = ['MATTER','LBT']\n",
    "JetptMinMax = '100_110'\n",
    "#observables = ['pt','charge','mass']\n",
    "observables = ['pt']\n",
    "kind = 'Hadron'"
   ]
  },
  {
   "cell_type": "code",
   "execution_count": null,
   "id": "16ee2630",
   "metadata": {
    "colab": {
     "base_uri": "https://localhost:8080/"
    },
    "executionInfo": {
     "elapsed": 141,
     "status": "ok",
     "timestamp": 1647467187840,
     "user": {
      "displayName": "Haydar Mehryar",
      "photoUrl": "https://lh3.googleusercontent.com/a-/AOh14GiV2PbrE4NQbmWZlQz1WDM6jCKRcmLwN1DLu24x5g=s64",
      "userId": "09990703679773155769"
     },
     "user_tz": 240
    },
    "id": "0b5a54ca",
    "outputId": "195824f1-fda9-44dc-81f2-8ec9ee2c986f"
   },
   "outputs": [
    {
     "name": "stdout",
     "output_type": "stream",
     "text": [
      "Directory to save models: /content/drive/MyDrive/Projects/110_JetscapeMl/hm.jetscapeml.data/models/Models_PP19_vs_LBT_Hadron_ch1\n"
     ]
    }
   ],
   "source": [
    "## create a directory to save the best model\n",
    "\n",
    "save_dir = (simulation_directory_path+'Models_{}_vs_{}_{}_ch{}').format(Modules[0], Modules[1], kind, len(observables))\n",
    "if not path.exists(save_dir):\n",
    "    makedirs(save_dir)\n",
    "print('Directory to save models: {}'.format(save_dir))"
   ]
  },
  {
   "cell_type": "code",
   "execution_count": null,
   "id": "cec06479",
   "metadata": {
    "id": "d9294e84"
   },
   "outputs": [],
   "source": [
    "from time import time\n",
    "def train_network(train_set, val_set, n_epochs, lr, batch_size, monitor):\n",
    "    tf.keras.backend.clear_session()\n",
    "    X_train = train_set[0]\n",
    "    Y_train = train_set[1]\n",
    "    model = CNN_model(input_shape, lr, dropout1, dropout2)\n",
    "    callbacks = get_callbacks(monitor, save_dir)\n",
    "    \n",
    "    model.summary()\n",
    "    \n",
    "    start = time()\n",
    "    history = model.fit(X_train, Y_train, epochs=n_epochs, verbose=1, batch_size=batch_size, \n",
    "                        validation_data=val_set, shuffle=True, callbacks=callbacks)\n",
    "    train_time = (time()-start)/60.\n",
    "    return history, train_time"
   ]
  },
  {
   "cell_type": "code",
   "execution_count": null,
   "id": "b5745e9c",
   "metadata": {
    "colab": {
     "base_uri": "https://localhost:8080/"
    },
    "id": "5b2633c2",
    "outputId": "f015e115-4920-4f6b-e841-95e0d211a95f"
   },
   "outputs": [
    {
     "name": "stdout",
     "output_type": "stream",
     "text": [
      "Model: \"sequential\"\n",
      "_________________________________________________________________\n",
      " Layer (type)                Output Shape              Param #   \n",
      "=================================================================\n",
      " conv2d (Conv2D)             (None, 32, 32, 256)       6656      \n",
      "                                                                 \n",
      " conv2d_1 (Conv2D)           (None, 32, 32, 256)       1638656   \n",
      "                                                                 \n",
      " max_pooling2d (MaxPooling2D  (None, 16, 16, 256)      0         \n",
      " )                                                               \n",
      "                                                                 \n",
      " dropout (Dropout)           (None, 16, 16, 256)       0         \n",
      "                                                                 \n",
      " conv2d_2 (Conv2D)           (None, 16, 16, 256)       1638656   \n",
      "                                                                 \n",
      " conv2d_3 (Conv2D)           (None, 16, 16, 256)       1638656   \n",
      "                                                                 \n",
      " max_pooling2d_1 (MaxPooling  (None, 8, 8, 256)        0         \n",
      " 2D)                                                             \n",
      "                                                                 \n",
      " dropout_1 (Dropout)         (None, 8, 8, 256)         0         \n",
      "                                                                 \n",
      " conv2d_4 (Conv2D)           (None, 8, 8, 256)         1638656   \n",
      "                                                                 \n",
      " conv2d_5 (Conv2D)           (None, 8, 8, 256)         1638656   \n",
      "                                                                 \n",
      " max_pooling2d_2 (MaxPooling  (None, 4, 4, 256)        0         \n",
      " 2D)                                                             \n",
      "                                                                 \n",
      " dropout_2 (Dropout)         (None, 4, 4, 256)         0         \n",
      "                                                                 \n",
      " conv2d_6 (Conv2D)           (None, 4, 4, 256)         1638656   \n",
      "                                                                 \n",
      " conv2d_7 (Conv2D)           (None, 4, 4, 256)         1638656   \n",
      "                                                                 \n",
      " max_pooling2d_3 (MaxPooling  (None, 2, 2, 256)        0         \n",
      " 2D)                                                             \n",
      "                                                                 \n",
      " dropout_3 (Dropout)         (None, 2, 2, 256)         0         \n",
      "                                                                 \n",
      " flatten (Flatten)           (None, 1024)              0         \n",
      "                                                                 \n",
      " dense (Dense)               (None, 1024)              1049600   \n",
      "                                                                 \n",
      " dropout_4 (Dropout)         (None, 1024)              0         \n",
      "                                                                 \n",
      " dense_1 (Dense)             (None, 1024)              1049600   \n",
      "                                                                 \n",
      " dropout_5 (Dropout)         (None, 1024)              0         \n",
      "                                                                 \n",
      " dense_2 (Dense)             (None, 1024)              1049600   \n",
      "                                                                 \n",
      " dropout_6 (Dropout)         (None, 1024)              0         \n",
      "                                                                 \n",
      " dense_3 (Dense)             (None, 1024)              1049600   \n",
      "                                                                 \n",
      " dropout_7 (Dropout)         (None, 1024)              0         \n",
      "                                                                 \n",
      " dense_4 (Dense)             (None, 1)                 1025      \n",
      "                                                                 \n",
      "=================================================================\n",
      "Total params: 15,676,673\n",
      "Trainable params: 15,676,673\n",
      "Non-trainable params: 0\n",
      "_________________________________________________________________\n",
      "Epoch 1/2\n",
      "224/547 [===========>..................] - ETA: 6:56:07 - loss: 239.0317 - accuracy: 0.5025"
     ]
    }
   ],
   "source": [
    "# training and validation sets\n",
    "train_set, val_set = (x_train_reshaped, y_train), (x_val_reshaped, y_val)\n",
    "\n",
    "# train the network\n",
    "history, train_time = train_network(train_set, val_set, n_epochs, lr, batch_size, monitor)\n",
    "file_name='hm_jetscape_ml_model_history.csv'\n",
    "file_path=simulation_directory_path+file_name\n",
    "pd.DataFrame.from_dict(history.history).to_csv(file_path,index=False)\n",
    "\n",
    "\n",
    "file_name='hm_jetscape_ml_model_history.npy'\n",
    "file_path=simulation_directory_path+file_name\n",
    "np.save(file_path,history.history)\n",
    "\n",
    "\n"
   ]
  },
  {
   "cell_type": "code",
   "execution_count": null,
   "id": "19749383",
   "metadata": {
    "colab": {
     "base_uri": "https://localhost:8080/"
    },
    "executionInfo": {
     "elapsed": 156,
     "status": "ok",
     "timestamp": 1647466581578,
     "user": {
      "displayName": "Haydar Mehryar",
      "photoUrl": "https://lh3.googleusercontent.com/a-/AOh14GiV2PbrE4NQbmWZlQz1WDM6jCKRcmLwN1DLu24x5g=s64",
      "userId": "09990703679773155769"
     },
     "user_tz": 240
    },
    "id": "NuDqrAdDl4AQ",
    "outputId": "12c07e59-6722-4bb7-913b-ef8afcdf5f13"
   },
   "outputs": [
    {
     "name": "stdout",
     "output_type": "stream",
     "text": [
      "{'history': {'loss': [228.9948661621094, 197.9379549281529], 'accuracy': [0.50295, 0.51447856], 'val_loss': [212.5898095703125, 183.9870919433594], 'val_accuracy': [0.559325, 0.529875], 'lr': [5e-06, 5e-06]}}\n"
     ]
    }
   ],
   "source": [
    "# This section shall be just used after training or for stand alone evaluations\n",
    "# Building a dictionary which is accessable by dot\n",
    "class dotdict(dict):\n",
    "    \"\"\"dot.notation access to dictionary attributes\"\"\"\n",
    "    __getattr__ = dict.get\n",
    "    __setattr__ = dict.__setitem__\n",
    "    __delattr__ = dict.__delitem__\n",
    "\n",
    "#Loading learning history after training \n",
    "file_name='hm_jetscape_ml_model_history.npy'\n",
    "file_path=simulation_directory_path+file_name\n",
    "\n",
    "\n",
    "history=dict({'history':np.load(file_path,allow_pickle='TRUE').item()})\n",
    "history=dotdict(history)\n",
    "print(history)"
   ]
  },
  {
   "cell_type": "code",
   "execution_count": null,
   "id": "ae6ce6d7",
   "metadata": {
    "id": "5ae67cec"
   },
   "outputs": [],
   "source": [
    "from matplotlib import pyplot as plt\n",
    "def plot_train_history(history):\n",
    "\n",
    "    color_list = ['red','blue','black','green']\n",
    "\n",
    "    plt.figure(figsize=(8, 2.5), dpi=100)\n",
    "\n",
    "    plt.subplot(121)\n",
    "    plt.plot(history.history['loss'], label='loss')\n",
    "    plt.plot(history.history['val_loss'], label='val_loss')\n",
    "    plt.yscale('log')\n",
    "    plt.xlabel('Epoch')\n",
    "    plt.title('Loss history')\n",
    "    plt.legend()\n",
    "    \n",
    "    plt.subplot(122)\n",
    "    plt.plot(history.history['accuracy'], label='accuracy')\n",
    "    plt.plot(history.history['val_accuracy'], label='val_accuracy')\n",
    "    plt.xlabel('Epoch')\n",
    "    plt.title('Accuracy history')\n",
    "    plt.legend()\n",
    "    file_name='hm_jetscape_ml_plot_train_history.png'\n",
    "    file_path=simulation_directory_path+file_name\n",
    "    plt.savefig(file_path)\n",
    "    plt.show()\n",
    "    plt.close()\n",
    "# plot the training history for each fold\n",
    "plot_train_history(history)"
   ]
  },
  {
   "cell_type": "code",
   "execution_count": null,
   "id": "f5c90a6c",
   "metadata": {
    "colab": {
     "base_uri": "https://localhost:8080/",
     "height": 387
    },
    "executionInfo": {
     "elapsed": 537183,
     "status": "error",
     "timestamp": 1647468451916,
     "user": {
      "displayName": "Haydar Mehryar",
      "photoUrl": "https://lh3.googleusercontent.com/a-/AOh14GiV2PbrE4NQbmWZlQz1WDM6jCKRcmLwN1DLu24x5g=s64",
      "userId": "09990703679773155769"
     },
     "user_tz": 240
    },
    "id": "03b9d8a5",
    "outputId": "aa1c9bfa-c8a7-4906-c77a-e88e7b60f8d6"
   },
   "outputs": [
    {
     "ename": "KeyboardInterrupt",
     "evalue": "ignored",
     "output_type": "error",
     "traceback": [
      "\u001b[0;31m---------------------------------------------------------------------------\u001b[0m",
      "\u001b[0;31mKeyboardInterrupt\u001b[0m                         Traceback (most recent call last)",
      "\u001b[0;32m<ipython-input-104-bafe2500611a>\u001b[0m in \u001b[0;36m<module>\u001b[0;34m()\u001b[0m\n\u001b[1;32m      6\u001b[0m \u001b[0;34m\u001b[0m\u001b[0m\n\u001b[1;32m      7\u001b[0m \u001b[0;31m## evaluate the model on train/val/test sets and append the results to lists\u001b[0m\u001b[0;34m\u001b[0m\u001b[0;34m\u001b[0m\u001b[0;34m\u001b[0m\u001b[0m\n\u001b[0;32m----> 8\u001b[0;31m \u001b[0m_\u001b[0m\u001b[0;34m,\u001b[0m \u001b[0mtrain_acc\u001b[0m \u001b[0;34m=\u001b[0m \u001b[0mbest_model\u001b[0m\u001b[0;34m.\u001b[0m\u001b[0mevaluate\u001b[0m\u001b[0;34m(\u001b[0m\u001b[0mx_train_reshaped\u001b[0m\u001b[0;34m,\u001b[0m \u001b[0my_train\u001b[0m\u001b[0;34m,\u001b[0m \u001b[0mverbose\u001b[0m\u001b[0;34m=\u001b[0m\u001b[0;36m0\u001b[0m\u001b[0;34m)\u001b[0m\u001b[0;34m\u001b[0m\u001b[0;34m\u001b[0m\u001b[0m\n\u001b[0m\u001b[1;32m      9\u001b[0m \u001b[0m_\u001b[0m\u001b[0;34m,\u001b[0m \u001b[0mval_acc\u001b[0m \u001b[0;34m=\u001b[0m \u001b[0mbest_model\u001b[0m\u001b[0;34m.\u001b[0m\u001b[0mevaluate\u001b[0m\u001b[0;34m(\u001b[0m\u001b[0mx_val_reshaped\u001b[0m\u001b[0;34m,\u001b[0m \u001b[0my_val\u001b[0m\u001b[0;34m,\u001b[0m \u001b[0mverbose\u001b[0m\u001b[0;34m=\u001b[0m\u001b[0;36m0\u001b[0m\u001b[0;34m)\u001b[0m\u001b[0;34m\u001b[0m\u001b[0;34m\u001b[0m\u001b[0m\n\u001b[1;32m     10\u001b[0m \u001b[0m_\u001b[0m\u001b[0;34m,\u001b[0m \u001b[0mtest_acc\u001b[0m \u001b[0;34m=\u001b[0m \u001b[0mbest_model\u001b[0m\u001b[0;34m.\u001b[0m\u001b[0mevaluate\u001b[0m\u001b[0;34m(\u001b[0m\u001b[0mx_test_reshaped\u001b[0m\u001b[0;34m,\u001b[0m \u001b[0my_test\u001b[0m\u001b[0;34m,\u001b[0m \u001b[0mverbose\u001b[0m\u001b[0;34m=\u001b[0m\u001b[0;36m0\u001b[0m\u001b[0;34m)\u001b[0m\u001b[0;34m\u001b[0m\u001b[0;34m\u001b[0m\u001b[0m\n",
      "\u001b[0;32m/usr/local/lib/python3.7/dist-packages/keras/utils/traceback_utils.py\u001b[0m in \u001b[0;36merror_handler\u001b[0;34m(*args, **kwargs)\u001b[0m\n\u001b[1;32m     62\u001b[0m     \u001b[0mfiltered_tb\u001b[0m \u001b[0;34m=\u001b[0m \u001b[0;32mNone\u001b[0m\u001b[0;34m\u001b[0m\u001b[0;34m\u001b[0m\u001b[0m\n\u001b[1;32m     63\u001b[0m     \u001b[0;32mtry\u001b[0m\u001b[0;34m:\u001b[0m\u001b[0;34m\u001b[0m\u001b[0;34m\u001b[0m\u001b[0m\n\u001b[0;32m---> 64\u001b[0;31m       \u001b[0;32mreturn\u001b[0m \u001b[0mfn\u001b[0m\u001b[0;34m(\u001b[0m\u001b[0;34m*\u001b[0m\u001b[0margs\u001b[0m\u001b[0;34m,\u001b[0m \u001b[0;34m**\u001b[0m\u001b[0mkwargs\u001b[0m\u001b[0;34m)\u001b[0m\u001b[0;34m\u001b[0m\u001b[0;34m\u001b[0m\u001b[0m\n\u001b[0m\u001b[1;32m     65\u001b[0m     \u001b[0;32mexcept\u001b[0m \u001b[0mException\u001b[0m \u001b[0;32mas\u001b[0m \u001b[0me\u001b[0m\u001b[0;34m:\u001b[0m  \u001b[0;31m# pylint: disable=broad-except\u001b[0m\u001b[0;34m\u001b[0m\u001b[0;34m\u001b[0m\u001b[0m\n\u001b[1;32m     66\u001b[0m       \u001b[0mfiltered_tb\u001b[0m \u001b[0;34m=\u001b[0m \u001b[0m_process_traceback_frames\u001b[0m\u001b[0;34m(\u001b[0m\u001b[0me\u001b[0m\u001b[0;34m.\u001b[0m\u001b[0m__traceback__\u001b[0m\u001b[0;34m)\u001b[0m\u001b[0;34m\u001b[0m\u001b[0;34m\u001b[0m\u001b[0m\n",
      "\u001b[0;32m/usr/local/lib/python3.7/dist-packages/keras/engine/training.py\u001b[0m in \u001b[0;36mevaluate\u001b[0;34m(self, x, y, batch_size, verbose, sample_weight, steps, callbacks, max_queue_size, workers, use_multiprocessing, return_dict, **kwargs)\u001b[0m\n\u001b[1;32m   1714\u001b[0m             \u001b[0;32mwith\u001b[0m \u001b[0mtf\u001b[0m\u001b[0;34m.\u001b[0m\u001b[0mprofiler\u001b[0m\u001b[0;34m.\u001b[0m\u001b[0mexperimental\u001b[0m\u001b[0;34m.\u001b[0m\u001b[0mTrace\u001b[0m\u001b[0;34m(\u001b[0m\u001b[0;34m'test'\u001b[0m\u001b[0;34m,\u001b[0m \u001b[0mstep_num\u001b[0m\u001b[0;34m=\u001b[0m\u001b[0mstep\u001b[0m\u001b[0;34m,\u001b[0m \u001b[0m_r\u001b[0m\u001b[0;34m=\u001b[0m\u001b[0;36m1\u001b[0m\u001b[0;34m)\u001b[0m\u001b[0;34m:\u001b[0m\u001b[0;34m\u001b[0m\u001b[0;34m\u001b[0m\u001b[0m\n\u001b[1;32m   1715\u001b[0m               \u001b[0mcallbacks\u001b[0m\u001b[0;34m.\u001b[0m\u001b[0mon_test_batch_begin\u001b[0m\u001b[0;34m(\u001b[0m\u001b[0mstep\u001b[0m\u001b[0;34m)\u001b[0m\u001b[0;34m\u001b[0m\u001b[0;34m\u001b[0m\u001b[0m\n\u001b[0;32m-> 1716\u001b[0;31m               \u001b[0mtmp_logs\u001b[0m \u001b[0;34m=\u001b[0m \u001b[0mself\u001b[0m\u001b[0;34m.\u001b[0m\u001b[0mtest_function\u001b[0m\u001b[0;34m(\u001b[0m\u001b[0miterator\u001b[0m\u001b[0;34m)\u001b[0m\u001b[0;34m\u001b[0m\u001b[0;34m\u001b[0m\u001b[0m\n\u001b[0m\u001b[1;32m   1717\u001b[0m               \u001b[0;32mif\u001b[0m \u001b[0mdata_handler\u001b[0m\u001b[0;34m.\u001b[0m\u001b[0mshould_sync\u001b[0m\u001b[0;34m:\u001b[0m\u001b[0;34m\u001b[0m\u001b[0;34m\u001b[0m\u001b[0m\n\u001b[1;32m   1718\u001b[0m                 \u001b[0mcontext\u001b[0m\u001b[0;34m.\u001b[0m\u001b[0masync_wait\u001b[0m\u001b[0;34m(\u001b[0m\u001b[0;34m)\u001b[0m\u001b[0;34m\u001b[0m\u001b[0;34m\u001b[0m\u001b[0m\n",
      "\u001b[0;32m/usr/local/lib/python3.7/dist-packages/tensorflow/python/util/traceback_utils.py\u001b[0m in \u001b[0;36merror_handler\u001b[0;34m(*args, **kwargs)\u001b[0m\n\u001b[1;32m    148\u001b[0m     \u001b[0mfiltered_tb\u001b[0m \u001b[0;34m=\u001b[0m \u001b[0;32mNone\u001b[0m\u001b[0;34m\u001b[0m\u001b[0;34m\u001b[0m\u001b[0m\n\u001b[1;32m    149\u001b[0m     \u001b[0;32mtry\u001b[0m\u001b[0;34m:\u001b[0m\u001b[0;34m\u001b[0m\u001b[0;34m\u001b[0m\u001b[0m\n\u001b[0;32m--> 150\u001b[0;31m       \u001b[0;32mreturn\u001b[0m \u001b[0mfn\u001b[0m\u001b[0;34m(\u001b[0m\u001b[0;34m*\u001b[0m\u001b[0margs\u001b[0m\u001b[0;34m,\u001b[0m \u001b[0;34m**\u001b[0m\u001b[0mkwargs\u001b[0m\u001b[0;34m)\u001b[0m\u001b[0;34m\u001b[0m\u001b[0;34m\u001b[0m\u001b[0m\n\u001b[0m\u001b[1;32m    151\u001b[0m     \u001b[0;32mexcept\u001b[0m \u001b[0mException\u001b[0m \u001b[0;32mas\u001b[0m \u001b[0me\u001b[0m\u001b[0;34m:\u001b[0m\u001b[0;34m\u001b[0m\u001b[0;34m\u001b[0m\u001b[0m\n\u001b[1;32m    152\u001b[0m       \u001b[0mfiltered_tb\u001b[0m \u001b[0;34m=\u001b[0m \u001b[0m_process_traceback_frames\u001b[0m\u001b[0;34m(\u001b[0m\u001b[0me\u001b[0m\u001b[0;34m.\u001b[0m\u001b[0m__traceback__\u001b[0m\u001b[0;34m)\u001b[0m\u001b[0;34m\u001b[0m\u001b[0;34m\u001b[0m\u001b[0m\n",
      "\u001b[0;32m/usr/local/lib/python3.7/dist-packages/tensorflow/python/eager/def_function.py\u001b[0m in \u001b[0;36m__call__\u001b[0;34m(self, *args, **kwds)\u001b[0m\n\u001b[1;32m    913\u001b[0m \u001b[0;34m\u001b[0m\u001b[0m\n\u001b[1;32m    914\u001b[0m       \u001b[0;32mwith\u001b[0m \u001b[0mOptionalXlaContext\u001b[0m\u001b[0;34m(\u001b[0m\u001b[0mself\u001b[0m\u001b[0;34m.\u001b[0m\u001b[0m_jit_compile\u001b[0m\u001b[0;34m)\u001b[0m\u001b[0;34m:\u001b[0m\u001b[0;34m\u001b[0m\u001b[0;34m\u001b[0m\u001b[0m\n\u001b[0;32m--> 915\u001b[0;31m         \u001b[0mresult\u001b[0m \u001b[0;34m=\u001b[0m \u001b[0mself\u001b[0m\u001b[0;34m.\u001b[0m\u001b[0m_call\u001b[0m\u001b[0;34m(\u001b[0m\u001b[0;34m*\u001b[0m\u001b[0margs\u001b[0m\u001b[0;34m,\u001b[0m \u001b[0;34m**\u001b[0m\u001b[0mkwds\u001b[0m\u001b[0;34m)\u001b[0m\u001b[0;34m\u001b[0m\u001b[0;34m\u001b[0m\u001b[0m\n\u001b[0m\u001b[1;32m    916\u001b[0m \u001b[0;34m\u001b[0m\u001b[0m\n\u001b[1;32m    917\u001b[0m       \u001b[0mnew_tracing_count\u001b[0m \u001b[0;34m=\u001b[0m \u001b[0mself\u001b[0m\u001b[0;34m.\u001b[0m\u001b[0mexperimental_get_tracing_count\u001b[0m\u001b[0;34m(\u001b[0m\u001b[0;34m)\u001b[0m\u001b[0;34m\u001b[0m\u001b[0;34m\u001b[0m\u001b[0m\n",
      "\u001b[0;32m/usr/local/lib/python3.7/dist-packages/tensorflow/python/eager/def_function.py\u001b[0m in \u001b[0;36m_call\u001b[0;34m(self, *args, **kwds)\u001b[0m\n\u001b[1;32m    952\u001b[0m       \u001b[0;31m# In this case we have not created variables on the first call. So we can\u001b[0m\u001b[0;34m\u001b[0m\u001b[0;34m\u001b[0m\u001b[0;34m\u001b[0m\u001b[0m\n\u001b[1;32m    953\u001b[0m       \u001b[0;31m# run the first trace but we should fail if variables are created.\u001b[0m\u001b[0;34m\u001b[0m\u001b[0;34m\u001b[0m\u001b[0;34m\u001b[0m\u001b[0m\n\u001b[0;32m--> 954\u001b[0;31m       \u001b[0mresults\u001b[0m \u001b[0;34m=\u001b[0m \u001b[0mself\u001b[0m\u001b[0;34m.\u001b[0m\u001b[0m_stateful_fn\u001b[0m\u001b[0;34m(\u001b[0m\u001b[0;34m*\u001b[0m\u001b[0margs\u001b[0m\u001b[0;34m,\u001b[0m \u001b[0;34m**\u001b[0m\u001b[0mkwds\u001b[0m\u001b[0;34m)\u001b[0m\u001b[0;34m\u001b[0m\u001b[0;34m\u001b[0m\u001b[0m\n\u001b[0m\u001b[1;32m    955\u001b[0m       \u001b[0;32mif\u001b[0m \u001b[0mself\u001b[0m\u001b[0;34m.\u001b[0m\u001b[0m_created_variables\u001b[0m \u001b[0;32mand\u001b[0m \u001b[0;32mnot\u001b[0m \u001b[0mALLOW_DYNAMIC_VARIABLE_CREATION\u001b[0m\u001b[0;34m:\u001b[0m\u001b[0;34m\u001b[0m\u001b[0;34m\u001b[0m\u001b[0m\n\u001b[1;32m    956\u001b[0m         raise ValueError(\"Creating variables on a non-first call to a function\"\n",
      "\u001b[0;32m/usr/local/lib/python3.7/dist-packages/tensorflow/python/eager/function.py\u001b[0m in \u001b[0;36m__call__\u001b[0;34m(self, *args, **kwargs)\u001b[0m\n\u001b[1;32m   2955\u001b[0m        filtered_flat_args) = self._maybe_define_function(args, kwargs)\n\u001b[1;32m   2956\u001b[0m     return graph_function._call_flat(\n\u001b[0;32m-> 2957\u001b[0;31m         filtered_flat_args, captured_inputs=graph_function.captured_inputs)  # pylint: disable=protected-access\n\u001b[0m\u001b[1;32m   2958\u001b[0m \u001b[0;34m\u001b[0m\u001b[0m\n\u001b[1;32m   2959\u001b[0m   \u001b[0;34m@\u001b[0m\u001b[0mproperty\u001b[0m\u001b[0;34m\u001b[0m\u001b[0;34m\u001b[0m\u001b[0m\n",
      "\u001b[0;32m/usr/local/lib/python3.7/dist-packages/tensorflow/python/eager/function.py\u001b[0m in \u001b[0;36m_call_flat\u001b[0;34m(self, args, captured_inputs, cancellation_manager)\u001b[0m\n\u001b[1;32m   1852\u001b[0m       \u001b[0;31m# No tape is watching; skip to running the function.\u001b[0m\u001b[0;34m\u001b[0m\u001b[0;34m\u001b[0m\u001b[0;34m\u001b[0m\u001b[0m\n\u001b[1;32m   1853\u001b[0m       return self._build_call_outputs(self._inference_function.call(\n\u001b[0;32m-> 1854\u001b[0;31m           ctx, args, cancellation_manager=cancellation_manager))\n\u001b[0m\u001b[1;32m   1855\u001b[0m     forward_backward = self._select_forward_and_backward_functions(\n\u001b[1;32m   1856\u001b[0m         \u001b[0margs\u001b[0m\u001b[0;34m,\u001b[0m\u001b[0;34m\u001b[0m\u001b[0;34m\u001b[0m\u001b[0m\n",
      "\u001b[0;32m/usr/local/lib/python3.7/dist-packages/tensorflow/python/eager/function.py\u001b[0m in \u001b[0;36mcall\u001b[0;34m(self, ctx, args, cancellation_manager)\u001b[0m\n\u001b[1;32m    502\u001b[0m               \u001b[0minputs\u001b[0m\u001b[0;34m=\u001b[0m\u001b[0margs\u001b[0m\u001b[0;34m,\u001b[0m\u001b[0;34m\u001b[0m\u001b[0;34m\u001b[0m\u001b[0m\n\u001b[1;32m    503\u001b[0m               \u001b[0mattrs\u001b[0m\u001b[0;34m=\u001b[0m\u001b[0mattrs\u001b[0m\u001b[0;34m,\u001b[0m\u001b[0;34m\u001b[0m\u001b[0;34m\u001b[0m\u001b[0m\n\u001b[0;32m--> 504\u001b[0;31m               ctx=ctx)\n\u001b[0m\u001b[1;32m    505\u001b[0m         \u001b[0;32melse\u001b[0m\u001b[0;34m:\u001b[0m\u001b[0;34m\u001b[0m\u001b[0;34m\u001b[0m\u001b[0m\n\u001b[1;32m    506\u001b[0m           outputs = execute.execute_with_cancellation(\n",
      "\u001b[0;32m/usr/local/lib/python3.7/dist-packages/tensorflow/python/eager/execute.py\u001b[0m in \u001b[0;36mquick_execute\u001b[0;34m(op_name, num_outputs, inputs, attrs, ctx, name)\u001b[0m\n\u001b[1;32m     53\u001b[0m     \u001b[0mctx\u001b[0m\u001b[0;34m.\u001b[0m\u001b[0mensure_initialized\u001b[0m\u001b[0;34m(\u001b[0m\u001b[0;34m)\u001b[0m\u001b[0;34m\u001b[0m\u001b[0;34m\u001b[0m\u001b[0m\n\u001b[1;32m     54\u001b[0m     tensors = pywrap_tfe.TFE_Py_Execute(ctx._handle, device_name, op_name,\n\u001b[0;32m---> 55\u001b[0;31m                                         inputs, attrs, num_outputs)\n\u001b[0m\u001b[1;32m     56\u001b[0m   \u001b[0;32mexcept\u001b[0m \u001b[0mcore\u001b[0m\u001b[0;34m.\u001b[0m\u001b[0m_NotOkStatusException\u001b[0m \u001b[0;32mas\u001b[0m \u001b[0me\u001b[0m\u001b[0;34m:\u001b[0m\u001b[0;34m\u001b[0m\u001b[0;34m\u001b[0m\u001b[0m\n\u001b[1;32m     57\u001b[0m     \u001b[0;32mif\u001b[0m \u001b[0mname\u001b[0m \u001b[0;32mis\u001b[0m \u001b[0;32mnot\u001b[0m \u001b[0;32mNone\u001b[0m\u001b[0;34m:\u001b[0m\u001b[0;34m\u001b[0m\u001b[0;34m\u001b[0m\u001b[0m\n",
      "\u001b[0;31mKeyboardInterrupt\u001b[0m: "
     ]
    }
   ],
   "source": [
    "from tensorflow.keras.models import load_model\n",
    "## load the best model\n",
    "best_model = load_model(path.join(save_dir,'hm_jetscape_ml_model_best.h5'))\n",
    "\n",
    "outputStr='Train   | Validation | Test sets\\n'\n",
    "\n",
    "## evaluate the model on train/val/test sets and append the results to lists\n",
    "_, train_acc = best_model.evaluate(x_train_reshaped, y_train, verbose=0)\n",
    "_, val_acc = best_model.evaluate(x_val_reshaped, y_val, verbose=0)\n",
    "_, test_acc = best_model.evaluate(x_test_reshaped, y_test, verbose=0)\n",
    "    \n",
    "## print out the accuracy\n",
    "outputStr+='{:.4f}%  {:.4f}%     {:.4f}%\\n'.format(train_acc * 100, val_acc * 100, test_acc * 100)\n",
    "print(outputStr)\n",
    "\n",
    "file_name=\"hm_jetscape_ml_model_evaluation.txt\"\n",
    "file_path=simulation_directory_path+file_name\n",
    "evaluation_file = open(file_path, \"w\")\n",
    "evaluation_file.write(outputStr)\n",
    "evaluation_file.close()\n"
   ]
  },
  {
   "cell_type": "code",
   "execution_count": null,
   "id": "fc835bb8",
   "metadata": {
    "colab": {
     "base_uri": "https://localhost:8080/",
     "height": 239
    },
    "executionInfo": {
     "elapsed": 195,
     "status": "error",
     "timestamp": 1647468567768,
     "user": {
      "displayName": "Haydar Mehryar",
      "photoUrl": "https://lh3.googleusercontent.com/a-/AOh14GiV2PbrE4NQbmWZlQz1WDM6jCKRcmLwN1DLu24x5g=s64",
      "userId": "09990703679773155769"
     },
     "user_tz": 240
    },
    "id": "2271cdbf",
    "outputId": "4e35b64b-3899-4399-8520-438484589b41"
   },
   "outputs": [
    {
     "ename": "AttributeError",
     "evalue": "ignored",
     "output_type": "error",
     "traceback": [
      "\u001b[0;31m---------------------------------------------------------------------------\u001b[0m",
      "\u001b[0;31mAttributeError\u001b[0m                            Traceback (most recent call last)",
      "\u001b[0;32m<ipython-input-107-fa2be622c608>\u001b[0m in \u001b[0;36m<module>\u001b[0;34m()\u001b[0m\n\u001b[1;32m      2\u001b[0m \u001b[0;32mimport\u001b[0m \u001b[0mseaborn\u001b[0m \u001b[0;32mas\u001b[0m \u001b[0msns\u001b[0m\u001b[0;34m\u001b[0m\u001b[0;34m\u001b[0m\u001b[0m\n\u001b[1;32m      3\u001b[0m \u001b[0;31m## plot confution matrix\u001b[0m\u001b[0;34m\u001b[0m\u001b[0;34m\u001b[0m\u001b[0;34m\u001b[0m\u001b[0m\n\u001b[0;32m----> 4\u001b[0;31m \u001b[0my_pred\u001b[0m \u001b[0;34m=\u001b[0m \u001b[0mbest_model\u001b[0m\u001b[0;34m.\u001b[0m\u001b[0mpredict_classes\u001b[0m\u001b[0;34m(\u001b[0m\u001b[0mx_test_reshaped\u001b[0m\u001b[0;34m)\u001b[0m\u001b[0;34m\u001b[0m\u001b[0;34m\u001b[0m\u001b[0m\n\u001b[0m\u001b[1;32m      5\u001b[0m \u001b[0;34m\u001b[0m\u001b[0m\n\u001b[1;32m      6\u001b[0m \u001b[0mconf_mat\u001b[0m \u001b[0;34m=\u001b[0m \u001b[0mconfusion_matrix\u001b[0m\u001b[0;34m(\u001b[0m\u001b[0my_pred\u001b[0m\u001b[0;34m,\u001b[0m \u001b[0my_test\u001b[0m\u001b[0;34m)\u001b[0m\u001b[0;34m\u001b[0m\u001b[0;34m\u001b[0m\u001b[0m\n",
      "\u001b[0;31mAttributeError\u001b[0m: 'Sequential' object has no attribute 'predict_classes'"
     ]
    }
   ],
   "source": [
    "from sklearn.metrics import confusion_matrix, classification_report\n",
    "import seaborn as sns\n",
    "## plot confution matrix\n",
    "y_pred = best_model.predict_classes(x_test_reshaped)\n",
    "\n",
    "conf_mat = confusion_matrix(y_pred, y_test)\n",
    "sns.heatmap(conf_mat, annot=True, cmap='Blues', \n",
    "            xticklabels=Modules, yticklabels=Modules, fmt='g')\n",
    "plt.xlabel('True Label', fontsize=15)\n",
    "plt.ylabel('Prediction', fontsize=15)\n",
    "file_name='hm_jetscape_ml_model_confision_matrix.png'\n",
    "file_path=simulation_directory_path+file_name\n",
    "plt.savefig(file_path)\n",
    "plt.show()\n",
    "plt.close()\n",
    "\n",
    "classification_report_str= classification_report(y_test,y_pred)\n",
    "\n",
    "print (classification_report_str)\n",
    "file_name=\"hm_jetscape_ml_model_evaluation.txt\"\n",
    "file_path=simulation_directory_path+file_name\n",
    "evaluation_file = open(file_path, \"a\")\n",
    "evaluation_file.write(classification_report_str)\n",
    "evaluation_file.close()"
   ]
  },
  {
   "cell_type": "markdown",
   "id": "7bed7031",
   "metadata": {
    "id": "1469d657"
   },
   "source": [
    "#Binary Classification Results\n",
    "\n",
    "\n",
    "Classification                      | #epoch | Hadron \\begin{pmatrix} p_{T} \\end{pmatrix}\n",
    "-------------------                 |--------|------------------\n",
    "MATTER (in-medium) v.s. MATTER+LBT  |500| 95.88%\n",
    " \n",
    "\n",
    "#Precision - Recall - F1Score\n",
    "\n",
    "$precision= \\frac{true \\: positive}{true \\: positive \\: + \\:false \\: positive}$\n",
    "\n",
    "$recal= \\frac{true \\: positive}{true \\: positive \\: + \\: false \\: negative}$\n",
    "\n",
    "$f1-score= \\frac{2}{precision^{-1} \\: + \\: recall^{-1}}$"
   ]
  },
  {
   "cell_type": "code",
   "execution_count": null,
   "id": "a6370b02",
   "metadata": {
    "id": "6359d77d"
   },
   "outputs": [],
   "source": [
    "\n",
    "# Source code credit for this function: https://gist.github.com/shaypal5/94c53d765083101efc0240d776a23823\n",
    "def print_confusion_matrix(confusion_matrix, class_names, figsize = (10,7), fontsize=14):\n",
    "    \"\"\"Prints a confusion matrix, as returned by sklearn.metrics.confusion_matrix, as a heatmap.\n",
    "    \n",
    "    Arguments\n",
    "    ---------\n",
    "    confusion_matrix: numpy.ndarray\n",
    "        The numpy.ndarray object returned from a call to sklearn.metrics.confusion_matrix. \n",
    "        Similarly constructed ndarrays can also be used.\n",
    "    class_names: list\n",
    "        An ordered list of class names, in the order they index the given confusion matrix.\n",
    "    figsize: tuple\n",
    "        A 2-long tuple, the first value determining the horizontal size of the ouputted figure,\n",
    "        the second determining the vertical size. Defaults to (10,7).\n",
    "    fontsize: int\n",
    "        Font size for axes labels. Defaults to 14.\n",
    "        \n",
    "    Returns\n",
    "    -------\n",
    "    matplotlib.figure.Figure\n",
    "        The resulting confusion matrix figure\n",
    "    \"\"\"\n",
    "    df_cm = pd.DataFrame(\n",
    "        confusion_matrix, index=class_names, columns=class_names, \n",
    "    )\n",
    "    fig = plt.figure(figsize=figsize)\n",
    "    try:\n",
    "        heatmap = sns.heatmap(df_cm, annot=True, fmt=\"d\")\n",
    "    except ValueError:\n",
    "        raise ValueError(\"Confusion matrix values must be integers.\")\n",
    "    heatmap.yaxis.set_ticklabels(heatmap.yaxis.get_ticklabels(), rotation=0, ha='right', fontsize=fontsize)\n",
    "    heatmap.xaxis.set_ticklabels(heatmap.xaxis.get_ticklabels(), rotation=45, ha='right', fontsize=fontsize)\n",
    "    plt.ylabel('Truth')\n",
    "    plt.xlabel('Prediction')"
   ]
  },
  {
   "cell_type": "code",
   "execution_count": null,
   "id": "902fa5b8",
   "metadata": {
    "id": "06f997f3"
   },
   "outputs": [],
   "source": [
    "def calcualte_precision_recall_f1score_confision_matrix():\n",
    "  prediction=model.predict(x_test)\n",
    "  prediction=[ 1 if current_y_test>0.5 else 0 for current_y_test in prediction ]\n",
    "  #checking if prediction vector is binary\n",
    "  truth=y_test\n",
    "  cm = confusion_matrix(truth,prediction)\n",
    "  print_confusion_matrix(cm,[\"MATTER\",\"MATTER-LBT\"])\n",
    "  print(classification_report(truth, prediction))"
   ]
  },
  {
   "cell_type": "markdown",
   "id": "393c147e",
   "metadata": {
    "id": "956dc650"
   },
   "source": [
    "### Mean Square Error\n",
    "\n",
    "The mean square error is the sum of the squared differences between the prediction ($\\hat{y}$) and the expected ($y$).  MSE values are not of a particular unit.  If an MSE value has decreased for a model, that is good.  However, beyond this, there is not much more you can determine.  Low MSE values are desired.\n",
    "\n",
    "$ \\mbox{MSE} = \\frac{1}{n} \\sum_{i=1}^n \\left(\\hat{y}_i - y_i\\right)^2 $\n"
   ]
  },
  {
   "cell_type": "code",
   "execution_count": null,
   "id": "76bf26bd",
   "metadata": {
    "colab": {
     "base_uri": "https://localhost:8080/"
    },
    "executionInfo": {
     "elapsed": 449,
     "status": "ok",
     "timestamp": 1644964376403,
     "user": {
      "displayName": "Haydar Mehryar",
      "photoUrl": "https://lh3.googleusercontent.com/a-/AOh14GiV2PbrE4NQbmWZlQz1WDM6jCKRcmLwN1DLu24x5g=s64",
      "userId": "09990703679773155769"
     },
     "user_tz": 300
    },
    "id": "94efde30",
    "outputId": "dcf57252-74e6-4898-c447-6024268e54c8"
   },
   "outputs": [
    {
     "name": "stdout",
     "output_type": "stream",
     "text": [
      "Final score (MSE): 0.3986714993310698\n",
      "Root Mean Square Error on test set: 0.631\n"
     ]
    }
   ],
   "source": [
    "from sklearn import metrics\n",
    "def calcualte_mse(x_test):\n",
    "\n",
    "  # Predict\n",
    "  pred = model.predict(x_test)\n",
    "  # Measure MSE error.  \n",
    "  mse = metrics.mean_squared_error(pred,y_test)\n",
    "  print(\"Final score (MSE): {}\".format(mse))\n",
    "  rmse = np.sqrt(mse)\n",
    "  print('Root Mean Square Error on test set: {}'.format(round(rmse, 3)))\n"
   ]
  }
 ],
 "metadata": {
  "colab": {
   "collapsed_sections": [],
   "name": "jetscape-ml-tensorflow-cnn.ipynb",
   "provenance": []
  },
  "interpreter": {
   "hash": "ada828d16365d2b22d3899327f52f8feba3feb56b4fde7279c1cd0b9201605e0"
  },
  "kernelspec": {
   "display_name": "Python 3",
   "language": "python",
   "name": "python3"
  },
  "language_info": {
   "codemirror_mode": {
    "name": "ipython",
    "version": 3
   },
   "file_extension": ".py",
   "mimetype": "text/x-python",
   "name": "python",
   "nbconvert_exporter": "python",
   "pygments_lexer": "ipython3",
   "version": "3.11.5"
  }
 },
 "nbformat": 4,
 "nbformat_minor": 5
}
